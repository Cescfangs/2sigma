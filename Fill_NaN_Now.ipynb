{
 "cells": [
  {
   "cell_type": "code",
   "execution_count": 1,
   "metadata": {
    "collapsed": true
   },
   "outputs": [],
   "source": [
    "import numpy as np\n",
    "import pandas as pd"
   ]
  },
  {
   "cell_type": "code",
   "execution_count": 3,
   "metadata": {
    "collapsed": false
   },
   "outputs": [],
   "source": [
    "train = pd.read_hdf('train.h5')"
   ]
  },
  {
   "cell_type": "code",
   "execution_count": 7,
   "metadata": {
    "collapsed": false
   },
   "outputs": [
    {
     "data": {
      "text/plain": [
       "(4764,)"
      ]
     },
     "execution_count": 7,
     "metadata": {},
     "output_type": "execute_result"
    }
   ],
   "source": [
    "train.loc[train.technical_20.isnull(), 'technical_20'].shapeb"
   ]
  },
  {
   "cell_type": "code",
   "execution_count": 9,
   "metadata": {
    "collapsed": true
   },
   "outputs": [],
   "source": [
    "median = train.median(axis=0)"
   ]
  },
  {
   "cell_type": "code",
   "execution_count": 73,
   "metadata": {
    "collapsed": false
   },
   "outputs": [
    {
     "name": "stdout",
     "output_type": "stream",
     "text": [
      "'id' :1.098000e+3 ,\n",
      "'timestamp' :9.560000e+2 ,\n",
      "'derived_0' :-8.368272e-4 ,\n",
      "'derived_1' :5.523058e-3 ,\n",
      "'derived_2' :2.109505e-2 ,\n",
      "'derived_3' :2.475614e-3 ,\n",
      "'derived_4' :1.175234e-2 ,\n",
      "'fundamental_0' :-4.064488e-2 ,\n",
      "'fundamental_1' :-7.395084e-3 ,\n",
      "'fundamental_2' :-3.029069e-2 ,\n",
      "'fundamental_3' :-4.018341e-2 ,\n",
      "'fundamental_5' :3.337545e-2 ,\n",
      "'fundamental_6' :-1.053672e-2 ,\n",
      "'fundamental_7' :1.530981e-2 ,\n",
      "'fundamental_8' :-2.881388e-2 ,\n",
      "'fundamental_9' :-2.423760e-2 ,\n",
      "'fundamental_10' :1.480591e-2 ,\n",
      "'fundamental_11' :-2.340579e-2 ,\n",
      "'fundamental_12' :3.481556e-4 ,\n",
      "'fundamental_13' :9.451430e-3 ,\n",
      "'fundamental_14' :1.574253e-2 ,\n",
      "'fundamental_15' :9.006802e-3 ,\n",
      "'fundamental_16' :-2.564438e-2 ,\n",
      "'fundamental_17' :-1.750236e-2 ,\n",
      "'fundamental_18' :-5.955714e-3 ,\n",
      "'fundamental_19' :1.937667e-2 ,\n",
      "'fundamental_20' :-7.500090e-3 ,\n",
      "'fundamental_21' :3.272726e-2 ,\n",
      "'fundamental_22' :-1.746764e-2 ,\n",
      "'fundamental_23' :3.506904e-2 ,\n",
      "'fundamental_24' :1.924759e-2 ,\n",
      "'fundamental_25' :-1.527479e-2 ,\n",
      "'fundamental_26' :-5.522289e-3 ,\n",
      "'fundamental_27' :2.450067e-2 ,\n",
      "'fundamental_28' :-2.455986e-2 ,\n",
      "'fundamental_29' :7.835371e-3 ,\n",
      "'fundamental_30' :8.630160e-3 ,\n",
      "'fundamental_31' :-2.293440e-2 ,\n",
      "'fundamental_32' :-3.941408e-3 ,\n",
      "'fundamental_33' :1.175159e-2 ,\n",
      "'fundamental_34' :7.789995e-4 ,\n",
      "'fundamental_35' :-1.217259e-2 ,\n",
      "'fundamental_36' :-1.229235e-2 ,\n",
      "'fundamental_37' :6.115840e-3 ,\n",
      "'fundamental_38' :-7.763024e-3 ,\n",
      "'fundamental_39' :-2.093636e-3 ,\n",
      "'fundamental_40' :-2.028062e-2 ,\n",
      "'fundamental_41' :-5.226664e-3 ,\n",
      "'fundamental_42' :-1.148248e-2 ,\n",
      "'fundamental_43' :-3.013412e-3 ,\n",
      "'fundamental_44' :3.255692e-2 ,\n",
      "'fundamental_45' :5.225765e-3 ,\n",
      "'fundamental_46' :2.041216e-2 ,\n",
      "'fundamental_47' :-2.828880e-2 ,\n",
      "'fundamental_48' :-1.191709e-2 ,\n",
      "'fundamental_49' :5.916757e-3 ,\n",
      "'fundamental_50' :6.005097e-2 ,\n",
      "'fundamental_51' :-5.154103e-3 ,\n",
      "'fundamental_52' :-1.358111e-2 ,\n",
      "'fundamental_53' :-1.958383e-2 ,\n",
      "'fundamental_54' :7.133245e-2 ,\n",
      "'fundamental_55' :-1.401325e-2 ,\n",
      "'fundamental_56' :-1.544876e-2 ,\n",
      "'fundamental_57' :-4.866723e-3 ,\n",
      "'fundamental_58' :-3.039240e-2 ,\n",
      "'fundamental_59' :-1.082717e-2 ,\n",
      "'fundamental_60' :4.685247e-3 ,\n",
      "'fundamental_61' :-4.190180e-4 ,\n",
      "'fundamental_62' :-7.192004e-4 ,\n",
      "'fundamental_63' :6.475382e-2 ,\n",
      "'technical_0' :-2.293301e-9 ,\n",
      "'technical_1' :-4.826870e-4 ,\n",
      "'technical_2' :-6.597535e-1 ,\n",
      "'technical_3' :-3.299367e-4 ,\n",
      "'technical_5' :3.400962e-5 ,\n",
      "'technical_6' :-6.597540e-1 ,\n",
      "'technical_7' :-2.327031e-2 ,\n",
      "'technical_9' :0.000000e+6 ,\n",
      "'technical_10' :-3.330669e-16 ,\n",
      "'technical_11' :-6.597492e-1 ,\n",
      "'technical_12' :-5.771427e-5 ,\n",
      "'technical_13' :0.000000e+6 ,\n",
      "'technical_14' :-7.578583e-1 ,\n",
      "'technical_16' :0.000000e+6 ,\n",
      "'technical_17' :-6.597498e-1 ,\n",
      "'technical_18' :-0.000000e+6 ,\n",
      "'technical_19' :-4.160862e-2 ,\n",
      "'technical_20' :0.000000e+6 ,\n",
      "'technical_21' :-4.287270e-3 ,\n",
      "'technical_22' :0.000000e+6 ,\n",
      "'technical_24' :1.904619e-4 ,\n",
      "'technical_25' :3.763260e-4 ,\n",
      "'technical_27' :-6.943745e-2 ,\n",
      "'technical_28' :2.388107e-4 ,\n",
      "'technical_29' :-2.656708e-5 ,\n",
      "'technical_30' :0.000000e+6 ,\n",
      "'technical_31' :-3.818677e-4 ,\n",
      "'technical_32' :-4.730027e-14 ,\n",
      "'technical_33' :3.735776e-4 ,\n",
      "'technical_34' :0.000000e+6 ,\n",
      "'technical_35' :-1.118699e-1 ,\n",
      "'technical_36' :-8.502063e-2 ,\n",
      "'technical_37' :-3.951567e-12 ,\n",
      "'technical_38' :-1.418487e-13 ,\n",
      "'technical_39' :-1.591224e-16 ,\n",
      "'technical_40' :-1.476793e-2 ,\n",
      "'technical_41' :9.782702e-5 ,\n",
      "'technical_42' :-0.000000e+6 ,\n",
      "'technical_43' :-6.597540e-1 ,\n",
      "'technical_44' :1.117279e-5 ,\n",
      "'y' :-1.570681e-4 ,\n"
     ]
    }
   ],
   "source": [
    "from decimal import Decimal\n",
    "for col in median.index:\n",
    "    print(repr(col), ':{:.6e}'.format(Decimal(median[col])), ',' )"
   ]
  },
  {
   "cell_type": "code",
   "execution_count": 65,
   "metadata": {
    "collapsed": false
   },
   "outputs": [
    {
     "data": {
      "text/plain": [
       "id                1.098000e+03\n",
       "timestamp         9.560000e+02\n",
       "derived_0        -8.368272e-04\n",
       "derived_1         5.523058e-03\n",
       "derived_2         2.109505e-02\n",
       "derived_3         2.475614e-03\n",
       "derived_4         1.175234e-02\n",
       "fundamental_0    -4.064488e-02\n",
       "fundamental_1    -7.395084e-03\n",
       "fundamental_2    -3.029069e-02\n",
       "fundamental_3    -4.018341e-02\n",
       "fundamental_5     3.337545e-02\n",
       "fundamental_6    -1.053672e-02\n",
       "fundamental_7     1.530981e-02\n",
       "fundamental_8    -2.881388e-02\n",
       "fundamental_9    -2.423760e-02\n",
       "fundamental_10    1.480591e-02\n",
       "fundamental_11   -2.340579e-02\n",
       "fundamental_12    3.481556e-04\n",
       "fundamental_13    9.451430e-03\n",
       "fundamental_14    1.574253e-02\n",
       "fundamental_15    9.006802e-03\n",
       "fundamental_16   -2.564438e-02\n",
       "fundamental_17   -1.750236e-02\n",
       "fundamental_18   -5.955714e-03\n",
       "fundamental_19    1.937667e-02\n",
       "fundamental_20   -7.500090e-03\n",
       "fundamental_21    3.272726e-02\n",
       "fundamental_22   -1.746764e-02\n",
       "fundamental_23    3.506904e-02\n",
       "                      ...     \n",
       "technical_13      0.000000e+00\n",
       "technical_14     -7.578583e-01\n",
       "technical_16      0.000000e+00\n",
       "technical_17     -6.597498e-01\n",
       "technical_18     -0.000000e+00\n",
       "technical_19     -4.160862e-02\n",
       "technical_20      0.000000e+00\n",
       "technical_21     -4.287270e-03\n",
       "technical_22      0.000000e+00\n",
       "technical_24      1.904619e-04\n",
       "technical_25      3.763260e-04\n",
       "technical_27     -6.943745e-02\n",
       "technical_28      2.388107e-04\n",
       "technical_29     -2.656708e-05\n",
       "technical_30      0.000000e+00\n",
       "technical_31     -3.818677e-04\n",
       "technical_32     -4.730027e-14\n",
       "technical_33      3.735776e-04\n",
       "technical_34      0.000000e+00\n",
       "technical_35     -1.118699e-01\n",
       "technical_36     -8.502063e-02\n",
       "technical_37     -3.951567e-12\n",
       "technical_38     -1.418487e-13\n",
       "technical_39     -1.591224e-16\n",
       "technical_40     -1.476793e-02\n",
       "technical_41      9.782702e-05\n",
       "technical_42     -0.000000e+00\n",
       "technical_43     -6.597540e-01\n",
       "technical_44      1.117279e-05\n",
       "y                -1.570681e-04\n",
       "dtype: float64"
      ]
     },
     "execution_count": 65,
     "metadata": {},
     "output_type": "execute_result"
    }
   ],
   "source": [
    "median"
   ]
  },
  {
   "cell_type": "code",
   "execution_count": 74,
   "metadata": {
    "collapsed": false
   },
   "outputs": [],
   "source": [
    "ser = pd.Series({\n",
    "       'id' :1.098000e+3 ,\n",
    "'timestamp' :9.560000e+2 ,\n",
    "'derived_0' :-8.368272e-4 ,\n",
    "'derived_1' :5.523058e-3 ,\n",
    "'derived_2' :2.109505e-2 ,\n",
    "'derived_3' :2.475614e-3 ,\n",
    "'derived_4' :1.175234e-2 ,\n",
    "'fundamental_0' :-4.064488e-2 ,\n",
    "'fundamental_1' :-7.395084e-3 ,\n",
    "'fundamental_2' :-3.029069e-2 ,\n",
    "'fundamental_3' :-4.018341e-2 ,\n",
    "'fundamental_5' :3.337545e-2 ,\n",
    "'fundamental_6' :-1.053672e-2 ,\n",
    "'fundamental_7' :1.530981e-2 ,\n",
    "'fundamental_8' :-2.881388e-2 ,\n",
    "'fundamental_9' :-2.423760e-2 ,\n",
    "'fundamental_10' :1.480591e-2 ,\n",
    "'fundamental_11' :-2.340579e-2 ,\n",
    "'fundamental_12' :3.481556e-4 ,\n",
    "'fundamental_13' :9.451430e-3 ,\n",
    "'fundamental_14' :1.574253e-2 ,\n",
    "'fundamental_15' :9.006802e-3 ,\n",
    "'fundamental_16' :-2.564438e-2 ,\n",
    "'fundamental_17' :-1.750236e-2 ,\n",
    "'fundamental_18' :-5.955714e-3 ,\n",
    "'fundamental_19' :1.937667e-2 ,\n",
    "'fundamental_20' :-7.500090e-3 ,\n",
    "'fundamental_21' :3.272726e-2 ,\n",
    "'fundamental_22' :-1.746764e-2 ,\n",
    "'fundamental_23' :3.506904e-2 ,\n",
    "'fundamental_24' :1.924759e-2 ,\n",
    "'fundamental_25' :-1.527479e-2 ,\n",
    "'fundamental_26' :-5.522289e-3 ,\n",
    "'fundamental_27' :2.450067e-2 ,\n",
    "'fundamental_28' :-2.455986e-2 ,\n",
    "'fundamental_29' :7.835371e-3 ,\n",
    "'fundamental_30' :8.630160e-3 ,\n",
    "'fundamental_31' :-2.293440e-2 ,\n",
    "'fundamental_32' :-3.941408e-3 ,\n",
    "'fundamental_33' :1.175159e-2 ,\n",
    "'fundamental_34' :7.789995e-4 ,\n",
    "'fundamental_35' :-1.217259e-2 ,\n",
    "'fundamental_36' :-1.229235e-2 ,\n",
    "'fundamental_37' :6.115840e-3 ,\n",
    "'fundamental_38' :-7.763024e-3 ,\n",
    "'fundamental_39' :-2.093636e-3 ,\n",
    "'fundamental_40' :-2.028062e-2 ,\n",
    "'fundamental_41' :-5.226664e-3 ,\n",
    "'fundamental_42' :-1.148248e-2 ,\n",
    "'fundamental_43' :-3.013412e-3 ,\n",
    "'fundamental_44' :3.255692e-2 ,\n",
    "'fundamental_45' :5.225765e-3 ,\n",
    "'fundamental_46' :2.041216e-2 ,\n",
    "'fundamental_47' :-2.828880e-2 ,\n",
    "'fundamental_48' :-1.191709e-2 ,\n",
    "'fundamental_49' :5.916757e-3 ,\n",
    "'fundamental_50' :6.005097e-2 ,\n",
    "'fundamental_51' :-5.154103e-3 ,\n",
    "'fundamental_52' :-1.358111e-2 ,\n",
    "'fundamental_53' :-1.958383e-2 ,\n",
    "'fundamental_54' :7.133245e-2 ,\n",
    "'fundamental_55' :-1.401325e-2 ,\n",
    "'fundamental_56' :-1.544876e-2 ,\n",
    "'fundamental_57' :-4.866723e-3 ,\n",
    "'fundamental_58' :-3.039240e-2 ,\n",
    "'fundamental_59' :-1.082717e-2 ,\n",
    "'fundamental_60' :4.685247e-3 ,\n",
    "'fundamental_61' :-4.190180e-4 ,\n",
    "'fundamental_62' :-7.192004e-4 ,\n",
    "'fundamental_63' :6.475382e-2 ,\n",
    "'technical_0' :-2.293301e-9 ,\n",
    "'technical_1' :-4.826870e-4 ,\n",
    "'technical_2' :-6.597535e-1 ,\n",
    "'technical_3' :-3.299367e-4 ,\n",
    "'technical_5' :3.400962e-5 ,\n",
    "'technical_6' :-6.597540e-1 ,\n",
    "'technical_7' :-2.327031e-2 ,\n",
    "'technical_9' :0.000000e+6 ,\n",
    "'technical_10' :-3.330669e-16 ,\n",
    "'technical_11' :-6.597492e-1 ,\n",
    "'technical_12' :-5.771427e-5 ,\n",
    "'technical_13' :0.000000e+6 ,\n",
    "'technical_14' :-7.578583e-1 ,\n",
    "'technical_16' :0.000000e+6 ,\n",
    "'technical_17' :-6.597498e-1 ,\n",
    "'technical_18' :-0.000000e+6 ,\n",
    "'technical_19' :-4.160862e-2 ,\n",
    "'technical_20' :0.000000e+6 ,\n",
    "'technical_21' :-4.287270e-3 ,\n",
    "'technical_22' :0.000000e+6 ,\n",
    "'technical_24' :1.904619e-4 ,\n",
    "'technical_25' :3.763260e-4 ,\n",
    "'technical_27' :-6.943745e-2 ,\n",
    "'technical_28' :2.388107e-4 ,\n",
    "'technical_29' :-2.656708e-5 ,\n",
    "'technical_30' :0.000000e+6 ,\n",
    "'technical_31' :-3.818677e-4 ,\n",
    "'technical_32' :-4.730027e-14 ,\n",
    "'technical_33' :3.735776e-4 ,\n",
    "'technical_34' :0.000000e+6 ,\n",
    "'technical_35' :-1.118699e-1 ,\n",
    "'technical_36' :-8.502063e-2 ,\n",
    "'technical_37' :-3.951567e-12 ,\n",
    "'technical_38' :-1.418487e-13 ,\n",
    "'technical_39' :-1.591224e-16 ,\n",
    "'technical_40' :-1.476793e-2 ,\n",
    "'technical_41' :9.782702e-5 ,\n",
    "'technical_42' :-0.000000e+6 ,\n",
    "'technical_43' :-6.597540e-1 ,\n",
    "'technical_44' :1.117279e-5 ,\n",
    "'y' :-1.570681e-4 ,\n",
    "    })"
   ]
  },
  {
   "cell_type": "code",
   "execution_count": 75,
   "metadata": {
    "collapsed": false
   },
   "outputs": [
    {
     "data": {
      "text/plain": [
       "derived_0        -4.805700e-11\n",
       "derived_1        -1.201613e-10\n",
       "derived_2        -4.988432e-10\n",
       "derived_3        -4.266576e-10\n",
       "derived_4         3.713992e-09\n",
       "fundamental_0     4.109497e-09\n",
       "fundamental_1    -4.496362e-10\n",
       "fundamental_10   -1.108851e-09\n",
       "fundamental_11   -3.396311e-09\n",
       "fundamental_12    3.863109e-11\n",
       "fundamental_13   -2.909374e-10\n",
       "fundamental_14    8.163738e-10\n",
       "fundamental_15    7.345199e-12\n",
       "fundamental_16   -1.263385e-09\n",
       "fundamental_17    3.771200e-09\n",
       "fundamental_18    2.667472e-10\n",
       "fundamental_19   -9.417105e-10\n",
       "fundamental_2    -2.543273e-09\n",
       "fundamental_20    1.706517e-10\n",
       "fundamental_21   -1.425648e-10\n",
       "fundamental_22    4.065619e-09\n",
       "fundamental_23   -9.541130e-10\n",
       "fundamental_24    4.092422e-09\n",
       "fundamental_25    1.156545e-10\n",
       "fundamental_26    3.133760e-10\n",
       "fundamental_27    3.813787e-09\n",
       "fundamental_28   -8.135891e-10\n",
       "fundamental_29   -4.197874e-10\n",
       "fundamental_3     4.848480e-11\n",
       "fundamental_30   -2.423191e-10\n",
       "                      ...     \n",
       "technical_20      0.000000e+00\n",
       "technical_21     -1.022410e-10\n",
       "technical_22      0.000000e+00\n",
       "technical_24     -2.755923e-11\n",
       "technical_25     -3.198290e-11\n",
       "technical_27      1.660633e-09\n",
       "technical_28     -3.866505e-11\n",
       "technical_29     -1.251515e-12\n",
       "technical_3      -4.918551e-11\n",
       "technical_30      0.000000e+00\n",
       "technical_31     -3.676367e-11\n",
       "technical_32      4.726722e-21\n",
       "technical_33      1.735011e-11\n",
       "technical_34      0.000000e+00\n",
       "technical_35      8.869267e-09\n",
       "technical_36      1.551743e-09\n",
       "technical_37     -4.954325e-19\n",
       "technical_38     -9.003670e-21\n",
       "technical_39      1.833111e-23\n",
       "technical_40     -2.882354e-09\n",
       "technical_41      1.819604e-12\n",
       "technical_42      0.000000e+00\n",
       "technical_43     -2.174759e-08\n",
       "technical_44     -4.984304e-12\n",
       "technical_5       4.225734e-12\n",
       "technical_6      -2.174759e-08\n",
       "technical_7      -2.891240e-09\n",
       "technical_9       0.000000e+00\n",
       "timestamp         0.000000e+00\n",
       "y                -2.392215e-11\n",
       "dtype: float64"
      ]
     },
     "execution_count": 75,
     "metadata": {},
     "output_type": "execute_result"
    }
   ],
   "source": [
    "ser - median"
   ]
  },
  {
   "cell_type": "markdown",
   "metadata": {},
   "source": [
    "# Fill `tech_20` according to `tech_30` "
   ]
  },
  {
   "cell_type": "code",
   "execution_count": 8,
   "metadata": {
    "collapsed": true
   },
   "outputs": [],
   "source": [
    "def fill_t20_with_t30(t_30, value):\n",
    "    return value if np.abs(t_30) < 0.0001 else 0"
   ]
  },
  {
   "cell_type": "code",
   "execution_count": 18,
   "metadata": {
    "collapsed": false
   },
   "outputs": [
    {
     "data": {
      "text/plain": [
       "Series([], Name: technical_20, dtype: float32)"
      ]
     },
     "execution_count": 18,
     "metadata": {},
     "output_type": "execute_result"
    }
   ],
   "source": [
    "train.loc[train.technical_20.isnull() & train.technical_30.notnull()]['technical_20']"
   ]
  },
  {
   "cell_type": "code",
   "execution_count": 19,
   "metadata": {
    "collapsed": false
   },
   "outputs": [
    {
     "data": {
      "text/plain": [
       "Series([], Name: technical_20, dtype: float32)"
      ]
     },
     "execution_count": 19,
     "metadata": {},
     "output_type": "execute_result"
    }
   ],
   "source": [
    "train.loc[train.technical_20.isnull() & train.technical_13.notnull()]['technical_20']"
   ]
  },
  {
   "cell_type": "code",
   "execution_count": 20,
   "metadata": {
    "collapsed": false
   },
   "outputs": [
    {
     "data": {
      "text/plain": [
       "Series([], Name: technical_20, dtype: float32)"
      ]
     },
     "execution_count": 20,
     "metadata": {},
     "output_type": "execute_result"
    }
   ],
   "source": [
    "train.loc[train.technical_30.isnull() & train.technical_13.notnull()]['technical_20']"
   ]
  },
  {
   "cell_type": "markdown",
   "metadata": {},
   "source": [
    "##  `technical_30`, `technical_20` and   `technical_13` miss together"
   ]
  },
  {
   "cell_type": "code",
   "execution_count": 25,
   "metadata": {
    "collapsed": false
   },
   "outputs": [
    {
     "data": {
      "text/plain": [
       "(2499, 111)"
      ]
     },
     "execution_count": 25,
     "metadata": {},
     "output_type": "execute_result"
    }
   ],
   "source": [
    "train.loc[train.technical_20.isnull() & train.technical_43.notnull()].shape"
   ]
  },
  {
   "cell_type": "code",
   "execution_count": 26,
   "metadata": {
    "collapsed": false
   },
   "outputs": [
    {
     "data": {
      "text/plain": [
       "(0, 111)"
      ]
     },
     "execution_count": 26,
     "metadata": {},
     "output_type": "execute_result"
    }
   ],
   "source": [
    "train.loc[train.technical_2.isnull() & train.technical_43.notnull()].shape"
   ]
  },
  {
   "cell_type": "code",
   "execution_count": 27,
   "metadata": {
    "collapsed": false
   },
   "outputs": [
    {
     "data": {
      "text/plain": [
       "(0, 111)"
      ]
     },
     "execution_count": 27,
     "metadata": {},
     "output_type": "execute_result"
    }
   ],
   "source": [
    "train.loc[train.technical_2.isnull() & train.technical_11.notnull()].shape"
   ]
  },
  {
   "cell_type": "code",
   "execution_count": 29,
   "metadata": {
    "collapsed": false
   },
   "outputs": [
    {
     "data": {
      "text/plain": [
       "(0, 111)"
      ]
     },
     "execution_count": 29,
     "metadata": {},
     "output_type": "execute_result"
    }
   ],
   "source": [
    "train.loc[train.technical_2.isnull() & train.technical_6.notnull()].shape"
   ]
  },
  {
   "cell_type": "code",
   "execution_count": 30,
   "metadata": {
    "collapsed": false
   },
   "outputs": [
    {
     "data": {
      "text/plain": [
       "(2043, 111)"
      ]
     },
     "execution_count": 30,
     "metadata": {},
     "output_type": "execute_result"
    }
   ],
   "source": [
    "train.loc[train.technical_2.isnull() & train.technical_35.notnull()].shape"
   ]
  },
  {
   "cell_type": "markdown",
   "metadata": {},
   "source": [
    "##  `technical_35`, `technical_2` , `technical_20` , `technical_43` , `technical_11` and   `technical_6` miss together"
   ]
  },
  {
   "cell_type": "code",
   "execution_count": 31,
   "metadata": {
    "collapsed": false
   },
   "outputs": [
    {
     "data": {
      "text/plain": [
       "(0, 111)"
      ]
     },
     "execution_count": 31,
     "metadata": {},
     "output_type": "execute_result"
    }
   ],
   "source": [
    "train.loc[train.technical_36.isnull() & train.technical_35.notnull()].shape"
   ]
  },
  {
   "cell_type": "code",
   "execution_count": 32,
   "metadata": {
    "collapsed": false
   },
   "outputs": [
    {
     "data": {
      "text/plain": [
       "(0, 111)"
      ]
     },
     "execution_count": 32,
     "metadata": {},
     "output_type": "execute_result"
    }
   ],
   "source": [
    "train.loc[train.technical_27.isnull() & train.technical_35.notnull()].shape"
   ]
  },
  {
   "cell_type": "code",
   "execution_count": 33,
   "metadata": {
    "collapsed": false
   },
   "outputs": [
    {
     "data": {
      "text/plain": [
       "(0, 111)"
      ]
     },
     "execution_count": 33,
     "metadata": {},
     "output_type": "execute_result"
    }
   ],
   "source": [
    "train.loc[train.technical_19.isnull() & train.technical_35.notnull()].shape"
   ]
  },
  {
   "cell_type": "code",
   "execution_count": 34,
   "metadata": {
    "collapsed": false
   },
   "outputs": [
    {
     "data": {
      "text/plain": [
       "(0, 111)"
      ]
     },
     "execution_count": 34,
     "metadata": {},
     "output_type": "execute_result"
    }
   ],
   "source": [
    "train.loc[train.technical_7.isnull() & train.technical_35.notnull()].shape"
   ]
  },
  {
   "cell_type": "code",
   "execution_count": 35,
   "metadata": {
    "collapsed": false
   },
   "outputs": [
    {
     "data": {
      "text/plain": [
       "(0, 111)"
      ]
     },
     "execution_count": 35,
     "metadata": {},
     "output_type": "execute_result"
    }
   ],
   "source": [
    "train.loc[train.technical_21.isnull() & train.technical_35.notnull()].shape"
   ]
  },
  {
   "cell_type": "code",
   "execution_count": 36,
   "metadata": {
    "collapsed": false
   },
   "outputs": [
    {
     "data": {
      "text/plain": [
       "(0, 111)"
      ]
     },
     "execution_count": 36,
     "metadata": {},
     "output_type": "execute_result"
    }
   ],
   "source": [
    "train.loc[train.technical_40.isnull() & train.technical_35.notnull()].shape"
   ]
  },
  {
   "cell_type": "markdown",
   "metadata": {},
   "source": [
    " ### `technical_36`, `technical_35` , `technical_27`, `technical_19` , `technical_7`, `technical_40` and `technical_21` miss together¶"
   ]
  },
  {
   "cell_type": "code",
   "execution_count": 48,
   "metadata": {
    "collapsed": false
   },
   "outputs": [
    {
     "data": {
      "text/plain": [
       "(0, 111)"
      ]
     },
     "execution_count": 48,
     "metadata": {},
     "output_type": "execute_result"
    }
   ],
   "source": [
    "train.loc[train.fundamental_36.isnull() & train.fundamental_48.notnull()].shape"
   ]
  },
  {
   "cell_type": "code",
   "execution_count": 49,
   "metadata": {
    "collapsed": false
   },
   "outputs": [
    {
     "data": {
      "text/plain": [
       "(0, 111)"
      ]
     },
     "execution_count": 49,
     "metadata": {},
     "output_type": "execute_result"
    }
   ],
   "source": [
    "train.loc[train.fundamental_45.isnull() & train.fundamental_59.notnull()].shape"
   ]
  },
  {
   "cell_type": "code",
   "execution_count": 53,
   "metadata": {
    "collapsed": false
   },
   "outputs": [
    {
     "data": {
      "text/plain": [
       "(0, 111)"
      ]
     },
     "execution_count": 53,
     "metadata": {},
     "output_type": "execute_result"
    }
   ],
   "source": [
    "train.loc[train.fundamental_0.isnull() & train.fundamental_53.notnull()].shape"
   ]
  },
  {
   "cell_type": "code",
   "execution_count": 51,
   "metadata": {
    "collapsed": false
   },
   "outputs": [
    {
     "data": {
      "text/plain": [
       "(0, 111)"
      ]
     },
     "execution_count": 51,
     "metadata": {},
     "output_type": "execute_result"
    }
   ],
   "source": [
    "train.loc[train.technical_37.isnull() & train.technical_38.notnull()].shape"
   ]
  },
  {
   "cell_type": "code",
   "execution_count": 52,
   "metadata": {
    "collapsed": false
   },
   "outputs": [
    {
     "data": {
      "text/plain": [
       "(0, 111)"
      ]
     },
     "execution_count": 52,
     "metadata": {},
     "output_type": "execute_result"
    }
   ],
   "source": [
    "train.loc[train.technical_39.isnull() & train.technical_18.notnull()].shape"
   ]
  },
  {
   "cell_type": "code",
   "execution_count": 37,
   "metadata": {
    "collapsed": true
   },
   "outputs": [],
   "source": [
    "nulls = [('technical_22', 0),\n",
    " ('technical_34', 0),\n",
    " ('timestamp', 0),\n",
    " ('y', 0),\n",
    " ('id', 0),\n",
    " ('technical_21', 2236),\n",
    " ('technical_40', 2236),\n",
    " ('technical_7', 2236),\n",
    " ('technical_19', 2320),\n",
    " ('technical_27', 2420),\n",
    " ('technical_36', 2552),\n",
    " ('technical_35', 3155),\n",
    " ('technical_17', 4279),\n",
    " ('technical_2', 4279),\n",
    " ('technical_11', 4279),\n",
    " ('technical_6', 4279),\n",
    " ('technical_43', 4686),\n",
    " ('technical_13', 4764),\n",
    " ('technical_20', 4764),\n",
    " ('technical_30', 4764),\n",
    " ('fundamental_33', 13835),\n",
    " ('technical_14', 14184),\n",
    " ('technical_33', 14535),\n",
    " ('fundamental_18', 15833),\n",
    " ('fundamental_48', 15843),\n",
    " ('fundamental_36', 15843),\n",
    " ('fundamental_59', 16062),\n",
    " ('fundamental_45', 16062),\n",
    " ('technical_9', 19165),\n",
    " ('technical_12', 19165),\n",
    " ('technical_38', 19165),\n",
    " ('technical_37', 19165),\n",
    " ('technical_0', 19165),\n",
    " ('technical_32', 19165),\n",
    " ('technical_16', 19981),\n",
    " ('technical_42', 20001),\n",
    " ('technical_18', 20016),\n",
    " ('technical_39', 20016),\n",
    " ('fundamental_42', 22913),\n",
    " ('fundamental_0', 23947),\n",
    " ('fundamental_53', 23947),\n",
    " ('fundamental_7', 26340),\n",
    " ('fundamental_41', 30115),\n",
    " ('technical_41', 44189),\n",
    " ('fundamental_21', 54333),\n",
    " ('fundamental_19', 54588),\n",
    " ('technical_29', 61615),\n",
    " ('technical_24', 71146),\n",
    " ('derived_0', 72959),\n",
    " ('derived_1', 81029),\n",
    " ('fundamental_17', 97222),\n",
    " ('technical_3', 98294),\n",
    " ('fundamental_20', 110871),\n",
    " ('fundamental_12', 110871),\n",
    " ('fundamental_32', 111672),\n",
    " ('fundamental_62', 112977),\n",
    " ('fundamental_10', 112977),\n",
    " ('fundamental_25', 121894),\n",
    " ('technical_1', 126776),\n",
    " ('fundamental_58', 142125),\n",
    " ('derived_3', 149471),\n",
    " ('technical_5', 153604),\n",
    " ('fundamental_52', 153927),\n",
    " ('technical_10', 167483),\n",
    " ('technical_31', 182678),\n",
    " ('technical_25', 208056),\n",
    " ('technical_44', 236779),\n",
    " ('technical_28', 262916),\n",
    " ('fundamental_40', 279702),\n",
    " ('fundamental_27', 281298),\n",
    " ('fundamental_29', 354106),\n",
    " ('fundamental_43', 354531),\n",
    " ('fundamental_15', 354897),\n",
    " ('fundamental_30', 354907),\n",
    " ('fundamental_60', 355126),\n",
    " ('fundamental_16', 355138),\n",
    " ('fundamental_13', 355138),\n",
    " ('fundamental_50', 355231),\n",
    " ('fundamental_44', 355805),\n",
    " ('fundamental_37', 355843),\n",
    " ('fundamental_46', 355843),\n",
    " ('fundamental_14', 356084),\n",
    " ('fundamental_23', 356723),\n",
    " ('fundamental_55', 368840),\n",
    " ('fundamental_11', 368840),\n",
    " ('fundamental_56', 368840),\n",
    " ('fundamental_2', 368840),\n",
    " ('fundamental_8', 373166),\n",
    " ('fundamental_63', 375614),\n",
    " ('fundamental_39', 377574),\n",
    " ('fundamental_54', 384213),\n",
    " ('derived_2', 398651),\n",
    " ('derived_4', 406458),\n",
    " ('fundamental_35', 424476),\n",
    " ('fundamental_34', 434862),\n",
    " ('fundamental_47', 446328),\n",
    " ('fundamental_51', 447053),\n",
    " ('fundamental_31', 454380),\n",
    " ('fundamental_3', 454380),\n",
    " ('fundamental_49', 558333),\n",
    " ('fundamental_22', 558488),\n",
    " ('fundamental_9', 565567),\n",
    " ('fundamental_24', 576655),\n",
    " ('fundamental_57', 657184),\n",
    " ('fundamental_26', 657184),\n",
    " ('fundamental_28', 667331),\n",
    " ('fundamental_61', 671801),\n",
    " ('fundamental_1', 679070),\n",
    " ('fundamental_6', 701625),\n",
    " ('fundamental_38', 803489),\n",
    " ('fundamental_5', 962020)]"
   ]
  },
  {
   "cell_type": "code",
   "execution_count": 43,
   "metadata": {
    "collapsed": false
   },
   "outputs": [],
   "source": [
    "from itertools import groupby\n",
    "from operator import itemgetter\n",
    "\n",
    "null_cates = [(value, itemgetter(1)) for col, value in groupby(nulls, itemgetter(0))]"
   ]
  },
  {
   "cell_type": "code",
   "execution_count": 45,
   "metadata": {
    "collapsed": false
   },
   "outputs": [],
   "source": [
    "see= []\n",
    "cates = []\n",
    "for item in nulls:\n",
    "    cate, value = item\n",
    "    if value not in see:\n",
    "        see.append(value)\n",
    "        cates.append(cate)"
   ]
  },
  {
   "cell_type": "code",
   "execution_count": 46,
   "metadata": {
    "collapsed": false
   },
   "outputs": [
    {
     "data": {
      "text/plain": [
       "['technical_22',\n",
       " 'technical_21',\n",
       " 'technical_19',\n",
       " 'technical_27',\n",
       " 'technical_36',\n",
       " 'technical_35',\n",
       " 'technical_17',\n",
       " 'technical_43',\n",
       " 'technical_13',\n",
       " 'fundamental_33',\n",
       " 'technical_14',\n",
       " 'technical_33',\n",
       " 'fundamental_18',\n",
       " 'fundamental_48',\n",
       " 'fundamental_59',\n",
       " 'technical_9',\n",
       " 'technical_16',\n",
       " 'technical_42',\n",
       " 'technical_18',\n",
       " 'fundamental_42',\n",
       " 'fundamental_0',\n",
       " 'fundamental_7',\n",
       " 'fundamental_41',\n",
       " 'technical_41',\n",
       " 'fundamental_21',\n",
       " 'fundamental_19',\n",
       " 'technical_29',\n",
       " 'technical_24',\n",
       " 'derived_0',\n",
       " 'derived_1',\n",
       " 'fundamental_17',\n",
       " 'technical_3',\n",
       " 'fundamental_20',\n",
       " 'fundamental_32',\n",
       " 'fundamental_62',\n",
       " 'fundamental_25',\n",
       " 'technical_1',\n",
       " 'fundamental_58',\n",
       " 'derived_3',\n",
       " 'technical_5',\n",
       " 'fundamental_52',\n",
       " 'technical_10',\n",
       " 'technical_31',\n",
       " 'technical_25',\n",
       " 'technical_44',\n",
       " 'technical_28',\n",
       " 'fundamental_40',\n",
       " 'fundamental_27',\n",
       " 'fundamental_29',\n",
       " 'fundamental_43',\n",
       " 'fundamental_15',\n",
       " 'fundamental_30',\n",
       " 'fundamental_60',\n",
       " 'fundamental_16',\n",
       " 'fundamental_50',\n",
       " 'fundamental_44',\n",
       " 'fundamental_37',\n",
       " 'fundamental_14',\n",
       " 'fundamental_23',\n",
       " 'fundamental_55',\n",
       " 'fundamental_8',\n",
       " 'fundamental_63',\n",
       " 'fundamental_39',\n",
       " 'fundamental_54',\n",
       " 'derived_2',\n",
       " 'derived_4',\n",
       " 'fundamental_35',\n",
       " 'fundamental_34',\n",
       " 'fundamental_47',\n",
       " 'fundamental_51',\n",
       " 'fundamental_31',\n",
       " 'fundamental_49',\n",
       " 'fundamental_22',\n",
       " 'fundamental_9',\n",
       " 'fundamental_24',\n",
       " 'fundamental_57',\n",
       " 'fundamental_28',\n",
       " 'fundamental_61',\n",
       " 'fundamental_1',\n",
       " 'fundamental_6',\n",
       " 'fundamental_38',\n",
       " 'fundamental_5']"
      ]
     },
     "execution_count": 46,
     "metadata": {},
     "output_type": "execute_result"
    }
   ],
   "source": [
    "cates"
   ]
  },
  {
   "cell_type": "markdown",
   "metadata": {},
   "source": [
    "# cluster"
   ]
  },
  {
   "cell_type": "code",
   "execution_count": null,
   "metadata": {
    "collapsed": true
   },
   "outputs": [],
   "source": [
    "plt.hi"
   ]
  }
 ],
 "metadata": {
  "kernelspec": {
   "display_name": "Python 3",
   "language": "python",
   "name": "python3"
  },
  "language_info": {
   "codemirror_mode": {
    "name": "ipython",
    "version": 3
   },
   "file_extension": ".py",
   "mimetype": "text/x-python",
   "name": "python",
   "nbconvert_exporter": "python",
   "pygments_lexer": "ipython3",
   "version": "3.4.3"
  }
 },
 "nbformat": 4,
 "nbformat_minor": 0
}
