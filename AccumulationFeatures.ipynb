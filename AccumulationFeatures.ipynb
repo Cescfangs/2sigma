{
 "cells": [
  {
   "cell_type": "code",
   "execution_count": 1,
   "metadata": {
    "collapsed": true
   },
   "outputs": [],
   "source": [
    "import pandas as pd\n",
    "import numpy as np"
   ]
  },
  {
   "cell_type": "markdown",
   "metadata": {},
   "source": [
    "# Data Loading "
   ]
  },
  {
   "cell_type": "code",
   "execution_count": 2,
   "metadata": {
    "collapsed": false
   },
   "outputs": [],
   "source": [
    "train = pd.read_hdf('train.h5')"
   ]
  },
  {
   "cell_type": "markdown",
   "metadata": {},
   "source": [
    "# Feature Columns "
   ]
  },
  {
   "cell_type": "code",
   "execution_count": 3,
   "metadata": {
    "collapsed": false
   },
   "outputs": [],
   "source": [
    "excl = ['id', 'y', 'timestamp']\n",
    "origin_features = [feature for feature in train.columns if feature not in excl]\n",
    "acc_features = [feature + '_acc' for feature in origin_features]"
   ]
  },
  {
   "cell_type": "markdown",
   "metadata": {},
   "source": [
    "# Add Accumulation Features "
   ]
  },
  {
   "cell_type": "code",
   "execution_count": 4,
   "metadata": {
    "collapsed": false
   },
   "outputs": [],
   "source": [
    "train.fillna(train.mean(), inplace=True)\n",
    "train.sort_values(['id', 'timestamp'], inplace=True)\n",
    "train['id_diff'] = train.id.diff()"
   ]
  },
  {
   "cell_type": "code",
   "execution_count": 5,
   "metadata": {
    "collapsed": false
   },
   "outputs": [
    {
     "data": {
      "text/html": [
       "<div>\n",
       "<table border=\"1\" class=\"dataframe\">\n",
       "  <thead>\n",
       "    <tr style=\"text-align: right;\">\n",
       "      <th></th>\n",
       "      <th>id</th>\n",
       "      <th>timestamp</th>\n",
       "      <th>derived_0</th>\n",
       "      <th>derived_1</th>\n",
       "      <th>derived_2</th>\n",
       "      <th>derived_3</th>\n",
       "      <th>derived_4</th>\n",
       "      <th>fundamental_0</th>\n",
       "      <th>fundamental_1</th>\n",
       "      <th>fundamental_2</th>\n",
       "      <th>...</th>\n",
       "      <th>technical_37</th>\n",
       "      <th>technical_38</th>\n",
       "      <th>technical_39</th>\n",
       "      <th>technical_40</th>\n",
       "      <th>technical_41</th>\n",
       "      <th>technical_42</th>\n",
       "      <th>technical_43</th>\n",
       "      <th>technical_44</th>\n",
       "      <th>y</th>\n",
       "      <th>id_diff</th>\n",
       "    </tr>\n",
       "  </thead>\n",
       "  <tbody>\n",
       "    <tr>\n",
       "      <th>131062</th>\n",
       "      <td>0</td>\n",
       "      <td>167</td>\n",
       "      <td>-4.536046</td>\n",
       "      <td>7.729436e+11</td>\n",
       "      <td>-0.332033</td>\n",
       "      <td>-0.504601</td>\n",
       "      <td>18.016613</td>\n",
       "      <td>-0.020409</td>\n",
       "      <td>-570375360.0</td>\n",
       "      <td>-0.162295</td>\n",
       "      <td>...</td>\n",
       "      <td>-0.091034</td>\n",
       "      <td>-0.081567</td>\n",
       "      <td>-0.07287</td>\n",
       "      <td>0.049083</td>\n",
       "      <td>0.005236</td>\n",
       "      <td>-0.017</td>\n",
       "      <td>-0.97353</td>\n",
       "      <td>0.000388</td>\n",
       "      <td>-0.007108</td>\n",
       "      <td>NaN</td>\n",
       "    </tr>\n",
       "    <tr>\n",
       "      <th>131895</th>\n",
       "      <td>0</td>\n",
       "      <td>168</td>\n",
       "      <td>-4.536046</td>\n",
       "      <td>7.729436e+11</td>\n",
       "      <td>-0.332033</td>\n",
       "      <td>-0.504601</td>\n",
       "      <td>18.016613</td>\n",
       "      <td>-0.020409</td>\n",
       "      <td>-570375360.0</td>\n",
       "      <td>-0.162295</td>\n",
       "      <td>...</td>\n",
       "      <td>-0.091034</td>\n",
       "      <td>-0.081567</td>\n",
       "      <td>-0.07287</td>\n",
       "      <td>0.049083</td>\n",
       "      <td>0.005236</td>\n",
       "      <td>-0.017</td>\n",
       "      <td>-0.97353</td>\n",
       "      <td>0.000388</td>\n",
       "      <td>0.001950</td>\n",
       "      <td>0.0</td>\n",
       "    </tr>\n",
       "    <tr>\n",
       "      <th>132728</th>\n",
       "      <td>0</td>\n",
       "      <td>169</td>\n",
       "      <td>-4.536046</td>\n",
       "      <td>7.729436e+11</td>\n",
       "      <td>-0.332033</td>\n",
       "      <td>-0.504601</td>\n",
       "      <td>18.016613</td>\n",
       "      <td>-0.020409</td>\n",
       "      <td>-570375360.0</td>\n",
       "      <td>-0.162295</td>\n",
       "      <td>...</td>\n",
       "      <td>-0.091034</td>\n",
       "      <td>-0.081567</td>\n",
       "      <td>-0.07287</td>\n",
       "      <td>0.049083</td>\n",
       "      <td>0.005236</td>\n",
       "      <td>-0.017</td>\n",
       "      <td>-0.97353</td>\n",
       "      <td>0.000388</td>\n",
       "      <td>0.017724</td>\n",
       "      <td>0.0</td>\n",
       "    </tr>\n",
       "    <tr>\n",
       "      <th>133561</th>\n",
       "      <td>0</td>\n",
       "      <td>170</td>\n",
       "      <td>-0.230583</td>\n",
       "      <td>4.880956e-01</td>\n",
       "      <td>0.935920</td>\n",
       "      <td>0.028222</td>\n",
       "      <td>-0.083071</td>\n",
       "      <td>-0.240929</td>\n",
       "      <td>-570375360.0</td>\n",
       "      <td>0.212425</td>\n",
       "      <td>...</td>\n",
       "      <td>0.000000</td>\n",
       "      <td>0.000000</td>\n",
       "      <td>0.00000</td>\n",
       "      <td>-0.160478</td>\n",
       "      <td>0.005236</td>\n",
       "      <td>0.000</td>\n",
       "      <td>0.00000</td>\n",
       "      <td>0.000388</td>\n",
       "      <td>0.012934</td>\n",
       "      <td>0.0</td>\n",
       "    </tr>\n",
       "    <tr>\n",
       "      <th>134393</th>\n",
       "      <td>0</td>\n",
       "      <td>171</td>\n",
       "      <td>-0.230583</td>\n",
       "      <td>4.880956e-01</td>\n",
       "      <td>0.935920</td>\n",
       "      <td>0.028222</td>\n",
       "      <td>-0.083071</td>\n",
       "      <td>-0.240929</td>\n",
       "      <td>-570375360.0</td>\n",
       "      <td>0.212425</td>\n",
       "      <td>...</td>\n",
       "      <td>0.000000</td>\n",
       "      <td>0.000000</td>\n",
       "      <td>0.00000</td>\n",
       "      <td>-0.160478</td>\n",
       "      <td>0.005236</td>\n",
       "      <td>0.000</td>\n",
       "      <td>0.00000</td>\n",
       "      <td>0.000388</td>\n",
       "      <td>-0.025229</td>\n",
       "      <td>0.0</td>\n",
       "    </tr>\n",
       "  </tbody>\n",
       "</table>\n",
       "<p>5 rows × 112 columns</p>\n",
       "</div>"
      ],
      "text/plain": [
       "        id  timestamp  derived_0     derived_1  derived_2  derived_3  \\\n",
       "131062   0        167  -4.536046  7.729436e+11  -0.332033  -0.504601   \n",
       "131895   0        168  -4.536046  7.729436e+11  -0.332033  -0.504601   \n",
       "132728   0        169  -4.536046  7.729436e+11  -0.332033  -0.504601   \n",
       "133561   0        170  -0.230583  4.880956e-01   0.935920   0.028222   \n",
       "134393   0        171  -0.230583  4.880956e-01   0.935920   0.028222   \n",
       "\n",
       "        derived_4  fundamental_0  fundamental_1  fundamental_2   ...     \\\n",
       "131062  18.016613      -0.020409   -570375360.0      -0.162295   ...      \n",
       "131895  18.016613      -0.020409   -570375360.0      -0.162295   ...      \n",
       "132728  18.016613      -0.020409   -570375360.0      -0.162295   ...      \n",
       "133561  -0.083071      -0.240929   -570375360.0       0.212425   ...      \n",
       "134393  -0.083071      -0.240929   -570375360.0       0.212425   ...      \n",
       "\n",
       "        technical_37  technical_38  technical_39  technical_40  technical_41  \\\n",
       "131062     -0.091034     -0.081567      -0.07287      0.049083      0.005236   \n",
       "131895     -0.091034     -0.081567      -0.07287      0.049083      0.005236   \n",
       "132728     -0.091034     -0.081567      -0.07287      0.049083      0.005236   \n",
       "133561      0.000000      0.000000       0.00000     -0.160478      0.005236   \n",
       "134393      0.000000      0.000000       0.00000     -0.160478      0.005236   \n",
       "\n",
       "        technical_42  technical_43  technical_44         y  id_diff  \n",
       "131062        -0.017      -0.97353      0.000388 -0.007108      NaN  \n",
       "131895        -0.017      -0.97353      0.000388  0.001950      0.0  \n",
       "132728        -0.017      -0.97353      0.000388  0.017724      0.0  \n",
       "133561         0.000       0.00000      0.000388  0.012934      0.0  \n",
       "134393         0.000       0.00000      0.000388 -0.025229      0.0  \n",
       "\n",
       "[5 rows x 112 columns]"
      ]
     },
     "execution_count": 5,
     "metadata": {},
     "output_type": "execute_result"
    }
   ],
   "source": [
    "train.head()"
   ]
  },
  {
   "cell_type": "code",
   "execution_count": 5,
   "metadata": {
    "collapsed": true
   },
   "outputs": [],
   "source": [
    "for feature in origin_features:\n",
    "    train[feature + '_acc'] = train[feature].expanding().mean()\n",
    "train.loc[train.id_diff!=0, acc_features]=0"
   ]
  },
  {
   "cell_type": "code",
   "execution_count": 6,
   "metadata": {
    "collapsed": false
   },
   "outputs": [],
   "source": [
    "X_train = train.loc[train.timestamp <=905, origin_features + acc_features]\n",
    "y_train = train.loc[train.timestamp <=905, 'y']\n",
    "X_test = train.loc[train.timestamp > 905, origin_features + acc_features]\n",
    "y_test = train.loc[train.timestamp > 905, 'y']"
   ]
  },
  {
   "cell_type": "code",
   "execution_count": 7,
   "metadata": {
    "collapsed": true
   },
   "outputs": [],
   "source": [
    "del train"
   ]
  },
  {
   "cell_type": "code",
   "execution_count": 8,
   "metadata": {
    "collapsed": false
   },
   "outputs": [],
   "source": [
    "importance = {}\n",
    "for feature in acc_features:\n",
    "    importance[feature] = np.corrcoef(X_train[feature], y_train)[0][1]\n",
    "importance = sorted(importance.items(), key=lambda x : np.abs(x[1]), reverse=True)"
   ]
  },
  {
   "cell_type": "code",
   "execution_count": 9,
   "metadata": {
    "collapsed": false
   },
   "outputs": [
    {
     "data": {
      "text/plain": [
       "[('technical_11_acc', -0.0030668451382165562),\n",
       " ('fundamental_15_acc', 0.0028671613340361486),\n",
       " ('technical_30_acc', 0.0027132133481807216),\n",
       " ('fundamental_35_acc', 0.002594418159358743),\n",
       " ('technical_2_acc', -0.0025280015280443853),\n",
       " ('fundamental_30_acc', 0.0024511623726762785),\n",
       " ('technical_21_acc', -0.0021763898804496519),\n",
       " ('technical_19_acc', -0.0021714845433681864),\n",
       " ('technical_6_acc', -0.0021502191687992841),\n",
       " ('technical_20_acc', 0.0020860887517654336)]"
      ]
     },
     "execution_count": 9,
     "metadata": {},
     "output_type": "execute_result"
    }
   ],
   "source": [
    "importance[:10]"
   ]
  },
  {
   "cell_type": "markdown",
   "metadata": {},
   "source": [
    "# Using Linear Models "
   ]
  },
  {
   "cell_type": "code",
   "execution_count": 10,
   "metadata": {
    "collapsed": true
   },
   "outputs": [],
   "source": [
    "from sklearn.linear_model import Ridge"
   ]
  },
  {
   "cell_type": "code",
   "execution_count": 11,
   "metadata": {
    "collapsed": false
   },
   "outputs": [
    {
     "name": "stderr",
     "output_type": "stream",
     "text": [
      "/usr/local/lib/python3.4/site-packages/ipykernel/__main__.py:5: FutureWarning: reshape is deprecated and will raise in a subsequent release. Please use .values.reshape(...) instead\n",
      "/usr/local/lib/python3.4/site-packages/ipykernel/__main__.py:6: FutureWarning: reshape is deprecated and will raise in a subsequent release. Please use .values.reshape(...) instead\n"
     ]
    }
   ],
   "source": [
    "from twosigmafunc import R_score\n",
    "acc_score = {}\n",
    "for acc_feature, _ in importance:\n",
    "    ridge = Ridge()\n",
    "    ridge.fit(X_train[acc_feature].reshape(-1,1), y_train)\n",
    "    y_pred = ridge.predict(X_test[acc_feature].reshape(-1,1))\n",
    "    score = R_score(y_pred, y_test)\n",
    "    acc_score[acc_feature] = score"
   ]
  },
  {
   "cell_type": "code",
   "execution_count": 12,
   "metadata": {
    "collapsed": true
   },
   "outputs": [],
   "source": [
    "acc_score = sorted(acc_score.items(), key=lambda x : x[1], reverse=True)"
   ]
  },
  {
   "cell_type": "code",
   "execution_count": 13,
   "metadata": {
    "collapsed": false
   },
   "outputs": [
    {
     "data": {
      "text/plain": [
       "[('technical_11_acc', 0.0017381372752961657),\n",
       " ('technical_2_acc', 0.0010909971910032824),\n",
       " ('technical_17_acc', -0.0014296309046830328),\n",
       " ('technical_6_acc', -0.0014679596099107957),\n",
       " ('fundamental_10_acc', -0.001885814428149407),\n",
       " ('technical_0_acc', -0.002037484000162338),\n",
       " ('technical_38_acc', -0.0020778637368478242),\n",
       " ('fundamental_55_acc', -0.0023383783405406993),\n",
       " ('technical_29_acc', -0.002395605210330273),\n",
       " ('technical_37_acc', -0.0024045826815668027),\n",
       " ('fundamental_11_acc', -0.0024214211991485076),\n",
       " ('fundamental_63_acc', -0.0024398789378452571),\n",
       " ('technical_14_acc', -0.0024643839068755934),\n",
       " ('fundamental_25_acc', -0.0024846351146125332),\n",
       " ('technical_41_acc', -0.0024907556172098907),\n",
       " ('technical_19_acc', -0.0024913393125952899),\n",
       " ('derived_1_acc', -0.0025066955010761521),\n",
       " ('fundamental_30_acc', -0.0025081952222639902),\n",
       " ('technical_10_acc', -0.0025239359011927742),\n",
       " ('technical_32_acc', -0.0025288036373703154),\n",
       " ('fundamental_6_acc', -0.0025507954055162345),\n",
       " ('fundamental_8_acc', -0.002554145174793371),\n",
       " ('fundamental_5_acc', -0.0025943645259511121),\n",
       " ('fundamental_1_acc', -0.0025982405542233113),\n",
       " ('fundamental_61_acc', -0.0026029417604689175),\n",
       " ('fundamental_28_acc', -0.002620287034129829),\n",
       " ('fundamental_46_acc', -0.0026217696369110854),\n",
       " ('technical_3_acc', -0.0026254919448017388),\n",
       " ('fundamental_27_acc', -0.0026307583711141285),\n",
       " ('fundamental_39_acc', -0.0026316639155498185),\n",
       " ('fundamental_19_acc', -0.0026419784302206335),\n",
       " ('fundamental_48_acc', -0.002643450725582142),\n",
       " ('technical_43_acc', -0.0026437678777569574),\n",
       " ('fundamental_40_acc', -0.0026520200472507746),\n",
       " ('fundamental_17_acc', -0.0026591934830382893),\n",
       " ('fundamental_29_acc', -0.0026595596995927324),\n",
       " ('fundamental_31_acc', -0.0026617193479817648),\n",
       " ('derived_3_acc', -0.0026901816609961318),\n",
       " ('technical_5_acc', -0.0026903804793911861),\n",
       " ('fundamental_37_acc', -0.0026951407750093305),\n",
       " ('fundamental_49_acc', -0.0027042165470193978),\n",
       " ('fundamental_13_acc', -0.0027136408972316863),\n",
       " ('technical_27_acc', -0.0027138568016737653),\n",
       " ('fundamental_20_acc', -0.0027138967625173109),\n",
       " ('fundamental_45_acc', -0.0027139098731474394),\n",
       " ('fundamental_47_acc', -0.0027180376414633394),\n",
       " ('technical_12_acc', -0.0027308185150932084),\n",
       " ('technical_25_acc', -0.002731994700461518),\n",
       " ('fundamental_59_acc', -0.0027343433732903285),\n",
       " ('technical_1_acc', -0.0027449495207797943),\n",
       " ('fundamental_0_acc', -0.0027460163888086198),\n",
       " ('fundamental_21_acc', -0.0027461334502636363),\n",
       " ('technical_30_acc', -0.0027498684292477042),\n",
       " ('technical_20_acc', -0.0027510900590210041),\n",
       " ('fundamental_2_acc', -0.0027520356578052295),\n",
       " ('technical_33_acc', -0.0027524353420553898),\n",
       " ('fundamental_43_acc', -0.0027527381267758561),\n",
       " ('technical_36_acc', -0.0027538720781970015),\n",
       " ('technical_13_acc', -0.002756871243860481),\n",
       " ('fundamental_26_acc', -0.0027568752287658181),\n",
       " ('technical_44_acc', -0.0027572476816034542),\n",
       " ('technical_28_acc', -0.0027575712628316994),\n",
       " ('technical_7_acc', -0.0027576447180275195),\n",
       " ('fundamental_62_acc', -0.0027576461827601984),\n",
       " ('derived_4_acc', -0.0027602778411109901),\n",
       " ('derived_0_acc', -0.0027605193760755499),\n",
       " ('technical_40_acc', -0.0027607462935762216),\n",
       " ('technical_31_acc', -0.0027627534875599154),\n",
       " ('technical_35_acc', -0.0027634271072082251),\n",
       " ('fundamental_33_acc', -0.0027637645799219257),\n",
       " ('fundamental_7_acc', -0.0027683017204997132),\n",
       " ('technical_18_acc', -0.0027683364894546731),\n",
       " ('fundamental_36_acc', -0.0027684765674760581),\n",
       " ('fundamental_24_acc', -0.0027691387752218854),\n",
       " ('technical_22_acc', -0.0027860707736141405),\n",
       " ('technical_24_acc', -0.002790596784215912),\n",
       " ('fundamental_18_acc', -0.002794246216643204),\n",
       " ('fundamental_57_acc', -0.0028055335932363626),\n",
       " ('fundamental_54_acc', -0.002809187475498427),\n",
       " ('technical_34_acc', -0.002814139053462005),\n",
       " ('fundamental_50_acc', -0.0028157477418233501),\n",
       " ('fundamental_23_acc', -0.0028159357107018575),\n",
       " ('technical_21_acc', -0.0028371987999999035),\n",
       " ('fundamental_3_acc', -0.0028417577385539757),\n",
       " ('fundamental_16_acc', -0.0028568892738458931),\n",
       " ('technical_39_acc', -0.0028654199747893722),\n",
       " ('fundamental_52_acc', -0.0028688317554365853),\n",
       " ('fundamental_56_acc', -0.0028708917341157309),\n",
       " ('technical_42_acc', -0.0028763785688007992),\n",
       " ('fundamental_9_acc', -0.0028774115391514495),\n",
       " ('fundamental_60_acc', -0.0028803356259109866),\n",
       " ('fundamental_58_acc', -0.0028851951024379549),\n",
       " ('technical_16_acc', -0.0028873629866291595),\n",
       " ('fundamental_12_acc', -0.0028874427109760953),\n",
       " ('fundamental_32_acc', -0.002896590084588869),\n",
       " ('fundamental_42_acc', -0.0029147071225571223),\n",
       " ('technical_9_acc', -0.00293538661183916),\n",
       " ('fundamental_41_acc', -0.0029420344859154438),\n",
       " ('fundamental_38_acc', -0.0029429240582954583),\n",
       " ('fundamental_53_acc', -0.0029454228225645981),\n",
       " ('derived_2_acc', -0.0029604293110454725),\n",
       " ('fundamental_35_acc', -0.0029895829657032636),\n",
       " ('fundamental_34_acc', -0.0030009772332127422),\n",
       " ('fundamental_51_acc', -0.0030661967325680494),\n",
       " ('fundamental_22_acc', -0.0032981516121672388),\n",
       " ('fundamental_15_acc', -0.0034597985559752975),\n",
       " ('fundamental_14_acc', -0.0036389740756624482),\n",
       " ('fundamental_44_acc', -0.0037755252515334799)]"
      ]
     },
     "execution_count": 13,
     "metadata": {},
     "output_type": "execute_result"
    }
   ],
   "source": [
    "acc_score"
   ]
  },
  {
   "cell_type": "code",
   "execution_count": null,
   "metadata": {
    "collapsed": true
   },
   "outputs": [],
   "source": []
  }
 ],
 "metadata": {
  "kernelspec": {
   "display_name": "Python 3",
   "language": "python",
   "name": "python3"
  },
  "language_info": {
   "codemirror_mode": {
    "name": "ipython",
    "version": 3
   },
   "file_extension": ".py",
   "mimetype": "text/x-python",
   "name": "python",
   "nbconvert_exporter": "python",
   "pygments_lexer": "ipython3",
   "version": "3.4.3"
  }
 },
 "nbformat": 4,
 "nbformat_minor": 0
}
