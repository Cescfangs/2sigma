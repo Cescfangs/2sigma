{
 "cells": [
  {
   "cell_type": "code",
   "execution_count": 13,
   "metadata": {
    "collapsed": true
   },
   "outputs": [],
   "source": [
    "import matplotlib.pyplot as plt\n",
    "import seaborn as sb\n",
    "import pandas as pd\n",
    "import numpy as np\n",
    "from sklearn.ensemble import ExtraTreesRegressor\n",
    "from sklearn.linear_model import Ridge\n",
    "from sklearn.metrics import r2_score\n",
    "from twosigmafunc import R_score, split_data"
   ]
  },
  {
   "cell_type": "code",
   "execution_count": 3,
   "metadata": {
    "collapsed": false
   },
   "outputs": [],
   "source": [
    "plt.rcParams['figure.figsize'] = (14.0, 8.0) # set default size of plots"
   ]
  },
  {
   "cell_type": "code",
   "execution_count": 4,
   "metadata": {
    "collapsed": true
   },
   "outputs": [],
   "source": [
    "%matplotlib inline\n",
    "%load_ext autoreload\n",
    "%autoreload 2"
   ]
  },
  {
   "cell_type": "code",
   "execution_count": 5,
   "metadata": {
    "collapsed": true
   },
   "outputs": [],
   "source": [
    "train = pd.read_hdf('train.h5')"
   ]
  },
  {
   "cell_type": "code",
   "execution_count": 6,
   "metadata": {
    "collapsed": true
   },
   "outputs": [],
   "source": [
    "null_labels = [\n",
    "    'technical_21',\n",
    "    'technical_19',\n",
    "    'technical_27',\n",
    "    'technical_36',\n",
    "    'technical_35',\n",
    "    'technical_17',\n",
    "    'technical_43',\n",
    "    'technical_13',\n",
    "    'fundamental_33',\n",
    "    'technical_14',\n",
    "    'technical_33',\n",
    "    'fundamental_18',\n",
    "    'fundamental_48',\n",
    "    'fundamental_59',\n",
    "    'technical_9',\n",
    "    'technical_16',\n",
    "    'technical_42',\n",
    "    'technical_18',\n",
    "    'fundamental_42',\n",
    "    'fundamental_0',\n",
    "    'fundamental_7',\n",
    "    'fundamental_41',\n",
    "    'technical_41',\n",
    "    'fundamental_21',\n",
    "    'fundamental_19',\n",
    "    'technical_29',\n",
    "    'technical_24',\n",
    "    'derived_0',\n",
    "    'derived_1',\n",
    "    'fundamental_17',\n",
    "    'technical_3',\n",
    "    'fundamental_20',\n",
    "    'fundamental_32',\n",
    "    'fundamental_62',\n",
    "    'fundamental_25',\n",
    "    'technical_1',\n",
    "    'fundamental_58',\n",
    "    'derived_3',\n",
    "    'technical_5',\n",
    "    'fundamental_52',\n",
    "    'technical_10',\n",
    "    'technical_31',\n",
    "    'technical_25',\n",
    "    'technical_44',\n",
    "    'technical_28',\n",
    "    'fundamental_40',\n",
    "    'fundamental_27',\n",
    "    'fundamental_29',\n",
    "    'fundamental_43',\n",
    "    'fundamental_15',\n",
    "    'fundamental_30',\n",
    "    'fundamental_60',\n",
    "    'fundamental_16',\n",
    "    'fundamental_50',\n",
    "    'fundamental_44',\n",
    "    'fundamental_37',\n",
    "    'fundamental_14',\n",
    "    'fundamental_23',\n",
    "    'fundamental_55',\n",
    "    'fundamental_8',\n",
    "    'fundamental_63',\n",
    "    'fundamental_39',\n",
    "    'fundamental_54',\n",
    "    'derived_2',\n",
    "    'derived_4',\n",
    "    'fundamental_35',\n",
    "    'fundamental_34',\n",
    "    'fundamental_47',\n",
    "    'fundamental_51',\n",
    "    'fundamental_31',\n",
    "    'fundamental_49',\n",
    "    'fundamental_22',\n",
    "    'fundamental_9',\n",
    "    'fundamental_24',\n",
    "    'fundamental_57',\n",
    "    'fundamental_28',\n",
    "    'fundamental_61',\n",
    "    'fundamental_1',\n",
    "    'fundamental_6',\n",
    "    'fundamental_38',\n",
    "    'fundamental_5']\n",
    "\n",
    "etr_features = ['y_past',\n",
    "                'tec20-30',\n",
    "                'technical_30',\n",
    "                'tec123',\n",
    "                'technical_43',\n",
    "                'technical_43_diff',\n",
    "                'tec123_past',\n",
    "                'technical_11_diff',\n",
    "                'technical_2_diff',\n",
    "                'technical_11',\n",
    "                'technical_20',\n",
    "                'technical_2',\n",
    "                'fundamental_25_nan',\n",
    "                'technical_14_diff',\n",
    "                'technical_21_diff',\n",
    "                'technical_9_nan',\n",
    "                'technical_40',\n",
    "                'technical_30_diff',\n",
    "                'technical_6_diff',\n",
    "                'technical_6',\n",
    "                'technical_17_diff',\n",
    "                'technical_17',\n",
    "                'technical_14',\n",
    "                'technical_7',\n",
    "                'technical_19',\n",
    "                'technical_44_nan',\n",
    "                'fundamental_27_nan',\n",
    "                'technical_18_nan',\n",
    "                'technical_28_nan',\n",
    "                'technical_21',\n",
    "                'technical_42_nan',\n",
    "                'technical_29_diff',\n",
    "                'technical_20_diff',\n",
    "                'technical_31_nan',\n",
    "                'fundamental_53',\n",
    "                'technical_24_nan',\n",
    "                'technical_36',\n",
    "                'technical_19_diff',\n",
    "                'technical_27',\n",
    "                'technical_29',\n",
    "                'technical_35',\n",
    "                'technical_22',\n",
    "                'technical_41_nan',\n",
    "                'fundamental_8',\n",
    "                'fundamental_21',\n",
    "                'fundamental_17_nan',\n",
    "                'technical_34',\n",
    "                'technical_16_nan',\n",
    "                'technical_27_diff',\n",
    "                'fundamental_33_nan',\n",
    "                'fundamental_58',\n",
    "                'derived_1_nan',\n",
    "                'technical_10',\n",
    "                'technical_25_nan',\n",
    "                'fundamental_18',\n",
    "                'fundamental_59',\n",
    "                'technical_40_diff',\n",
    "                'null_count',\n",
    "                'fundamental_5_nan',\n",
    "                'fundamental_48',\n",
    "                'fundamental_47_nan',\n",
    "                'technical_36_diff',\n",
    "                'fundamental_41_nan',\n",
    "                'fundamental_42_nan',\n",
    "                'fundamental_0_nan',\n",
    "                'fundamental_50',\n",
    "                'fundamental_40',\n",
    "                'technical_3_nan',\n",
    "                'fundamental_23',\n",
    "                'fundamental_49_nan',\n",
    "                'fundamental_36',\n",
    "                'technical_44',\n",
    "                'fundamental_2',\n",
    "                'fundamental_0',\n",
    "                'technical_41',\n",
    "                'fundamental_62_diff',\n",
    "                'technical_38_diff',\n",
    "                'fundamental_22_nan',\n",
    "                'technical_12',\n",
    "                'fundamental_62',\n",
    "                'technical_37_diff',\n",
    "                'fundamental_44',\n",
    "                'technical_29_nan',\n",
    "                'fundamental_24_nan',\n",
    "                'technical_10_nan',\n",
    "                'fundamental_46',\n",
    "                'technical_1',\n",
    "                'fundamental_54_nan',\n",
    "                'fundamental_0_diff',\n",
    "                'technical_12_diff',\n",
    "                'technical_35_diff',\n",
    "                'derived_3_nan',\n",
    "                'fundamental_63_nan',\n",
    "                'fundamental_31_nan',\n",
    "                'fundamental_40_nan',\n",
    "                'fundamental_35_nan',\n",
    "                'technical_3',\n",
    "                'fundamental_13']"
   ]
  },
  {
   "cell_type": "code",
   "execution_count": 7,
   "metadata": {
    "collapsed": true
   },
   "outputs": [],
   "source": [
    "seed = 17\n",
    "excl = ['id', 'timestamp', 'y']\n",
    "origin_features = [c for c in train.columns if c not in excl]\n",
    "origin_features_exclude_y = [c for c in train.columns if c not in ['y']]\n",
    "diff_features = [feature + '_diff' for feature in origin_features]\n",
    "linear_features = ['technical_20_diff', 'tec20-30']\n",
    "# End of Feature Selection #\n",
    "d_mean = train.median(axis=0)\n",
    "\n",
    "last_stamp = train.loc[train.timestamp == train.timestamp.max(), origin_features_exclude_y]"
   ]
  },
  {
   "cell_type": "code",
   "execution_count": 8,
   "metadata": {
    "collapsed": true
   },
   "outputs": [],
   "source": [
    "# add Nan tags #\n",
    "def add_nan(data):\n",
    "    Nan_counts = data.isnull().sum(axis=1)\n",
    "    for feature in null_labels:\n",
    "        data[feature + '_nan'] = pd.isnull(data[feature])\n",
    "        d_mean[feature + '_nan'] = 0\n",
    "    data['null_count'] = Nan_counts\n",
    "# end of Nan tags #\n",
    "\n",
    "\n",
    "def predict_y_past(x):\n",
    "    w = np.array([-8.36489105, 9.19544792]).T\n",
    "    return x.dot(w) - 0.00020021698404804056\n"
   ]
  },
  {
   "cell_type": "code",
   "execution_count": 9,
   "metadata": {
    "collapsed": true
   },
   "outputs": [],
   "source": [
    "def add_diff(data):\n",
    "    data.sort_values(['id', 'timestamp'], inplace=True)\n",
    "    data['id_diff'] = data.id.diff()\n",
    "    for feature in origin_features:\n",
    "        diff_tag = feature + '_diff'\n",
    "        data[diff_tag] = data[feature].diff()\n",
    "        d_mean[diff_tag] = 0\n",
    "    data.loc[data.id_diff != 0, diff_features] = 0"
   ]
  },
  {
   "cell_type": "code",
   "execution_count": 11,
   "metadata": {
    "collapsed": false
   },
   "outputs": [
    {
     "name": "stdout",
     "output_type": "stream",
     "text": [
      "Processing data...\n"
     ]
    }
   ],
   "source": [
    "ymean_dict = dict(train.groupby([\"id\"])[\"y\"].median())\n",
    "\n",
    "print('Processing data...')\n",
    "\n",
    "train = train\n",
    "add_diff(train)\n",
    "add_nan(train)\n",
    "train = train.fillna(d_mean)\n",
    "train['tec20-30'] = train.technical_20 - train.technical_30\n",
    "train['tec123'] = train['tec20-30'] + train.technical_13\n",
    "train['tec123_past'] = train.tec123.shift()\n",
    "train['y_past'] = train.y.shift()\n",
    "train.loc[train.id_diff != 0, ['tec123_past', 'y_past']] = 0"
   ]
  },
  {
   "cell_type": "code",
   "execution_count": 14,
   "metadata": {
    "collapsed": false
   },
   "outputs": [],
   "source": [
    "low_y_cut = -0.075\n",
    "high_y_cut = 0.075\n",
    "X_train, y_train, X_test, y_test = split_data(train, etr_features)\n",
    "y_above_cut = (y_train > high_y_cut)\n",
    "y_below_cut = (y_train < low_y_cut)\n",
    "y_within_cut = (~y_above_cut & ~y_below_cut)"
   ]
  },
  {
   "cell_type": "code",
   "execution_count": 15,
   "metadata": {
    "collapsed": false
   },
   "outputs": [
    {
     "name": "stdout",
     "output_type": "stream",
     "text": [
      "Training Linear Model...\n",
      " 2 features\n",
      "Training ETR Model...\n",
      " 98 features\n",
      "Predicting...\n"
     ]
    }
   ],
   "source": [
    "# Generate models...\n",
    "ridge_1 = Ridge()\n",
    "ridge_2 = Ridge()\n",
    "etr = ExtraTreesRegressor(n_estimators=128, max_depth=6, min_samples_leaf=30,\n",
    "                          max_features=0.6, n_jobs=-1, random_state=seed, verbose=0)\n",
    "\n",
    "print('Training Linear Model...\\n', len(linear_features), 'features')\n",
    "ridge_2.fit(X_train.loc[y_within_cut, linear_features], y_train.loc[y_within_cut])\n",
    "ridge_1.fit(np.array(X_train.loc[y_within_cut, linear_features[0]]\n",
    "                     ).reshape(-1, 1), y_train.loc[y_within_cut])\n",
    "\n",
    "print('Training ETR Model...\\n', len(etr_features), 'features')\n",
    "etr.fit(X_train.loc[y_within_cut, etr_features], y_train.loc[y_within_cut])\n",
    "# end of Generate models.\n",
    "# full_df = pd.read_hdf('../input/train.h5')\n",
    "\n",
    "\n",
    "# predicting...\n",
    "print('Predicting...')\n"
   ]
  },
  {
   "cell_type": "markdown",
   "metadata": {},
   "source": [
    "train etr without clip"
   ]
  },
  {
   "cell_type": "code",
   "execution_count": 16,
   "metadata": {
    "collapsed": false
   },
   "outputs": [
    {
     "data": {
      "text/plain": [
       "ExtraTreesRegressor(bootstrap=False, criterion='mse', max_depth=6,\n",
       "          max_features=0.6, max_leaf_nodes=None, min_impurity_split=1e-07,\n",
       "          min_samples_leaf=30, min_samples_split=2,\n",
       "          min_weight_fraction_leaf=0.0, n_estimators=128, n_jobs=-1,\n",
       "          oob_score=False, random_state=17, verbose=0, warm_start=False)"
      ]
     },
     "execution_count": 16,
     "metadata": {},
     "output_type": "execute_result"
    }
   ],
   "source": [
    "etr1 = ExtraTreesRegressor(n_estimators=128, max_depth=6, min_samples_leaf=30,\n",
    "                          max_features=0.6, n_jobs=-1, random_state=seed, verbose=0)\n",
    "etr1.fit(X_train[etr_features], y_train)"
   ]
  },
  {
   "cell_type": "code",
   "execution_count": 17,
   "metadata": {
    "collapsed": false
   },
   "outputs": [
    {
     "data": {
      "text/plain": [
       "0.023467045826984025"
      ]
     },
     "execution_count": 17,
     "metadata": {},
     "output_type": "execute_result"
    }
   ],
   "source": [
    "R_score(etr.predict(X_test), y_test)"
   ]
  },
  {
   "cell_type": "code",
   "execution_count": 18,
   "metadata": {
    "collapsed": false
   },
   "outputs": [
    {
     "data": {
      "text/plain": [
       "0.029941824402437735"
      ]
     },
     "execution_count": 18,
     "metadata": {},
     "output_type": "execute_result"
    }
   ],
   "source": [
    "R_score(etr1.predict(X_test), y_test)"
   ]
  },
  {
   "cell_type": "code",
   "execution_count": 29,
   "metadata": {
    "collapsed": false
   },
   "outputs": [
    {
     "ename": "KeyboardInterrupt",
     "evalue": "",
     "output_type": "error",
     "traceback": [
      "\u001b[0;31m---------------------------------------------------------------------------\u001b[0m",
      "\u001b[0;31mKeyboardInterrupt\u001b[0m                         Traceback (most recent call last)",
      "\u001b[0;32m<ipython-input-29-97f776b4d554>\u001b[0m in \u001b[0;36m<module>\u001b[0;34m()\u001b[0m\n\u001b[1;32m     12\u001b[0m     \u001b[0mtest\u001b[0m \u001b[0;34m=\u001b[0m \u001b[0mpd\u001b[0m\u001b[0;34m.\u001b[0m\u001b[0mconcat\u001b[0m\u001b[0;34m(\u001b[0m\u001b[0;34m[\u001b[0m\u001b[0mtest\u001b[0m\u001b[0;34m,\u001b[0m \u001b[0mlast_stamp\u001b[0m\u001b[0;34m]\u001b[0m\u001b[0;34m)\u001b[0m\u001b[0;34m\u001b[0m\u001b[0m\n\u001b[1;32m     13\u001b[0m \u001b[0;34m\u001b[0m\u001b[0m\n\u001b[0;32m---> 14\u001b[0;31m     \u001b[0madd_diff\u001b[0m\u001b[0;34m(\u001b[0m\u001b[0mtest\u001b[0m\u001b[0;34m)\u001b[0m\u001b[0;34m\u001b[0m\u001b[0m\n\u001b[0m\u001b[1;32m     15\u001b[0m     \u001b[0mtest\u001b[0m\u001b[0;34m[\u001b[0m\u001b[0;34m'tec20-30'\u001b[0m\u001b[0;34m]\u001b[0m \u001b[0;34m=\u001b[0m \u001b[0mtest\u001b[0m\u001b[0;34m.\u001b[0m\u001b[0mtechnical_20\u001b[0m \u001b[0;34m-\u001b[0m \u001b[0mtest\u001b[0m\u001b[0;34m.\u001b[0m\u001b[0mtechnical_30\u001b[0m\u001b[0;34m\u001b[0m\u001b[0m\n\u001b[1;32m     16\u001b[0m     \u001b[0mtest\u001b[0m\u001b[0;34m[\u001b[0m\u001b[0;34m'tec123'\u001b[0m\u001b[0;34m]\u001b[0m \u001b[0;34m=\u001b[0m \u001b[0mtest\u001b[0m\u001b[0;34m[\u001b[0m\u001b[0;34m'tec20-30'\u001b[0m\u001b[0;34m]\u001b[0m \u001b[0;34m+\u001b[0m \u001b[0mtest\u001b[0m\u001b[0;34m.\u001b[0m\u001b[0mtechnical_13\u001b[0m\u001b[0;34m\u001b[0m\u001b[0m\n",
      "\u001b[0;32m<ipython-input-10-aa51fe1a6d92>\u001b[0m in \u001b[0;36madd_diff\u001b[0;34m(data)\u001b[0m\n\u001b[1;32m      4\u001b[0m     \u001b[0;32mfor\u001b[0m \u001b[0mfeature\u001b[0m \u001b[0;32min\u001b[0m \u001b[0morigin_features\u001b[0m\u001b[0;34m:\u001b[0m\u001b[0;34m\u001b[0m\u001b[0m\n\u001b[1;32m      5\u001b[0m         \u001b[0mdiff_tag\u001b[0m \u001b[0;34m=\u001b[0m \u001b[0mfeature\u001b[0m \u001b[0;34m+\u001b[0m \u001b[0;34m'_diff'\u001b[0m\u001b[0;34m\u001b[0m\u001b[0m\n\u001b[0;32m----> 6\u001b[0;31m         \u001b[0mdata\u001b[0m\u001b[0;34m[\u001b[0m\u001b[0mdiff_tag\u001b[0m\u001b[0;34m]\u001b[0m \u001b[0;34m=\u001b[0m \u001b[0mdata\u001b[0m\u001b[0;34m[\u001b[0m\u001b[0mfeature\u001b[0m\u001b[0;34m]\u001b[0m\u001b[0;34m.\u001b[0m\u001b[0mdiff\u001b[0m\u001b[0;34m(\u001b[0m\u001b[0;34m)\u001b[0m\u001b[0;34m\u001b[0m\u001b[0m\n\u001b[0m\u001b[1;32m      7\u001b[0m         \u001b[0md_mean\u001b[0m\u001b[0;34m[\u001b[0m\u001b[0mdiff_tag\u001b[0m\u001b[0;34m]\u001b[0m \u001b[0;34m=\u001b[0m \u001b[0;36m0\u001b[0m\u001b[0;34m\u001b[0m\u001b[0m\n\u001b[1;32m      8\u001b[0m     \u001b[0mdata\u001b[0m\u001b[0;34m.\u001b[0m\u001b[0mloc\u001b[0m\u001b[0;34m[\u001b[0m\u001b[0mdata\u001b[0m\u001b[0;34m.\u001b[0m\u001b[0mid_diff\u001b[0m \u001b[0;34m!=\u001b[0m \u001b[0;36m0\u001b[0m\u001b[0;34m,\u001b[0m \u001b[0mdiff_features\u001b[0m\u001b[0;34m]\u001b[0m \u001b[0;34m=\u001b[0m \u001b[0;36m0\u001b[0m\u001b[0;34m\u001b[0m\u001b[0m\n",
      "\u001b[0;32m/usr/local/lib/python3.4/site-packages/pandas/core/frame.py\u001b[0m in \u001b[0;36m__setitem__\u001b[0;34m(self, key, value)\u001b[0m\n\u001b[1;32m   2417\u001b[0m         \u001b[0;32melse\u001b[0m\u001b[0;34m:\u001b[0m\u001b[0;34m\u001b[0m\u001b[0m\n\u001b[1;32m   2418\u001b[0m             \u001b[0;31m# set column\u001b[0m\u001b[0;34m\u001b[0m\u001b[0;34m\u001b[0m\u001b[0m\n\u001b[0;32m-> 2419\u001b[0;31m             \u001b[0mself\u001b[0m\u001b[0;34m.\u001b[0m\u001b[0m_set_item\u001b[0m\u001b[0;34m(\u001b[0m\u001b[0mkey\u001b[0m\u001b[0;34m,\u001b[0m \u001b[0mvalue\u001b[0m\u001b[0;34m)\u001b[0m\u001b[0;34m\u001b[0m\u001b[0m\n\u001b[0m\u001b[1;32m   2420\u001b[0m \u001b[0;34m\u001b[0m\u001b[0m\n\u001b[1;32m   2421\u001b[0m     \u001b[0;32mdef\u001b[0m \u001b[0m_setitem_slice\u001b[0m\u001b[0;34m(\u001b[0m\u001b[0mself\u001b[0m\u001b[0;34m,\u001b[0m \u001b[0mkey\u001b[0m\u001b[0;34m,\u001b[0m \u001b[0mvalue\u001b[0m\u001b[0;34m)\u001b[0m\u001b[0;34m:\u001b[0m\u001b[0;34m\u001b[0m\u001b[0m\n",
      "\u001b[0;32m/usr/local/lib/python3.4/site-packages/pandas/core/frame.py\u001b[0m in \u001b[0;36m_set_item\u001b[0;34m(self, key, value)\u001b[0m\n\u001b[1;32m   2484\u001b[0m         \u001b[0mself\u001b[0m\u001b[0;34m.\u001b[0m\u001b[0m_ensure_valid_index\u001b[0m\u001b[0;34m(\u001b[0m\u001b[0mvalue\u001b[0m\u001b[0;34m)\u001b[0m\u001b[0;34m\u001b[0m\u001b[0m\n\u001b[1;32m   2485\u001b[0m         \u001b[0mvalue\u001b[0m \u001b[0;34m=\u001b[0m \u001b[0mself\u001b[0m\u001b[0;34m.\u001b[0m\u001b[0m_sanitize_column\u001b[0m\u001b[0;34m(\u001b[0m\u001b[0mkey\u001b[0m\u001b[0;34m,\u001b[0m \u001b[0mvalue\u001b[0m\u001b[0;34m)\u001b[0m\u001b[0;34m\u001b[0m\u001b[0m\n\u001b[0;32m-> 2486\u001b[0;31m         \u001b[0mNDFrame\u001b[0m\u001b[0;34m.\u001b[0m\u001b[0m_set_item\u001b[0m\u001b[0;34m(\u001b[0m\u001b[0mself\u001b[0m\u001b[0;34m,\u001b[0m \u001b[0mkey\u001b[0m\u001b[0;34m,\u001b[0m \u001b[0mvalue\u001b[0m\u001b[0;34m)\u001b[0m\u001b[0;34m\u001b[0m\u001b[0m\n\u001b[0m\u001b[1;32m   2487\u001b[0m \u001b[0;34m\u001b[0m\u001b[0m\n\u001b[1;32m   2488\u001b[0m         \u001b[0;31m# check if we are modifying a copy\u001b[0m\u001b[0;34m\u001b[0m\u001b[0;34m\u001b[0m\u001b[0m\n",
      "\u001b[0;32m/usr/local/lib/python3.4/site-packages/pandas/core/generic.py\u001b[0m in \u001b[0;36m_set_item\u001b[0;34m(self, key, value)\u001b[0m\n\u001b[1;32m   1498\u001b[0m \u001b[0;34m\u001b[0m\u001b[0m\n\u001b[1;32m   1499\u001b[0m     \u001b[0;32mdef\u001b[0m \u001b[0m_set_item\u001b[0m\u001b[0;34m(\u001b[0m\u001b[0mself\u001b[0m\u001b[0;34m,\u001b[0m \u001b[0mkey\u001b[0m\u001b[0;34m,\u001b[0m \u001b[0mvalue\u001b[0m\u001b[0;34m)\u001b[0m\u001b[0;34m:\u001b[0m\u001b[0;34m\u001b[0m\u001b[0m\n\u001b[0;32m-> 1500\u001b[0;31m         \u001b[0mself\u001b[0m\u001b[0;34m.\u001b[0m\u001b[0m_data\u001b[0m\u001b[0;34m.\u001b[0m\u001b[0mset\u001b[0m\u001b[0;34m(\u001b[0m\u001b[0mkey\u001b[0m\u001b[0;34m,\u001b[0m \u001b[0mvalue\u001b[0m\u001b[0;34m)\u001b[0m\u001b[0;34m\u001b[0m\u001b[0m\n\u001b[0m\u001b[1;32m   1501\u001b[0m         \u001b[0mself\u001b[0m\u001b[0;34m.\u001b[0m\u001b[0m_clear_item_cache\u001b[0m\u001b[0;34m(\u001b[0m\u001b[0;34m)\u001b[0m\u001b[0;34m\u001b[0m\u001b[0m\n\u001b[1;32m   1502\u001b[0m \u001b[0;34m\u001b[0m\u001b[0m\n",
      "\u001b[0;32m/usr/local/lib/python3.4/site-packages/pandas/core/internals.py\u001b[0m in \u001b[0;36mset\u001b[0;34m(self, item, value, check)\u001b[0m\n\u001b[1;32m   3661\u001b[0m                     \u001b[0;32mreturn\u001b[0m \u001b[0mvalue\u001b[0m\u001b[0;34m[\u001b[0m\u001b[0mplacement\u001b[0m\u001b[0;34m.\u001b[0m\u001b[0mindexer\u001b[0m\u001b[0;34m]\u001b[0m\u001b[0;34m\u001b[0m\u001b[0m\n\u001b[1;32m   3662\u001b[0m \u001b[0;34m\u001b[0m\u001b[0m\n\u001b[0;32m-> 3663\u001b[0;31m             \u001b[0;32mif\u001b[0m \u001b[0mvalue\u001b[0m\u001b[0;34m.\u001b[0m\u001b[0mshape\u001b[0m\u001b[0;34m[\u001b[0m\u001b[0;36m1\u001b[0m\u001b[0;34m:\u001b[0m\u001b[0;34m]\u001b[0m \u001b[0;34m!=\u001b[0m \u001b[0mself\u001b[0m\u001b[0;34m.\u001b[0m\u001b[0mshape\u001b[0m\u001b[0;34m[\u001b[0m\u001b[0;36m1\u001b[0m\u001b[0;34m:\u001b[0m\u001b[0;34m]\u001b[0m\u001b[0;34m:\u001b[0m\u001b[0;34m\u001b[0m\u001b[0m\n\u001b[0m\u001b[1;32m   3664\u001b[0m                 raise AssertionError('Shape of new values must be compatible '\n\u001b[1;32m   3665\u001b[0m                                      'with manager shape')\n",
      "\u001b[0;32m/usr/local/lib/python3.4/site-packages/pandas/core/internals.py\u001b[0m in \u001b[0;36mshape\u001b[0;34m(self)\u001b[0m\n\u001b[1;32m   2786\u001b[0m     \u001b[0;34m@\u001b[0m\u001b[0mproperty\u001b[0m\u001b[0;34m\u001b[0m\u001b[0m\n\u001b[1;32m   2787\u001b[0m     \u001b[0;32mdef\u001b[0m \u001b[0mshape\u001b[0m\u001b[0;34m(\u001b[0m\u001b[0mself\u001b[0m\u001b[0;34m)\u001b[0m\u001b[0;34m:\u001b[0m\u001b[0;34m\u001b[0m\u001b[0m\n\u001b[0;32m-> 2788\u001b[0;31m         \u001b[0;32mreturn\u001b[0m \u001b[0mtuple\u001b[0m\u001b[0;34m(\u001b[0m\u001b[0mlen\u001b[0m\u001b[0;34m(\u001b[0m\u001b[0max\u001b[0m\u001b[0;34m)\u001b[0m \u001b[0;32mfor\u001b[0m \u001b[0max\u001b[0m \u001b[0;32min\u001b[0m \u001b[0mself\u001b[0m\u001b[0;34m.\u001b[0m\u001b[0maxes\u001b[0m\u001b[0;34m)\u001b[0m\u001b[0;34m\u001b[0m\u001b[0m\n\u001b[0m\u001b[1;32m   2789\u001b[0m \u001b[0;34m\u001b[0m\u001b[0m\n\u001b[1;32m   2790\u001b[0m     \u001b[0;34m@\u001b[0m\u001b[0mproperty\u001b[0m\u001b[0;34m\u001b[0m\u001b[0m\n",
      "\u001b[0;32m/usr/local/lib/python3.4/site-packages/pandas/core/internals.py\u001b[0m in \u001b[0;36m<genexpr>\u001b[0;34m(.0)\u001b[0m\n\u001b[1;32m   2786\u001b[0m     \u001b[0;34m@\u001b[0m\u001b[0mproperty\u001b[0m\u001b[0;34m\u001b[0m\u001b[0m\n\u001b[1;32m   2787\u001b[0m     \u001b[0;32mdef\u001b[0m \u001b[0mshape\u001b[0m\u001b[0;34m(\u001b[0m\u001b[0mself\u001b[0m\u001b[0;34m)\u001b[0m\u001b[0;34m:\u001b[0m\u001b[0;34m\u001b[0m\u001b[0m\n\u001b[0;32m-> 2788\u001b[0;31m         \u001b[0;32mreturn\u001b[0m \u001b[0mtuple\u001b[0m\u001b[0;34m(\u001b[0m\u001b[0mlen\u001b[0m\u001b[0;34m(\u001b[0m\u001b[0max\u001b[0m\u001b[0;34m)\u001b[0m \u001b[0;32mfor\u001b[0m \u001b[0max\u001b[0m \u001b[0;32min\u001b[0m \u001b[0mself\u001b[0m\u001b[0;34m.\u001b[0m\u001b[0maxes\u001b[0m\u001b[0;34m)\u001b[0m\u001b[0;34m\u001b[0m\u001b[0m\n\u001b[0m\u001b[1;32m   2789\u001b[0m \u001b[0;34m\u001b[0m\u001b[0m\n\u001b[1;32m   2790\u001b[0m     \u001b[0;34m@\u001b[0m\u001b[0mproperty\u001b[0m\u001b[0;34m\u001b[0m\u001b[0m\n",
      "\u001b[0;31mKeyboardInterrupt\u001b[0m: "
     ]
    }
   ],
   "source": [
    "timestamp = 906\n",
    "r_true = []\n",
    "y_lr_1_p = 0\n",
    "y_lr_2_p = 0\n",
    "a = 0.5\n",
    "b = 0.5\n",
    "y_pred_acc = []\n",
    "y_act_acc = []\n",
    "reward = []\n",
    "while timestamp <= 1812:\n",
    "    test = test_data.loc[test_data.timestamp == timestamp]\n",
    "    test = pd.concat([test, last_stamp])\n",
    "\n",
    "    add_diff(test)\n",
    "    test['tec20-30'] = test.technical_20 - test.technical_30\n",
    "    test['tec123'] = test['tec20-30'] + test.technical_13\n",
    "    test['tec123_past'] = test.tec123.shift()\n",
    "    test.loc[test.id_diff != 0, 'tec123_past'] = 0\n",
    "    test = test.loc[test.timestamp == timestamp]\n",
    "    test.sort_index(inplace=True)\n",
    "    add_nan(test)\n",
    "    test.fillna(d_mean, inplace=True)\n",
    "\n",
    "    test['y_past'] = predict_y_past(test[['tec123_past', 'tec123']])\n",
    "    test.fillna(0, inplace=True)\n",
    "    last_stamp = test.loc[test.timestamp == timestamp, origin_features_exclude_y]\n",
    "\n",
    "    y_etr = etr.predict(test[etr_features])\n",
    "    y_act = test_data.loc[test_data.timestamp == timestamp, 'y']\n",
    "    y_lr_2 = ridge_2.predict(test[linear_features]).clip(low_y_cut, high_y_cut)\n",
    "    y_lr_1 = ridge_1.predict(np.array(test[linear_features[0]]\n",
    "                                      ).reshape(-1, 1)).clip(low_y_cut, high_y_cut)\n",
    "    y = y_lr_1 * 0.05 + y_lr_2 * 0.2 + y_etr * 0.75\n",
    "    r_1 = R_score(y_lr_1, y_act)\n",
    "    r_2 = R_score(y_lr_2, y_act)\n",
    "    r_etr = R_score(y_etr, y_act)\n",
    "    R = R_score(y, y_act)\n",
    "    y_pred_acc.extend(list(y))\n",
    "    y_act_acc.extend(list(y_act))\n",
    "    score = R_score(np.array(y_pred_acc), np.array(y_act_acc))\n",
    "    reward.append(score)\n",
    "    timestamp += 1\n",
    "    if timestamp % 50 == 0:\n",
    "        print('timestamp:', timestamp, '-->','current r2', R, 'overall r2', score)"
   ]
  },
  {
   "cell_type": "code",
   "execution_count": 27,
   "metadata": {
    "collapsed": false
   },
   "outputs": [
    {
     "data": {
      "text/plain": [
       "0.019685532997689853"
      ]
     },
     "execution_count": 27,
     "metadata": {},
     "output_type": "execute_result"
    }
   ],
   "source": [
    "y_pred = ridge_2.predict(train[linear_features]).clip(low_y_cut, high_y_cut)\n",
    "R_score(y_pred, train.y)"
   ]
  },
  {
   "cell_type": "code",
   "execution_count": null,
   "metadata": {
    "collapsed": true
   },
   "outputs": [],
   "source": []
  },
  {
   "cell_type": "code",
   "execution_count": 20,
   "metadata": {
    "collapsed": false
   },
   "outputs": [
    {
     "name": "stdout",
     "output_type": "stream",
     "text": [
      "final r2_score: 0.000635149355216\n"
     ]
    },
    {
     "data": {
      "image/png": "[encoded data removed]",
      "text/plain": [
       "<matplotlib.figure.Figure at 0x124db3b70>"
      ]
     },
     "metadata": {},
     "output_type": "display_data"
    }
   ],
   "source": [
    "print('final r2_score:', reward[-1])\n",
    "plt.figure(figsize=(15, 8))\n",
    "plt.plot(range(906, test_data.timestamp.max() + 1), reward[-907:])\n",
    "plt.plot([905, 1801], [0, 0], 'k--')\n",
    "plt.show()"
   ]
  },
  {
   "cell_type": "code",
   "execution_count": null,
   "metadata": {
    "collapsed": true
   },
   "outputs": [],
   "source": []
  }
 ],
 "metadata": {
  "kernelspec": {
   "display_name": "Python 3",
   "language": "python",
   "name": "python3"
  },
  "language_info": {
   "codemirror_mode": {
    "name": "ipython",
    "version": 3
   },
   "file_extension": ".py",
   "mimetype": "text/x-python",
   "name": "python",
   "nbconvert_exporter": "python",
   "pygments_lexer": "ipython3",
   "version": "3.4.3"
  }
 },
 "nbformat": 4,
 "nbformat_minor": 0
}
