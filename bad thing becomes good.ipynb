{
 "cells": [
  {
   "cell_type": "code",
   "execution_count": 1,
   "metadata": {
    "collapsed": true
   },
   "outputs": [],
   "source": [
    "import pandas as pd\n",
    "import numpy as np\n",
    "import twosigmafunc\n",
    "\n",
    "import matplotlib.pyplot as plt\n",
    "import seaborn\n",
    "plt.rcParams['figure.figsize'] = (14.0, 8.0) # set default size of plots\n",
    "plt.rcParams['image.interpolation'] = 'nearest'"
   ]
  },
  {
   "cell_type": "code",
   "execution_count": 2,
   "metadata": {
    "collapsed": true
   },
   "outputs": [],
   "source": [
    "%matplotlib inline\n",
    "%load_ext autoreload\n",
    "%autoreload 2"
   ]
  },
  {
   "cell_type": "markdown",
   "metadata": {},
   "source": [
    "# Load data "
   ]
  },
  {
   "cell_type": "code",
   "execution_count": 3,
   "metadata": {
    "collapsed": false
   },
   "outputs": [],
   "source": [
    "train, origin_features = twosigmafunc.preprocess()"
   ]
  },
  {
   "cell_type": "code",
   "execution_count": 4,
   "metadata": {
    "collapsed": false
   },
   "outputs": [],
   "source": [
    "train = train.fillna(train.median())"
   ]
  },
  {
   "cell_type": "code",
   "execution_count": 5,
   "metadata": {
    "collapsed": false
   },
   "outputs": [
    {
     "name": "stdout",
     "output_type": "stream",
     "text": [
      "sucessfully add 108 diff features\n"
     ]
    }
   ],
   "source": [
    "twosigmafunc.add_diffs(train, origin_features)"
   ]
  },
  {
   "cell_type": "code",
   "execution_count": 6,
   "metadata": {
    "collapsed": true
   },
   "outputs": [],
   "source": [
    "train['tec20-30'] = train.technical_20 - train.technical_30"
   ]
  },
  {
   "cell_type": "markdown",
   "metadata": {},
   "source": [
    "# Split into 2 folds "
   ]
  },
  {
   "cell_type": "code",
   "execution_count": 7,
   "metadata": {
    "collapsed": false
   },
   "outputs": [],
   "source": [
    "features = twosigmafunc.origin_features(train, excl=['id', 'timestamp', 'y', 'id_diff'])\n",
    "X_1, y_1, X_2, y_2 = twosigmafunc.split_data(train, features)"
   ]
  },
  {
   "cell_type": "code",
   "execution_count": 8,
   "metadata": {
    "collapsed": false
   },
   "outputs": [
    {
     "data": {
      "text/html": [
       "<div>\n",
       "<table border=\"1\" class=\"dataframe\">\n",
       "  <thead>\n",
       "    <tr style=\"text-align: right;\">\n",
       "      <th></th>\n",
       "      <th>derived_0</th>\n",
       "      <th>derived_1</th>\n",
       "      <th>derived_2</th>\n",
       "      <th>derived_3</th>\n",
       "      <th>derived_4</th>\n",
       "      <th>fundamental_0</th>\n",
       "      <th>fundamental_1</th>\n",
       "      <th>fundamental_2</th>\n",
       "      <th>fundamental_3</th>\n",
       "      <th>fundamental_5</th>\n",
       "      <th>...</th>\n",
       "      <th>technical_36_diff</th>\n",
       "      <th>technical_37_diff</th>\n",
       "      <th>technical_38_diff</th>\n",
       "      <th>technical_39_diff</th>\n",
       "      <th>technical_40_diff</th>\n",
       "      <th>technical_41_diff</th>\n",
       "      <th>technical_42_diff</th>\n",
       "      <th>technical_43_diff</th>\n",
       "      <th>technical_44_diff</th>\n",
       "      <th>tec20-30</th>\n",
       "    </tr>\n",
       "  </thead>\n",
       "  <tbody>\n",
       "    <tr>\n",
       "      <th>131062</th>\n",
       "      <td>-0.000837</td>\n",
       "      <td>0.005523</td>\n",
       "      <td>0.021095</td>\n",
       "      <td>0.002476</td>\n",
       "      <td>0.011752</td>\n",
       "      <td>-0.040645</td>\n",
       "      <td>-0.007395</td>\n",
       "      <td>-0.030291</td>\n",
       "      <td>-0.040183</td>\n",
       "      <td>0.033375</td>\n",
       "      <td>...</td>\n",
       "      <td>0.00000</td>\n",
       "      <td>0.000000e+00</td>\n",
       "      <td>0.000000e+00</td>\n",
       "      <td>0.000000e+00</td>\n",
       "      <td>0.00000</td>\n",
       "      <td>0.0</td>\n",
       "      <td>0.0</td>\n",
       "      <td>0.000000</td>\n",
       "      <td>0.0</td>\n",
       "      <td>0.0</td>\n",
       "    </tr>\n",
       "    <tr>\n",
       "      <th>131895</th>\n",
       "      <td>-0.000837</td>\n",
       "      <td>0.005523</td>\n",
       "      <td>0.021095</td>\n",
       "      <td>0.002476</td>\n",
       "      <td>0.011752</td>\n",
       "      <td>-0.040645</td>\n",
       "      <td>-0.007395</td>\n",
       "      <td>-0.030291</td>\n",
       "      <td>-0.040183</td>\n",
       "      <td>0.033375</td>\n",
       "      <td>...</td>\n",
       "      <td>0.00000</td>\n",
       "      <td>0.000000e+00</td>\n",
       "      <td>0.000000e+00</td>\n",
       "      <td>0.000000e+00</td>\n",
       "      <td>0.00000</td>\n",
       "      <td>0.0</td>\n",
       "      <td>0.0</td>\n",
       "      <td>0.000000</td>\n",
       "      <td>0.0</td>\n",
       "      <td>0.0</td>\n",
       "    </tr>\n",
       "    <tr>\n",
       "      <th>132728</th>\n",
       "      <td>-0.000837</td>\n",
       "      <td>0.005523</td>\n",
       "      <td>0.021095</td>\n",
       "      <td>0.002476</td>\n",
       "      <td>0.011752</td>\n",
       "      <td>-0.040645</td>\n",
       "      <td>-0.007395</td>\n",
       "      <td>-0.030291</td>\n",
       "      <td>-0.040183</td>\n",
       "      <td>0.033375</td>\n",
       "      <td>...</td>\n",
       "      <td>0.00000</td>\n",
       "      <td>0.000000e+00</td>\n",
       "      <td>0.000000e+00</td>\n",
       "      <td>0.000000e+00</td>\n",
       "      <td>0.00000</td>\n",
       "      <td>0.0</td>\n",
       "      <td>0.0</td>\n",
       "      <td>0.000000</td>\n",
       "      <td>0.0</td>\n",
       "      <td>0.0</td>\n",
       "    </tr>\n",
       "    <tr>\n",
       "      <th>133561</th>\n",
       "      <td>-0.230583</td>\n",
       "      <td>0.488096</td>\n",
       "      <td>0.935920</td>\n",
       "      <td>0.028222</td>\n",
       "      <td>-0.083071</td>\n",
       "      <td>-0.240929</td>\n",
       "      <td>-0.007395</td>\n",
       "      <td>0.212425</td>\n",
       "      <td>-0.178111</td>\n",
       "      <td>-0.126889</td>\n",
       "      <td>...</td>\n",
       "      <td>0.81268</td>\n",
       "      <td>3.951567e-12</td>\n",
       "      <td>1.418487e-13</td>\n",
       "      <td>1.591224e-16</td>\n",
       "      <td>-0.14571</td>\n",
       "      <td>0.0</td>\n",
       "      <td>0.0</td>\n",
       "      <td>0.659754</td>\n",
       "      <td>0.0</td>\n",
       "      <td>0.0</td>\n",
       "    </tr>\n",
       "    <tr>\n",
       "      <th>134393</th>\n",
       "      <td>-0.230583</td>\n",
       "      <td>0.488096</td>\n",
       "      <td>0.935920</td>\n",
       "      <td>0.028222</td>\n",
       "      <td>-0.083071</td>\n",
       "      <td>-0.240929</td>\n",
       "      <td>-0.007395</td>\n",
       "      <td>0.212425</td>\n",
       "      <td>-0.178111</td>\n",
       "      <td>-0.126889</td>\n",
       "      <td>...</td>\n",
       "      <td>0.00000</td>\n",
       "      <td>0.000000e+00</td>\n",
       "      <td>0.000000e+00</td>\n",
       "      <td>0.000000e+00</td>\n",
       "      <td>0.00000</td>\n",
       "      <td>0.0</td>\n",
       "      <td>0.0</td>\n",
       "      <td>0.000000</td>\n",
       "      <td>0.0</td>\n",
       "      <td>0.0</td>\n",
       "    </tr>\n",
       "  </tbody>\n",
       "</table>\n",
       "<p>5 rows × 217 columns</p>\n",
       "</div>"
      ],
      "text/plain": [
       "        derived_0  derived_1  derived_2  derived_3  derived_4  fundamental_0  \\\n",
       "131062  -0.000837   0.005523   0.021095   0.002476   0.011752      -0.040645   \n",
       "131895  -0.000837   0.005523   0.021095   0.002476   0.011752      -0.040645   \n",
       "132728  -0.000837   0.005523   0.021095   0.002476   0.011752      -0.040645   \n",
       "133561  -0.230583   0.488096   0.935920   0.028222  -0.083071      -0.240929   \n",
       "134393  -0.230583   0.488096   0.935920   0.028222  -0.083071      -0.240929   \n",
       "\n",
       "        fundamental_1  fundamental_2  fundamental_3  fundamental_5    ...     \\\n",
       "131062      -0.007395      -0.030291      -0.040183       0.033375    ...      \n",
       "131895      -0.007395      -0.030291      -0.040183       0.033375    ...      \n",
       "132728      -0.007395      -0.030291      -0.040183       0.033375    ...      \n",
       "133561      -0.007395       0.212425      -0.178111      -0.126889    ...      \n",
       "134393      -0.007395       0.212425      -0.178111      -0.126889    ...      \n",
       "\n",
       "        technical_36_diff  technical_37_diff  technical_38_diff  \\\n",
       "131062            0.00000       0.000000e+00       0.000000e+00   \n",
       "131895            0.00000       0.000000e+00       0.000000e+00   \n",
       "132728            0.00000       0.000000e+00       0.000000e+00   \n",
       "133561            0.81268       3.951567e-12       1.418487e-13   \n",
       "134393            0.00000       0.000000e+00       0.000000e+00   \n",
       "\n",
       "        technical_39_diff  technical_40_diff  technical_41_diff  \\\n",
       "131062       0.000000e+00            0.00000                0.0   \n",
       "131895       0.000000e+00            0.00000                0.0   \n",
       "132728       0.000000e+00            0.00000                0.0   \n",
       "133561       1.591224e-16           -0.14571                0.0   \n",
       "134393       0.000000e+00            0.00000                0.0   \n",
       "\n",
       "        technical_42_diff  technical_43_diff  technical_44_diff  tec20-30  \n",
       "131062                0.0           0.000000                0.0       0.0  \n",
       "131895                0.0           0.000000                0.0       0.0  \n",
       "132728                0.0           0.000000                0.0       0.0  \n",
       "133561                0.0           0.659754                0.0       0.0  \n",
       "134393                0.0           0.000000                0.0       0.0  \n",
       "\n",
       "[5 rows x 217 columns]"
      ]
     },
     "execution_count": 8,
     "metadata": {},
     "output_type": "execute_result"
    }
   ],
   "source": [
    "X_1.head()"
   ]
  },
  {
   "cell_type": "markdown",
   "metadata": {},
   "source": [
    "# train Linear models on two folds"
   ]
  },
  {
   "cell_type": "code",
   "execution_count": 9,
   "metadata": {
    "collapsed": true
   },
   "outputs": [],
   "source": [
    "from sklearn.linear_model import Ridge, LinearRegression"
   ]
  },
  {
   "cell_type": "code",
   "execution_count": 10,
   "metadata": {
    "collapsed": true
   },
   "outputs": [],
   "source": [
    "low_y_cut = -0.08\n",
    "high_y_cut = 0.08"
   ]
  },
  {
   "cell_type": "code",
   "execution_count": 11,
   "metadata": {
    "collapsed": true
   },
   "outputs": [],
   "source": [
    "y1_in = (y_1 > low_y_cut) & (y_1 < high_y_cut)\n",
    "y2_in = (y_2 > low_y_cut) & (y_2 < high_y_cut)"
   ]
  },
  {
   "cell_type": "code",
   "execution_count": 12,
   "metadata": {
    "collapsed": true
   },
   "outputs": [],
   "source": [
    "lr_1 = LinearRegression(n_jobs=-1, normalize=True)\n",
    "lr_2 = LinearRegression(n_jobs=-1, normalize=True)"
   ]
  },
  {
   "cell_type": "code",
   "execution_count": 13,
   "metadata": {
    "collapsed": false
   },
   "outputs": [],
   "source": [
    "lr_1.fit(X_1.loc[y1_in, 'technical_20_diff'].values.reshape(-1, 1), y_1[y1_in])\n",
    "y_pred_2 = lr_1.predict(X_2['technical_20_diff'].values.reshape(-1, 1)).clip(low_y_cut, high_y_cut)"
   ]
  },
  {
   "cell_type": "code",
   "execution_count": 14,
   "metadata": {
    "collapsed": false
   },
   "outputs": [
    {
     "data": {
      "text/plain": [
       "0.026099078154087435"
      ]
     },
     "execution_count": 14,
     "metadata": {},
     "output_type": "execute_result"
    }
   ],
   "source": [
    "twosigmafunc.R_score(y_pred_2, y_2)"
   ]
  },
  {
   "cell_type": "code",
   "execution_count": 15,
   "metadata": {
    "collapsed": false
   },
   "outputs": [
    {
     "data": {
      "text/plain": [
       "-0.015022089905190586"
      ]
     },
     "execution_count": 15,
     "metadata": {},
     "output_type": "execute_result"
    }
   ],
   "source": [
    "lr_1.fit(X_2.loc[y2_in, 'technical_20_diff'].values.reshape(-1, 1), y_2[y2_in])\n",
    "y_pred_1 = lr_1.predict(X_1['technical_20_diff'].values.reshape(-1, 1)).clip(low_y_cut, high_y_cut)\n",
    "twosigmafunc.R_score(y_pred_1, y_1)"
   ]
  },
  {
   "cell_type": "markdown",
   "metadata": {},
   "source": [
    "model trained on fold 2 performs badly on fold 1"
   ]
  },
  {
   "cell_type": "markdown",
   "metadata": {},
   "source": [
    "### two dimensional linear model "
   ]
  },
  {
   "cell_type": "code",
   "execution_count": 16,
   "metadata": {
    "collapsed": false
   },
   "outputs": [
    {
     "data": {
      "text/plain": [
       "0.02978515625"
      ]
     },
     "execution_count": 16,
     "metadata": {},
     "output_type": "execute_result"
    }
   ],
   "source": [
    "lr_2.fit(X_1.loc[y1_in, ['technical_20_diff', 'tec20-30']], y_1[y1_in])\n",
    "y_pred_2_ = lr_2.predict(X_2[['technical_20_diff', 'tec20-30']]).clip(low_y_cut, high_y_cut)\n",
    "twosigmafunc.R_score(y_pred_2_, y_2)"
   ]
  },
  {
   "cell_type": "code",
   "execution_count": 17,
   "metadata": {
    "collapsed": false
   },
   "outputs": [
    {
     "data": {
      "text/plain": [
       "0.0037664181202493926"
      ]
     },
     "execution_count": 17,
     "metadata": {},
     "output_type": "execute_result"
    }
   ],
   "source": [
    "lr_2.fit(X_2.loc[y2_in, ['technical_20_diff', 'tec20-30']], y_2[y2_in])\n",
    "y_pred_1_ = lr_2.predict(X_1[['technical_20_diff', 'tec20-30']]).clip(low_y_cut, high_y_cut)\n",
    "twosigmafunc.R_score(y_pred_1_, y_1)"
   ]
  },
  {
   "cell_type": "markdown",
   "metadata": {},
   "source": [
    "same as 1 dimensional case"
   ]
  },
  {
   "cell_type": "markdown",
   "metadata": {},
   "source": [
    "### combine two models' result "
   ]
  },
  {
   "cell_type": "code",
   "execution_count": 18,
   "metadata": {
    "collapsed": false
   },
   "outputs": [
    {
     "data": {
      "text/plain": [
       "-0.0094555257475767013"
      ]
     },
     "execution_count": 18,
     "metadata": {},
     "output_type": "execute_result"
    }
   ],
   "source": [
    "y_1_pred = 0.5 * (y_pred_1 + y_pred_1_)\n",
    "twosigmafunc.R_score(y_1_pred, y_1)"
   ]
  },
  {
   "cell_type": "code",
   "execution_count": 19,
   "metadata": {
    "collapsed": false
   },
   "outputs": [
    {
     "data": {
      "text/plain": [
       "0.029231698334171417"
      ]
     },
     "execution_count": 19,
     "metadata": {},
     "output_type": "execute_result"
    }
   ],
   "source": [
    "y_2_pred = 0.5 * (y_pred_2 + y_pred_2_)\n",
    "twosigmafunc.R_score(y_2_pred, y_2)"
   ]
  },
  {
   "cell_type": "code",
   "execution_count": 20,
   "metadata": {
    "collapsed": false
   },
   "outputs": [],
   "source": [
    "y_pred = np.concatenate([y_1_pred.reshape(-1, 1), y_2_pred.reshape(-1, 1)], axis=0)"
   ]
  },
  {
   "cell_type": "code",
   "execution_count": 22,
   "metadata": {
    "collapsed": false
   },
   "outputs": [
    {
     "data": {
      "text/plain": [
       "(1710756, 1)"
      ]
     },
     "execution_count": 22,
     "metadata": {},
     "output_type": "execute_result"
    }
   ],
   "source": [
    "y_pred.shape"
   ]
  },
  {
   "cell_type": "code",
   "execution_count": 21,
   "metadata": {
    "collapsed": false
   },
   "outputs": [
    {
     "data": {
      "text/plain": [
       "(1710756,)"
      ]
     },
     "execution_count": 21,
     "metadata": {},
     "output_type": "execute_result"
    }
   ],
   "source": [
    "train.y.shape"
   ]
  },
  {
   "cell_type": "code",
   "execution_count": null,
   "metadata": {
    "collapsed": false
   },
   "outputs": [],
   "source": [
    "twosigmafunc.R_score(y_pred, train.y)"
   ]
  },
  {
   "cell_type": "code",
   "execution_count": null,
   "metadata": {
    "collapsed": true
   },
   "outputs": [],
   "source": []
  }
 ],
 "metadata": {
  "kernelspec": {
   "display_name": "Python 3",
   "language": "python",
   "name": "python3"
  },
  "language_info": {
   "codemirror_mode": {
    "name": "ipython",
    "version": 3
   },
   "file_extension": ".py",
   "mimetype": "text/x-python",
   "name": "python",
   "nbconvert_exporter": "python",
   "pygments_lexer": "ipython3",
   "version": "3.4.3"
  }
 },
 "nbformat": 4,
 "nbformat_minor": 0
}
