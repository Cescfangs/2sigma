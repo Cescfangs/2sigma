{
 "cells": [
  {
   "cell_type": "code",
   "execution_count": 1,
   "metadata": {
    "collapsed": true
   },
   "outputs": [],
   "source": [
    "import pandas as pd\n",
    "import numpy as np\n",
    "import twosigmafunc\n",
    "from collections import defaultdict"
   ]
  },
  {
   "cell_type": "code",
   "execution_count": 2,
   "metadata": {
    "collapsed": false
   },
   "outputs": [],
   "source": [
    "import matplotlib.pyplot as plt\n",
    "import seaborn\n",
    "plt.rcParams['figure.figsize'] = (14.0, 8.0) # set default size of plots\n",
    "plt.rcParams['image.interpolation'] = 'nearest'\n",
    "# plt.rcParams['image.cmap'] = 'gray'"
   ]
  },
  {
   "cell_type": "code",
   "execution_count": 3,
   "metadata": {
    "collapsed": true
   },
   "outputs": [],
   "source": [
    "%matplotlib inline\n",
    "%load_ext autoreload\n",
    "%autoreload 2"
   ]
  },
  {
   "cell_type": "code",
   "execution_count": 4,
   "metadata": {
    "collapsed": true
   },
   "outputs": [],
   "source": [
    "train = pd.read_hdf('train.h5')"
   ]
  },
  {
   "cell_type": "code",
   "execution_count": 21,
   "metadata": {
    "collapsed": false
   },
   "outputs": [],
   "source": [
    "markers = [ 'o', 'v', 's','*', ',', '+', 'x', '2', '3', 'D', '|', '*', ',']"
   ]
  },
  {
   "cell_type": "code",
   "execution_count": 5,
   "metadata": {
    "collapsed": true
   },
   "outputs": [],
   "source": [
    "excl = ['id', 'timestamp', 'y']\n",
    "cols_origin = [col for col in train.columns if col not in ['y']]\n",
    "feature_origin = [col for col in train.columns if col not in excl]\n",
    "feature_diff = [col + '_diff' for col in feature_origin]\n"
   ]
  },
  {
   "cell_type": "markdown",
   "metadata": {},
   "source": [
    "# Add Nans "
   ]
  },
  {
   "cell_type": "code",
   "execution_count": 6,
   "metadata": {
    "collapsed": false
   },
   "outputs": [
    {
     "name": "stdout",
     "output_type": "stream",
     "text": [
      "sucessfully add 108 nan features\n"
     ]
    }
   ],
   "source": [
    "twosigmafunc.add_nans(train, feature_origin)"
   ]
  },
  {
   "cell_type": "markdown",
   "metadata": {},
   "source": [
    "# Add differs "
   ]
  },
  {
   "cell_type": "code",
   "execution_count": 7,
   "metadata": {
    "collapsed": false
   },
   "outputs": [],
   "source": [
    "# add time series diff\n",
    "train.fillna(train.median(), inplace=True)\n",
    "d_mean = train.median()\n",
    "train.sort_values(['id', 'timestamp'], inplace=True)\n",
    "train['id_diff'] = train.id.diff()\n",
    "d_mean['id_diff'] = 0.0\n",
    "for col in feature_origin:\n",
    "    train[col + '_diff'] = train[col].diff()\n",
    "    d_mean[col + '_diff'] = 0.0\n",
    "\n",
    "train.loc[train.id_diff!=0, feature_diff] = 0\n"
   ]
  },
  {
   "cell_type": "code",
   "execution_count": 8,
   "metadata": {
    "collapsed": false
   },
   "outputs": [],
   "source": [
    "train['y_past'] = train.y.shift()\n",
    "train['tec20-30'] = train.technical_20 - train.technical_30\n",
    "train['tec123'] = train['tec20-30'] + train.technical_13\n",
    "train['tec123_diff'] = train.tec123.diff()\n",
    "train['tec20-30_diff'] = train['tec20-30'].diff()\n",
    "train.loc[train.id_diff != 0, ['tec123_diff', 'tec20-30_diff', 'y_past']] = 0"
   ]
  },
  {
   "cell_type": "code",
   "execution_count": 9,
   "metadata": {
    "collapsed": true
   },
   "outputs": [],
   "source": [
    "from sklearn.linear_model import LinearRegression, Ridge\n",
    "lr = LinearRegression(n_jobs=-1)\n",
    "ridge = Ridge()"
   ]
  },
  {
   "cell_type": "code",
   "execution_count": 10,
   "metadata": {
    "collapsed": false
   },
   "outputs": [],
   "source": [
    "low_y_cut = -0.075\n",
    "high_y_cut = 0.075\n",
    "y_is_above_cut = (train.y > high_y_cut)\n",
    "y_is_below_cut = (train.y < low_y_cut)\n",
    "y_is_within_cut = (~y_is_above_cut & ~y_is_below_cut)"
   ]
  },
  {
   "cell_type": "code",
   "execution_count": 11,
   "metadata": {
    "collapsed": false
   },
   "outputs": [
    {
     "data": {
      "text/plain": [
       "Ridge(alpha=1.0, copy_X=True, fit_intercept=True, max_iter=None,\n",
       "   normalize=False, random_state=None, solver='auto', tol=0.001)"
      ]
     },
     "execution_count": 11,
     "metadata": {},
     "output_type": "execute_result"
    }
   ],
   "source": [
    "model_1 = Ridge()\n",
    "model_2 = Ridge()\n",
    "model_1.fit(np.array(train.loc[y_is_within_cut, 'technical_20_diff']).reshape(-1,1), train.loc[y_is_within_cut, 'y'])\n",
    "model_2.fit(train.loc[y_is_within_cut, ['tec20-30', 'technical_20_diff']], train.loc[y_is_within_cut, 'y'])"
   ]
  },
  {
   "cell_type": "markdown",
   "metadata": {
    "collapsed": true
   },
   "source": [
    "# Predicting Rewards \n",
    "although reward can be used as flag to indicate which Ridge model to involve, however, in submit model, we can not get reward before we hand in our predictions, so let's predict reward now"
   ]
  },
  {
   "cell_type": "code",
   "execution_count": 43,
   "metadata": {
    "collapsed": false
   },
   "outputs": [
    {
     "name": "stdout",
     "output_type": "stream",
     "text": [
      "0\n",
      "100\n",
      "200\n",
      "300\n",
      "400\n",
      "500\n",
      "600\n",
      "700\n",
      "800\n",
      "900\n",
      "1000\n",
      "1100\n",
      "1200\n",
      "1300\n",
      "1400\n",
      "1500\n",
      "1600\n",
      "1700\n",
      "1800\n"
     ]
    }
   ],
   "source": [
    "reward1 = []\n",
    "reward2 = []\n",
    "for timestamp in range(0, train.timestamp.max() + 1):\n",
    "    x_1 = np.array(train.loc[train.timestamp == timestamp, 'technical_20_diff']).reshape(-1,1)\n",
    "    x_2 = train.loc[train.timestamp == timestamp, ['tec20-30', 'technical_20_diff']]\n",
    "    y_1 = model_1.predict(x_1).clip(low_y_cut, high_y_cut)\n",
    "    y_2 = model_2.predict(x_2).clip(low_y_cut, high_y_cut)\n",
    "    y_t = train.loc[train.timestamp == timestamp, 'y'].clip(low_y_cut, high_y_cut)\n",
    "    reward1.append(twosigmafunc.R_score(y_1, y_t))\n",
    "    reward2.append(twosigmafunc.R_score(y_2, y_t))\n",
    "    if timestamp % 100 == 0:\n",
    "        print(timestamp)"
   ]
  },
  {
   "cell_type": "code",
   "execution_count": 13,
   "metadata": {
    "collapsed": true
   },
   "outputs": [],
   "source": [
    "time_gp = train.groupby('timestamp')"
   ]
  },
  {
   "cell_type": "code",
   "execution_count": 14,
   "metadata": {
    "collapsed": false
   },
   "outputs": [],
   "source": [
    "cols = [col for col in train.columns if col not in excl]"
   ]
  },
  {
   "cell_type": "code",
   "execution_count": 15,
   "metadata": {
    "collapsed": false
   },
   "outputs": [
    {
     "data": {
      "text/html": [
       "<div>\n",
       "<table border=\"1\" class=\"dataframe\">\n",
       "  <thead>\n",
       "    <tr style=\"text-align: right;\">\n",
       "      <th></th>\n",
       "      <th>derived_0</th>\n",
       "      <th>derived_1</th>\n",
       "      <th>derived_2</th>\n",
       "      <th>derived_3</th>\n",
       "      <th>derived_4</th>\n",
       "      <th>fundamental_0</th>\n",
       "      <th>fundamental_1</th>\n",
       "      <th>fundamental_2</th>\n",
       "      <th>fundamental_3</th>\n",
       "      <th>fundamental_5</th>\n",
       "      <th>...</th>\n",
       "      <th>technical_40_diff</th>\n",
       "      <th>technical_41_diff</th>\n",
       "      <th>technical_42_diff</th>\n",
       "      <th>technical_43_diff</th>\n",
       "      <th>technical_44_diff</th>\n",
       "      <th>y_past</th>\n",
       "      <th>tec20-30</th>\n",
       "      <th>tec123</th>\n",
       "      <th>tec123_diff</th>\n",
       "      <th>tec20-30_diff</th>\n",
       "    </tr>\n",
       "    <tr>\n",
       "      <th>timestamp</th>\n",
       "      <th></th>\n",
       "      <th></th>\n",
       "      <th></th>\n",
       "      <th></th>\n",
       "      <th></th>\n",
       "      <th></th>\n",
       "      <th></th>\n",
       "      <th></th>\n",
       "      <th></th>\n",
       "      <th></th>\n",
       "      <th></th>\n",
       "      <th></th>\n",
       "      <th></th>\n",
       "      <th></th>\n",
       "      <th></th>\n",
       "      <th></th>\n",
       "      <th></th>\n",
       "      <th></th>\n",
       "      <th></th>\n",
       "      <th></th>\n",
       "      <th></th>\n",
       "    </tr>\n",
       "  </thead>\n",
       "  <tbody>\n",
       "    <tr>\n",
       "      <th>0</th>\n",
       "      <td>0.036649</td>\n",
       "      <td>0.097312</td>\n",
       "      <td>-0.061610</td>\n",
       "      <td>-0.081894</td>\n",
       "      <td>0.063217</td>\n",
       "      <td>0.020847</td>\n",
       "      <td>0.053706</td>\n",
       "      <td>-0.187253</td>\n",
       "      <td>0.044835</td>\n",
       "      <td>0.264120</td>\n",
       "      <td>...</td>\n",
       "      <td>0.000000</td>\n",
       "      <td>0.0</td>\n",
       "      <td>0.0</td>\n",
       "      <td>0.00000</td>\n",
       "      <td>0.0</td>\n",
       "      <td>0.000000</td>\n",
       "      <td>0.000386</td>\n",
       "      <td>0.001536</td>\n",
       "      <td>0.000000</td>\n",
       "      <td>0.000000</td>\n",
       "    </tr>\n",
       "    <tr>\n",
       "      <th>1</th>\n",
       "      <td>0.035497</td>\n",
       "      <td>0.202283</td>\n",
       "      <td>0.579504</td>\n",
       "      <td>-0.033354</td>\n",
       "      <td>0.063989</td>\n",
       "      <td>0.021344</td>\n",
       "      <td>0.053442</td>\n",
       "      <td>-0.224030</td>\n",
       "      <td>0.043261</td>\n",
       "      <td>0.262934</td>\n",
       "      <td>...</td>\n",
       "      <td>0.003051</td>\n",
       "      <td>0.0</td>\n",
       "      <td>0.0</td>\n",
       "      <td>0.00088</td>\n",
       "      <td>0.0</td>\n",
       "      <td>-0.001870</td>\n",
       "      <td>0.000472</td>\n",
       "      <td>0.001325</td>\n",
       "      <td>-0.000211</td>\n",
       "      <td>0.000086</td>\n",
       "    </tr>\n",
       "    <tr>\n",
       "      <th>2</th>\n",
       "      <td>0.035163</td>\n",
       "      <td>0.203478</td>\n",
       "      <td>0.586814</td>\n",
       "      <td>-0.022597</td>\n",
       "      <td>0.064276</td>\n",
       "      <td>0.021575</td>\n",
       "      <td>0.053336</td>\n",
       "      <td>-0.238500</td>\n",
       "      <td>0.043072</td>\n",
       "      <td>0.262330</td>\n",
       "      <td>...</td>\n",
       "      <td>0.000952</td>\n",
       "      <td>0.0</td>\n",
       "      <td>0.0</td>\n",
       "      <td>0.00000</td>\n",
       "      <td>0.0</td>\n",
       "      <td>0.000501</td>\n",
       "      <td>0.000511</td>\n",
       "      <td>0.001283</td>\n",
       "      <td>-0.000042</td>\n",
       "      <td>0.000039</td>\n",
       "    </tr>\n",
       "    <tr>\n",
       "      <th>3</th>\n",
       "      <td>0.034876</td>\n",
       "      <td>0.204510</td>\n",
       "      <td>0.593121</td>\n",
       "      <td>-0.013317</td>\n",
       "      <td>0.064524</td>\n",
       "      <td>0.021774</td>\n",
       "      <td>0.053246</td>\n",
       "      <td>-0.250984</td>\n",
       "      <td>0.042909</td>\n",
       "      <td>0.261810</td>\n",
       "      <td>...</td>\n",
       "      <td>0.000821</td>\n",
       "      <td>0.0</td>\n",
       "      <td>0.0</td>\n",
       "      <td>0.00000</td>\n",
       "      <td>0.0</td>\n",
       "      <td>-0.005787</td>\n",
       "      <td>-0.000032</td>\n",
       "      <td>0.000658</td>\n",
       "      <td>-0.000625</td>\n",
       "      <td>-0.000543</td>\n",
       "    </tr>\n",
       "    <tr>\n",
       "      <th>4</th>\n",
       "      <td>0.034412</td>\n",
       "      <td>0.206172</td>\n",
       "      <td>0.603280</td>\n",
       "      <td>0.001631</td>\n",
       "      <td>0.064923</td>\n",
       "      <td>0.022094</td>\n",
       "      <td>0.053099</td>\n",
       "      <td>-0.271093</td>\n",
       "      <td>0.042646</td>\n",
       "      <td>0.260971</td>\n",
       "      <td>...</td>\n",
       "      <td>0.001323</td>\n",
       "      <td>0.0</td>\n",
       "      <td>0.0</td>\n",
       "      <td>0.00000</td>\n",
       "      <td>0.0</td>\n",
       "      <td>0.001633</td>\n",
       "      <td>-0.000307</td>\n",
       "      <td>0.000660</td>\n",
       "      <td>0.000002</td>\n",
       "      <td>-0.000275</td>\n",
       "    </tr>\n",
       "  </tbody>\n",
       "</table>\n",
       "<p>5 rows × 331 columns</p>\n",
       "</div>"
      ],
      "text/plain": [
       "           derived_0  derived_1  derived_2  derived_3  derived_4  \\\n",
       "timestamp                                                          \n",
       "0           0.036649   0.097312  -0.061610  -0.081894   0.063217   \n",
       "1           0.035497   0.202283   0.579504  -0.033354   0.063989   \n",
       "2           0.035163   0.203478   0.586814  -0.022597   0.064276   \n",
       "3           0.034876   0.204510   0.593121  -0.013317   0.064524   \n",
       "4           0.034412   0.206172   0.603280   0.001631   0.064923   \n",
       "\n",
       "           fundamental_0  fundamental_1  fundamental_2  fundamental_3  \\\n",
       "timestamp                                                               \n",
       "0               0.020847       0.053706      -0.187253       0.044835   \n",
       "1               0.021344       0.053442      -0.224030       0.043261   \n",
       "2               0.021575       0.053336      -0.238500       0.043072   \n",
       "3               0.021774       0.053246      -0.250984       0.042909   \n",
       "4               0.022094       0.053099      -0.271093       0.042646   \n",
       "\n",
       "           fundamental_5      ...        technical_40_diff  technical_41_diff  \\\n",
       "timestamp                     ...                                               \n",
       "0               0.264120      ...                 0.000000                0.0   \n",
       "1               0.262934      ...                 0.003051                0.0   \n",
       "2               0.262330      ...                 0.000952                0.0   \n",
       "3               0.261810      ...                 0.000821                0.0   \n",
       "4               0.260971      ...                 0.001323                0.0   \n",
       "\n",
       "           technical_42_diff  technical_43_diff  technical_44_diff    y_past  \\\n",
       "timestamp                                                                      \n",
       "0                        0.0            0.00000                0.0  0.000000   \n",
       "1                        0.0            0.00088                0.0 -0.001870   \n",
       "2                        0.0            0.00000                0.0  0.000501   \n",
       "3                        0.0            0.00000                0.0 -0.005787   \n",
       "4                        0.0            0.00000                0.0  0.001633   \n",
       "\n",
       "           tec20-30    tec123  tec123_diff  tec20-30_diff  \n",
       "timestamp                                                  \n",
       "0          0.000386  0.001536     0.000000       0.000000  \n",
       "1          0.000472  0.001325    -0.000211       0.000086  \n",
       "2          0.000511  0.001283    -0.000042       0.000039  \n",
       "3         -0.000032  0.000658    -0.000625      -0.000543  \n",
       "4         -0.000307  0.000660     0.000002      -0.000275  \n",
       "\n",
       "[5 rows x 331 columns]"
      ]
     },
     "execution_count": 15,
     "metadata": {},
     "output_type": "execute_result"
    }
   ],
   "source": [
    "gp = time_gp.mean()[cols]\n",
    "gp.head()"
   ]
  },
  {
   "cell_type": "code",
   "execution_count": 16,
   "metadata": {
    "collapsed": false
   },
   "outputs": [],
   "source": [
    "gp['timestamp'] = gp.index"
   ]
  },
  {
   "cell_type": "code",
   "execution_count": 47,
   "metadata": {
    "collapsed": false
   },
   "outputs": [],
   "source": [
    "gp['bi'] = np.array(reward1) < np.array(reward2)"
   ]
  },
  {
   "cell_type": "code",
   "execution_count": 48,
   "metadata": {
    "collapsed": false
   },
   "outputs": [
    {
     "data": {
      "text/plain": [
       "array([True, False], dtype=object)"
      ]
     },
     "execution_count": 48,
     "metadata": {},
     "output_type": "execute_result"
    }
   ],
   "source": [
    "gp.bi.unique()"
   ]
  },
  {
   "cell_type": "code",
   "execution_count": 18,
   "metadata": {
    "collapsed": false
   },
   "outputs": [],
   "source": [
    "gp['tec20_std'] = time_gp.std()['technical_20_diff']\n",
    "gp['tec20_30_std'] = time_gp.std()['tec20-30']\n",
    "gp['tec20_max'] = time_gp.max()['technical_20_diff']\n",
    "gp['tec20_min'] = time_gp.min()['technical_20_diff']\n",
    "gp['tec20_30_max'] = time_gp.max()['tec20-30']\n",
    "gp['tec20_30_min'] = time_gp.min()['tec20-30']"
   ]
  },
  {
   "cell_type": "code",
   "execution_count": 19,
   "metadata": {
    "collapsed": false
   },
   "outputs": [],
   "source": [
    "features_for_bi = [col for col in gp.columns if col not in ['timestamp', 'bi']]\n"
   ]
  },
  {
   "cell_type": "code",
   "execution_count": 42,
   "metadata": {
    "collapsed": false
   },
   "outputs": [
    {
     "data": {
      "text/plain": [
       "1812"
      ]
     },
     "execution_count": 42,
     "metadata": {},
     "output_type": "execute_result"
    }
   ],
   "source": [
    "gp.bi = np.array(reward1) > np.array(reward2)"
   ]
  },
  {
   "cell_type": "code",
   "execution_count": 20,
   "metadata": {
    "collapsed": true
   },
   "outputs": [],
   "source": [
    "from sklearn.ensemble import RandomForestClassifier\n",
    "from sklearn.model_selection import GridSearchCV, StratifiedKFold\n",
    "rfc = RandomForestClassifier(n_estimators=256, n_jobs=-1, random_state=11)"
   ]
  },
  {
   "cell_type": "code",
   "execution_count": 21,
   "metadata": {
    "collapsed": false
   },
   "outputs": [
    {
     "data": {
      "text/html": [
       "<div>\n",
       "<table border=\"1\" class=\"dataframe\">\n",
       "  <thead>\n",
       "    <tr style=\"text-align: right;\">\n",
       "      <th></th>\n",
       "      <th>derived_0</th>\n",
       "      <th>derived_1</th>\n",
       "      <th>derived_2</th>\n",
       "      <th>derived_3</th>\n",
       "      <th>derived_4</th>\n",
       "      <th>fundamental_0</th>\n",
       "      <th>fundamental_1</th>\n",
       "      <th>fundamental_2</th>\n",
       "      <th>fundamental_3</th>\n",
       "      <th>fundamental_5</th>\n",
       "      <th>...</th>\n",
       "      <th>tec123_diff</th>\n",
       "      <th>tec20-30_diff</th>\n",
       "      <th>timestamp</th>\n",
       "      <th>bi</th>\n",
       "      <th>tec20_std</th>\n",
       "      <th>tec20_30_std</th>\n",
       "      <th>tec20_max</th>\n",
       "      <th>tec20_min</th>\n",
       "      <th>tec20_30_max</th>\n",
       "      <th>tec20_30_min</th>\n",
       "    </tr>\n",
       "    <tr>\n",
       "      <th>timestamp</th>\n",
       "      <th></th>\n",
       "      <th></th>\n",
       "      <th></th>\n",
       "      <th></th>\n",
       "      <th></th>\n",
       "      <th></th>\n",
       "      <th></th>\n",
       "      <th></th>\n",
       "      <th></th>\n",
       "      <th></th>\n",
       "      <th></th>\n",
       "      <th></th>\n",
       "      <th></th>\n",
       "      <th></th>\n",
       "      <th></th>\n",
       "      <th></th>\n",
       "      <th></th>\n",
       "      <th></th>\n",
       "      <th></th>\n",
       "      <th></th>\n",
       "      <th></th>\n",
       "    </tr>\n",
       "  </thead>\n",
       "  <tbody>\n",
       "    <tr>\n",
       "      <th>0</th>\n",
       "      <td>0.036649</td>\n",
       "      <td>0.097312</td>\n",
       "      <td>-0.061610</td>\n",
       "      <td>-0.081894</td>\n",
       "      <td>0.063217</td>\n",
       "      <td>0.020847</td>\n",
       "      <td>0.053706</td>\n",
       "      <td>-0.187253</td>\n",
       "      <td>0.044835</td>\n",
       "      <td>0.264120</td>\n",
       "      <td>...</td>\n",
       "      <td>0.000000</td>\n",
       "      <td>0.000000</td>\n",
       "      <td>0</td>\n",
       "      <td>False</td>\n",
       "      <td>0.000000</td>\n",
       "      <td>0.007681</td>\n",
       "      <td>0.000000</td>\n",
       "      <td>0.000000</td>\n",
       "      <td>0.033168</td>\n",
       "      <td>-0.036647</td>\n",
       "    </tr>\n",
       "    <tr>\n",
       "      <th>1</th>\n",
       "      <td>0.035497</td>\n",
       "      <td>0.202283</td>\n",
       "      <td>0.579504</td>\n",
       "      <td>-0.033354</td>\n",
       "      <td>0.063989</td>\n",
       "      <td>0.021344</td>\n",
       "      <td>0.053442</td>\n",
       "      <td>-0.224030</td>\n",
       "      <td>0.043261</td>\n",
       "      <td>0.262934</td>\n",
       "      <td>...</td>\n",
       "      <td>-0.000211</td>\n",
       "      <td>0.000086</td>\n",
       "      <td>1</td>\n",
       "      <td>False</td>\n",
       "      <td>0.003028</td>\n",
       "      <td>0.006507</td>\n",
       "      <td>0.013369</td>\n",
       "      <td>-0.012672</td>\n",
       "      <td>0.026580</td>\n",
       "      <td>-0.029471</td>\n",
       "    </tr>\n",
       "    <tr>\n",
       "      <th>2</th>\n",
       "      <td>0.035163</td>\n",
       "      <td>0.203478</td>\n",
       "      <td>0.586814</td>\n",
       "      <td>-0.022597</td>\n",
       "      <td>0.064276</td>\n",
       "      <td>0.021575</td>\n",
       "      <td>0.053336</td>\n",
       "      <td>-0.238500</td>\n",
       "      <td>0.043072</td>\n",
       "      <td>0.262330</td>\n",
       "      <td>...</td>\n",
       "      <td>-0.000042</td>\n",
       "      <td>0.000039</td>\n",
       "      <td>2</td>\n",
       "      <td>False</td>\n",
       "      <td>0.002239</td>\n",
       "      <td>0.006825</td>\n",
       "      <td>0.016507</td>\n",
       "      <td>-0.009636</td>\n",
       "      <td>0.022925</td>\n",
       "      <td>-0.037371</td>\n",
       "    </tr>\n",
       "    <tr>\n",
       "      <th>3</th>\n",
       "      <td>0.034876</td>\n",
       "      <td>0.204510</td>\n",
       "      <td>0.593121</td>\n",
       "      <td>-0.013317</td>\n",
       "      <td>0.064524</td>\n",
       "      <td>0.021774</td>\n",
       "      <td>0.053246</td>\n",
       "      <td>-0.250984</td>\n",
       "      <td>0.042909</td>\n",
       "      <td>0.261810</td>\n",
       "      <td>...</td>\n",
       "      <td>-0.000625</td>\n",
       "      <td>-0.000543</td>\n",
       "      <td>3</td>\n",
       "      <td>False</td>\n",
       "      <td>0.001778</td>\n",
       "      <td>0.007721</td>\n",
       "      <td>0.010776</td>\n",
       "      <td>-0.008120</td>\n",
       "      <td>0.019447</td>\n",
       "      <td>-0.037181</td>\n",
       "    </tr>\n",
       "    <tr>\n",
       "      <th>4</th>\n",
       "      <td>0.034412</td>\n",
       "      <td>0.206172</td>\n",
       "      <td>0.603280</td>\n",
       "      <td>0.001631</td>\n",
       "      <td>0.064923</td>\n",
       "      <td>0.022094</td>\n",
       "      <td>0.053099</td>\n",
       "      <td>-0.271093</td>\n",
       "      <td>0.042646</td>\n",
       "      <td>0.260971</td>\n",
       "      <td>...</td>\n",
       "      <td>0.000002</td>\n",
       "      <td>-0.000275</td>\n",
       "      <td>4</td>\n",
       "      <td>False</td>\n",
       "      <td>0.002525</td>\n",
       "      <td>0.008156</td>\n",
       "      <td>0.009547</td>\n",
       "      <td>-0.013342</td>\n",
       "      <td>0.016363</td>\n",
       "      <td>-0.039013</td>\n",
       "    </tr>\n",
       "  </tbody>\n",
       "</table>\n",
       "<p>5 rows × 339 columns</p>\n",
       "</div>"
      ],
      "text/plain": [
       "           derived_0  derived_1  derived_2  derived_3  derived_4  \\\n",
       "timestamp                                                          \n",
       "0           0.036649   0.097312  -0.061610  -0.081894   0.063217   \n",
       "1           0.035497   0.202283   0.579504  -0.033354   0.063989   \n",
       "2           0.035163   0.203478   0.586814  -0.022597   0.064276   \n",
       "3           0.034876   0.204510   0.593121  -0.013317   0.064524   \n",
       "4           0.034412   0.206172   0.603280   0.001631   0.064923   \n",
       "\n",
       "           fundamental_0  fundamental_1  fundamental_2  fundamental_3  \\\n",
       "timestamp                                                               \n",
       "0               0.020847       0.053706      -0.187253       0.044835   \n",
       "1               0.021344       0.053442      -0.224030       0.043261   \n",
       "2               0.021575       0.053336      -0.238500       0.043072   \n",
       "3               0.021774       0.053246      -0.250984       0.042909   \n",
       "4               0.022094       0.053099      -0.271093       0.042646   \n",
       "\n",
       "           fundamental_5      ...       tec123_diff  tec20-30_diff  timestamp  \\\n",
       "timestamp                     ...                                               \n",
       "0               0.264120      ...          0.000000       0.000000          0   \n",
       "1               0.262934      ...         -0.000211       0.000086          1   \n",
       "2               0.262330      ...         -0.000042       0.000039          2   \n",
       "3               0.261810      ...         -0.000625      -0.000543          3   \n",
       "4               0.260971      ...          0.000002      -0.000275          4   \n",
       "\n",
       "              bi  tec20_std  tec20_30_std  tec20_max  tec20_min  tec20_30_max  \\\n",
       "timestamp                                                                       \n",
       "0          False   0.000000      0.007681   0.000000   0.000000      0.033168   \n",
       "1          False   0.003028      0.006507   0.013369  -0.012672      0.026580   \n",
       "2          False   0.002239      0.006825   0.016507  -0.009636      0.022925   \n",
       "3          False   0.001778      0.007721   0.010776  -0.008120      0.019447   \n",
       "4          False   0.002525      0.008156   0.009547  -0.013342      0.016363   \n",
       "\n",
       "           tec20_30_min  \n",
       "timestamp                \n",
       "0             -0.036647  \n",
       "1             -0.029471  \n",
       "2             -0.037371  \n",
       "3             -0.037181  \n",
       "4             -0.039013  \n",
       "\n",
       "[5 rows x 339 columns]"
      ]
     },
     "execution_count": 21,
     "metadata": {},
     "output_type": "execute_result"
    }
   ],
   "source": [
    "gp.head()"
   ]
  },
  {
   "cell_type": "code",
   "execution_count": 53,
   "metadata": {
    "collapsed": false
   },
   "outputs": [],
   "source": [
    "g_train, y_train, g_test, y_test = twosigmafunc.split_data(gp, features_for_bi, 'bi')"
   ]
  },
  {
   "cell_type": "code",
   "execution_count": 54,
   "metadata": {
    "collapsed": false
   },
   "outputs": [
    {
     "data": {
      "text/plain": [
       "GridSearchCV(cv=StratifiedKFold(n_splits=5, random_state=None, shuffle=False),\n",
       "       error_score='raise',\n",
       "       estimator=RandomForestClassifier(bootstrap=True, class_weight=None, criterion='gini',\n",
       "            max_depth=None, max_features='auto', max_leaf_nodes=None,\n",
       "            min_impurity_split=1e-07, min_samples_leaf=1,\n",
       "            min_samples_split=2, min_weight_fraction_leaf=0.0,\n",
       "            n_estimators=256, n_jobs=-1, oob_score=False, random_state=11,\n",
       "            verbose=0, warm_start=False),\n",
       "       fit_params={}, iid=True, n_jobs=-1,\n",
       "       param_grid={'max_features': ['sqrt', 0.5, None], 'max_depth': [3, 5, None]},\n",
       "       pre_dispatch='2*n_jobs', refit=True, return_train_score=True,\n",
       "       scoring=None, verbose=0)"
      ]
     },
     "execution_count": 54,
     "metadata": {},
     "output_type": "execute_result"
    }
   ],
   "source": [
    "parameter_grid = {\n",
    "                 'max_depth': [3, 5, None],\n",
    "                 'max_features': ['sqrt', 0.5, None]\n",
    "                 }\n",
    "\n",
    "cross_validation = StratifiedKFold(5)\n",
    "\n",
    "grid_search = GridSearchCV(rfc,\n",
    "                           param_grid=parameter_grid,\n",
    "                           cv=cross_validation, n_jobs=-1)\n",
    "\n",
    "grid_search.fit(g_train[features_for_bi], y_train)"
   ]
  },
  {
   "cell_type": "code",
   "execution_count": 55,
   "metadata": {
    "collapsed": false
   },
   "outputs": [
    {
     "data": {
      "text/plain": [
       "0.4696802646085998"
      ]
     },
     "execution_count": 55,
     "metadata": {},
     "output_type": "execute_result"
    }
   ],
   "source": [
    "np.mean(y_test == grid_search.predict(g_test[features_for_bi]))"
   ]
  },
  {
   "cell_type": "code",
   "execution_count": 56,
   "metadata": {
    "collapsed": true
   },
   "outputs": [],
   "source": [
    "imp = pd.DataFrame({'feature': features_for_bi, 'weight':grid_search.best_estimator_.feature_importances_}).sort_values(\n",
    "    'weight', ascending=False)"
   ]
  },
  {
   "cell_type": "code",
   "execution_count": 57,
   "metadata": {
    "collapsed": false
   },
   "outputs": [
    {
     "data": {
      "text/html": [
       "<div>\n",
       "<table border=\"1\" class=\"dataframe\">\n",
       "  <thead>\n",
       "    <tr style=\"text-align: right;\">\n",
       "      <th></th>\n",
       "      <th>feature</th>\n",
       "      <th>weight</th>\n",
       "    </tr>\n",
       "  </thead>\n",
       "  <tbody>\n",
       "    <tr>\n",
       "      <th>312</th>\n",
       "      <td>technical_31_diff</td>\n",
       "      <td>0.021300</td>\n",
       "    </tr>\n",
       "    <tr>\n",
       "      <th>314</th>\n",
       "      <td>technical_33_diff</td>\n",
       "      <td>0.020260</td>\n",
       "    </tr>\n",
       "    <tr>\n",
       "      <th>309</th>\n",
       "      <td>technical_28_diff</td>\n",
       "      <td>0.019490</td>\n",
       "    </tr>\n",
       "    <tr>\n",
       "      <th>303</th>\n",
       "      <td>technical_20_diff</td>\n",
       "      <td>0.018734</td>\n",
       "    </tr>\n",
       "    <tr>\n",
       "      <th>306</th>\n",
       "      <td>technical_24_diff</td>\n",
       "      <td>0.018489</td>\n",
       "    </tr>\n",
       "    <tr>\n",
       "      <th>333</th>\n",
       "      <td>tec20_max</td>\n",
       "      <td>0.017731</td>\n",
       "    </tr>\n",
       "    <tr>\n",
       "      <th>287</th>\n",
       "      <td>technical_1_diff</td>\n",
       "      <td>0.015535</td>\n",
       "    </tr>\n",
       "    <tr>\n",
       "      <th>322</th>\n",
       "      <td>technical_41_diff</td>\n",
       "      <td>0.015182</td>\n",
       "    </tr>\n",
       "    <tr>\n",
       "      <th>334</th>\n",
       "      <td>tec20_min</td>\n",
       "      <td>0.015041</td>\n",
       "    </tr>\n",
       "    <tr>\n",
       "      <th>307</th>\n",
       "      <td>technical_25_diff</td>\n",
       "      <td>0.014750</td>\n",
       "    </tr>\n",
       "    <tr>\n",
       "      <th>297</th>\n",
       "      <td>technical_13_diff</td>\n",
       "      <td>0.014395</td>\n",
       "    </tr>\n",
       "    <tr>\n",
       "      <th>289</th>\n",
       "      <td>technical_3_diff</td>\n",
       "      <td>0.014264</td>\n",
       "    </tr>\n",
       "    <tr>\n",
       "      <th>305</th>\n",
       "      <td>technical_22_diff</td>\n",
       "      <td>0.014219</td>\n",
       "    </tr>\n",
       "    <tr>\n",
       "      <th>311</th>\n",
       "      <td>technical_30_diff</td>\n",
       "      <td>0.013711</td>\n",
       "    </tr>\n",
       "    <tr>\n",
       "      <th>325</th>\n",
       "      <td>technical_44_diff</td>\n",
       "      <td>0.013478</td>\n",
       "    </tr>\n",
       "    <tr>\n",
       "      <th>290</th>\n",
       "      <td>technical_5_diff</td>\n",
       "      <td>0.012810</td>\n",
       "    </tr>\n",
       "    <tr>\n",
       "      <th>335</th>\n",
       "      <td>tec20_30_max</td>\n",
       "      <td>0.011317</td>\n",
       "    </tr>\n",
       "    <tr>\n",
       "      <th>315</th>\n",
       "      <td>technical_34_diff</td>\n",
       "      <td>0.010863</td>\n",
       "    </tr>\n",
       "    <tr>\n",
       "      <th>331</th>\n",
       "      <td>tec20_std</td>\n",
       "      <td>0.010668</td>\n",
       "    </tr>\n",
       "    <tr>\n",
       "      <th>326</th>\n",
       "      <td>y_past</td>\n",
       "      <td>0.010066</td>\n",
       "    </tr>\n",
       "    <tr>\n",
       "      <th>336</th>\n",
       "      <td>tec20_30_min</td>\n",
       "      <td>0.009391</td>\n",
       "    </tr>\n",
       "    <tr>\n",
       "      <th>96</th>\n",
       "      <td>technical_33</td>\n",
       "      <td>0.008652</td>\n",
       "    </tr>\n",
       "    <tr>\n",
       "      <th>88</th>\n",
       "      <td>technical_24</td>\n",
       "      <td>0.008057</td>\n",
       "    </tr>\n",
       "    <tr>\n",
       "      <th>93</th>\n",
       "      <td>technical_30</td>\n",
       "      <td>0.007789</td>\n",
       "    </tr>\n",
       "    <tr>\n",
       "      <th>330</th>\n",
       "      <td>tec20-30_diff</td>\n",
       "      <td>0.007735</td>\n",
       "    </tr>\n",
       "    <tr>\n",
       "      <th>332</th>\n",
       "      <td>tec20_30_std</td>\n",
       "      <td>0.007499</td>\n",
       "    </tr>\n",
       "    <tr>\n",
       "      <th>104</th>\n",
       "      <td>technical_41</td>\n",
       "      <td>0.007086</td>\n",
       "    </tr>\n",
       "    <tr>\n",
       "      <th>79</th>\n",
       "      <td>technical_13</td>\n",
       "      <td>0.006702</td>\n",
       "    </tr>\n",
       "    <tr>\n",
       "      <th>252</th>\n",
       "      <td>fundamental_30_diff</td>\n",
       "      <td>0.006456</td>\n",
       "    </tr>\n",
       "    <tr>\n",
       "      <th>85</th>\n",
       "      <td>technical_20</td>\n",
       "      <td>0.006409</td>\n",
       "    </tr>\n",
       "    <tr>\n",
       "      <th>...</th>\n",
       "      <td>...</td>\n",
       "      <td>...</td>\n",
       "    </tr>\n",
       "    <tr>\n",
       "      <th>185</th>\n",
       "      <td>technical_11_nan</td>\n",
       "      <td>0.000204</td>\n",
       "    </tr>\n",
       "    <tr>\n",
       "      <th>144</th>\n",
       "      <td>fundamental_32_nan</td>\n",
       "      <td>0.000197</td>\n",
       "    </tr>\n",
       "    <tr>\n",
       "      <th>113</th>\n",
       "      <td>fundamental_0_nan</td>\n",
       "      <td>0.000189</td>\n",
       "    </tr>\n",
       "    <tr>\n",
       "      <th>127</th>\n",
       "      <td>fundamental_15_nan</td>\n",
       "      <td>0.000169</td>\n",
       "    </tr>\n",
       "    <tr>\n",
       "      <th>191</th>\n",
       "      <td>technical_18_nan</td>\n",
       "      <td>0.000158</td>\n",
       "    </tr>\n",
       "    <tr>\n",
       "      <th>209</th>\n",
       "      <td>technical_38_nan</td>\n",
       "      <td>0.000152</td>\n",
       "    </tr>\n",
       "    <tr>\n",
       "      <th>154</th>\n",
       "      <td>fundamental_42_nan</td>\n",
       "      <td>0.000147</td>\n",
       "    </tr>\n",
       "    <tr>\n",
       "      <th>126</th>\n",
       "      <td>fundamental_14_nan</td>\n",
       "      <td>0.000144</td>\n",
       "    </tr>\n",
       "    <tr>\n",
       "      <th>132</th>\n",
       "      <td>fundamental_20_nan</td>\n",
       "      <td>0.000143</td>\n",
       "    </tr>\n",
       "    <tr>\n",
       "      <th>175</th>\n",
       "      <td>fundamental_63_nan</td>\n",
       "      <td>0.000139</td>\n",
       "    </tr>\n",
       "    <tr>\n",
       "      <th>142</th>\n",
       "      <td>fundamental_30_nan</td>\n",
       "      <td>0.000138</td>\n",
       "    </tr>\n",
       "    <tr>\n",
       "      <th>192</th>\n",
       "      <td>technical_19_nan</td>\n",
       "      <td>0.000136</td>\n",
       "    </tr>\n",
       "    <tr>\n",
       "      <th>168</th>\n",
       "      <td>fundamental_56_nan</td>\n",
       "      <td>0.000130</td>\n",
       "    </tr>\n",
       "    <tr>\n",
       "      <th>214</th>\n",
       "      <td>technical_43_nan</td>\n",
       "      <td>0.000123</td>\n",
       "    </tr>\n",
       "    <tr>\n",
       "      <th>186</th>\n",
       "      <td>technical_12_nan</td>\n",
       "      <td>0.000117</td>\n",
       "    </tr>\n",
       "    <tr>\n",
       "      <th>158</th>\n",
       "      <td>fundamental_46_nan</td>\n",
       "      <td>0.000108</td>\n",
       "    </tr>\n",
       "    <tr>\n",
       "      <th>135</th>\n",
       "      <td>fundamental_23_nan</td>\n",
       "      <td>0.000103</td>\n",
       "    </tr>\n",
       "    <tr>\n",
       "      <th>178</th>\n",
       "      <td>technical_2_nan</td>\n",
       "      <td>0.000101</td>\n",
       "    </tr>\n",
       "    <tr>\n",
       "      <th>183</th>\n",
       "      <td>technical_9_nan</td>\n",
       "      <td>0.000100</td>\n",
       "    </tr>\n",
       "    <tr>\n",
       "      <th>203</th>\n",
       "      <td>technical_32_nan</td>\n",
       "      <td>0.000094</td>\n",
       "    </tr>\n",
       "    <tr>\n",
       "      <th>206</th>\n",
       "      <td>technical_35_nan</td>\n",
       "      <td>0.000079</td>\n",
       "    </tr>\n",
       "    <tr>\n",
       "      <th>207</th>\n",
       "      <td>technical_36_nan</td>\n",
       "      <td>0.000076</td>\n",
       "    </tr>\n",
       "    <tr>\n",
       "      <th>181</th>\n",
       "      <td>technical_6_nan</td>\n",
       "      <td>0.000070</td>\n",
       "    </tr>\n",
       "    <tr>\n",
       "      <th>208</th>\n",
       "      <td>technical_37_nan</td>\n",
       "      <td>0.000055</td>\n",
       "    </tr>\n",
       "    <tr>\n",
       "      <th>194</th>\n",
       "      <td>technical_21_nan</td>\n",
       "      <td>0.000044</td>\n",
       "    </tr>\n",
       "    <tr>\n",
       "      <th>182</th>\n",
       "      <td>technical_7_nan</td>\n",
       "      <td>0.000016</td>\n",
       "    </tr>\n",
       "    <tr>\n",
       "      <th>198</th>\n",
       "      <td>technical_27_nan</td>\n",
       "      <td>0.000016</td>\n",
       "    </tr>\n",
       "    <tr>\n",
       "      <th>211</th>\n",
       "      <td>technical_40_nan</td>\n",
       "      <td>0.000000</td>\n",
       "    </tr>\n",
       "    <tr>\n",
       "      <th>205</th>\n",
       "      <td>technical_34_nan</td>\n",
       "      <td>0.000000</td>\n",
       "    </tr>\n",
       "    <tr>\n",
       "      <th>195</th>\n",
       "      <td>technical_22_nan</td>\n",
       "      <td>0.000000</td>\n",
       "    </tr>\n",
       "  </tbody>\n",
       "</table>\n",
       "<p>337 rows × 2 columns</p>\n",
       "</div>"
      ],
      "text/plain": [
       "                 feature    weight\n",
       "312    technical_31_diff  0.021300\n",
       "314    technical_33_diff  0.020260\n",
       "309    technical_28_diff  0.019490\n",
       "303    technical_20_diff  0.018734\n",
       "306    technical_24_diff  0.018489\n",
       "333            tec20_max  0.017731\n",
       "287     technical_1_diff  0.015535\n",
       "322    technical_41_diff  0.015182\n",
       "334            tec20_min  0.015041\n",
       "307    technical_25_diff  0.014750\n",
       "297    technical_13_diff  0.014395\n",
       "289     technical_3_diff  0.014264\n",
       "305    technical_22_diff  0.014219\n",
       "311    technical_30_diff  0.013711\n",
       "325    technical_44_diff  0.013478\n",
       "290     technical_5_diff  0.012810\n",
       "335         tec20_30_max  0.011317\n",
       "315    technical_34_diff  0.010863\n",
       "331            tec20_std  0.010668\n",
       "326               y_past  0.010066\n",
       "336         tec20_30_min  0.009391\n",
       "96          technical_33  0.008652\n",
       "88          technical_24  0.008057\n",
       "93          technical_30  0.007789\n",
       "330        tec20-30_diff  0.007735\n",
       "332         tec20_30_std  0.007499\n",
       "104         technical_41  0.007086\n",
       "79          technical_13  0.006702\n",
       "252  fundamental_30_diff  0.006456\n",
       "85          technical_20  0.006409\n",
       "..                   ...       ...\n",
       "185     technical_11_nan  0.000204\n",
       "144   fundamental_32_nan  0.000197\n",
       "113    fundamental_0_nan  0.000189\n",
       "127   fundamental_15_nan  0.000169\n",
       "191     technical_18_nan  0.000158\n",
       "209     technical_38_nan  0.000152\n",
       "154   fundamental_42_nan  0.000147\n",
       "126   fundamental_14_nan  0.000144\n",
       "132   fundamental_20_nan  0.000143\n",
       "175   fundamental_63_nan  0.000139\n",
       "142   fundamental_30_nan  0.000138\n",
       "192     technical_19_nan  0.000136\n",
       "168   fundamental_56_nan  0.000130\n",
       "214     technical_43_nan  0.000123\n",
       "186     technical_12_nan  0.000117\n",
       "158   fundamental_46_nan  0.000108\n",
       "135   fundamental_23_nan  0.000103\n",
       "178      technical_2_nan  0.000101\n",
       "183      technical_9_nan  0.000100\n",
       "203     technical_32_nan  0.000094\n",
       "206     technical_35_nan  0.000079\n",
       "207     technical_36_nan  0.000076\n",
       "181      technical_6_nan  0.000070\n",
       "208     technical_37_nan  0.000055\n",
       "194     technical_21_nan  0.000044\n",
       "182      technical_7_nan  0.000016\n",
       "198     technical_27_nan  0.000016\n",
       "211     technical_40_nan  0.000000\n",
       "205     technical_34_nan  0.000000\n",
       "195     technical_22_nan  0.000000\n",
       "\n",
       "[337 rows x 2 columns]"
      ]
     },
     "execution_count": 57,
     "metadata": {},
     "output_type": "execute_result"
    }
   ],
   "source": [
    "imp"
   ]
  },
  {
   "cell_type": "code",
   "execution_count": 58,
   "metadata": {
    "collapsed": false
   },
   "outputs": [
    {
     "data": {
      "text/plain": [
       "{'max_depth': None, 'max_features': None}"
      ]
     },
     "execution_count": 58,
     "metadata": {},
     "output_type": "execute_result"
    }
   ],
   "source": [
    "grid_search.best_params_"
   ]
  },
  {
   "cell_type": "code",
   "execution_count": 64,
   "metadata": {
    "collapsed": false
   },
   "outputs": [
    {
     "data": {
      "text/plain": [
       "0.8741721854304636"
      ]
     },
     "execution_count": 64,
     "metadata": {},
     "output_type": "execute_result"
    }
   ],
   "source": [
    "np.mean(y_train == rfc.predict(g_train[imp.feature[:30]]))"
   ]
  },
  {
   "cell_type": "code",
   "execution_count": 61,
   "metadata": {
    "collapsed": false
   },
   "outputs": [
    {
     "data": {
      "text/plain": [
       "RandomForestClassifier(bootstrap=True, class_weight=None, criterion='gini',\n",
       "            max_depth=5, max_features='sqrt', max_leaf_nodes=None,\n",
       "            min_impurity_split=1e-07, min_samples_leaf=1,\n",
       "            min_samples_split=2, min_weight_fraction_leaf=0.0,\n",
       "            n_estimators=256, n_jobs=1, oob_score=False, random_state=11,\n",
       "            verbose=0, warm_start=False)"
      ]
     },
     "execution_count": 61,
     "metadata": {},
     "output_type": "execute_result"
    }
   ],
   "source": [
    "rfc = RandomForestClassifier(n_estimators=256, max_depth=5, max_features='sqrt', random_state=11)\n",
    "rfc.fit(g_train[imp.feature[:30]], y_train)"
   ]
  },
  {
   "cell_type": "code",
   "execution_count": 65,
   "metadata": {
    "collapsed": false
   },
   "outputs": [
    {
     "data": {
      "text/plain": [
       "0.53693495038588757"
      ]
     },
     "execution_count": 65,
     "metadata": {},
     "output_type": "execute_result"
    }
   ],
   "source": [
    "np.mean(y_test == rfc.predict(g_test[imp.feature[:30]]))"
   ]
  },
  {
   "cell_type": "code",
   "execution_count": 67,
   "metadata": {
    "collapsed": false
   },
   "outputs": [],
   "source": [
    "features = imp.loc[imp.weight > imp.weight.mean(), 'feature']"
   ]
  },
  {
   "cell_type": "code",
   "execution_count": 68,
   "metadata": {
    "collapsed": false
   },
   "outputs": [
    {
     "data": {
      "text/plain": [
       "(115,)"
      ]
     },
     "execution_count": 68,
     "metadata": {},
     "output_type": "execute_result"
    }
   ],
   "source": [
    "features.shape"
   ]
  },
  {
   "cell_type": "code",
   "execution_count": 69,
   "metadata": {
    "collapsed": false
   },
   "outputs": [
    {
     "data": {
      "text/plain": [
       "GridSearchCV(cv=StratifiedKFold(n_splits=5, random_state=None, shuffle=False),\n",
       "       error_score='raise',\n",
       "       estimator=RandomForestClassifier(bootstrap=True, class_weight=None, criterion='gini',\n",
       "            max_depth=None, max_features='auto', max_leaf_nodes=None,\n",
       "            min_impurity_split=1e-07, min_samples_leaf=1,\n",
       "            min_samples_split=2, min_weight_fraction_leaf=0.0,\n",
       "            n_estimators=256, n_jobs=-1, oob_score=False, random_state=11,\n",
       "            verbose=0, warm_start=False),\n",
       "       fit_params={}, iid=True, n_jobs=-1,\n",
       "       param_grid={'max_features': ['sqrt', 0.5, None], 'max_depth': [3, 5, None]},\n",
       "       pre_dispatch='2*n_jobs', refit=True, return_train_score=True,\n",
       "       scoring=None, verbose=0)"
      ]
     },
     "execution_count": 69,
     "metadata": {},
     "output_type": "execute_result"
    }
   ],
   "source": [
    "grid_search.fit(g_train[features], y_train)"
   ]
  },
  {
   "cell_type": "code",
   "execution_count": 71,
   "metadata": {
    "collapsed": false
   },
   "outputs": [
    {
     "data": {
      "text/plain": [
       "0.52701212789415652"
      ]
     },
     "execution_count": 71,
     "metadata": {},
     "output_type": "execute_result"
    }
   ],
   "source": [
    "np.mean(y_test == grid_search.predict(g_test[features]))"
   ]
  },
  {
   "cell_type": "code",
   "execution_count": 72,
   "metadata": {
    "collapsed": false
   },
   "outputs": [
    {
     "data": {
      "text/plain": [
       "0.7516556291390728"
      ]
     },
     "execution_count": 72,
     "metadata": {},
     "output_type": "execute_result"
    }
   ],
   "source": [
    "np.mean(y_train == grid_search.predict(g_train[features]))"
   ]
  },
  {
   "cell_type": "code",
   "execution_count": 73,
   "metadata": {
    "collapsed": false
   },
   "outputs": [
    {
     "data": {
      "text/plain": [
       "0.4688361831218974"
      ]
     },
     "execution_count": 73,
     "metadata": {},
     "output_type": "execute_result"
    }
   ],
   "source": [
    "gp.bi.mean()"
   ]
  },
  {
   "cell_type": "code",
   "execution_count": null,
   "metadata": {
    "collapsed": true
   },
   "outputs": [],
   "source": []
  }
 ],
 "metadata": {
  "kernelspec": {
   "display_name": "Python 3",
   "language": "python",
   "name": "python3"
  },
  "language_info": {
   "codemirror_mode": {
    "name": "ipython",
    "version": 3
   },
   "file_extension": ".py",
   "mimetype": "text/x-python",
   "name": "python",
   "nbconvert_exporter": "python",
   "pygments_lexer": "ipython3",
   "version": "3.4.3"
  }
 },
 "nbformat": 4,
 "nbformat_minor": 0
}
