{
 "cells": [
  {
   "cell_type": "code",
   "execution_count": 3,
   "metadata": {
    "collapsed": true
   },
   "outputs": [],
   "source": [
    "import pandas as pd\n",
    "import numpy as np\n",
    "import twosigmafunc"
   ]
  },
  {
   "cell_type": "code",
   "execution_count": 4,
   "metadata": {
    "collapsed": true
   },
   "outputs": [],
   "source": [
    "train = pd.read_hdf('train.h5')"
   ]
  },
  {
   "cell_type": "code",
   "execution_count": 5,
   "metadata": {
    "collapsed": true
   },
   "outputs": [],
   "source": [
    "null_labels = [\n",
    " 'technical_21',\n",
    " 'technical_19',\n",
    " 'technical_27',\n",
    " 'technical_36',\n",
    " 'technical_35',\n",
    " 'technical_17',\n",
    " 'technical_43',\n",
    " 'technical_13',\n",
    " 'fundamental_33',\n",
    " 'technical_14',\n",
    " 'technical_33',\n",
    " 'fundamental_18',\n",
    " 'fundamental_48',\n",
    " 'fundamental_59',\n",
    " 'technical_9',\n",
    " 'technical_16',\n",
    " 'technical_42',\n",
    " 'technical_18',\n",
    " 'fundamental_42',\n",
    " 'fundamental_0',\n",
    " 'fundamental_7',\n",
    " 'fundamental_41',\n",
    " 'technical_41',\n",
    " 'fundamental_21',\n",
    " 'fundamental_19',\n",
    " 'technical_29',\n",
    " 'technical_24',\n",
    " 'derived_0',\n",
    " 'derived_1',\n",
    " 'fundamental_17',\n",
    " 'technical_3',\n",
    " 'fundamental_20',\n",
    " 'fundamental_32',\n",
    " 'fundamental_62',\n",
    " 'fundamental_25',\n",
    " 'technical_1',\n",
    " 'fundamental_58',\n",
    " 'derived_3',\n",
    " 'technical_5',\n",
    " 'fundamental_52',\n",
    " 'technical_10',\n",
    " 'technical_31',\n",
    " 'technical_25',\n",
    " 'technical_44',\n",
    " 'technical_28',\n",
    " 'fundamental_40',\n",
    " 'fundamental_27',\n",
    " 'fundamental_29',\n",
    " 'fundamental_43',\n",
    " 'fundamental_15',\n",
    " 'fundamental_30',\n",
    " 'fundamental_60',\n",
    " 'fundamental_16',\n",
    " 'fundamental_50',\n",
    " 'fundamental_44',\n",
    " 'fundamental_37',\n",
    " 'fundamental_14',\n",
    " 'fundamental_23',\n",
    " 'fundamental_55',\n",
    " 'fundamental_8',\n",
    " 'fundamental_63',\n",
    " 'fundamental_39',\n",
    " 'fundamental_54',\n",
    " 'derived_2',\n",
    " 'derived_4',\n",
    " 'fundamental_35',\n",
    " 'fundamental_34',\n",
    " 'fundamental_47',\n",
    " 'fundamental_51',\n",
    " 'fundamental_31',\n",
    " 'fundamental_49',\n",
    " 'fundamental_22',\n",
    " 'fundamental_9',\n",
    " 'fundamental_24',\n",
    " 'fundamental_57',\n",
    " 'fundamental_28',\n",
    " 'fundamental_61',\n",
    " 'fundamental_1',\n",
    " 'fundamental_6',\n",
    " 'fundamental_38',\n",
    " 'fundamental_5']"
   ]
  },
  {
   "cell_type": "code",
   "execution_count": 6,
   "metadata": {
    "collapsed": true
   },
   "outputs": [],
   "source": [
    "excl = ['id', 'timestamp', 'y']\n",
    "cols_origin = [col for col in train.columns if col not in ['y']]\n",
    "feature_origin = [col for col in train.columns if col not in excl]\n",
    "feature_diff = [col + '_diff' for col in feature_origin]\n"
   ]
  },
  {
   "cell_type": "markdown",
   "metadata": {},
   "source": [
    "# Add differs "
   ]
  },
  {
   "cell_type": "code",
   "execution_count": 7,
   "metadata": {
    "collapsed": true
   },
   "outputs": [],
   "source": [
    "# add time series diff\n",
    "d_mean = train.median()\n",
    "train.sort_values(['id', 'timestamp'], inplace=True)\n",
    "train['id_diff'] = train.id.diff()\n",
    "d_mean['id_diff'] = 0.0\n",
    "for col in feature_origin:\n",
    "    train[col + '_diff'] = train[col].diff()\n",
    "    d_mean[col + '_diff'] = 0.0\n",
    "\n",
    "train.loc[train.id_diff!=0, feature_diff] = 0\n"
   ]
  },
  {
   "cell_type": "code",
   "execution_count": 6,
   "metadata": {
    "collapsed": false
   },
   "outputs": [
    {
     "data": {
      "text/html": [
       "<div>\n",
       "<table border=\"1\" class=\"dataframe\">\n",
       "  <thead>\n",
       "    <tr style=\"text-align: right;\">\n",
       "      <th></th>\n",
       "      <th>id</th>\n",
       "      <th>timestamp</th>\n",
       "      <th>derived_0</th>\n",
       "      <th>derived_1</th>\n",
       "      <th>derived_2</th>\n",
       "      <th>derived_3</th>\n",
       "      <th>derived_4</th>\n",
       "      <th>fundamental_0</th>\n",
       "      <th>fundamental_1</th>\n",
       "      <th>fundamental_2</th>\n",
       "      <th>...</th>\n",
       "      <th>technical_35_diff</th>\n",
       "      <th>technical_36_diff</th>\n",
       "      <th>technical_37_diff</th>\n",
       "      <th>technical_38_diff</th>\n",
       "      <th>technical_39_diff</th>\n",
       "      <th>technical_40_diff</th>\n",
       "      <th>technical_41_diff</th>\n",
       "      <th>technical_42_diff</th>\n",
       "      <th>technical_43_diff</th>\n",
       "      <th>technical_44_diff</th>\n",
       "    </tr>\n",
       "  </thead>\n",
       "  <tbody>\n",
       "    <tr>\n",
       "      <th>131062</th>\n",
       "      <td>0</td>\n",
       "      <td>167</td>\n",
       "      <td>NaN</td>\n",
       "      <td>NaN</td>\n",
       "      <td>NaN</td>\n",
       "      <td>NaN</td>\n",
       "      <td>NaN</td>\n",
       "      <td>NaN</td>\n",
       "      <td>NaN</td>\n",
       "      <td>NaN</td>\n",
       "      <td>...</td>\n",
       "      <td>0.0</td>\n",
       "      <td>0.0</td>\n",
       "      <td>0.0</td>\n",
       "      <td>0.0</td>\n",
       "      <td>0.0</td>\n",
       "      <td>0.0</td>\n",
       "      <td>0.0</td>\n",
       "      <td>0.0</td>\n",
       "      <td>0.0</td>\n",
       "      <td>0.0</td>\n",
       "    </tr>\n",
       "    <tr>\n",
       "      <th>131895</th>\n",
       "      <td>0</td>\n",
       "      <td>168</td>\n",
       "      <td>NaN</td>\n",
       "      <td>NaN</td>\n",
       "      <td>NaN</td>\n",
       "      <td>NaN</td>\n",
       "      <td>NaN</td>\n",
       "      <td>NaN</td>\n",
       "      <td>NaN</td>\n",
       "      <td>NaN</td>\n",
       "      <td>...</td>\n",
       "      <td>NaN</td>\n",
       "      <td>NaN</td>\n",
       "      <td>NaN</td>\n",
       "      <td>NaN</td>\n",
       "      <td>NaN</td>\n",
       "      <td>NaN</td>\n",
       "      <td>NaN</td>\n",
       "      <td>NaN</td>\n",
       "      <td>NaN</td>\n",
       "      <td>NaN</td>\n",
       "    </tr>\n",
       "    <tr>\n",
       "      <th>132728</th>\n",
       "      <td>0</td>\n",
       "      <td>169</td>\n",
       "      <td>NaN</td>\n",
       "      <td>NaN</td>\n",
       "      <td>NaN</td>\n",
       "      <td>NaN</td>\n",
       "      <td>NaN</td>\n",
       "      <td>NaN</td>\n",
       "      <td>NaN</td>\n",
       "      <td>NaN</td>\n",
       "      <td>...</td>\n",
       "      <td>NaN</td>\n",
       "      <td>NaN</td>\n",
       "      <td>NaN</td>\n",
       "      <td>NaN</td>\n",
       "      <td>NaN</td>\n",
       "      <td>NaN</td>\n",
       "      <td>NaN</td>\n",
       "      <td>NaN</td>\n",
       "      <td>NaN</td>\n",
       "      <td>NaN</td>\n",
       "    </tr>\n",
       "    <tr>\n",
       "      <th>133561</th>\n",
       "      <td>0</td>\n",
       "      <td>170</td>\n",
       "      <td>-0.230583</td>\n",
       "      <td>0.488096</td>\n",
       "      <td>0.93592</td>\n",
       "      <td>0.028222</td>\n",
       "      <td>-0.083071</td>\n",
       "      <td>-0.240929</td>\n",
       "      <td>NaN</td>\n",
       "      <td>0.212425</td>\n",
       "      <td>...</td>\n",
       "      <td>NaN</td>\n",
       "      <td>NaN</td>\n",
       "      <td>NaN</td>\n",
       "      <td>NaN</td>\n",
       "      <td>NaN</td>\n",
       "      <td>NaN</td>\n",
       "      <td>NaN</td>\n",
       "      <td>NaN</td>\n",
       "      <td>NaN</td>\n",
       "      <td>NaN</td>\n",
       "    </tr>\n",
       "    <tr>\n",
       "      <th>134393</th>\n",
       "      <td>0</td>\n",
       "      <td>171</td>\n",
       "      <td>-0.230583</td>\n",
       "      <td>0.488096</td>\n",
       "      <td>0.93592</td>\n",
       "      <td>0.028222</td>\n",
       "      <td>-0.083071</td>\n",
       "      <td>-0.240929</td>\n",
       "      <td>NaN</td>\n",
       "      <td>0.212425</td>\n",
       "      <td>...</td>\n",
       "      <td>0.0</td>\n",
       "      <td>0.0</td>\n",
       "      <td>0.0</td>\n",
       "      <td>0.0</td>\n",
       "      <td>0.0</td>\n",
       "      <td>0.0</td>\n",
       "      <td>NaN</td>\n",
       "      <td>0.0</td>\n",
       "      <td>0.0</td>\n",
       "      <td>NaN</td>\n",
       "    </tr>\n",
       "  </tbody>\n",
       "</table>\n",
       "<p>5 rows × 220 columns</p>\n",
       "</div>"
      ],
      "text/plain": [
       "        id  timestamp  derived_0  derived_1  derived_2  derived_3  derived_4  \\\n",
       "131062   0        167        NaN        NaN        NaN        NaN        NaN   \n",
       "131895   0        168        NaN        NaN        NaN        NaN        NaN   \n",
       "132728   0        169        NaN        NaN        NaN        NaN        NaN   \n",
       "133561   0        170  -0.230583   0.488096    0.93592   0.028222  -0.083071   \n",
       "134393   0        171  -0.230583   0.488096    0.93592   0.028222  -0.083071   \n",
       "\n",
       "        fundamental_0  fundamental_1  fundamental_2        ...          \\\n",
       "131062            NaN            NaN            NaN        ...           \n",
       "131895            NaN            NaN            NaN        ...           \n",
       "132728            NaN            NaN            NaN        ...           \n",
       "133561      -0.240929            NaN       0.212425        ...           \n",
       "134393      -0.240929            NaN       0.212425        ...           \n",
       "\n",
       "        technical_35_diff  technical_36_diff  technical_37_diff  \\\n",
       "131062                0.0                0.0                0.0   \n",
       "131895                NaN                NaN                NaN   \n",
       "132728                NaN                NaN                NaN   \n",
       "133561                NaN                NaN                NaN   \n",
       "134393                0.0                0.0                0.0   \n",
       "\n",
       "        technical_38_diff  technical_39_diff  technical_40_diff  \\\n",
       "131062                0.0                0.0                0.0   \n",
       "131895                NaN                NaN                NaN   \n",
       "132728                NaN                NaN                NaN   \n",
       "133561                NaN                NaN                NaN   \n",
       "134393                0.0                0.0                0.0   \n",
       "\n",
       "        technical_41_diff  technical_42_diff  technical_43_diff  \\\n",
       "131062                0.0                0.0                0.0   \n",
       "131895                NaN                NaN                NaN   \n",
       "132728                NaN                NaN                NaN   \n",
       "133561                NaN                NaN                NaN   \n",
       "134393                NaN                0.0                0.0   \n",
       "\n",
       "        technical_44_diff  \n",
       "131062                0.0  \n",
       "131895                NaN  \n",
       "132728                NaN  \n",
       "133561                NaN  \n",
       "134393                NaN  \n",
       "\n",
       "[5 rows x 220 columns]"
      ]
     },
     "execution_count": 6,
     "metadata": {},
     "output_type": "execute_result"
    }
   ],
   "source": [
    "train.head()"
   ]
  },
  {
   "cell_type": "markdown",
   "metadata": {},
   "source": [
    "# add `nan` tags "
   ]
  },
  {
   "cell_type": "code",
   "execution_count": 8,
   "metadata": {
    "collapsed": true
   },
   "outputs": [],
   "source": [
    "n = train.isnull().sum(axis=1)\n",
    "for c in null_labels:\n",
    "    train[c + '_nan'] = pd.isnull(train[c])\n",
    "    d_mean[c + '_nan'] = 0\n",
    "train = train.fillna(d_mean)\n",
    "train['nullcounts'] = n"
   ]
  },
  {
   "cell_type": "code",
   "execution_count": 7,
   "metadata": {
    "collapsed": false
   },
   "outputs": [
    {
     "data": {
      "text/html": [
       "<div>\n",
       "<table border=\"1\" class=\"dataframe\">\n",
       "  <thead>\n",
       "    <tr style=\"text-align: right;\">\n",
       "      <th></th>\n",
       "      <th>id</th>\n",
       "      <th>timestamp</th>\n",
       "      <th>derived_0</th>\n",
       "      <th>derived_1</th>\n",
       "      <th>derived_2</th>\n",
       "      <th>derived_3</th>\n",
       "      <th>derived_4</th>\n",
       "      <th>fundamental_0</th>\n",
       "      <th>fundamental_1</th>\n",
       "      <th>fundamental_2</th>\n",
       "      <th>...</th>\n",
       "      <th>fundamental_9_nan</th>\n",
       "      <th>fundamental_24_nan</th>\n",
       "      <th>fundamental_57_nan</th>\n",
       "      <th>fundamental_28_nan</th>\n",
       "      <th>fundamental_61_nan</th>\n",
       "      <th>fundamental_1_nan</th>\n",
       "      <th>fundamental_6_nan</th>\n",
       "      <th>fundamental_38_nan</th>\n",
       "      <th>fundamental_5_nan</th>\n",
       "      <th>nullcounts</th>\n",
       "    </tr>\n",
       "  </thead>\n",
       "  <tbody>\n",
       "    <tr>\n",
       "      <th>131062</th>\n",
       "      <td>0</td>\n",
       "      <td>167</td>\n",
       "      <td>-0.000837</td>\n",
       "      <td>0.005523</td>\n",
       "      <td>0.021095</td>\n",
       "      <td>0.002476</td>\n",
       "      <td>0.011752</td>\n",
       "      <td>-0.040645</td>\n",
       "      <td>-0.007395</td>\n",
       "      <td>-0.030291</td>\n",
       "      <td>...</td>\n",
       "      <td>True</td>\n",
       "      <td>True</td>\n",
       "      <td>True</td>\n",
       "      <td>True</td>\n",
       "      <td>True</td>\n",
       "      <td>True</td>\n",
       "      <td>True</td>\n",
       "      <td>True</td>\n",
       "      <td>True</td>\n",
       "      <td>107</td>\n",
       "    </tr>\n",
       "    <tr>\n",
       "      <th>131895</th>\n",
       "      <td>0</td>\n",
       "      <td>168</td>\n",
       "      <td>-0.000837</td>\n",
       "      <td>0.005523</td>\n",
       "      <td>0.021095</td>\n",
       "      <td>0.002476</td>\n",
       "      <td>0.011752</td>\n",
       "      <td>-0.040645</td>\n",
       "      <td>-0.007395</td>\n",
       "      <td>-0.030291</td>\n",
       "      <td>...</td>\n",
       "      <td>True</td>\n",
       "      <td>True</td>\n",
       "      <td>True</td>\n",
       "      <td>True</td>\n",
       "      <td>True</td>\n",
       "      <td>True</td>\n",
       "      <td>True</td>\n",
       "      <td>True</td>\n",
       "      <td>True</td>\n",
       "      <td>212</td>\n",
       "    </tr>\n",
       "    <tr>\n",
       "      <th>132728</th>\n",
       "      <td>0</td>\n",
       "      <td>169</td>\n",
       "      <td>-0.000837</td>\n",
       "      <td>0.005523</td>\n",
       "      <td>0.021095</td>\n",
       "      <td>0.002476</td>\n",
       "      <td>0.011752</td>\n",
       "      <td>-0.040645</td>\n",
       "      <td>-0.007395</td>\n",
       "      <td>-0.030291</td>\n",
       "      <td>...</td>\n",
       "      <td>True</td>\n",
       "      <td>True</td>\n",
       "      <td>True</td>\n",
       "      <td>True</td>\n",
       "      <td>True</td>\n",
       "      <td>True</td>\n",
       "      <td>True</td>\n",
       "      <td>True</td>\n",
       "      <td>True</td>\n",
       "      <td>212</td>\n",
       "    </tr>\n",
       "    <tr>\n",
       "      <th>133561</th>\n",
       "      <td>0</td>\n",
       "      <td>170</td>\n",
       "      <td>-0.230583</td>\n",
       "      <td>0.488096</td>\n",
       "      <td>0.935920</td>\n",
       "      <td>0.028222</td>\n",
       "      <td>-0.083071</td>\n",
       "      <td>-0.240929</td>\n",
       "      <td>-0.007395</td>\n",
       "      <td>0.212425</td>\n",
       "      <td>...</td>\n",
       "      <td>False</td>\n",
       "      <td>False</td>\n",
       "      <td>False</td>\n",
       "      <td>False</td>\n",
       "      <td>True</td>\n",
       "      <td>True</td>\n",
       "      <td>False</td>\n",
       "      <td>False</td>\n",
       "      <td>False</td>\n",
       "      <td>125</td>\n",
       "    </tr>\n",
       "    <tr>\n",
       "      <th>134393</th>\n",
       "      <td>0</td>\n",
       "      <td>171</td>\n",
       "      <td>-0.230583</td>\n",
       "      <td>0.488096</td>\n",
       "      <td>0.935920</td>\n",
       "      <td>0.028222</td>\n",
       "      <td>-0.083071</td>\n",
       "      <td>-0.240929</td>\n",
       "      <td>-0.007395</td>\n",
       "      <td>0.212425</td>\n",
       "      <td>...</td>\n",
       "      <td>False</td>\n",
       "      <td>False</td>\n",
       "      <td>False</td>\n",
       "      <td>False</td>\n",
       "      <td>True</td>\n",
       "      <td>True</td>\n",
       "      <td>False</td>\n",
       "      <td>False</td>\n",
       "      <td>False</td>\n",
       "      <td>38</td>\n",
       "    </tr>\n",
       "  </tbody>\n",
       "</table>\n",
       "<p>5 rows × 302 columns</p>\n",
       "</div>"
      ],
      "text/plain": [
       "        id  timestamp  derived_0  derived_1  derived_2  derived_3  derived_4  \\\n",
       "131062   0        167  -0.000837   0.005523   0.021095   0.002476   0.011752   \n",
       "131895   0        168  -0.000837   0.005523   0.021095   0.002476   0.011752   \n",
       "132728   0        169  -0.000837   0.005523   0.021095   0.002476   0.011752   \n",
       "133561   0        170  -0.230583   0.488096   0.935920   0.028222  -0.083071   \n",
       "134393   0        171  -0.230583   0.488096   0.935920   0.028222  -0.083071   \n",
       "\n",
       "        fundamental_0  fundamental_1  fundamental_2     ...      \\\n",
       "131062      -0.040645      -0.007395      -0.030291     ...       \n",
       "131895      -0.040645      -0.007395      -0.030291     ...       \n",
       "132728      -0.040645      -0.007395      -0.030291     ...       \n",
       "133561      -0.240929      -0.007395       0.212425     ...       \n",
       "134393      -0.240929      -0.007395       0.212425     ...       \n",
       "\n",
       "        fundamental_9_nan  fundamental_24_nan  fundamental_57_nan  \\\n",
       "131062               True                True                True   \n",
       "131895               True                True                True   \n",
       "132728               True                True                True   \n",
       "133561              False               False               False   \n",
       "134393              False               False               False   \n",
       "\n",
       "        fundamental_28_nan  fundamental_61_nan  fundamental_1_nan  \\\n",
       "131062                True                True               True   \n",
       "131895                True                True               True   \n",
       "132728                True                True               True   \n",
       "133561               False                True               True   \n",
       "134393               False                True               True   \n",
       "\n",
       "        fundamental_6_nan  fundamental_38_nan  fundamental_5_nan  nullcounts  \n",
       "131062               True                True               True         107  \n",
       "131895               True                True               True         212  \n",
       "132728               True                True               True         212  \n",
       "133561              False               False              False         125  \n",
       "134393              False               False              False          38  \n",
       "\n",
       "[5 rows x 302 columns]"
      ]
     },
     "execution_count": 7,
     "metadata": {},
     "output_type": "execute_result"
    }
   ],
   "source": [
    "train.head()"
   ]
  },
  {
   "cell_type": "code",
   "execution_count": 14,
   "metadata": {
    "collapsed": false
   },
   "outputs": [],
   "source": [
    "feature_cols = [col for col in train.columns if col not in excl]\n",
    "X_train, y_train, X_test, y_test = twosigmafunc.split_data(train, feature_cols)"
   ]
  },
  {
   "cell_type": "markdown",
   "metadata": {},
   "source": [
    "# extract feature importance on 190 features  \n",
    "* Random Forest"
   ]
  },
  {
   "cell_type": "code",
   "execution_count": 7,
   "metadata": {
    "collapsed": false
   },
   "outputs": [],
   "source": [
    "from sklearn.ensemble import ExtraTreesRegressor\n",
    "etr = ExtraTreesRegressor(n_estimators=100,max_depth=4, n_jobs=-1, random_state=17, verbose=0)"
   ]
  },
  {
   "cell_type": "code",
   "execution_count": 56,
   "metadata": {
    "collapsed": false
   },
   "outputs": [
    {
     "data": {
      "text/plain": [
       "ExtraTreesRegressor(bootstrap=False, criterion='mse', max_depth=4,\n",
       "          max_features='auto', max_leaf_nodes=None,\n",
       "          min_impurity_split=1e-07, min_samples_leaf=1,\n",
       "          min_samples_split=2, min_weight_fraction_leaf=0.0,\n",
       "          n_estimators=100, n_jobs=-1, oob_score=False, random_state=17,\n",
       "          verbose=0, warm_start=False)"
      ]
     },
     "execution_count": 56,
     "metadata": {},
     "output_type": "execute_result"
    }
   ],
   "source": [
    "etr.fit(X_train, y_train)"
   ]
  },
  {
   "cell_type": "code",
   "execution_count": 59,
   "metadata": {
    "collapsed": false
   },
   "outputs": [],
   "source": [
    "imp = pd.DataFrame({'feature':feature_cols, 'important':etr.feature_importances_}).sort_values('important', ascending=False)"
   ]
  },
  {
   "cell_type": "code",
   "execution_count": 60,
   "metadata": {
    "collapsed": false
   },
   "outputs": [
    {
     "data": {
      "text/html": [
       "<div>\n",
       "<table border=\"1\" class=\"dataframe\">\n",
       "  <thead>\n",
       "    <tr style=\"text-align: right;\">\n",
       "      <th></th>\n",
       "      <th>feature</th>\n",
       "      <th>important</th>\n",
       "    </tr>\n",
       "  </thead>\n",
       "  <tbody>\n",
       "    <tr>\n",
       "      <th>93</th>\n",
       "      <td>technical_30</td>\n",
       "      <td>0.120668</td>\n",
       "    </tr>\n",
       "    <tr>\n",
       "      <th>85</th>\n",
       "      <td>technical_20</td>\n",
       "      <td>0.084096</td>\n",
       "    </tr>\n",
       "    <tr>\n",
       "      <th>15</th>\n",
       "      <td>fundamental_11</td>\n",
       "      <td>0.063413</td>\n",
       "    </tr>\n",
       "    <tr>\n",
       "      <th>231</th>\n",
       "      <td>technical_9_nan</td>\n",
       "      <td>0.062162</td>\n",
       "    </tr>\n",
       "    <tr>\n",
       "      <th>77</th>\n",
       "      <td>technical_11</td>\n",
       "      <td>0.052754</td>\n",
       "    </tr>\n",
       "    <tr>\n",
       "      <th>195</th>\n",
       "      <td>technical_21_diff</td>\n",
       "      <td>0.050056</td>\n",
       "    </tr>\n",
       "    <tr>\n",
       "      <th>186</th>\n",
       "      <td>technical_11_diff</td>\n",
       "      <td>0.043054</td>\n",
       "    </tr>\n",
       "    <tr>\n",
       "      <th>215</th>\n",
       "      <td>technical_43_diff</td>\n",
       "      <td>0.039284</td>\n",
       "    </tr>\n",
       "    <tr>\n",
       "      <th>70</th>\n",
       "      <td>technical_2</td>\n",
       "      <td>0.030954</td>\n",
       "    </tr>\n",
       "    <tr>\n",
       "      <th>106</th>\n",
       "      <td>technical_43</td>\n",
       "      <td>0.027248</td>\n",
       "    </tr>\n",
       "    <tr>\n",
       "      <th>179</th>\n",
       "      <td>technical_2_diff</td>\n",
       "      <td>0.019955</td>\n",
       "    </tr>\n",
       "    <tr>\n",
       "      <th>251</th>\n",
       "      <td>fundamental_25_nan</td>\n",
       "      <td>0.017957</td>\n",
       "    </tr>\n",
       "    <tr>\n",
       "      <th>73</th>\n",
       "      <td>technical_6</td>\n",
       "      <td>0.017852</td>\n",
       "    </tr>\n",
       "    <tr>\n",
       "      <th>182</th>\n",
       "      <td>technical_6_diff</td>\n",
       "      <td>0.017208</td>\n",
       "    </tr>\n",
       "    <tr>\n",
       "      <th>191</th>\n",
       "      <td>technical_17_diff</td>\n",
       "      <td>0.017101</td>\n",
       "    </tr>\n",
       "    <tr>\n",
       "      <th>189</th>\n",
       "      <td>technical_14_diff</td>\n",
       "      <td>0.017019</td>\n",
       "    </tr>\n",
       "    <tr>\n",
       "      <th>194</th>\n",
       "      <td>technical_20_diff</td>\n",
       "      <td>0.015154</td>\n",
       "    </tr>\n",
       "    <tr>\n",
       "      <th>202</th>\n",
       "      <td>technical_30_diff</td>\n",
       "      <td>0.014152</td>\n",
       "    </tr>\n",
       "    <tr>\n",
       "      <th>74</th>\n",
       "      <td>technical_7</td>\n",
       "      <td>0.010674</td>\n",
       "    </tr>\n",
       "    <tr>\n",
       "      <th>82</th>\n",
       "      <td>technical_17</td>\n",
       "      <td>0.009375</td>\n",
       "    </tr>\n",
       "    <tr>\n",
       "      <th>173</th>\n",
       "      <td>fundamental_60_diff</td>\n",
       "      <td>0.007458</td>\n",
       "    </tr>\n",
       "    <tr>\n",
       "      <th>207</th>\n",
       "      <td>technical_35_diff</td>\n",
       "      <td>0.007418</td>\n",
       "    </tr>\n",
       "    <tr>\n",
       "      <th>263</th>\n",
       "      <td>fundamental_27_nan</td>\n",
       "      <td>0.007224</td>\n",
       "    </tr>\n",
       "    <tr>\n",
       "      <th>55</th>\n",
       "      <td>fundamental_51</td>\n",
       "      <td>0.007069</td>\n",
       "    </tr>\n",
       "    <tr>\n",
       "      <th>169</th>\n",
       "      <td>fundamental_56_diff</td>\n",
       "      <td>0.006704</td>\n",
       "    </tr>\n",
       "    <tr>\n",
       "      <th>201</th>\n",
       "      <td>technical_29_diff</td>\n",
       "      <td>0.006490</td>\n",
       "    </tr>\n",
       "    <tr>\n",
       "      <th>80</th>\n",
       "      <td>technical_14</td>\n",
       "      <td>0.006458</td>\n",
       "    </tr>\n",
       "    <tr>\n",
       "      <th>57</th>\n",
       "      <td>fundamental_53</td>\n",
       "      <td>0.006139</td>\n",
       "    </tr>\n",
       "    <tr>\n",
       "      <th>260</th>\n",
       "      <td>technical_44_nan</td>\n",
       "      <td>0.006007</td>\n",
       "    </tr>\n",
       "    <tr>\n",
       "      <th>86</th>\n",
       "      <td>technical_21</td>\n",
       "      <td>0.005786</td>\n",
       "    </tr>\n",
       "    <tr>\n",
       "      <th>...</th>\n",
       "      <td>...</td>\n",
       "      <td>...</td>\n",
       "    </tr>\n",
       "    <tr>\n",
       "      <th>185</th>\n",
       "      <td>technical_10_diff</td>\n",
       "      <td>0.000000</td>\n",
       "    </tr>\n",
       "    <tr>\n",
       "      <th>206</th>\n",
       "      <td>technical_34_diff</td>\n",
       "      <td>0.000000</td>\n",
       "    </tr>\n",
       "    <tr>\n",
       "      <th>75</th>\n",
       "      <td>technical_9</td>\n",
       "      <td>0.000000</td>\n",
       "    </tr>\n",
       "    <tr>\n",
       "      <th>190</th>\n",
       "      <td>technical_16_diff</td>\n",
       "      <td>0.000000</td>\n",
       "    </tr>\n",
       "    <tr>\n",
       "      <th>192</th>\n",
       "      <td>technical_18_diff</td>\n",
       "      <td>0.000000</td>\n",
       "    </tr>\n",
       "    <tr>\n",
       "      <th>162</th>\n",
       "      <td>fundamental_49_diff</td>\n",
       "      <td>0.000000</td>\n",
       "    </tr>\n",
       "    <tr>\n",
       "      <th>31</th>\n",
       "      <td>fundamental_27</td>\n",
       "      <td>0.000000</td>\n",
       "    </tr>\n",
       "    <tr>\n",
       "      <th>16</th>\n",
       "      <td>fundamental_12</td>\n",
       "      <td>0.000000</td>\n",
       "    </tr>\n",
       "    <tr>\n",
       "      <th>144</th>\n",
       "      <td>fundamental_31_diff</td>\n",
       "      <td>0.000000</td>\n",
       "    </tr>\n",
       "    <tr>\n",
       "      <th>248</th>\n",
       "      <td>fundamental_20_nan</td>\n",
       "      <td>0.000000</td>\n",
       "    </tr>\n",
       "    <tr>\n",
       "      <th>129</th>\n",
       "      <td>fundamental_16_diff</td>\n",
       "      <td>0.000000</td>\n",
       "    </tr>\n",
       "    <tr>\n",
       "      <th>130</th>\n",
       "      <td>fundamental_17_diff</td>\n",
       "      <td>0.000000</td>\n",
       "    </tr>\n",
       "    <tr>\n",
       "      <th>132</th>\n",
       "      <td>fundamental_19_diff</td>\n",
       "      <td>0.000000</td>\n",
       "    </tr>\n",
       "    <tr>\n",
       "      <th>244</th>\n",
       "      <td>derived_0_nan</td>\n",
       "      <td>0.000000</td>\n",
       "    </tr>\n",
       "    <tr>\n",
       "      <th>83</th>\n",
       "      <td>technical_18</td>\n",
       "      <td>0.000000</td>\n",
       "    </tr>\n",
       "    <tr>\n",
       "      <th>138</th>\n",
       "      <td>fundamental_25_diff</td>\n",
       "      <td>0.000000</td>\n",
       "    </tr>\n",
       "    <tr>\n",
       "      <th>140</th>\n",
       "      <td>fundamental_27_diff</td>\n",
       "      <td>0.000000</td>\n",
       "    </tr>\n",
       "    <tr>\n",
       "      <th>141</th>\n",
       "      <td>fundamental_28_diff</td>\n",
       "      <td>0.000000</td>\n",
       "    </tr>\n",
       "    <tr>\n",
       "      <th>145</th>\n",
       "      <td>fundamental_32_diff</td>\n",
       "      <td>0.000000</td>\n",
       "    </tr>\n",
       "    <tr>\n",
       "      <th>153</th>\n",
       "      <td>fundamental_40_diff</td>\n",
       "      <td>0.000000</td>\n",
       "    </tr>\n",
       "    <tr>\n",
       "      <th>147</th>\n",
       "      <td>fundamental_34_diff</td>\n",
       "      <td>0.000000</td>\n",
       "    </tr>\n",
       "    <tr>\n",
       "      <th>151</th>\n",
       "      <td>fundamental_38_diff</td>\n",
       "      <td>0.000000</td>\n",
       "    </tr>\n",
       "    <tr>\n",
       "      <th>152</th>\n",
       "      <td>fundamental_39_diff</td>\n",
       "      <td>0.000000</td>\n",
       "    </tr>\n",
       "    <tr>\n",
       "      <th>232</th>\n",
       "      <td>technical_16_nan</td>\n",
       "      <td>0.000000</td>\n",
       "    </tr>\n",
       "    <tr>\n",
       "      <th>6</th>\n",
       "      <td>fundamental_1</td>\n",
       "      <td>0.000000</td>\n",
       "    </tr>\n",
       "    <tr>\n",
       "      <th>230</th>\n",
       "      <td>fundamental_59_nan</td>\n",
       "      <td>0.000000</td>\n",
       "    </tr>\n",
       "    <tr>\n",
       "      <th>229</th>\n",
       "      <td>fundamental_48_nan</td>\n",
       "      <td>0.000000</td>\n",
       "    </tr>\n",
       "    <tr>\n",
       "      <th>228</th>\n",
       "      <td>fundamental_18_nan</td>\n",
       "      <td>0.000000</td>\n",
       "    </tr>\n",
       "    <tr>\n",
       "      <th>227</th>\n",
       "      <td>technical_33_nan</td>\n",
       "      <td>0.000000</td>\n",
       "    </tr>\n",
       "    <tr>\n",
       "      <th>175</th>\n",
       "      <td>fundamental_62_diff</td>\n",
       "      <td>0.000000</td>\n",
       "    </tr>\n",
       "  </tbody>\n",
       "</table>\n",
       "<p>299 rows × 2 columns</p>\n",
       "</div>"
      ],
      "text/plain": [
       "                 feature  important\n",
       "93          technical_30   0.120668\n",
       "85          technical_20   0.084096\n",
       "15        fundamental_11   0.063413\n",
       "231      technical_9_nan   0.062162\n",
       "77          technical_11   0.052754\n",
       "195    technical_21_diff   0.050056\n",
       "186    technical_11_diff   0.043054\n",
       "215    technical_43_diff   0.039284\n",
       "70           technical_2   0.030954\n",
       "106         technical_43   0.027248\n",
       "179     technical_2_diff   0.019955\n",
       "251   fundamental_25_nan   0.017957\n",
       "73           technical_6   0.017852\n",
       "182     technical_6_diff   0.017208\n",
       "191    technical_17_diff   0.017101\n",
       "189    technical_14_diff   0.017019\n",
       "194    technical_20_diff   0.015154\n",
       "202    technical_30_diff   0.014152\n",
       "74           technical_7   0.010674\n",
       "82          technical_17   0.009375\n",
       "173  fundamental_60_diff   0.007458\n",
       "207    technical_35_diff   0.007418\n",
       "263   fundamental_27_nan   0.007224\n",
       "55        fundamental_51   0.007069\n",
       "169  fundamental_56_diff   0.006704\n",
       "201    technical_29_diff   0.006490\n",
       "80          technical_14   0.006458\n",
       "57        fundamental_53   0.006139\n",
       "260     technical_44_nan   0.006007\n",
       "86          technical_21   0.005786\n",
       "..                   ...        ...\n",
       "185    technical_10_diff   0.000000\n",
       "206    technical_34_diff   0.000000\n",
       "75           technical_9   0.000000\n",
       "190    technical_16_diff   0.000000\n",
       "192    technical_18_diff   0.000000\n",
       "162  fundamental_49_diff   0.000000\n",
       "31        fundamental_27   0.000000\n",
       "16        fundamental_12   0.000000\n",
       "144  fundamental_31_diff   0.000000\n",
       "248   fundamental_20_nan   0.000000\n",
       "129  fundamental_16_diff   0.000000\n",
       "130  fundamental_17_diff   0.000000\n",
       "132  fundamental_19_diff   0.000000\n",
       "244        derived_0_nan   0.000000\n",
       "83          technical_18   0.000000\n",
       "138  fundamental_25_diff   0.000000\n",
       "140  fundamental_27_diff   0.000000\n",
       "141  fundamental_28_diff   0.000000\n",
       "145  fundamental_32_diff   0.000000\n",
       "153  fundamental_40_diff   0.000000\n",
       "147  fundamental_34_diff   0.000000\n",
       "151  fundamental_38_diff   0.000000\n",
       "152  fundamental_39_diff   0.000000\n",
       "232     technical_16_nan   0.000000\n",
       "6          fundamental_1   0.000000\n",
       "230   fundamental_59_nan   0.000000\n",
       "229   fundamental_48_nan   0.000000\n",
       "228   fundamental_18_nan   0.000000\n",
       "227     technical_33_nan   0.000000\n",
       "175  fundamental_62_diff   0.000000\n",
       "\n",
       "[299 rows x 2 columns]"
      ]
     },
     "execution_count": 60,
     "metadata": {},
     "output_type": "execute_result"
    }
   ],
   "source": [
    "imp"
   ]
  },
  {
   "cell_type": "markdown",
   "metadata": {},
   "source": [
    "* linear model"
   ]
  },
  {
   "cell_type": "code",
   "execution_count": 56,
   "metadata": {
    "collapsed": true
   },
   "outputs": [],
   "source": [
    "from sklearn.linear_model import LinearRegression, Ridge\n",
    "lr = LinearRegression(n_jobs=-2)"
   ]
  },
  {
   "cell_type": "code",
   "execution_count": 37,
   "metadata": {
    "collapsed": false
   },
   "outputs": [],
   "source": [
    "low_y_cut = -0.075\n",
    "high_y_cut = 0.075\n",
    "y_is_above_cut = (y_train > high_y_cut)\n",
    "y_is_below_cut = (y_train < low_y_cut)\n",
    "y_is_within_cut = (~y_is_above_cut & ~y_is_below_cut)"
   ]
  },
  {
   "cell_type": "code",
   "execution_count": 17,
   "metadata": {
    "collapsed": false
   },
   "outputs": [],
   "source": [
    "linear_data = X_train[['technical_20', 'technical_20_diff']]"
   ]
  },
  {
   "cell_type": "code",
   "execution_count": 21,
   "metadata": {
    "collapsed": false
   },
   "outputs": [
    {
     "data": {
      "text/plain": [
       "LinearRegression(copy_X=True, fit_intercept=True, n_jobs=-2, normalize=False)"
      ]
     },
     "execution_count": 21,
     "metadata": {},
     "output_type": "execute_result"
    }
   ],
   "source": [
    "lr.fit(linear_data.loc[y_is_within_cut], y_train.loc[y_is_within_cut])"
   ]
  },
  {
   "cell_type": "markdown",
   "metadata": {},
   "source": [
    "Lr with normalize"
   ]
  },
  {
   "cell_type": "code",
   "execution_count": 22,
   "metadata": {
    "collapsed": false
   },
   "outputs": [
    {
     "data": {
      "text/plain": [
       "LinearRegression(copy_X=True, fit_intercept=True, n_jobs=-1, normalize=True)"
      ]
     },
     "execution_count": 22,
     "metadata": {},
     "output_type": "execute_result"
    }
   ],
   "source": [
    "lr_n = LinearRegression(n_jobs=-1, normalize=True)\n",
    "lr_n.fit(linear_data.loc[y_is_within_cut], y_train.loc[y_is_within_cut])"
   ]
  },
  {
   "cell_type": "markdown",
   "metadata": {},
   "source": [
    "**Score**"
   ]
  },
  {
   "cell_type": "code",
   "execution_count": 24,
   "metadata": {
    "collapsed": false
   },
   "outputs": [
    {
     "data": {
      "text/plain": [
       "0.026258437858586125"
      ]
     },
     "execution_count": 24,
     "metadata": {},
     "output_type": "execute_result"
    }
   ],
   "source": [
    "y_lr = lr.predict(X_test[['technical_20', 'technical_20_diff']]).clip(low_y_cut, high_y_cut)\n",
    "twosigmafunc.R_score(y_lr, y_test)"
   ]
  },
  {
   "cell_type": "code",
   "execution_count": 25,
   "metadata": {
    "collapsed": false
   },
   "outputs": [
    {
     "data": {
      "text/plain": [
       "0.026253916130410282"
      ]
     },
     "execution_count": 25,
     "metadata": {},
     "output_type": "execute_result"
    }
   ],
   "source": [
    "y_lr_n = lr_n.predict(X_test[['technical_20', 'technical_20_diff']]).clip(low_y_cut, high_y_cut)\n",
    "twosigmafunc.R_score(y_lr_n, y_test)"
   ]
  },
  {
   "cell_type": "markdown",
   "metadata": {},
   "source": [
    "**train on test**"
   ]
  },
  {
   "cell_type": "code",
   "execution_count": 29,
   "metadata": {
    "collapsed": true
   },
   "outputs": [],
   "source": [
    "y_above_cut = (y_test > high_y_cut)\n",
    "y_below_cut = (y_test < low_y_cut)\n",
    "y_within_cut_t = (~y_above_cut & ~y_below_cut)"
   ]
  },
  {
   "cell_type": "code",
   "execution_count": 38,
   "metadata": {
    "collapsed": false
   },
   "outputs": [
    {
     "data": {
      "text/plain": [
       "0.02872537889954821"
      ]
     },
     "execution_count": 38,
     "metadata": {},
     "output_type": "execute_result"
    }
   ],
   "source": [
    "lr.fit(X_test.loc[y_within_cut_t, ['technical_20', 'technical_20_diff']], y_test.loc[y_within_cut_t])\n",
    "y_lr_t = lr.predict(X_test[['technical_20', 'technical_20_diff']]).clip(low_y_cut, high_y_cut)\n",
    "twosigmafunc.R_score(y_lr_t, y_test)"
   ]
  },
  {
   "cell_type": "markdown",
   "metadata": {},
   "source": [
    "### 4 features "
   ]
  },
  {
   "cell_type": "code",
   "execution_count": 50,
   "metadata": {
    "collapsed": true
   },
   "outputs": [],
   "source": [
    "lr_features = ['technical_20', 'technical_20_diff', 'technical_30', 'technical_30_diff']"
   ]
  },
  {
   "cell_type": "code",
   "execution_count": 39,
   "metadata": {
    "collapsed": false
   },
   "outputs": [
    {
     "data": {
      "text/plain": [
       "0.02517587722068941"
      ]
     },
     "execution_count": 39,
     "metadata": {},
     "output_type": "execute_result"
    }
   ],
   "source": [
    "lr.fit(X_train.loc[y_is_within_cut, lr_features], y_train.loc[y_is_within_cut])\n",
    "y_lr_4 = lr.predict(X_test[lr_features]).clip(low_y_cut, high_y_cut)\n",
    "twosigmafunc.R_score(y_lr_4, y_test)"
   ]
  },
  {
   "cell_type": "markdown",
   "metadata": {},
   "source": [
    "on test"
   ]
  },
  {
   "cell_type": "code",
   "execution_count": 40,
   "metadata": {
    "collapsed": false
   },
   "outputs": [
    {
     "data": {
      "text/plain": [
       "0.02542409547017583"
      ]
     },
     "execution_count": 40,
     "metadata": {},
     "output_type": "execute_result"
    }
   ],
   "source": [
    "lr.fit(X_test.loc[y_within_cut_t, lr_features], y_test.loc[y_within_cut_t])\n",
    "y_lr_4t = lr.predict(X_test[lr_features]).clip(low_y_cut, high_y_cut)\n",
    "twosigmafunc.R_score(y_lr_4t, y_test)"
   ]
  },
  {
   "cell_type": "code",
   "execution_count": 41,
   "metadata": {
    "collapsed": false
   },
   "outputs": [
    {
     "data": {
      "text/plain": [
       "0.00019000316200126489"
      ]
     },
     "execution_count": 41,
     "metadata": {},
     "output_type": "execute_result"
    }
   ],
   "source": [
    "lr.intercept_"
   ]
  },
  {
   "cell_type": "code",
   "execution_count": 46,
   "metadata": {
    "collapsed": false
   },
   "outputs": [
    {
     "data": {
      "text/plain": [
       "array([-0.11967673, -0.28443399, -0.06038046,  0.14130551])"
      ]
     },
     "execution_count": 46,
     "metadata": {},
     "output_type": "execute_result"
    }
   ],
   "source": [
    "lr.coef_"
   ]
  },
  {
   "cell_type": "markdown",
   "metadata": {},
   "source": [
    "2 diff features"
   ]
  },
  {
   "cell_type": "code",
   "execution_count": 47,
   "metadata": {
    "collapsed": true
   },
   "outputs": [],
   "source": [
    "lr_features = ['technical_20_diff', 'technical_30_diff']"
   ]
  },
  {
   "cell_type": "code",
   "execution_count": 48,
   "metadata": {
    "collapsed": false
   },
   "outputs": [
    {
     "data": {
      "text/plain": [
       "0.025547632665956835"
      ]
     },
     "execution_count": 48,
     "metadata": {},
     "output_type": "execute_result"
    }
   ],
   "source": [
    "lr.fit(X_train.loc[y_is_within_cut, lr_features], y_train.loc[y_is_within_cut])\n",
    "y_lr_2diff = lr.predict(X_test[lr_features]).clip(low_y_cut, high_y_cut)\n",
    "twosigmafunc.R_score(y_lr_2diff, y_test)"
   ]
  },
  {
   "cell_type": "markdown",
   "metadata": {},
   "source": [
    "** Poly features **"
   ]
  },
  {
   "cell_type": "code",
   "execution_count": 49,
   "metadata": {
    "collapsed": true
   },
   "outputs": [],
   "source": [
    "from sklearn.preprocessing import PolynomialFeatures"
   ]
  },
  {
   "cell_type": "code",
   "execution_count": 52,
   "metadata": {
    "collapsed": false
   },
   "outputs": [
    {
     "data": {
      "text/plain": [
       "(806298, 15)"
      ]
     },
     "execution_count": 52,
     "metadata": {},
     "output_type": "execute_result"
    }
   ],
   "source": [
    "poly = PolynomialFeatures(2)\n",
    "poly_data = poly.fit_transform(X_train[lr_features])\n",
    "poly_data.shape"
   ]
  },
  {
   "cell_type": "code",
   "execution_count": 54,
   "metadata": {
    "collapsed": false
   },
   "outputs": [
    {
     "name": "stderr",
     "output_type": "stream",
     "text": [
      "/usr/local/lib/python3.4/site-packages/scipy/linalg/basic.py:884: RuntimeWarning: internal gelsd driver lwork query error, required iwork dimension not returned. This is likely the result of LAPACK bug 0038, fixed in LAPACK 3.2.2 (released July 21, 2010). Falling back to 'gelss' driver.\n",
      "  warnings.warn(mesg, RuntimeWarning)\n"
     ]
    },
    {
     "data": {
      "text/plain": [
       "0.027660929025422259"
      ]
     },
     "execution_count": 54,
     "metadata": {},
     "output_type": "execute_result"
    }
   ],
   "source": [
    "lr.fit(poly_data[y_is_within_cut,:], y_train.loc[y_is_within_cut])\n",
    "y_lr_d2 = lr.predict(poly.transform(X_test[lr_features])).clip(low_y_cut, high_y_cut)\n",
    "twosigmafunc.R_score(y_lr_d2, y_test)"
   ]
  },
  {
   "cell_type": "code",
   "execution_count": 55,
   "metadata": {
    "collapsed": false
   },
   "outputs": [
    {
     "data": {
      "text/plain": [
       "array([  0.00000000e+00,  -8.84715340e-02,  -1.72526378e-01,\n",
       "         1.60155888e-03,   1.98629066e-01,  -7.77571378e+00,\n",
       "        -3.27377858e+00,   1.65334503e-14,  -1.80358043e+01,\n",
       "         2.63114299e+01,   4.10690260e+01,   2.30332217e+01,\n",
       "        -2.86928507e-01,   1.76027971e+00,   4.20058233e+00])"
      ]
     },
     "execution_count": 55,
     "metadata": {},
     "output_type": "execute_result"
    }
   ],
   "source": [
    "lr.coef_"
   ]
  },
  {
   "cell_type": "code",
   "execution_count": 58,
   "metadata": {
    "collapsed": false
   },
   "outputs": [
    {
     "data": {
      "text/plain": [
       "0.024408742142398687"
      ]
     },
     "execution_count": 58,
     "metadata": {},
     "output_type": "execute_result"
    }
   ],
   "source": [
    "ridge = Ridge()\n",
    "ridge.fit(poly_data[y_is_within_cut,:], y_train.loc[y_is_within_cut])\n",
    "y_rid_d2 = ridge.predict(poly.transform(X_test[lr_features])).clip(low_y_cut, high_y_cut)\n",
    "twosigmafunc.R_score(y_rid_d2, y_test)"
   ]
  },
  {
   "cell_type": "markdown",
   "metadata": {},
   "source": [
    "* Ridge"
   ]
  },
  {
   "cell_type": "code",
   "execution_count": 40,
   "metadata": {
    "collapsed": true
   },
   "outputs": [],
   "source": [
    "from sklearn.linear_model import Ridge, Lasso\n",
    "ridge = Ridge()"
   ]
  },
  {
   "cell_type": "code",
   "execution_count": 53,
   "metadata": {
    "collapsed": false
   },
   "outputs": [
    {
     "data": {
      "text/plain": [
       "Ridge(alpha=1.0, copy_X=True, fit_intercept=True, max_iter=None,\n",
       "   normalize=False, random_state=None, solver='auto', tol=0.001)"
      ]
     },
     "execution_count": 53,
     "metadata": {},
     "output_type": "execute_result"
    }
   ],
   "source": [
    "ridge.fit(X_train[['technical_30', 'technical_30_diff', 'technical_20', 'technical_20_diff']], X_train.y)"
   ]
  },
  {
   "cell_type": "markdown",
   "metadata": {},
   "source": [
    "* Lasso"
   ]
  },
  {
   "cell_type": "code",
   "execution_count": 63,
   "metadata": {
    "collapsed": false
   },
   "outputs": [
    {
     "data": {
      "text/plain": [
       "Lasso(alpha=1.0, copy_X=True, fit_intercept=True, max_iter=1000,\n",
       "   normalize=False, positive=False, precompute=False, random_state=None,\n",
       "   selection='cyclic', tol=0.0001, warm_start=False)"
      ]
     },
     "execution_count": 63,
     "metadata": {},
     "output_type": "execute_result"
    }
   ],
   "source": [
    "lasso = Lasso()\n",
    "lasso.fit(X_train[['technical_30', 'technical_30_diff', 'technical_20', 'technical_20_diff']], X_train.y)"
   ]
  },
  {
   "cell_type": "markdown",
   "metadata": {},
   "source": [
    "* Xgboost"
   ]
  },
  {
   "cell_type": "code",
   "execution_count": 50,
   "metadata": {
    "collapsed": false
   },
   "outputs": [],
   "source": [
    "from xgboost import XGBRegressor\n",
    "xgb = XGBRegressor(max_depth=3, learning_rate=0.1, n_estimators=100, silent=True, objective='reg:linear', nthread=-1)"
   ]
  },
  {
   "cell_type": "code",
   "execution_count": 52,
   "metadata": {
    "collapsed": false
   },
   "outputs": [
    {
     "data": {
      "text/plain": [
       "XGBRegressor(base_score=0.5, colsample_bylevel=1, colsample_bytree=1, gamma=0,\n",
       "       learning_rate=0.1, max_delta_step=0, max_depth=3,\n",
       "       min_child_weight=1, missing=None, n_estimators=100, nthread=-1,\n",
       "       objective='reg:linear', reg_alpha=0, reg_lambda=1,\n",
       "       scale_pos_weight=1, seed=0, silent=True, subsample=1)"
      ]
     },
     "execution_count": 52,
     "metadata": {},
     "output_type": "execute_result"
    }
   ],
   "source": [
    "xgb.fit(X_train[xgb_features], y_train)"
   ]
  },
  {
   "cell_type": "code",
   "execution_count": 30,
   "metadata": {
    "collapsed": false
   },
   "outputs": [],
   "source": [
    "imp = twosigmafunc.sort_dict(xgb.booster().get_fscore(), key=lambda x : x[1])"
   ]
  },
  {
   "cell_type": "code",
   "execution_count": 48,
   "metadata": {
    "collapsed": false
   },
   "outputs": [],
   "source": [
    "xgb_features = [a for a, b in imp if b > 5]"
   ]
  },
  {
   "cell_type": "code",
   "execution_count": 49,
   "metadata": {
    "collapsed": false
   },
   "outputs": [
    {
     "data": {
      "text/plain": [
       "['technical_30',\n",
       " 'technical_20',\n",
       " 'technical_30_diff',\n",
       " 'fundamental_53',\n",
       " 'technical_20_diff',\n",
       " 'technical_21_diff',\n",
       " 'technical_14_diff',\n",
       " 'technical_43_diff',\n",
       " 'technical_40',\n",
       " 'technical_11_diff',\n",
       " 'technical_35_diff',\n",
       " 'technical_36',\n",
       " 'fundamental_11',\n",
       " 'technical_19',\n",
       " 'technical_19_diff',\n",
       " 'technical_2_diff',\n",
       " 'technical_27',\n",
       " 'fundamental_53_diff',\n",
       " 'technical_21',\n",
       " 'technical_36_diff',\n",
       " 'technical_9_nan',\n",
       " 'fundamental_60_diff',\n",
       " 'technical_17',\n",
       " 'fundamental_18_diff',\n",
       " 'technical_17_diff',\n",
       " 'technical_13_diff',\n",
       " 'fundamental_44',\n",
       " 'technical_33']"
      ]
     },
     "execution_count": 49,
     "metadata": {},
     "output_type": "execute_result"
    }
   ],
   "source": [
    "xgb_features"
   ]
  },
  {
   "cell_type": "markdown",
   "metadata": {},
   "source": [
    "### creat validation set "
   ]
  },
  {
   "cell_type": "code",
   "execution_count": 57,
   "metadata": {
    "collapsed": false
   },
   "outputs": [],
   "source": [
    "y_etr = etr.predict(X_test).clip(low_y_cut, high_y_cut)"
   ]
  },
  {
   "cell_type": "code",
   "execution_count": 37,
   "metadata": {
    "collapsed": true
   },
   "outputs": [],
   "source": [
    "y_svr = svr.predict(X_test[feature_cols])"
   ]
  },
  {
   "cell_type": "code",
   "execution_count": 56,
   "metadata": {
    "collapsed": true
   },
   "outputs": [],
   "source": [
    "y_ridge = ridge.predict(X_test[['technical_30', 'technical_30_diff','technical_20', 'technical_20_diff']]).clip(low_y_cut, high_y_cut)"
   ]
  },
  {
   "cell_type": "code",
   "execution_count": 64,
   "metadata": {
    "collapsed": true
   },
   "outputs": [],
   "source": [
    "y_lasso = lasso.predict(X_test[['technical_30', 'technical_30_diff','technical_20', 'technical_20_diff']]).clip(low_y_cut, high_y_cut)"
   ]
  },
  {
   "cell_type": "code",
   "execution_count": 53,
   "metadata": {
    "collapsed": false
   },
   "outputs": [],
   "source": [
    "y_xgb = xgb.predict(X_test[xgb_features]).clip(low_y_cut, high_y_cut)"
   ]
  },
  {
   "cell_type": "code",
   "execution_count": 58,
   "metadata": {
    "collapsed": false
   },
   "outputs": [
    {
     "data": {
      "text/plain": [
       "0.019170860958290212"
      ]
     },
     "execution_count": 58,
     "metadata": {},
     "output_type": "execute_result"
    }
   ],
   "source": [
    "from twosigmafunc import R_score\n",
    "R_score(y_etr, y_test)"
   ]
  },
  {
   "cell_type": "code",
   "execution_count": 57,
   "metadata": {
    "collapsed": false
   },
   "outputs": [
    {
     "data": {
      "text/plain": [
       "0.02514904325342103"
      ]
     },
     "execution_count": 57,
     "metadata": {},
     "output_type": "execute_result"
    }
   ],
   "source": [
    "R_score(y_ridge, X_test.y)"
   ]
  },
  {
   "cell_type": "code",
   "execution_count": 65,
   "metadata": {
    "collapsed": false
   },
   "outputs": [
    {
     "data": {
      "text/plain": [
       "-0.002363115148336778"
      ]
     },
     "execution_count": 65,
     "metadata": {},
     "output_type": "execute_result"
    }
   ],
   "source": [
    "R_score(y_lasso, X_test.y)"
   ]
  },
  {
   "cell_type": "code",
   "execution_count": 41,
   "metadata": {
    "collapsed": false
   },
   "outputs": [
    {
     "data": {
      "text/plain": [
       "-0.15549906463860921"
      ]
     },
     "execution_count": 41,
     "metadata": {},
     "output_type": "execute_result"
    }
   ],
   "source": [
    "R_score(y_svr.clip(low_y_cut, high_y_cut), X_test.y)"
   ]
  },
  {
   "cell_type": "code",
   "execution_count": 61,
   "metadata": {
    "collapsed": false
   },
   "outputs": [
    {
     "data": {
      "text/plain": [
       "0.050979812927681063"
      ]
     },
     "execution_count": 61,
     "metadata": {},
     "output_type": "execute_result"
    }
   ],
   "source": [
    "R_score(y_xgb,  X_test.y)"
   ]
  },
  {
   "cell_type": "markdown",
   "metadata": {},
   "source": [
    "### clip value 0.08"
   ]
  },
  {
   "cell_type": "code",
   "execution_count": 85,
   "metadata": {
    "collapsed": true
   },
   "outputs": [],
   "source": [
    "low_y_cut = -0.086093\n",
    "high_y_cut = 0.093497\n",
    "y_is_above_cut = (X_train.y > high_y_cut)\n",
    "y_is_below_cut = (X_train.y < low_y_cut)\n",
    "y_is_within_cut = (~y_is_above_cut & ~y_is_below_cut)"
   ]
  },
  {
   "cell_type": "code",
   "execution_count": 86,
   "metadata": {
    "collapsed": true
   },
   "outputs": [],
   "source": [
    "y_xgb = xgb.predict(X_test[feature_cols]).clip(low_y_cut, high_y_cut)"
   ]
  },
  {
   "cell_type": "code",
   "execution_count": 87,
   "metadata": {
    "collapsed": false
   },
   "outputs": [
    {
     "data": {
      "text/plain": [
       "0.050979812927681063"
      ]
     },
     "execution_count": 87,
     "metadata": {},
     "output_type": "execute_result"
    }
   ],
   "source": [
    "R_score(y_xgb, X_test.y)"
   ]
  },
  {
   "cell_type": "code",
   "execution_count": 34,
   "metadata": {
    "collapsed": true
   },
   "outputs": [],
   "source": [
    "train = 0"
   ]
  },
  {
   "cell_type": "code",
   "execution_count": 27,
   "metadata": {
    "collapsed": true
   },
   "outputs": [],
   "source": [
    "model_split = [0.05 * x for x in range(20)]"
   ]
  },
  {
   "cell_type": "code",
   "execution_count": 28,
   "metadata": {
    "collapsed": false
   },
   "outputs": [
    {
     "name": "stdout",
     "output_type": "stream",
     "text": [
      "Random Forest: 0.0 Score: 0.021760649232\n",
      "Random Forest: 0.05 Score: 0.0232846698717\n",
      "Random Forest: 0.1 Score: 0.0246520369963\n",
      "Random Forest: 0.15000000000000002 Score: 0.0258875855594\n",
      "Random Forest: 0.2 Score: 0.0270094117878\n",
      "Random Forest: 0.25 Score: 0.0280311727395\n",
      "Random Forest: 0.30000000000000004 Score: 0.0289634605351\n",
      "Random Forest: 0.35000000000000003 Score: 0.0298146696811\n",
      "Random Forest: 0.4 Score: 0.0305915689563\n",
      "Random Forest: 0.45 Score: 0.0312996922544\n",
      "Random Forest: 0.5 Score: 0.0319436137629\n",
      "Random Forest: 0.55 Score: 0.0325271466046\n",
      "Random Forest: 0.6000000000000001 Score: 0.0330534892749\n",
      "Random Forest: 0.65 Score: 0.0335253355128\n",
      "Random Forest: 0.7000000000000001 Score: 0.0339449579503\n",
      "Random Forest: 0.75 Score: 0.0343142725443\n",
      "Random Forest: 0.8 Score: 0.0346348886419\n",
      "Random Forest: 0.8500000000000001 Score: 0.0349081480923\n",
      "Random Forest: 0.9 Score: 0.0351351558445\n",
      "Random Forest: 0.9500000000000001 Score: 0.0353168037937\n"
     ]
    }
   ],
   "source": [
    "for a in model_split:\n",
    "    y = a * y_etr + (1 - a) * y_lr\n",
    "    print('Random Forest:', a, 'Score:', R_score(y, X_test.y))"
   ]
  },
  {
   "cell_type": "code",
   "execution_count": 29,
   "metadata": {
    "collapsed": false
   },
   "outputs": [
    {
     "name": "stdout",
     "output_type": "stream",
     "text": [
      "Random Forest: 0.7 Score: 0.0339449579503\n",
      "Random Forest: 0.7074999999999999 Score: 0.034003519683\n",
      "Random Forest: 0.715 Score: 0.0340609558841\n",
      "Random Forest: 0.7224999999999999 Score: 0.0341172722382\n",
      "Random Forest: 0.73 Score: 0.0341724742816\n",
      "Random Forest: 0.7374999999999999 Score: 0.0342265674061\n",
      "Random Forest: 0.745 Score: 0.0342795568612\n",
      "Random Forest: 0.7525 Score: 0.0343314477574\n",
      "Random Forest: 0.76 Score: 0.0343822450687\n",
      "Random Forest: 0.7675 Score: 0.0344319536351\n",
      "Random Forest: 0.7749999999999999 Score: 0.0344805781654\n",
      "Random Forest: 0.7825 Score: 0.0345281232393\n",
      "Random Forest: 0.7899999999999999 Score: 0.0345745933101\n",
      "Random Forest: 0.7975 Score: 0.0346199927068\n",
      "Random Forest: 0.8049999999999999 Score: 0.0346643256359\n",
      "Random Forest: 0.8125 Score: 0.0347075961843\n",
      "Random Forest: 0.82 Score: 0.0347498083206\n",
      "Random Forest: 0.8274999999999999 Score: 0.0347909658972\n",
      "Random Forest: 0.835 Score: 0.0348310726526\n",
      "Random Forest: 0.8425 Score: 0.0348701322125\n"
     ]
    }
   ],
   "source": [
    "for a in model_split:\n",
    "    a = (0.15 / 1) * a + 0.7\n",
    "    y = a * y_etr + (1 - a) * y_lr\n",
    "    print('Random Forest:', a, 'Score:', R_score(y, X_test.y))"
   ]
  },
  {
   "cell_type": "markdown",
   "metadata": {},
   "source": [
    "mean_dict"
   ]
  },
  {
   "cell_type": "code",
   "execution_count": 32,
   "metadata": {
    "collapsed": false
   },
   "outputs": [],
   "source": [
    "ymean_dict = dict(train.groupby([\"id\"])[\"y\"].median())"
   ]
  },
  {
   "cell_type": "code",
   "execution_count": 33,
   "metadata": {
    "collapsed": false
   },
   "outputs": [
    {
     "name": "stdout",
     "output_type": "stream",
     "text": [
      "median split: 0.0 score 0.0344482820315\n",
      "median split: 0.005 score 0.034560629489\n",
      "median split: 0.01 score 0.0346706639744\n",
      "median split: 0.015 score 0.0347784074414\n",
      "median split: 0.02 score 0.0348838811183\n",
      "median split: 0.025 score 0.0349871055331\n",
      "median split: 0.03 score 0.0350881005369\n",
      "median split: 0.035 score 0.0351868853264\n",
      "median split: 0.04 score 0.0352834784658\n",
      "median split: 0.045 score 0.0353778979069\n",
      "median split: 0.05 score 0.0354701610084\n",
      "median split: 0.055 score 0.0355602845545\n",
      "median split: 0.06 score 0.0356482847726\n",
      "median split: 0.065 score 0.0357341773495\n",
      "median split: 0.07 score 0.0358179774478\n",
      "median split: 0.075 score 0.0358996997208\n",
      "median split: 0.08 score 0.035979358327\n",
      "median split: 0.085 score 0.0360569669439\n",
      "median split: 0.09 score 0.0361325387808\n",
      "median split: 0.095 score 0.0362060865918\n"
     ]
    }
   ],
   "source": [
    "median_split = [0.005 * x for x in range(20)]\n",
    "for b in median_split:\n",
    "    y = 0.77 * y_etr + 0.23 * y_lr\n",
    "    y_data = pd.DataFrame({'id':X_test.id, 'y':y})\n",
    "    y = y_data.apply(lambda r: (1 - b) * r['y'] + b * ymean_dict[r['id']] if r['id'] in ymean_dict else r['y'], axis = 1)\n",
    "    print('median split:',b, 'score', R_score(y, X_test.y))"
   ]
  },
  {
   "cell_type": "markdown",
   "metadata": {},
   "source": [
    "# here we remove some unimportant features "
   ]
  },
  {
   "cell_type": "code",
   "execution_count": 61,
   "metadata": {
    "collapsed": true
   },
   "outputs": [],
   "source": [
    "feature_imp = imp.loc[imp.important > imp.important.mean() / 10, 'feature']"
   ]
  },
  {
   "cell_type": "code",
   "execution_count": 62,
   "metadata": {
    "collapsed": false
   },
   "outputs": [
    {
     "data": {
      "text/plain": [
       "(169,)"
      ]
     },
     "execution_count": 62,
     "metadata": {},
     "output_type": "execute_result"
    }
   ],
   "source": [
    "feature_imp.shape"
   ]
  },
  {
   "cell_type": "markdown",
   "metadata": {},
   "source": [
    "we remove 43 features, let see how remaining features perform!"
   ]
  },
  {
   "cell_type": "markdown",
   "metadata": {},
   "source": [
    "# Train on the 169 features "
   ]
  },
  {
   "cell_type": "code",
   "execution_count": 63,
   "metadata": {
    "collapsed": false
   },
   "outputs": [
    {
     "data": {
      "text/plain": [
       "ExtraTreesRegressor(bootstrap=False, criterion='mse', max_depth=4,\n",
       "          max_features='auto', max_leaf_nodes=None,\n",
       "          min_impurity_split=1e-07, min_samples_leaf=1,\n",
       "          min_samples_split=2, min_weight_fraction_leaf=0.0,\n",
       "          n_estimators=100, n_jobs=-1, oob_score=False, random_state=17,\n",
       "          verbose=0, warm_start=False)"
      ]
     },
     "execution_count": 63,
     "metadata": {},
     "output_type": "execute_result"
    }
   ],
   "source": [
    "etr.fit(X_train[feature_imp], y_train)"
   ]
  },
  {
   "cell_type": "code",
   "execution_count": 64,
   "metadata": {
    "collapsed": false
   },
   "outputs": [],
   "source": [
    "imp = pd.DataFrame({'feature':feature_imp, 'important':etr.feature_importances_}).sort_values('important', ascending=False)"
   ]
  },
  {
   "cell_type": "code",
   "execution_count": 65,
   "metadata": {
    "collapsed": false
   },
   "outputs": [
    {
     "data": {
      "text/html": [
       "<div>\n",
       "<table border=\"1\" class=\"dataframe\">\n",
       "  <thead>\n",
       "    <tr style=\"text-align: right;\">\n",
       "      <th></th>\n",
       "      <th>feature</th>\n",
       "      <th>important</th>\n",
       "    </tr>\n",
       "  </thead>\n",
       "  <tbody>\n",
       "    <tr>\n",
       "      <th>93</th>\n",
       "      <td>technical_30</td>\n",
       "      <td>0.120480</td>\n",
       "    </tr>\n",
       "    <tr>\n",
       "      <th>85</th>\n",
       "      <td>technical_20</td>\n",
       "      <td>0.079670</td>\n",
       "    </tr>\n",
       "    <tr>\n",
       "      <th>15</th>\n",
       "      <td>fundamental_11</td>\n",
       "      <td>0.070782</td>\n",
       "    </tr>\n",
       "    <tr>\n",
       "      <th>231</th>\n",
       "      <td>technical_9_nan</td>\n",
       "      <td>0.059384</td>\n",
       "    </tr>\n",
       "    <tr>\n",
       "      <th>195</th>\n",
       "      <td>technical_21_diff</td>\n",
       "      <td>0.054813</td>\n",
       "    </tr>\n",
       "    <tr>\n",
       "      <th>186</th>\n",
       "      <td>technical_11_diff</td>\n",
       "      <td>0.044502</td>\n",
       "    </tr>\n",
       "    <tr>\n",
       "      <th>215</th>\n",
       "      <td>technical_43_diff</td>\n",
       "      <td>0.043677</td>\n",
       "    </tr>\n",
       "    <tr>\n",
       "      <th>106</th>\n",
       "      <td>technical_43</td>\n",
       "      <td>0.035264</td>\n",
       "    </tr>\n",
       "    <tr>\n",
       "      <th>77</th>\n",
       "      <td>technical_11</td>\n",
       "      <td>0.034311</td>\n",
       "    </tr>\n",
       "    <tr>\n",
       "      <th>179</th>\n",
       "      <td>technical_2_diff</td>\n",
       "      <td>0.033536</td>\n",
       "    </tr>\n",
       "    <tr>\n",
       "      <th>73</th>\n",
       "      <td>technical_6</td>\n",
       "      <td>0.025598</td>\n",
       "    </tr>\n",
       "    <tr>\n",
       "      <th>70</th>\n",
       "      <td>technical_2</td>\n",
       "      <td>0.023822</td>\n",
       "    </tr>\n",
       "    <tr>\n",
       "      <th>251</th>\n",
       "      <td>fundamental_25_nan</td>\n",
       "      <td>0.018915</td>\n",
       "    </tr>\n",
       "    <tr>\n",
       "      <th>82</th>\n",
       "      <td>technical_17</td>\n",
       "      <td>0.012657</td>\n",
       "    </tr>\n",
       "    <tr>\n",
       "      <th>189</th>\n",
       "      <td>technical_14_diff</td>\n",
       "      <td>0.012555</td>\n",
       "    </tr>\n",
       "    <tr>\n",
       "      <th>191</th>\n",
       "      <td>technical_17_diff</td>\n",
       "      <td>0.011785</td>\n",
       "    </tr>\n",
       "    <tr>\n",
       "      <th>194</th>\n",
       "      <td>technical_20_diff</td>\n",
       "      <td>0.011230</td>\n",
       "    </tr>\n",
       "    <tr>\n",
       "      <th>74</th>\n",
       "      <td>technical_7</td>\n",
       "      <td>0.009084</td>\n",
       "    </tr>\n",
       "    <tr>\n",
       "      <th>182</th>\n",
       "      <td>technical_6_diff</td>\n",
       "      <td>0.008300</td>\n",
       "    </tr>\n",
       "    <tr>\n",
       "      <th>173</th>\n",
       "      <td>fundamental_60_diff</td>\n",
       "      <td>0.007881</td>\n",
       "    </tr>\n",
       "    <tr>\n",
       "      <th>54</th>\n",
       "      <td>fundamental_50</td>\n",
       "      <td>0.007828</td>\n",
       "    </tr>\n",
       "    <tr>\n",
       "      <th>12</th>\n",
       "      <td>fundamental_8</td>\n",
       "      <td>0.007544</td>\n",
       "    </tr>\n",
       "    <tr>\n",
       "      <th>193</th>\n",
       "      <td>technical_19_diff</td>\n",
       "      <td>0.007352</td>\n",
       "    </tr>\n",
       "    <tr>\n",
       "      <th>208</th>\n",
       "      <td>technical_36_diff</td>\n",
       "      <td>0.007155</td>\n",
       "    </tr>\n",
       "    <tr>\n",
       "      <th>169</th>\n",
       "      <td>fundamental_56_diff</td>\n",
       "      <td>0.006989</td>\n",
       "    </tr>\n",
       "    <tr>\n",
       "      <th>202</th>\n",
       "      <td>technical_30_diff</td>\n",
       "      <td>0.006920</td>\n",
       "    </tr>\n",
       "    <tr>\n",
       "      <th>259</th>\n",
       "      <td>technical_25_nan</td>\n",
       "      <td>0.006476</td>\n",
       "    </tr>\n",
       "    <tr>\n",
       "      <th>103</th>\n",
       "      <td>technical_40</td>\n",
       "      <td>0.006412</td>\n",
       "    </tr>\n",
       "    <tr>\n",
       "      <th>80</th>\n",
       "      <td>technical_14</td>\n",
       "      <td>0.006301</td>\n",
       "    </tr>\n",
       "    <tr>\n",
       "      <th>86</th>\n",
       "      <td>technical_21</td>\n",
       "      <td>0.006208</td>\n",
       "    </tr>\n",
       "    <tr>\n",
       "      <th>...</th>\n",
       "      <td>...</td>\n",
       "      <td>...</td>\n",
       "    </tr>\n",
       "    <tr>\n",
       "      <th>109</th>\n",
       "      <td>derived_0_diff</td>\n",
       "      <td>0.000238</td>\n",
       "    </tr>\n",
       "    <tr>\n",
       "      <th>156</th>\n",
       "      <td>fundamental_43_diff</td>\n",
       "      <td>0.000237</td>\n",
       "    </tr>\n",
       "    <tr>\n",
       "      <th>242</th>\n",
       "      <td>technical_29_nan</td>\n",
       "      <td>0.000226</td>\n",
       "    </tr>\n",
       "    <tr>\n",
       "      <th>203</th>\n",
       "      <td>technical_31_diff</td>\n",
       "      <td>0.000221</td>\n",
       "    </tr>\n",
       "    <tr>\n",
       "      <th>23</th>\n",
       "      <td>fundamental_19</td>\n",
       "      <td>0.000215</td>\n",
       "    </tr>\n",
       "    <tr>\n",
       "      <th>160</th>\n",
       "      <td>fundamental_47_diff</td>\n",
       "      <td>0.000196</td>\n",
       "    </tr>\n",
       "    <tr>\n",
       "      <th>277</th>\n",
       "      <td>fundamental_63_nan</td>\n",
       "      <td>0.000194</td>\n",
       "    </tr>\n",
       "    <tr>\n",
       "      <th>124</th>\n",
       "      <td>fundamental_11_diff</td>\n",
       "      <td>0.000193</td>\n",
       "    </tr>\n",
       "    <tr>\n",
       "      <th>127</th>\n",
       "      <td>fundamental_14_diff</td>\n",
       "      <td>0.000175</td>\n",
       "    </tr>\n",
       "    <tr>\n",
       "      <th>247</th>\n",
       "      <td>technical_3_nan</td>\n",
       "      <td>0.000168</td>\n",
       "    </tr>\n",
       "    <tr>\n",
       "      <th>126</th>\n",
       "      <td>fundamental_13_diff</td>\n",
       "      <td>0.000156</td>\n",
       "    </tr>\n",
       "    <tr>\n",
       "      <th>47</th>\n",
       "      <td>fundamental_43</td>\n",
       "      <td>0.000145</td>\n",
       "    </tr>\n",
       "    <tr>\n",
       "      <th>33</th>\n",
       "      <td>fundamental_29</td>\n",
       "      <td>0.000089</td>\n",
       "    </tr>\n",
       "    <tr>\n",
       "      <th>178</th>\n",
       "      <td>technical_1_diff</td>\n",
       "      <td>0.000058</td>\n",
       "    </tr>\n",
       "    <tr>\n",
       "      <th>284</th>\n",
       "      <td>fundamental_47_nan</td>\n",
       "      <td>0.000048</td>\n",
       "    </tr>\n",
       "    <tr>\n",
       "      <th>117</th>\n",
       "      <td>fundamental_3_diff</td>\n",
       "      <td>0.000000</td>\n",
       "    </tr>\n",
       "    <tr>\n",
       "      <th>67</th>\n",
       "      <td>fundamental_63</td>\n",
       "      <td>0.000000</td>\n",
       "    </tr>\n",
       "    <tr>\n",
       "      <th>143</th>\n",
       "      <td>fundamental_30_diff</td>\n",
       "      <td>0.000000</td>\n",
       "    </tr>\n",
       "    <tr>\n",
       "      <th>71</th>\n",
       "      <td>technical_3</td>\n",
       "      <td>0.000000</td>\n",
       "    </tr>\n",
       "    <tr>\n",
       "      <th>184</th>\n",
       "      <td>technical_9_diff</td>\n",
       "      <td>0.000000</td>\n",
       "    </tr>\n",
       "    <tr>\n",
       "      <th>233</th>\n",
       "      <td>technical_42_nan</td>\n",
       "      <td>0.000000</td>\n",
       "    </tr>\n",
       "    <tr>\n",
       "      <th>148</th>\n",
       "      <td>fundamental_35_diff</td>\n",
       "      <td>0.000000</td>\n",
       "    </tr>\n",
       "    <tr>\n",
       "      <th>213</th>\n",
       "      <td>technical_41_diff</td>\n",
       "      <td>0.000000</td>\n",
       "    </tr>\n",
       "    <tr>\n",
       "      <th>26</th>\n",
       "      <td>fundamental_22</td>\n",
       "      <td>0.000000</td>\n",
       "    </tr>\n",
       "    <tr>\n",
       "      <th>288</th>\n",
       "      <td>fundamental_22_nan</td>\n",
       "      <td>0.000000</td>\n",
       "    </tr>\n",
       "    <tr>\n",
       "      <th>239</th>\n",
       "      <td>technical_41_nan</td>\n",
       "      <td>0.000000</td>\n",
       "    </tr>\n",
       "    <tr>\n",
       "      <th>137</th>\n",
       "      <td>fundamental_24_diff</td>\n",
       "      <td>0.000000</td>\n",
       "    </tr>\n",
       "    <tr>\n",
       "      <th>51</th>\n",
       "      <td>fundamental_47</td>\n",
       "      <td>0.000000</td>\n",
       "    </tr>\n",
       "    <tr>\n",
       "      <th>97</th>\n",
       "      <td>technical_34</td>\n",
       "      <td>0.000000</td>\n",
       "    </tr>\n",
       "    <tr>\n",
       "      <th>237</th>\n",
       "      <td>fundamental_7_nan</td>\n",
       "      <td>0.000000</td>\n",
       "    </tr>\n",
       "  </tbody>\n",
       "</table>\n",
       "<p>169 rows × 2 columns</p>\n",
       "</div>"
      ],
      "text/plain": [
       "                 feature  important\n",
       "93          technical_30   0.120480\n",
       "85          technical_20   0.079670\n",
       "15        fundamental_11   0.070782\n",
       "231      technical_9_nan   0.059384\n",
       "195    technical_21_diff   0.054813\n",
       "186    technical_11_diff   0.044502\n",
       "215    technical_43_diff   0.043677\n",
       "106         technical_43   0.035264\n",
       "77          technical_11   0.034311\n",
       "179     technical_2_diff   0.033536\n",
       "73           technical_6   0.025598\n",
       "70           technical_2   0.023822\n",
       "251   fundamental_25_nan   0.018915\n",
       "82          technical_17   0.012657\n",
       "189    technical_14_diff   0.012555\n",
       "191    technical_17_diff   0.011785\n",
       "194    technical_20_diff   0.011230\n",
       "74           technical_7   0.009084\n",
       "182     technical_6_diff   0.008300\n",
       "173  fundamental_60_diff   0.007881\n",
       "54        fundamental_50   0.007828\n",
       "12         fundamental_8   0.007544\n",
       "193    technical_19_diff   0.007352\n",
       "208    technical_36_diff   0.007155\n",
       "169  fundamental_56_diff   0.006989\n",
       "202    technical_30_diff   0.006920\n",
       "259     technical_25_nan   0.006476\n",
       "103         technical_40   0.006412\n",
       "80          technical_14   0.006301\n",
       "86          technical_21   0.006208\n",
       "..                   ...        ...\n",
       "109       derived_0_diff   0.000238\n",
       "156  fundamental_43_diff   0.000237\n",
       "242     technical_29_nan   0.000226\n",
       "203    technical_31_diff   0.000221\n",
       "23        fundamental_19   0.000215\n",
       "160  fundamental_47_diff   0.000196\n",
       "277   fundamental_63_nan   0.000194\n",
       "124  fundamental_11_diff   0.000193\n",
       "127  fundamental_14_diff   0.000175\n",
       "247      technical_3_nan   0.000168\n",
       "126  fundamental_13_diff   0.000156\n",
       "47        fundamental_43   0.000145\n",
       "33        fundamental_29   0.000089\n",
       "178     technical_1_diff   0.000058\n",
       "284   fundamental_47_nan   0.000048\n",
       "117   fundamental_3_diff   0.000000\n",
       "67        fundamental_63   0.000000\n",
       "143  fundamental_30_diff   0.000000\n",
       "71           technical_3   0.000000\n",
       "184     technical_9_diff   0.000000\n",
       "233     technical_42_nan   0.000000\n",
       "148  fundamental_35_diff   0.000000\n",
       "213    technical_41_diff   0.000000\n",
       "26        fundamental_22   0.000000\n",
       "288   fundamental_22_nan   0.000000\n",
       "239     technical_41_nan   0.000000\n",
       "137  fundamental_24_diff   0.000000\n",
       "51        fundamental_47   0.000000\n",
       "97          technical_34   0.000000\n",
       "237    fundamental_7_nan   0.000000\n",
       "\n",
       "[169 rows x 2 columns]"
      ]
     },
     "execution_count": 65,
     "metadata": {},
     "output_type": "execute_result"
    }
   ],
   "source": [
    "imp"
   ]
  },
  {
   "cell_type": "code",
   "execution_count": 66,
   "metadata": {
    "collapsed": false
   },
   "outputs": [],
   "source": [
    "y_p = etr.predict(X_test[feature_imp])"
   ]
  },
  {
   "cell_type": "code",
   "execution_count": 68,
   "metadata": {
    "collapsed": false
   },
   "outputs": [
    {
     "data": {
      "text/plain": [
       "0.01836709369368009"
      ]
     },
     "execution_count": 68,
     "metadata": {},
     "output_type": "execute_result"
    }
   ],
   "source": [
    "R_score(y_p, y_test)"
   ]
  },
  {
   "cell_type": "markdown",
   "metadata": {},
   "source": [
    "that's ok"
   ]
  },
  {
   "cell_type": "code",
   "execution_count": 69,
   "metadata": {
    "collapsed": true
   },
   "outputs": [],
   "source": [
    "feature_imp2 = imp.loc[imp.important > imp.important.mean() / 5, 'feature']"
   ]
  },
  {
   "cell_type": "code",
   "execution_count": 70,
   "metadata": {
    "collapsed": false
   },
   "outputs": [
    {
     "data": {
      "text/plain": [
       "(91,)"
      ]
     },
     "execution_count": 70,
     "metadata": {},
     "output_type": "execute_result"
    }
   ],
   "source": [
    "feature_imp2.shape"
   ]
  },
  {
   "cell_type": "markdown",
   "metadata": {},
   "source": [
    "# train on the 91 features "
   ]
  },
  {
   "cell_type": "code",
   "execution_count": 71,
   "metadata": {
    "collapsed": false
   },
   "outputs": [
    {
     "data": {
      "text/plain": [
       "ExtraTreesRegressor(bootstrap=False, criterion='mse', max_depth=4,\n",
       "          max_features='auto', max_leaf_nodes=None,\n",
       "          min_impurity_split=1e-07, min_samples_leaf=1,\n",
       "          min_samples_split=2, min_weight_fraction_leaf=0.0,\n",
       "          n_estimators=100, n_jobs=-1, oob_score=False, random_state=17,\n",
       "          verbose=0, warm_start=False)"
      ]
     },
     "execution_count": 71,
     "metadata": {},
     "output_type": "execute_result"
    }
   ],
   "source": [
    "etr.fit(X_train[feature_imp2], y_train)"
   ]
  },
  {
   "cell_type": "code",
   "execution_count": 72,
   "metadata": {
    "collapsed": true
   },
   "outputs": [],
   "source": [
    "imp = pd.DataFrame({'feature':feature_imp2, 'important':etr.feature_importances_}).sort_values('important', ascending=False)"
   ]
  },
  {
   "cell_type": "code",
   "execution_count": 73,
   "metadata": {
    "collapsed": false
   },
   "outputs": [
    {
     "data": {
      "text/plain": [
       "0.018817558384923039"
      ]
     },
     "execution_count": 73,
     "metadata": {},
     "output_type": "execute_result"
    }
   ],
   "source": [
    "y_p = etr.predict(X_test[feature_imp2])\n",
    "R_score(y_p, y_test)"
   ]
  },
  {
   "cell_type": "markdown",
   "metadata": {},
   "source": [
    "still_better"
   ]
  },
  {
   "cell_type": "code",
   "execution_count": 74,
   "metadata": {
    "collapsed": false
   },
   "outputs": [
    {
     "data": {
      "text/html": [
       "<div>\n",
       "<table border=\"1\" class=\"dataframe\">\n",
       "  <thead>\n",
       "    <tr style=\"text-align: right;\">\n",
       "      <th></th>\n",
       "      <th>feature</th>\n",
       "      <th>important</th>\n",
       "    </tr>\n",
       "  </thead>\n",
       "  <tbody>\n",
       "    <tr>\n",
       "      <th>93</th>\n",
       "      <td>technical_30</td>\n",
       "      <td>0.102649</td>\n",
       "    </tr>\n",
       "    <tr>\n",
       "      <th>85</th>\n",
       "      <td>technical_20</td>\n",
       "      <td>0.086099</td>\n",
       "    </tr>\n",
       "    <tr>\n",
       "      <th>231</th>\n",
       "      <td>technical_9_nan</td>\n",
       "      <td>0.066540</td>\n",
       "    </tr>\n",
       "    <tr>\n",
       "      <th>195</th>\n",
       "      <td>technical_21_diff</td>\n",
       "      <td>0.054683</td>\n",
       "    </tr>\n",
       "    <tr>\n",
       "      <th>15</th>\n",
       "      <td>fundamental_11</td>\n",
       "      <td>0.049471</td>\n",
       "    </tr>\n",
       "    <tr>\n",
       "      <th>186</th>\n",
       "      <td>technical_11_diff</td>\n",
       "      <td>0.046366</td>\n",
       "    </tr>\n",
       "    <tr>\n",
       "      <th>77</th>\n",
       "      <td>technical_11</td>\n",
       "      <td>0.043903</td>\n",
       "    </tr>\n",
       "    <tr>\n",
       "      <th>215</th>\n",
       "      <td>technical_43_diff</td>\n",
       "      <td>0.042044</td>\n",
       "    </tr>\n",
       "    <tr>\n",
       "      <th>106</th>\n",
       "      <td>technical_43</td>\n",
       "      <td>0.035027</td>\n",
       "    </tr>\n",
       "    <tr>\n",
       "      <th>70</th>\n",
       "      <td>technical_2</td>\n",
       "      <td>0.033336</td>\n",
       "    </tr>\n",
       "    <tr>\n",
       "      <th>179</th>\n",
       "      <td>technical_2_diff</td>\n",
       "      <td>0.020704</td>\n",
       "    </tr>\n",
       "    <tr>\n",
       "      <th>73</th>\n",
       "      <td>technical_6</td>\n",
       "      <td>0.019128</td>\n",
       "    </tr>\n",
       "    <tr>\n",
       "      <th>182</th>\n",
       "      <td>technical_6_diff</td>\n",
       "      <td>0.017769</td>\n",
       "    </tr>\n",
       "    <tr>\n",
       "      <th>191</th>\n",
       "      <td>technical_17_diff</td>\n",
       "      <td>0.016612</td>\n",
       "    </tr>\n",
       "    <tr>\n",
       "      <th>189</th>\n",
       "      <td>technical_14_diff</td>\n",
       "      <td>0.015951</td>\n",
       "    </tr>\n",
       "    <tr>\n",
       "      <th>251</th>\n",
       "      <td>fundamental_25_nan</td>\n",
       "      <td>0.015793</td>\n",
       "    </tr>\n",
       "    <tr>\n",
       "      <th>82</th>\n",
       "      <td>technical_17</td>\n",
       "      <td>0.013558</td>\n",
       "    </tr>\n",
       "    <tr>\n",
       "      <th>74</th>\n",
       "      <td>technical_7</td>\n",
       "      <td>0.013527</td>\n",
       "    </tr>\n",
       "    <tr>\n",
       "      <th>202</th>\n",
       "      <td>technical_30_diff</td>\n",
       "      <td>0.013166</td>\n",
       "    </tr>\n",
       "    <tr>\n",
       "      <th>194</th>\n",
       "      <td>technical_20_diff</td>\n",
       "      <td>0.012444</td>\n",
       "    </tr>\n",
       "    <tr>\n",
       "      <th>103</th>\n",
       "      <td>technical_40</td>\n",
       "      <td>0.012405</td>\n",
       "    </tr>\n",
       "    <tr>\n",
       "      <th>12</th>\n",
       "      <td>fundamental_8</td>\n",
       "      <td>0.011218</td>\n",
       "    </tr>\n",
       "    <tr>\n",
       "      <th>80</th>\n",
       "      <td>technical_14</td>\n",
       "      <td>0.010161</td>\n",
       "    </tr>\n",
       "    <tr>\n",
       "      <th>173</th>\n",
       "      <td>fundamental_60_diff</td>\n",
       "      <td>0.009829</td>\n",
       "    </tr>\n",
       "    <tr>\n",
       "      <th>22</th>\n",
       "      <td>fundamental_18</td>\n",
       "      <td>0.008943</td>\n",
       "    </tr>\n",
       "    <tr>\n",
       "      <th>86</th>\n",
       "      <td>technical_21</td>\n",
       "      <td>0.008889</td>\n",
       "    </tr>\n",
       "    <tr>\n",
       "      <th>55</th>\n",
       "      <td>fundamental_51</td>\n",
       "      <td>0.008156</td>\n",
       "    </tr>\n",
       "    <tr>\n",
       "      <th>57</th>\n",
       "      <td>fundamental_53</td>\n",
       "      <td>0.007843</td>\n",
       "    </tr>\n",
       "    <tr>\n",
       "      <th>208</th>\n",
       "      <td>technical_36_diff</td>\n",
       "      <td>0.007419</td>\n",
       "    </tr>\n",
       "    <tr>\n",
       "      <th>201</th>\n",
       "      <td>technical_29_diff</td>\n",
       "      <td>0.007080</td>\n",
       "    </tr>\n",
       "    <tr>\n",
       "      <th>...</th>\n",
       "      <td>...</td>\n",
       "      <td>...</td>\n",
       "    </tr>\n",
       "    <tr>\n",
       "      <th>64</th>\n",
       "      <td>fundamental_60</td>\n",
       "      <td>0.002737</td>\n",
       "    </tr>\n",
       "    <tr>\n",
       "      <th>46</th>\n",
       "      <td>fundamental_42</td>\n",
       "      <td>0.002699</td>\n",
       "    </tr>\n",
       "    <tr>\n",
       "      <th>254</th>\n",
       "      <td>derived_3_nan</td>\n",
       "      <td>0.002527</td>\n",
       "    </tr>\n",
       "    <tr>\n",
       "      <th>234</th>\n",
       "      <td>technical_18_nan</td>\n",
       "      <td>0.002454</td>\n",
       "    </tr>\n",
       "    <tr>\n",
       "      <th>149</th>\n",
       "      <td>fundamental_36_diff</td>\n",
       "      <td>0.002414</td>\n",
       "    </tr>\n",
       "    <tr>\n",
       "      <th>177</th>\n",
       "      <td>technical_0_diff</td>\n",
       "      <td>0.002379</td>\n",
       "    </tr>\n",
       "    <tr>\n",
       "      <th>166</th>\n",
       "      <td>fundamental_53_diff</td>\n",
       "      <td>0.002312</td>\n",
       "    </tr>\n",
       "    <tr>\n",
       "      <th>60</th>\n",
       "      <td>fundamental_56</td>\n",
       "      <td>0.002202</td>\n",
       "    </tr>\n",
       "    <tr>\n",
       "      <th>181</th>\n",
       "      <td>technical_5_diff</td>\n",
       "      <td>0.002082</td>\n",
       "    </tr>\n",
       "    <tr>\n",
       "      <th>298</th>\n",
       "      <td>nullcounts</td>\n",
       "      <td>0.002013</td>\n",
       "    </tr>\n",
       "    <tr>\n",
       "      <th>59</th>\n",
       "      <td>fundamental_55</td>\n",
       "      <td>0.001975</td>\n",
       "    </tr>\n",
       "    <tr>\n",
       "      <th>205</th>\n",
       "      <td>technical_33_diff</td>\n",
       "      <td>0.001967</td>\n",
       "    </tr>\n",
       "    <tr>\n",
       "      <th>96</th>\n",
       "      <td>technical_33</td>\n",
       "      <td>0.001753</td>\n",
       "    </tr>\n",
       "    <tr>\n",
       "      <th>105</th>\n",
       "      <td>technical_42</td>\n",
       "      <td>0.001742</td>\n",
       "    </tr>\n",
       "    <tr>\n",
       "      <th>261</th>\n",
       "      <td>technical_28_nan</td>\n",
       "      <td>0.001678</td>\n",
       "    </tr>\n",
       "    <tr>\n",
       "      <th>25</th>\n",
       "      <td>fundamental_21</td>\n",
       "      <td>0.001558</td>\n",
       "    </tr>\n",
       "    <tr>\n",
       "      <th>246</th>\n",
       "      <td>fundamental_17_nan</td>\n",
       "      <td>0.001459</td>\n",
       "    </tr>\n",
       "    <tr>\n",
       "      <th>120</th>\n",
       "      <td>fundamental_7_diff</td>\n",
       "      <td>0.001358</td>\n",
       "    </tr>\n",
       "    <tr>\n",
       "      <th>114</th>\n",
       "      <td>fundamental_0_diff</td>\n",
       "      <td>0.001337</td>\n",
       "    </tr>\n",
       "    <tr>\n",
       "      <th>45</th>\n",
       "      <td>fundamental_41</td>\n",
       "      <td>0.001283</td>\n",
       "    </tr>\n",
       "    <tr>\n",
       "      <th>0</th>\n",
       "      <td>derived_0</td>\n",
       "      <td>0.001212</td>\n",
       "    </tr>\n",
       "    <tr>\n",
       "      <th>66</th>\n",
       "      <td>fundamental_62</td>\n",
       "      <td>0.001188</td>\n",
       "    </tr>\n",
       "    <tr>\n",
       "      <th>180</th>\n",
       "      <td>technical_3_diff</td>\n",
       "      <td>0.000966</td>\n",
       "    </tr>\n",
       "    <tr>\n",
       "      <th>188</th>\n",
       "      <td>technical_13_diff</td>\n",
       "      <td>0.000949</td>\n",
       "    </tr>\n",
       "    <tr>\n",
       "      <th>56</th>\n",
       "      <td>fundamental_52</td>\n",
       "      <td>0.000717</td>\n",
       "    </tr>\n",
       "    <tr>\n",
       "      <th>297</th>\n",
       "      <td>fundamental_5_nan</td>\n",
       "      <td>0.000598</td>\n",
       "    </tr>\n",
       "    <tr>\n",
       "      <th>92</th>\n",
       "      <td>technical_29</td>\n",
       "      <td>0.000572</td>\n",
       "    </tr>\n",
       "    <tr>\n",
       "      <th>107</th>\n",
       "      <td>technical_44</td>\n",
       "      <td>0.000472</td>\n",
       "    </tr>\n",
       "    <tr>\n",
       "      <th>38</th>\n",
       "      <td>fundamental_34</td>\n",
       "      <td>0.000334</td>\n",
       "    </tr>\n",
       "    <tr>\n",
       "      <th>21</th>\n",
       "      <td>fundamental_17</td>\n",
       "      <td>0.000170</td>\n",
       "    </tr>\n",
       "  </tbody>\n",
       "</table>\n",
       "<p>91 rows × 2 columns</p>\n",
       "</div>"
      ],
      "text/plain": [
       "                 feature  important\n",
       "93          technical_30   0.102649\n",
       "85          technical_20   0.086099\n",
       "231      technical_9_nan   0.066540\n",
       "195    technical_21_diff   0.054683\n",
       "15        fundamental_11   0.049471\n",
       "186    technical_11_diff   0.046366\n",
       "77          technical_11   0.043903\n",
       "215    technical_43_diff   0.042044\n",
       "106         technical_43   0.035027\n",
       "70           technical_2   0.033336\n",
       "179     technical_2_diff   0.020704\n",
       "73           technical_6   0.019128\n",
       "182     technical_6_diff   0.017769\n",
       "191    technical_17_diff   0.016612\n",
       "189    technical_14_diff   0.015951\n",
       "251   fundamental_25_nan   0.015793\n",
       "82          technical_17   0.013558\n",
       "74           technical_7   0.013527\n",
       "202    technical_30_diff   0.013166\n",
       "194    technical_20_diff   0.012444\n",
       "103         technical_40   0.012405\n",
       "12         fundamental_8   0.011218\n",
       "80          technical_14   0.010161\n",
       "173  fundamental_60_diff   0.009829\n",
       "22        fundamental_18   0.008943\n",
       "86          technical_21   0.008889\n",
       "55        fundamental_51   0.008156\n",
       "57        fundamental_53   0.007843\n",
       "208    technical_36_diff   0.007419\n",
       "201    technical_29_diff   0.007080\n",
       "..                   ...        ...\n",
       "64        fundamental_60   0.002737\n",
       "46        fundamental_42   0.002699\n",
       "254        derived_3_nan   0.002527\n",
       "234     technical_18_nan   0.002454\n",
       "149  fundamental_36_diff   0.002414\n",
       "177     technical_0_diff   0.002379\n",
       "166  fundamental_53_diff   0.002312\n",
       "60        fundamental_56   0.002202\n",
       "181     technical_5_diff   0.002082\n",
       "298           nullcounts   0.002013\n",
       "59        fundamental_55   0.001975\n",
       "205    technical_33_diff   0.001967\n",
       "96          technical_33   0.001753\n",
       "105         technical_42   0.001742\n",
       "261     technical_28_nan   0.001678\n",
       "25        fundamental_21   0.001558\n",
       "246   fundamental_17_nan   0.001459\n",
       "120   fundamental_7_diff   0.001358\n",
       "114   fundamental_0_diff   0.001337\n",
       "45        fundamental_41   0.001283\n",
       "0              derived_0   0.001212\n",
       "66        fundamental_62   0.001188\n",
       "180     technical_3_diff   0.000966\n",
       "188    technical_13_diff   0.000949\n",
       "56        fundamental_52   0.000717\n",
       "297    fundamental_5_nan   0.000598\n",
       "92          technical_29   0.000572\n",
       "107         technical_44   0.000472\n",
       "38        fundamental_34   0.000334\n",
       "21        fundamental_17   0.000170\n",
       "\n",
       "[91 rows x 2 columns]"
      ]
     },
     "execution_count": 74,
     "metadata": {},
     "output_type": "execute_result"
    }
   ],
   "source": [
    "imp"
   ]
  },
  {
   "cell_type": "code",
   "execution_count": 76,
   "metadata": {
    "collapsed": false
   },
   "outputs": [
    {
     "data": {
      "text/plain": [
       "['technical_30',\n",
       " 'technical_20',\n",
       " 'technical_9_nan',\n",
       " 'technical_21_diff',\n",
       " 'fundamental_11',\n",
       " 'technical_11_diff',\n",
       " 'technical_11',\n",
       " 'technical_43_diff',\n",
       " 'technical_43',\n",
       " 'technical_2',\n",
       " 'technical_2_diff',\n",
       " 'technical_6',\n",
       " 'technical_6_diff',\n",
       " 'technical_17_diff',\n",
       " 'technical_14_diff',\n",
       " 'fundamental_25_nan',\n",
       " 'technical_17',\n",
       " 'technical_7',\n",
       " 'technical_30_diff',\n",
       " 'technical_20_diff',\n",
       " 'technical_40',\n",
       " 'fundamental_8',\n",
       " 'technical_14',\n",
       " 'fundamental_60_diff',\n",
       " 'fundamental_18',\n",
       " 'technical_21',\n",
       " 'fundamental_51',\n",
       " 'fundamental_53',\n",
       " 'technical_36_diff',\n",
       " 'technical_29_diff',\n",
       " 'technical_19_diff',\n",
       " 'fundamental_56_diff',\n",
       " 'technical_44_nan',\n",
       " 'technical_25_nan',\n",
       " 'technical_35_diff',\n",
       " 'fundamental_27_nan',\n",
       " 'fundamental_48',\n",
       " 'technical_27',\n",
       " 'fundamental_2_diff',\n",
       " 'fundamental_51_diff',\n",
       " 'technical_36',\n",
       " 'fundamental_58',\n",
       " 'technical_40_diff',\n",
       " 'fundamental_23',\n",
       " 'technical_24_nan',\n",
       " 'derived_1_nan',\n",
       " 'fundamental_15_diff',\n",
       " 'fundamental_45_diff',\n",
       " 'fundamental_33_nan',\n",
       " 'fundamental_50',\n",
       " 'technical_38_diff',\n",
       " 'technical_27_diff',\n",
       " 'technical_22',\n",
       " 'fundamental_41_nan',\n",
       " 'technical_35',\n",
       " 'technical_12_diff',\n",
       " 'technical_19',\n",
       " 'fundamental_20_diff',\n",
       " 'fundamental_57_diff',\n",
       " 'technical_31_nan',\n",
       " 'technical_12',\n",
       " 'fundamental_60',\n",
       " 'fundamental_42',\n",
       " 'derived_3_nan',\n",
       " 'technical_18_nan',\n",
       " 'fundamental_36_diff',\n",
       " 'technical_0_diff',\n",
       " 'fundamental_53_diff',\n",
       " 'fundamental_56',\n",
       " 'technical_5_diff',\n",
       " 'nullcounts',\n",
       " 'fundamental_55',\n",
       " 'technical_33_diff',\n",
       " 'technical_33',\n",
       " 'technical_42',\n",
       " 'technical_28_nan',\n",
       " 'fundamental_21',\n",
       " 'fundamental_17_nan',\n",
       " 'fundamental_7_diff',\n",
       " 'fundamental_0_diff',\n",
       " 'fundamental_41',\n",
       " 'derived_0',\n",
       " 'fundamental_62',\n",
       " 'technical_3_diff',\n",
       " 'technical_13_diff',\n",
       " 'fundamental_52',\n",
       " 'fundamental_5_nan',\n",
       " 'technical_29',\n",
       " 'technical_44',\n",
       " 'fundamental_34',\n",
       " 'fundamental_17']"
      ]
     },
     "execution_count": 76,
     "metadata": {},
     "output_type": "execute_result"
    }
   ],
   "source": [
    "list(imp.feature)"
   ]
  },
  {
   "cell_type": "markdown",
   "metadata": {},
   "source": [
    "so far today, try more later..."
   ]
  },
  {
   "cell_type": "code",
   "execution_count": 35,
   "metadata": {
    "collapsed": true
   },
   "outputs": [],
   "source": [
    "feature_imp3 = imp.loc[imp.important > imp.important.mean() / 3, 'feature']"
   ]
  },
  {
   "cell_type": "code",
   "execution_count": 36,
   "metadata": {
    "collapsed": false
   },
   "outputs": [
    {
     "data": {
      "text/plain": [
       "85            technical_20\n",
       "93            technical_30\n",
       "202      technical_30_diff\n",
       "194      technical_20_diff\n",
       "92            technical_29\n",
       "228     fundamental_18_nan\n",
       "225     fundamental_33_nan\n",
       "229     fundamental_48_nan\n",
       "170    fundamental_57_diff\n",
       "284     fundamental_47_nan\n",
       "90            technical_27\n",
       "116     fundamental_2_diff\n",
       "41          fundamental_37\n",
       "166    fundamental_53_diff\n",
       "22          fundamental_18\n",
       "131    fundamental_18_diff\n",
       "106           technical_43\n",
       "87            technical_22\n",
       "77            technical_11\n",
       "18          fundamental_14\n",
       "80            technical_14\n",
       "57          fundamental_53\n",
       "238     fundamental_41_nan\n",
       "103           technical_40\n",
       "98            technical_35\n",
       "193      technical_19_diff\n",
       "212      technical_40_diff\n",
       "143    fundamental_30_diff\n",
       "86            technical_21\n",
       "84            technical_19\n",
       "              ...         \n",
       "254          derived_3_nan\n",
       "113         derived_4_diff\n",
       "187      technical_12_diff\n",
       "58          fundamental_54\n",
       "264     fundamental_29_nan\n",
       "296     fundamental_38_nan\n",
       "26          fundamental_22\n",
       "206      technical_34_diff\n",
       "100           technical_37\n",
       "245          derived_1_nan\n",
       "94            technical_31\n",
       "43          fundamental_39\n",
       "108                id_diff\n",
       "175    fundamental_62_diff\n",
       "25          fundamental_21\n",
       "30          fundamental_26\n",
       "123    fundamental_10_diff\n",
       "293     fundamental_61_nan\n",
       "243       technical_24_nan\n",
       "44          fundamental_40\n",
       "132    fundamental_19_diff\n",
       "96            technical_33\n",
       "1                derived_1\n",
       "283     fundamental_34_nan\n",
       "47          fundamental_43\n",
       "200      technical_28_diff\n",
       "210      technical_38_diff\n",
       "295      fundamental_6_nan\n",
       "185      technical_10_diff\n",
       "0                derived_0\n",
       "Name: feature, dtype: object"
      ]
     },
     "execution_count": 36,
     "metadata": {},
     "output_type": "execute_result"
    }
   ],
   "source": [
    "feature_imp3"
   ]
  },
  {
   "cell_type": "code",
   "execution_count": 37,
   "metadata": {
    "collapsed": false
   },
   "outputs": [
    {
     "data": {
      "text/plain": [
       "(217,)"
      ]
     },
     "execution_count": 37,
     "metadata": {},
     "output_type": "execute_result"
    }
   ],
   "source": [
    "feature_imp3.shape"
   ]
  },
  {
   "cell_type": "markdown",
   "metadata": {},
   "source": [
    "### training on 217 features "
   ]
  },
  {
   "cell_type": "code",
   "execution_count": 38,
   "metadata": {
    "collapsed": false
   },
   "outputs": [
    {
     "data": {
      "text/plain": [
       "ExtraTreesRegressor(bootstrap=False, criterion='mse', max_depth=6,\n",
       "          max_features='sqrt', max_leaf_nodes=None,\n",
       "          min_impurity_split=1e-07, min_samples_leaf=1,\n",
       "          min_samples_split=2, min_weight_fraction_leaf=0.0,\n",
       "          n_estimators=100, n_jobs=-1, oob_score=False, random_state=17,\n",
       "          verbose=0, warm_start=False)"
      ]
     },
     "execution_count": 38,
     "metadata": {},
     "output_type": "execute_result"
    }
   ],
   "source": [
    "etr.fit(X_train[list(feature_imp3)], X_train.y)"
   ]
  },
  {
   "cell_type": "code",
   "execution_count": 40,
   "metadata": {
    "collapsed": false
   },
   "outputs": [
    {
     "data": {
      "text/plain": [
       "0.017785342460594933"
      ]
     },
     "execution_count": 40,
     "metadata": {},
     "output_type": "execute_result"
    }
   ],
   "source": [
    "imp = pd.DataFrame({'feature':feature_imp3, 'important':etr.feature_importances_}).sort_values('important', ascending=False)\n",
    "y_p = etr.predict(X_test[feature_imp3])\n",
    "R_score(y_p, X_test.y)"
   ]
  },
  {
   "cell_type": "code",
   "execution_count": 41,
   "metadata": {
    "collapsed": false
   },
   "outputs": [
    {
     "data": {
      "text/html": [
       "<div>\n",
       "<table border=\"1\" class=\"dataframe\">\n",
       "  <thead>\n",
       "    <tr style=\"text-align: right;\">\n",
       "      <th></th>\n",
       "      <th>feature</th>\n",
       "      <th>important</th>\n",
       "    </tr>\n",
       "  </thead>\n",
       "  <tbody>\n",
       "    <tr>\n",
       "      <th>85</th>\n",
       "      <td>technical_20</td>\n",
       "      <td>0.047134</td>\n",
       "    </tr>\n",
       "    <tr>\n",
       "      <th>93</th>\n",
       "      <td>technical_30</td>\n",
       "      <td>0.027867</td>\n",
       "    </tr>\n",
       "    <tr>\n",
       "      <th>202</th>\n",
       "      <td>technical_30_diff</td>\n",
       "      <td>0.023659</td>\n",
       "    </tr>\n",
       "    <tr>\n",
       "      <th>194</th>\n",
       "      <td>technical_20_diff</td>\n",
       "      <td>0.019830</td>\n",
       "    </tr>\n",
       "    <tr>\n",
       "      <th>131</th>\n",
       "      <td>fundamental_18_diff</td>\n",
       "      <td>0.016366</td>\n",
       "    </tr>\n",
       "    <tr>\n",
       "      <th>228</th>\n",
       "      <td>fundamental_18_nan</td>\n",
       "      <td>0.014560</td>\n",
       "    </tr>\n",
       "    <tr>\n",
       "      <th>229</th>\n",
       "      <td>fundamental_48_nan</td>\n",
       "      <td>0.013488</td>\n",
       "    </tr>\n",
       "    <tr>\n",
       "      <th>225</th>\n",
       "      <td>fundamental_33_nan</td>\n",
       "      <td>0.012820</td>\n",
       "    </tr>\n",
       "    <tr>\n",
       "      <th>90</th>\n",
       "      <td>technical_27</td>\n",
       "      <td>0.011937</td>\n",
       "    </tr>\n",
       "    <tr>\n",
       "      <th>41</th>\n",
       "      <td>fundamental_37</td>\n",
       "      <td>0.011489</td>\n",
       "    </tr>\n",
       "    <tr>\n",
       "      <th>106</th>\n",
       "      <td>technical_43</td>\n",
       "      <td>0.011302</td>\n",
       "    </tr>\n",
       "    <tr>\n",
       "      <th>22</th>\n",
       "      <td>fundamental_18</td>\n",
       "      <td>0.011230</td>\n",
       "    </tr>\n",
       "    <tr>\n",
       "      <th>166</th>\n",
       "      <td>fundamental_53_diff</td>\n",
       "      <td>0.010927</td>\n",
       "    </tr>\n",
       "    <tr>\n",
       "      <th>87</th>\n",
       "      <td>technical_22</td>\n",
       "      <td>0.010829</td>\n",
       "    </tr>\n",
       "    <tr>\n",
       "      <th>18</th>\n",
       "      <td>fundamental_14</td>\n",
       "      <td>0.010507</td>\n",
       "    </tr>\n",
       "    <tr>\n",
       "      <th>173</th>\n",
       "      <td>fundamental_60_diff</td>\n",
       "      <td>0.009898</td>\n",
       "    </tr>\n",
       "    <tr>\n",
       "      <th>170</th>\n",
       "      <td>fundamental_57_diff</td>\n",
       "      <td>0.009648</td>\n",
       "    </tr>\n",
       "    <tr>\n",
       "      <th>57</th>\n",
       "      <td>fundamental_53</td>\n",
       "      <td>0.009205</td>\n",
       "    </tr>\n",
       "    <tr>\n",
       "      <th>116</th>\n",
       "      <td>fundamental_2_diff</td>\n",
       "      <td>0.008992</td>\n",
       "    </tr>\n",
       "    <tr>\n",
       "      <th>92</th>\n",
       "      <td>technical_29</td>\n",
       "      <td>0.008870</td>\n",
       "    </tr>\n",
       "    <tr>\n",
       "      <th>284</th>\n",
       "      <td>fundamental_47_nan</td>\n",
       "      <td>0.008767</td>\n",
       "    </tr>\n",
       "    <tr>\n",
       "      <th>183</th>\n",
       "      <td>technical_7_diff</td>\n",
       "      <td>0.008714</td>\n",
       "    </tr>\n",
       "    <tr>\n",
       "      <th>86</th>\n",
       "      <td>technical_21</td>\n",
       "      <td>0.008029</td>\n",
       "    </tr>\n",
       "    <tr>\n",
       "      <th>212</th>\n",
       "      <td>technical_40_diff</td>\n",
       "      <td>0.007836</td>\n",
       "    </tr>\n",
       "    <tr>\n",
       "      <th>74</th>\n",
       "      <td>technical_7</td>\n",
       "      <td>0.007816</td>\n",
       "    </tr>\n",
       "    <tr>\n",
       "      <th>98</th>\n",
       "      <td>technical_35</td>\n",
       "      <td>0.007769</td>\n",
       "    </tr>\n",
       "    <tr>\n",
       "      <th>276</th>\n",
       "      <td>fundamental_8_nan</td>\n",
       "      <td>0.007665</td>\n",
       "    </tr>\n",
       "    <tr>\n",
       "      <th>70</th>\n",
       "      <td>technical_2</td>\n",
       "      <td>0.007622</td>\n",
       "    </tr>\n",
       "    <tr>\n",
       "      <th>155</th>\n",
       "      <td>fundamental_42_diff</td>\n",
       "      <td>0.007448</td>\n",
       "    </tr>\n",
       "    <tr>\n",
       "      <th>7</th>\n",
       "      <td>fundamental_2</td>\n",
       "      <td>0.007439</td>\n",
       "    </tr>\n",
       "    <tr>\n",
       "      <th>...</th>\n",
       "      <td>...</td>\n",
       "      <td>...</td>\n",
       "    </tr>\n",
       "    <tr>\n",
       "      <th>190</th>\n",
       "      <td>technical_16_diff</td>\n",
       "      <td>0.001736</td>\n",
       "    </tr>\n",
       "    <tr>\n",
       "      <th>214</th>\n",
       "      <td>technical_42_diff</td>\n",
       "      <td>0.001713</td>\n",
       "    </tr>\n",
       "    <tr>\n",
       "      <th>293</th>\n",
       "      <td>fundamental_61_nan</td>\n",
       "      <td>0.001655</td>\n",
       "    </tr>\n",
       "    <tr>\n",
       "      <th>266</th>\n",
       "      <td>fundamental_15_nan</td>\n",
       "      <td>0.001582</td>\n",
       "    </tr>\n",
       "    <tr>\n",
       "      <th>201</th>\n",
       "      <td>technical_29_diff</td>\n",
       "      <td>0.001564</td>\n",
       "    </tr>\n",
       "    <tr>\n",
       "      <th>259</th>\n",
       "      <td>technical_25_nan</td>\n",
       "      <td>0.001537</td>\n",
       "    </tr>\n",
       "    <tr>\n",
       "      <th>108</th>\n",
       "      <td>id_diff</td>\n",
       "      <td>0.001492</td>\n",
       "    </tr>\n",
       "    <tr>\n",
       "      <th>254</th>\n",
       "      <td>derived_3_nan</td>\n",
       "      <td>0.001469</td>\n",
       "    </tr>\n",
       "    <tr>\n",
       "      <th>163</th>\n",
       "      <td>fundamental_50_diff</td>\n",
       "      <td>0.001385</td>\n",
       "    </tr>\n",
       "    <tr>\n",
       "      <th>81</th>\n",
       "      <td>technical_16</td>\n",
       "      <td>0.001379</td>\n",
       "    </tr>\n",
       "    <tr>\n",
       "      <th>294</th>\n",
       "      <td>fundamental_1_nan</td>\n",
       "      <td>0.001375</td>\n",
       "    </tr>\n",
       "    <tr>\n",
       "      <th>9</th>\n",
       "      <td>fundamental_5</td>\n",
       "      <td>0.001337</td>\n",
       "    </tr>\n",
       "    <tr>\n",
       "      <th>134</th>\n",
       "      <td>fundamental_21_diff</td>\n",
       "      <td>0.001314</td>\n",
       "    </tr>\n",
       "    <tr>\n",
       "      <th>100</th>\n",
       "      <td>technical_37</td>\n",
       "      <td>0.001263</td>\n",
       "    </tr>\n",
       "    <tr>\n",
       "      <th>243</th>\n",
       "      <td>technical_24_nan</td>\n",
       "      <td>0.001257</td>\n",
       "    </tr>\n",
       "    <tr>\n",
       "      <th>187</th>\n",
       "      <td>technical_12_diff</td>\n",
       "      <td>0.001224</td>\n",
       "    </tr>\n",
       "    <tr>\n",
       "      <th>255</th>\n",
       "      <td>technical_5_nan</td>\n",
       "      <td>0.001169</td>\n",
       "    </tr>\n",
       "    <tr>\n",
       "      <th>248</th>\n",
       "      <td>fundamental_20_nan</td>\n",
       "      <td>0.001167</td>\n",
       "    </tr>\n",
       "    <tr>\n",
       "      <th>121</th>\n",
       "      <td>fundamental_8_diff</td>\n",
       "      <td>0.001072</td>\n",
       "    </tr>\n",
       "    <tr>\n",
       "      <th>168</th>\n",
       "      <td>fundamental_55_diff</td>\n",
       "      <td>0.001059</td>\n",
       "    </tr>\n",
       "    <tr>\n",
       "      <th>226</th>\n",
       "      <td>technical_14_nan</td>\n",
       "      <td>0.000964</td>\n",
       "    </tr>\n",
       "    <tr>\n",
       "      <th>282</th>\n",
       "      <td>fundamental_35_nan</td>\n",
       "      <td>0.000930</td>\n",
       "    </tr>\n",
       "    <tr>\n",
       "      <th>135</th>\n",
       "      <td>fundamental_22_diff</td>\n",
       "      <td>0.000869</td>\n",
       "    </tr>\n",
       "    <tr>\n",
       "      <th>260</th>\n",
       "      <td>technical_44_nan</td>\n",
       "      <td>0.000792</td>\n",
       "    </tr>\n",
       "    <tr>\n",
       "      <th>203</th>\n",
       "      <td>technical_31_diff</td>\n",
       "      <td>0.000725</td>\n",
       "    </tr>\n",
       "    <tr>\n",
       "      <th>210</th>\n",
       "      <td>technical_38_diff</td>\n",
       "      <td>0.000705</td>\n",
       "    </tr>\n",
       "    <tr>\n",
       "      <th>283</th>\n",
       "      <td>fundamental_34_nan</td>\n",
       "      <td>0.000575</td>\n",
       "    </tr>\n",
       "    <tr>\n",
       "      <th>13</th>\n",
       "      <td>fundamental_9</td>\n",
       "      <td>0.000540</td>\n",
       "    </tr>\n",
       "    <tr>\n",
       "      <th>130</th>\n",
       "      <td>fundamental_17_diff</td>\n",
       "      <td>0.000276</td>\n",
       "    </tr>\n",
       "    <tr>\n",
       "      <th>101</th>\n",
       "      <td>technical_38</td>\n",
       "      <td>0.000207</td>\n",
       "    </tr>\n",
       "  </tbody>\n",
       "</table>\n",
       "<p>217 rows × 2 columns</p>\n",
       "</div>"
      ],
      "text/plain": [
       "                 feature  important\n",
       "85          technical_20   0.047134\n",
       "93          technical_30   0.027867\n",
       "202    technical_30_diff   0.023659\n",
       "194    technical_20_diff   0.019830\n",
       "131  fundamental_18_diff   0.016366\n",
       "228   fundamental_18_nan   0.014560\n",
       "229   fundamental_48_nan   0.013488\n",
       "225   fundamental_33_nan   0.012820\n",
       "90          technical_27   0.011937\n",
       "41        fundamental_37   0.011489\n",
       "106         technical_43   0.011302\n",
       "22        fundamental_18   0.011230\n",
       "166  fundamental_53_diff   0.010927\n",
       "87          technical_22   0.010829\n",
       "18        fundamental_14   0.010507\n",
       "173  fundamental_60_diff   0.009898\n",
       "170  fundamental_57_diff   0.009648\n",
       "57        fundamental_53   0.009205\n",
       "116   fundamental_2_diff   0.008992\n",
       "92          technical_29   0.008870\n",
       "284   fundamental_47_nan   0.008767\n",
       "183     technical_7_diff   0.008714\n",
       "86          technical_21   0.008029\n",
       "212    technical_40_diff   0.007836\n",
       "74           technical_7   0.007816\n",
       "98          technical_35   0.007769\n",
       "276    fundamental_8_nan   0.007665\n",
       "70           technical_2   0.007622\n",
       "155  fundamental_42_diff   0.007448\n",
       "7          fundamental_2   0.007439\n",
       "..                   ...        ...\n",
       "190    technical_16_diff   0.001736\n",
       "214    technical_42_diff   0.001713\n",
       "293   fundamental_61_nan   0.001655\n",
       "266   fundamental_15_nan   0.001582\n",
       "201    technical_29_diff   0.001564\n",
       "259     technical_25_nan   0.001537\n",
       "108              id_diff   0.001492\n",
       "254        derived_3_nan   0.001469\n",
       "163  fundamental_50_diff   0.001385\n",
       "81          technical_16   0.001379\n",
       "294    fundamental_1_nan   0.001375\n",
       "9          fundamental_5   0.001337\n",
       "134  fundamental_21_diff   0.001314\n",
       "100         technical_37   0.001263\n",
       "243     technical_24_nan   0.001257\n",
       "187    technical_12_diff   0.001224\n",
       "255      technical_5_nan   0.001169\n",
       "248   fundamental_20_nan   0.001167\n",
       "121   fundamental_8_diff   0.001072\n",
       "168  fundamental_55_diff   0.001059\n",
       "226     technical_14_nan   0.000964\n",
       "282   fundamental_35_nan   0.000930\n",
       "135  fundamental_22_diff   0.000869\n",
       "260     technical_44_nan   0.000792\n",
       "203    technical_31_diff   0.000725\n",
       "210    technical_38_diff   0.000705\n",
       "283   fundamental_34_nan   0.000575\n",
       "13         fundamental_9   0.000540\n",
       "130  fundamental_17_diff   0.000276\n",
       "101         technical_38   0.000207\n",
       "\n",
       "[217 rows x 2 columns]"
      ]
     },
     "execution_count": 41,
     "metadata": {},
     "output_type": "execute_result"
    }
   ],
   "source": [
    "imp"
   ]
  },
  {
   "cell_type": "code",
   "execution_count": 42,
   "metadata": {
    "collapsed": true
   },
   "outputs": [],
   "source": [
    "feature_imp4 = imp.loc[imp.important > imp.important.mean() / 5, 'feature']"
   ]
  },
  {
   "cell_type": "code",
   "execution_count": 44,
   "metadata": {
    "collapsed": false
   },
   "outputs": [
    {
     "data": {
      "text/plain": [
       "(209,)"
      ]
     },
     "execution_count": 44,
     "metadata": {},
     "output_type": "execute_result"
    }
   ],
   "source": [
    "feature_imp4.shape"
   ]
  },
  {
   "cell_type": "markdown",
   "metadata": {},
   "source": [
    "### training on 209 features "
   ]
  },
  {
   "cell_type": "code",
   "execution_count": 45,
   "metadata": {
    "collapsed": false
   },
   "outputs": [
    {
     "data": {
      "text/plain": [
       "ExtraTreesRegressor(bootstrap=False, criterion='mse', max_depth=6,\n",
       "          max_features='sqrt', max_leaf_nodes=None,\n",
       "          min_impurity_split=1e-07, min_samples_leaf=1,\n",
       "          min_samples_split=2, min_weight_fraction_leaf=0.0,\n",
       "          n_estimators=100, n_jobs=-1, oob_score=False, random_state=17,\n",
       "          verbose=0, warm_start=False)"
      ]
     },
     "execution_count": 45,
     "metadata": {},
     "output_type": "execute_result"
    }
   ],
   "source": [
    "etr.fit(X_train[list(feature_imp4)], X_train.y)"
   ]
  },
  {
   "cell_type": "code",
   "execution_count": 46,
   "metadata": {
    "collapsed": false
   },
   "outputs": [
    {
     "data": {
      "text/plain": [
       "0.019290564330312857"
      ]
     },
     "execution_count": 46,
     "metadata": {},
     "output_type": "execute_result"
    }
   ],
   "source": [
    "imp = pd.DataFrame({'feature':feature_imp4, 'important':etr.feature_importances_}).sort_values('important', ascending=False)\n",
    "y_p = etr.predict(X_test[feature_imp4])\n",
    "R_score(y_p, X_test.y)"
   ]
  },
  {
   "cell_type": "markdown",
   "metadata": {},
   "source": [
    "become solid again!!!"
   ]
  },
  {
   "cell_type": "code",
   "execution_count": 51,
   "metadata": {
    "collapsed": true
   },
   "outputs": [],
   "source": [
    "feature_imp5 = imp.loc[imp.important > imp.important.mean() / 3, 'feature']"
   ]
  },
  {
   "cell_type": "code",
   "execution_count": 52,
   "metadata": {
    "collapsed": false
   },
   "outputs": [
    {
     "data": {
      "text/plain": [
       "(189,)"
      ]
     },
     "execution_count": 52,
     "metadata": {},
     "output_type": "execute_result"
    }
   ],
   "source": [
    "feature_imp5.shape"
   ]
  },
  {
   "cell_type": "markdown",
   "metadata": {},
   "source": [
    "### training on 189 features "
   ]
  },
  {
   "cell_type": "code",
   "execution_count": 53,
   "metadata": {
    "collapsed": false
   },
   "outputs": [
    {
     "data": {
      "text/plain": [
       "ExtraTreesRegressor(bootstrap=False, criterion='mse', max_depth=6,\n",
       "          max_features='sqrt', max_leaf_nodes=None,\n",
       "          min_impurity_split=1e-07, min_samples_leaf=1,\n",
       "          min_samples_split=2, min_weight_fraction_leaf=0.0,\n",
       "          n_estimators=100, n_jobs=-1, oob_score=False, random_state=17,\n",
       "          verbose=0, warm_start=False)"
      ]
     },
     "execution_count": 53,
     "metadata": {},
     "output_type": "execute_result"
    }
   ],
   "source": [
    "etr.fit(X_train[list(feature_imp5)], X_train.y)"
   ]
  },
  {
   "cell_type": "code",
   "execution_count": 54,
   "metadata": {
    "collapsed": false
   },
   "outputs": [
    {
     "data": {
      "text/plain": [
       "0.016423012775028726"
      ]
     },
     "execution_count": 54,
     "metadata": {},
     "output_type": "execute_result"
    }
   ],
   "source": [
    "imp = pd.DataFrame({'feature':feature_imp5, 'important':etr.feature_importances_}).sort_values('important', ascending=False)\n",
    "y_p = etr.predict(X_test[feature_imp5])\n",
    "R_score(y_p, X_test.y)"
   ]
  },
  {
   "cell_type": "code",
   "execution_count": 55,
   "metadata": {
    "collapsed": false
   },
   "outputs": [
    {
     "data": {
      "text/plain": [
       "(184,)"
      ]
     },
     "execution_count": 55,
     "metadata": {},
     "output_type": "execute_result"
    }
   ],
   "source": [
    "feature_imp6 = imp.loc[imp.important > imp.important.mean() / 5, 'feature']\n",
    "feature_imp6.shape"
   ]
  },
  {
   "cell_type": "markdown",
   "metadata": {},
   "source": [
    "### training on 184 features "
   ]
  },
  {
   "cell_type": "code",
   "execution_count": 56,
   "metadata": {
    "collapsed": false
   },
   "outputs": [
    {
     "data": {
      "text/plain": [
       "ExtraTreesRegressor(bootstrap=False, criterion='mse', max_depth=6,\n",
       "          max_features='sqrt', max_leaf_nodes=None,\n",
       "          min_impurity_split=1e-07, min_samples_leaf=1,\n",
       "          min_samples_split=2, min_weight_fraction_leaf=0.0,\n",
       "          n_estimators=100, n_jobs=-1, oob_score=False, random_state=17,\n",
       "          verbose=0, warm_start=False)"
      ]
     },
     "execution_count": 56,
     "metadata": {},
     "output_type": "execute_result"
    }
   ],
   "source": [
    "etr.fit(X_train[list(feature_imp6)], X_train.y)"
   ]
  },
  {
   "cell_type": "code",
   "execution_count": 57,
   "metadata": {
    "collapsed": false
   },
   "outputs": [
    {
     "data": {
      "text/plain": [
       "0.019946981056484202"
      ]
     },
     "execution_count": 57,
     "metadata": {},
     "output_type": "execute_result"
    }
   ],
   "source": [
    "imp = pd.DataFrame({'feature':feature_imp6, 'important':etr.feature_importances_}).sort_values('important', ascending=False)\n",
    "y_p = etr.predict(X_test[feature_imp6])\n",
    "R_score(y_p, X_test.y)"
   ]
  },
  {
   "cell_type": "markdown",
   "metadata": {},
   "source": [
    "solid again!"
   ]
  },
  {
   "cell_type": "code",
   "execution_count": 58,
   "metadata": {
    "collapsed": false
   },
   "outputs": [
    {
     "data": {
      "text/plain": [
       "(177,)"
      ]
     },
     "execution_count": 58,
     "metadata": {},
     "output_type": "execute_result"
    }
   ],
   "source": [
    "feature_imp7 = imp.loc[imp.important > imp.important.mean() / 5, 'feature']\n",
    "feature_imp7.shape"
   ]
  },
  {
   "cell_type": "markdown",
   "metadata": {},
   "source": [
    "### training on 177 features! "
   ]
  },
  {
   "cell_type": "code",
   "execution_count": 60,
   "metadata": {
    "collapsed": false
   },
   "outputs": [
    {
     "data": {
      "text/plain": [
       "ExtraTreesRegressor(bootstrap=False, criterion='mse', max_depth=6,\n",
       "          max_features='sqrt', max_leaf_nodes=None,\n",
       "          min_impurity_split=1e-07, min_samples_leaf=1,\n",
       "          min_samples_split=2, min_weight_fraction_leaf=0.0,\n",
       "          n_estimators=100, n_jobs=-1, oob_score=False, random_state=17,\n",
       "          verbose=0, warm_start=False)"
      ]
     },
     "execution_count": 60,
     "metadata": {},
     "output_type": "execute_result"
    }
   ],
   "source": [
    "etr.fit(X_train[list(feature_imp7)], X_train.y)"
   ]
  },
  {
   "cell_type": "code",
   "execution_count": 61,
   "metadata": {
    "collapsed": false
   },
   "outputs": [
    {
     "data": {
      "text/plain": [
       "0.018857205191046052"
      ]
     },
     "execution_count": 61,
     "metadata": {},
     "output_type": "execute_result"
    }
   ],
   "source": [
    "imp = pd.DataFrame({'feature':feature_imp7, 'important':etr.feature_importances_}).sort_values('important', ascending=False)\n",
    "y_p = etr.predict(X_test[feature_imp7])\n",
    "R_score(y_p, X_test.y)"
   ]
  },
  {
   "cell_type": "code",
   "execution_count": 62,
   "metadata": {
    "collapsed": false
   },
   "outputs": [
    {
     "data": {
      "text/html": [
       "<div>\n",
       "<table border=\"1\" class=\"dataframe\">\n",
       "  <thead>\n",
       "    <tr style=\"text-align: right;\">\n",
       "      <th></th>\n",
       "      <th>feature</th>\n",
       "      <th>important</th>\n",
       "    </tr>\n",
       "  </thead>\n",
       "  <tbody>\n",
       "    <tr>\n",
       "      <th>85</th>\n",
       "      <td>technical_20</td>\n",
       "      <td>0.050796</td>\n",
       "    </tr>\n",
       "    <tr>\n",
       "      <th>93</th>\n",
       "      <td>technical_30</td>\n",
       "      <td>0.024535</td>\n",
       "    </tr>\n",
       "    <tr>\n",
       "      <th>194</th>\n",
       "      <td>technical_20_diff</td>\n",
       "      <td>0.023917</td>\n",
       "    </tr>\n",
       "    <tr>\n",
       "      <th>202</th>\n",
       "      <td>technical_30_diff</td>\n",
       "      <td>0.023150</td>\n",
       "    </tr>\n",
       "    <tr>\n",
       "      <th>229</th>\n",
       "      <td>fundamental_48_nan</td>\n",
       "      <td>0.016550</td>\n",
       "    </tr>\n",
       "    <tr>\n",
       "      <th>92</th>\n",
       "      <td>technical_29</td>\n",
       "      <td>0.015930</td>\n",
       "    </tr>\n",
       "    <tr>\n",
       "      <th>84</th>\n",
       "      <td>technical_19</td>\n",
       "      <td>0.014103</td>\n",
       "    </tr>\n",
       "    <tr>\n",
       "      <th>225</th>\n",
       "      <td>fundamental_33_nan</td>\n",
       "      <td>0.013412</td>\n",
       "    </tr>\n",
       "    <tr>\n",
       "      <th>228</th>\n",
       "      <td>fundamental_18_nan</td>\n",
       "      <td>0.013359</td>\n",
       "    </tr>\n",
       "    <tr>\n",
       "      <th>90</th>\n",
       "      <td>technical_27</td>\n",
       "      <td>0.012461</td>\n",
       "    </tr>\n",
       "    <tr>\n",
       "      <th>22</th>\n",
       "      <td>fundamental_18</td>\n",
       "      <td>0.012355</td>\n",
       "    </tr>\n",
       "    <tr>\n",
       "      <th>18</th>\n",
       "      <td>fundamental_14</td>\n",
       "      <td>0.012148</td>\n",
       "    </tr>\n",
       "    <tr>\n",
       "      <th>116</th>\n",
       "      <td>fundamental_2_diff</td>\n",
       "      <td>0.011841</td>\n",
       "    </tr>\n",
       "    <tr>\n",
       "      <th>284</th>\n",
       "      <td>fundamental_47_nan</td>\n",
       "      <td>0.011670</td>\n",
       "    </tr>\n",
       "    <tr>\n",
       "      <th>166</th>\n",
       "      <td>fundamental_53_diff</td>\n",
       "      <td>0.011608</td>\n",
       "    </tr>\n",
       "    <tr>\n",
       "      <th>106</th>\n",
       "      <td>technical_43</td>\n",
       "      <td>0.011604</td>\n",
       "    </tr>\n",
       "    <tr>\n",
       "      <th>41</th>\n",
       "      <td>fundamental_37</td>\n",
       "      <td>0.011450</td>\n",
       "    </tr>\n",
       "    <tr>\n",
       "      <th>170</th>\n",
       "      <td>fundamental_57_diff</td>\n",
       "      <td>0.010251</td>\n",
       "    </tr>\n",
       "    <tr>\n",
       "      <th>86</th>\n",
       "      <td>technical_21</td>\n",
       "      <td>0.010250</td>\n",
       "    </tr>\n",
       "    <tr>\n",
       "      <th>124</th>\n",
       "      <td>fundamental_11_diff</td>\n",
       "      <td>0.009671</td>\n",
       "    </tr>\n",
       "    <tr>\n",
       "      <th>131</th>\n",
       "      <td>fundamental_18_diff</td>\n",
       "      <td>0.009566</td>\n",
       "    </tr>\n",
       "    <tr>\n",
       "      <th>183</th>\n",
       "      <td>technical_7_diff</td>\n",
       "      <td>0.009189</td>\n",
       "    </tr>\n",
       "    <tr>\n",
       "      <th>154</th>\n",
       "      <td>fundamental_41_diff</td>\n",
       "      <td>0.008800</td>\n",
       "    </tr>\n",
       "    <tr>\n",
       "      <th>99</th>\n",
       "      <td>technical_36</td>\n",
       "      <td>0.008760</td>\n",
       "    </tr>\n",
       "    <tr>\n",
       "      <th>87</th>\n",
       "      <td>technical_22</td>\n",
       "      <td>0.008527</td>\n",
       "    </tr>\n",
       "    <tr>\n",
       "      <th>79</th>\n",
       "      <td>technical_13</td>\n",
       "      <td>0.008043</td>\n",
       "    </tr>\n",
       "    <tr>\n",
       "      <th>56</th>\n",
       "      <td>fundamental_52</td>\n",
       "      <td>0.007828</td>\n",
       "    </tr>\n",
       "    <tr>\n",
       "      <th>186</th>\n",
       "      <td>technical_11_diff</td>\n",
       "      <td>0.007496</td>\n",
       "    </tr>\n",
       "    <tr>\n",
       "      <th>80</th>\n",
       "      <td>technical_14</td>\n",
       "      <td>0.007415</td>\n",
       "    </tr>\n",
       "    <tr>\n",
       "      <th>236</th>\n",
       "      <td>fundamental_0_nan</td>\n",
       "      <td>0.007369</td>\n",
       "    </tr>\n",
       "    <tr>\n",
       "      <th>...</th>\n",
       "      <td>...</td>\n",
       "      <td>...</td>\n",
       "    </tr>\n",
       "    <tr>\n",
       "      <th>231</th>\n",
       "      <td>technical_9_nan</td>\n",
       "      <td>0.002542</td>\n",
       "    </tr>\n",
       "    <tr>\n",
       "      <th>16</th>\n",
       "      <td>fundamental_12</td>\n",
       "      <td>0.002525</td>\n",
       "    </tr>\n",
       "    <tr>\n",
       "      <th>49</th>\n",
       "      <td>fundamental_45</td>\n",
       "      <td>0.002508</td>\n",
       "    </tr>\n",
       "    <tr>\n",
       "      <th>247</th>\n",
       "      <td>technical_3_nan</td>\n",
       "      <td>0.002494</td>\n",
       "    </tr>\n",
       "    <tr>\n",
       "      <th>30</th>\n",
       "      <td>fundamental_26</td>\n",
       "      <td>0.002490</td>\n",
       "    </tr>\n",
       "    <tr>\n",
       "      <th>62</th>\n",
       "      <td>fundamental_58</td>\n",
       "      <td>0.002356</td>\n",
       "    </tr>\n",
       "    <tr>\n",
       "      <th>9</th>\n",
       "      <td>fundamental_5</td>\n",
       "      <td>0.002346</td>\n",
       "    </tr>\n",
       "    <tr>\n",
       "      <th>254</th>\n",
       "      <td>derived_3_nan</td>\n",
       "      <td>0.002307</td>\n",
       "    </tr>\n",
       "    <tr>\n",
       "      <th>226</th>\n",
       "      <td>technical_14_nan</td>\n",
       "      <td>0.002306</td>\n",
       "    </tr>\n",
       "    <tr>\n",
       "      <th>296</th>\n",
       "      <td>fundamental_38_nan</td>\n",
       "      <td>0.002260</td>\n",
       "    </tr>\n",
       "    <tr>\n",
       "      <th>265</th>\n",
       "      <td>fundamental_43_nan</td>\n",
       "      <td>0.002207</td>\n",
       "    </tr>\n",
       "    <tr>\n",
       "      <th>237</th>\n",
       "      <td>fundamental_7_nan</td>\n",
       "      <td>0.002170</td>\n",
       "    </tr>\n",
       "    <tr>\n",
       "      <th>232</th>\n",
       "      <td>technical_16_nan</td>\n",
       "      <td>0.002163</td>\n",
       "    </tr>\n",
       "    <tr>\n",
       "      <th>177</th>\n",
       "      <td>technical_0_diff</td>\n",
       "      <td>0.002135</td>\n",
       "    </tr>\n",
       "    <tr>\n",
       "      <th>139</th>\n",
       "      <td>fundamental_26_diff</td>\n",
       "      <td>0.002128</td>\n",
       "    </tr>\n",
       "    <tr>\n",
       "      <th>175</th>\n",
       "      <td>fundamental_62_diff</td>\n",
       "      <td>0.002086</td>\n",
       "    </tr>\n",
       "    <tr>\n",
       "      <th>172</th>\n",
       "      <td>fundamental_59_diff</td>\n",
       "      <td>0.002057</td>\n",
       "    </tr>\n",
       "    <tr>\n",
       "      <th>78</th>\n",
       "      <td>technical_12</td>\n",
       "      <td>0.002055</td>\n",
       "    </tr>\n",
       "    <tr>\n",
       "      <th>100</th>\n",
       "      <td>technical_37</td>\n",
       "      <td>0.001873</td>\n",
       "    </tr>\n",
       "    <tr>\n",
       "      <th>91</th>\n",
       "      <td>technical_28</td>\n",
       "      <td>0.001834</td>\n",
       "    </tr>\n",
       "    <tr>\n",
       "      <th>187</th>\n",
       "      <td>technical_12_diff</td>\n",
       "      <td>0.001828</td>\n",
       "    </tr>\n",
       "    <tr>\n",
       "      <th>17</th>\n",
       "      <td>fundamental_13</td>\n",
       "      <td>0.001823</td>\n",
       "    </tr>\n",
       "    <tr>\n",
       "      <th>243</th>\n",
       "      <td>technical_24_nan</td>\n",
       "      <td>0.001814</td>\n",
       "    </tr>\n",
       "    <tr>\n",
       "      <th>19</th>\n",
       "      <td>fundamental_15</td>\n",
       "      <td>0.001729</td>\n",
       "    </tr>\n",
       "    <tr>\n",
       "      <th>44</th>\n",
       "      <td>fundamental_40</td>\n",
       "      <td>0.001624</td>\n",
       "    </tr>\n",
       "    <tr>\n",
       "      <th>255</th>\n",
       "      <td>technical_5_nan</td>\n",
       "      <td>0.001563</td>\n",
       "    </tr>\n",
       "    <tr>\n",
       "      <th>69</th>\n",
       "      <td>technical_1</td>\n",
       "      <td>0.001330</td>\n",
       "    </tr>\n",
       "    <tr>\n",
       "      <th>185</th>\n",
       "      <td>technical_10_diff</td>\n",
       "      <td>0.001265</td>\n",
       "    </tr>\n",
       "    <tr>\n",
       "      <th>196</th>\n",
       "      <td>technical_22_diff</td>\n",
       "      <td>0.001178</td>\n",
       "    </tr>\n",
       "    <tr>\n",
       "      <th>242</th>\n",
       "      <td>technical_29_nan</td>\n",
       "      <td>0.001170</td>\n",
       "    </tr>\n",
       "  </tbody>\n",
       "</table>\n",
       "<p>177 rows × 2 columns</p>\n",
       "</div>"
      ],
      "text/plain": [
       "                 feature  important\n",
       "85          technical_20   0.050796\n",
       "93          technical_30   0.024535\n",
       "194    technical_20_diff   0.023917\n",
       "202    technical_30_diff   0.023150\n",
       "229   fundamental_48_nan   0.016550\n",
       "92          technical_29   0.015930\n",
       "84          technical_19   0.014103\n",
       "225   fundamental_33_nan   0.013412\n",
       "228   fundamental_18_nan   0.013359\n",
       "90          technical_27   0.012461\n",
       "22        fundamental_18   0.012355\n",
       "18        fundamental_14   0.012148\n",
       "116   fundamental_2_diff   0.011841\n",
       "284   fundamental_47_nan   0.011670\n",
       "166  fundamental_53_diff   0.011608\n",
       "106         technical_43   0.011604\n",
       "41        fundamental_37   0.011450\n",
       "170  fundamental_57_diff   0.010251\n",
       "86          technical_21   0.010250\n",
       "124  fundamental_11_diff   0.009671\n",
       "131  fundamental_18_diff   0.009566\n",
       "183     technical_7_diff   0.009189\n",
       "154  fundamental_41_diff   0.008800\n",
       "99          technical_36   0.008760\n",
       "87          technical_22   0.008527\n",
       "79          technical_13   0.008043\n",
       "56        fundamental_52   0.007828\n",
       "186    technical_11_diff   0.007496\n",
       "80          technical_14   0.007415\n",
       "236    fundamental_0_nan   0.007369\n",
       "..                   ...        ...\n",
       "231      technical_9_nan   0.002542\n",
       "16        fundamental_12   0.002525\n",
       "49        fundamental_45   0.002508\n",
       "247      technical_3_nan   0.002494\n",
       "30        fundamental_26   0.002490\n",
       "62        fundamental_58   0.002356\n",
       "9          fundamental_5   0.002346\n",
       "254        derived_3_nan   0.002307\n",
       "226     technical_14_nan   0.002306\n",
       "296   fundamental_38_nan   0.002260\n",
       "265   fundamental_43_nan   0.002207\n",
       "237    fundamental_7_nan   0.002170\n",
       "232     technical_16_nan   0.002163\n",
       "177     technical_0_diff   0.002135\n",
       "139  fundamental_26_diff   0.002128\n",
       "175  fundamental_62_diff   0.002086\n",
       "172  fundamental_59_diff   0.002057\n",
       "78          technical_12   0.002055\n",
       "100         technical_37   0.001873\n",
       "91          technical_28   0.001834\n",
       "187    technical_12_diff   0.001828\n",
       "17        fundamental_13   0.001823\n",
       "243     technical_24_nan   0.001814\n",
       "19        fundamental_15   0.001729\n",
       "44        fundamental_40   0.001624\n",
       "255      technical_5_nan   0.001563\n",
       "69           technical_1   0.001330\n",
       "185    technical_10_diff   0.001265\n",
       "196    technical_22_diff   0.001178\n",
       "242     technical_29_nan   0.001170\n",
       "\n",
       "[177 rows x 2 columns]"
      ]
     },
     "execution_count": 62,
     "metadata": {},
     "output_type": "execute_result"
    }
   ],
   "source": [
    "imp"
   ]
  },
  {
   "cell_type": "code",
   "execution_count": 65,
   "metadata": {
    "collapsed": false
   },
   "outputs": [
    {
     "data": {
      "text/plain": [
       "(173,)"
      ]
     },
     "execution_count": 65,
     "metadata": {},
     "output_type": "execute_result"
    }
   ],
   "source": [
    "feature_imp8 = imp.loc[imp.important > imp.important.mean() / 4, 'feature']\n",
    "feature_imp8.shape"
   ]
  },
  {
   "cell_type": "markdown",
   "metadata": {},
   "source": [
    "### training on 173 features "
   ]
  },
  {
   "cell_type": "code",
   "execution_count": 66,
   "metadata": {
    "collapsed": false
   },
   "outputs": [
    {
     "data": {
      "text/plain": [
       "ExtraTreesRegressor(bootstrap=False, criterion='mse', max_depth=6,\n",
       "          max_features='sqrt', max_leaf_nodes=None,\n",
       "          min_impurity_split=1e-07, min_samples_leaf=1,\n",
       "          min_samples_split=2, min_weight_fraction_leaf=0.0,\n",
       "          n_estimators=100, n_jobs=-1, oob_score=False, random_state=17,\n",
       "          verbose=0, warm_start=False)"
      ]
     },
     "execution_count": 66,
     "metadata": {},
     "output_type": "execute_result"
    }
   ],
   "source": [
    "etr.fit(X_train[list(feature_imp8)], X_train.y)"
   ]
  },
  {
   "cell_type": "code",
   "execution_count": 68,
   "metadata": {
    "collapsed": false
   },
   "outputs": [
    {
     "data": {
      "text/plain": [
       "0.019853806360231506"
      ]
     },
     "execution_count": 68,
     "metadata": {},
     "output_type": "execute_result"
    }
   ],
   "source": [
    "imp = pd.DataFrame({'feature':feature_imp8, 'important':etr.feature_importances_}).sort_values('important', ascending=False)\n",
    "y_p = etr.predict(X_test[feature_imp8])\n",
    "R_score(y_p, X_test.y)"
   ]
  },
  {
   "cell_type": "code",
   "execution_count": 70,
   "metadata": {
    "collapsed": false
   },
   "outputs": [
    {
     "data": {
      "text/plain": [
       "(165,)"
      ]
     },
     "execution_count": 70,
     "metadata": {},
     "output_type": "execute_result"
    }
   ],
   "source": [
    "feature_imp9 = imp.loc[imp.important > imp.important.mean() / 4, 'feature']\n",
    "feature_imp9.shape"
   ]
  },
  {
   "cell_type": "markdown",
   "metadata": {},
   "source": [
    "### training on 165 features "
   ]
  },
  {
   "cell_type": "code",
   "execution_count": 71,
   "metadata": {
    "collapsed": false
   },
   "outputs": [
    {
     "data": {
      "text/plain": [
       "ExtraTreesRegressor(bootstrap=False, criterion='mse', max_depth=6,\n",
       "          max_features='sqrt', max_leaf_nodes=None,\n",
       "          min_impurity_split=1e-07, min_samples_leaf=1,\n",
       "          min_samples_split=2, min_weight_fraction_leaf=0.0,\n",
       "          n_estimators=100, n_jobs=-1, oob_score=False, random_state=17,\n",
       "          verbose=0, warm_start=False)"
      ]
     },
     "execution_count": 71,
     "metadata": {},
     "output_type": "execute_result"
    }
   ],
   "source": [
    "etr.fit(X_train[list(feature_imp9)], X_train.y)"
   ]
  },
  {
   "cell_type": "code",
   "execution_count": 73,
   "metadata": {
    "collapsed": false
   },
   "outputs": [
    {
     "data": {
      "text/plain": [
       "0.020116523903936128"
      ]
     },
     "execution_count": 73,
     "metadata": {},
     "output_type": "execute_result"
    }
   ],
   "source": [
    "imp = pd.DataFrame({'feature':feature_imp9, 'important':etr.feature_importances_}).sort_values('important', ascending=False)\n",
    "y_p = etr.predict(X_test[feature_imp9])\n",
    "R_score(y_p, X_test.y)"
   ]
  },
  {
   "cell_type": "markdown",
   "metadata": {},
   "source": [
    "good, compress again!"
   ]
  },
  {
   "cell_type": "code",
   "execution_count": 74,
   "metadata": {
    "collapsed": false
   },
   "outputs": [
    {
     "data": {
      "text/plain": [
       "(157,)"
      ]
     },
     "execution_count": 74,
     "metadata": {},
     "output_type": "execute_result"
    }
   ],
   "source": [
    "feature_imp10 = imp.loc[imp.important > imp.important.mean() / 4, 'feature']\n",
    "feature_imp10.shape"
   ]
  },
  {
   "cell_type": "markdown",
   "metadata": {},
   "source": [
    "### training on 157 features "
   ]
  },
  {
   "cell_type": "code",
   "execution_count": 75,
   "metadata": {
    "collapsed": false
   },
   "outputs": [
    {
     "data": {
      "text/plain": [
       "ExtraTreesRegressor(bootstrap=False, criterion='mse', max_depth=6,\n",
       "          max_features='sqrt', max_leaf_nodes=None,\n",
       "          min_impurity_split=1e-07, min_samples_leaf=1,\n",
       "          min_samples_split=2, min_weight_fraction_leaf=0.0,\n",
       "          n_estimators=100, n_jobs=-1, oob_score=False, random_state=17,\n",
       "          verbose=0, warm_start=False)"
      ]
     },
     "execution_count": 75,
     "metadata": {},
     "output_type": "execute_result"
    }
   ],
   "source": [
    "etr.fit(X_train[list(feature_imp10)], X_train.y)"
   ]
  },
  {
   "cell_type": "code",
   "execution_count": 76,
   "metadata": {
    "collapsed": false
   },
   "outputs": [
    {
     "data": {
      "text/plain": [
       "0.017990627537795775"
      ]
     },
     "execution_count": 76,
     "metadata": {},
     "output_type": "execute_result"
    }
   ],
   "source": [
    "imp = pd.DataFrame({'feature':feature_imp10, 'important':etr.feature_importances_}).sort_values('important', ascending=False)\n",
    "y_p = etr.predict(X_test[feature_imp10])\n",
    "R_score(y_p, X_test.y)"
   ]
  },
  {
   "cell_type": "code",
   "execution_count": 78,
   "metadata": {
    "collapsed": false
   },
   "outputs": [
    {
     "data": {
      "text/plain": [
       "(147,)"
      ]
     },
     "execution_count": 78,
     "metadata": {},
     "output_type": "execute_result"
    }
   ],
   "source": [
    "feature_imp11 = imp.loc[imp.important > imp.important.mean() / 3, 'feature']\n",
    "feature_imp11.shape"
   ]
  },
  {
   "cell_type": "markdown",
   "metadata": {},
   "source": [
    "### training on 147 features "
   ]
  },
  {
   "cell_type": "code",
   "execution_count": 79,
   "metadata": {
    "collapsed": false
   },
   "outputs": [
    {
     "data": {
      "text/plain": [
       "ExtraTreesRegressor(bootstrap=False, criterion='mse', max_depth=6,\n",
       "          max_features='sqrt', max_leaf_nodes=None,\n",
       "          min_impurity_split=1e-07, min_samples_leaf=1,\n",
       "          min_samples_split=2, min_weight_fraction_leaf=0.0,\n",
       "          n_estimators=100, n_jobs=-1, oob_score=False, random_state=17,\n",
       "          verbose=0, warm_start=False)"
      ]
     },
     "execution_count": 79,
     "metadata": {},
     "output_type": "execute_result"
    }
   ],
   "source": [
    "etr.fit(X_train[list(feature_imp11)], X_train.y)"
   ]
  },
  {
   "cell_type": "code",
   "execution_count": 80,
   "metadata": {
    "collapsed": false
   },
   "outputs": [
    {
     "data": {
      "text/plain": [
       "0.019052930948383926"
      ]
     },
     "execution_count": 80,
     "metadata": {},
     "output_type": "execute_result"
    }
   ],
   "source": [
    "imp = pd.DataFrame({'feature':feature_imp11, 'important':etr.feature_importances_}).sort_values('important', ascending=False)\n",
    "y_p = etr.predict(X_test[feature_imp11])\n",
    "R_score(y_p, X_test.y)"
   ]
  },
  {
   "cell_type": "code",
   "execution_count": 82,
   "metadata": {
    "collapsed": false
   },
   "outputs": [
    {
     "data": {
      "text/plain": [
       "(142,)"
      ]
     },
     "execution_count": 82,
     "metadata": {},
     "output_type": "execute_result"
    }
   ],
   "source": [
    "feature_imp12 = imp.loc[imp.important > imp.important.mean() / 3, 'feature']\n",
    "feature_imp12.shape"
   ]
  },
  {
   "cell_type": "markdown",
   "metadata": {},
   "source": [
    "### training on 142 features "
   ]
  },
  {
   "cell_type": "code",
   "execution_count": 83,
   "metadata": {
    "collapsed": false
   },
   "outputs": [
    {
     "data": {
      "text/plain": [
       "ExtraTreesRegressor(bootstrap=False, criterion='mse', max_depth=6,\n",
       "          max_features='sqrt', max_leaf_nodes=None,\n",
       "          min_impurity_split=1e-07, min_samples_leaf=1,\n",
       "          min_samples_split=2, min_weight_fraction_leaf=0.0,\n",
       "          n_estimators=100, n_jobs=-1, oob_score=False, random_state=17,\n",
       "          verbose=0, warm_start=False)"
      ]
     },
     "execution_count": 83,
     "metadata": {},
     "output_type": "execute_result"
    }
   ],
   "source": [
    "etr.fit(X_train[list(feature_imp12)], X_train.y)"
   ]
  },
  {
   "cell_type": "code",
   "execution_count": 84,
   "metadata": {
    "collapsed": false
   },
   "outputs": [
    {
     "data": {
      "text/plain": [
       "0.019622147486808905"
      ]
     },
     "execution_count": 84,
     "metadata": {},
     "output_type": "execute_result"
    }
   ],
   "source": [
    "imp = pd.DataFrame({'feature':feature_imp12, 'important':etr.feature_importances_}).sort_values('important', ascending=False)\n",
    "y_p = etr.predict(X_test[feature_imp12])\n",
    "R_score(y_p, X_test.y)"
   ]
  },
  {
   "cell_type": "code",
   "execution_count": 89,
   "metadata": {
    "collapsed": false
   },
   "outputs": [
    {
     "data": {
      "text/plain": [
       "(123,)"
      ]
     },
     "execution_count": 89,
     "metadata": {},
     "output_type": "execute_result"
    }
   ],
   "source": [
    "feature_imp13 = imp.loc[imp.important > imp.important.mean() / 2, 'feature']\n",
    "feature_imp13.shape"
   ]
  },
  {
   "cell_type": "markdown",
   "metadata": {},
   "source": [
    "### training on 123 features"
   ]
  },
  {
   "cell_type": "code",
   "execution_count": 90,
   "metadata": {
    "collapsed": false
   },
   "outputs": [
    {
     "data": {
      "text/plain": [
       "ExtraTreesRegressor(bootstrap=False, criterion='mse', max_depth=6,\n",
       "          max_features='sqrt', max_leaf_nodes=None,\n",
       "          min_impurity_split=1e-07, min_samples_leaf=1,\n",
       "          min_samples_split=2, min_weight_fraction_leaf=0.0,\n",
       "          n_estimators=100, n_jobs=-1, oob_score=False, random_state=17,\n",
       "          verbose=0, warm_start=False)"
      ]
     },
     "execution_count": 90,
     "metadata": {},
     "output_type": "execute_result"
    }
   ],
   "source": [
    "etr.fit(X_train[list(feature_imp13)], X_train.y)"
   ]
  },
  {
   "cell_type": "code",
   "execution_count": 91,
   "metadata": {
    "collapsed": false
   },
   "outputs": [
    {
     "data": {
      "text/plain": [
       "0.019872222753794959"
      ]
     },
     "execution_count": 91,
     "metadata": {},
     "output_type": "execute_result"
    }
   ],
   "source": [
    "imp = pd.DataFrame({'feature':feature_imp13, 'important':etr.feature_importances_}).sort_values('important', ascending=False)\n",
    "y_p = etr.predict(X_test[feature_imp13])\n",
    "R_score(y_p, X_test.y)"
   ]
  },
  {
   "cell_type": "code",
   "execution_count": 92,
   "metadata": {
    "collapsed": false
   },
   "outputs": [
    {
     "data": {
      "text/plain": [
       "(109,)"
      ]
     },
     "execution_count": 92,
     "metadata": {},
     "output_type": "execute_result"
    }
   ],
   "source": [
    "feature_imp14 = imp.loc[imp.important > imp.important.mean() / 2, 'feature']\n",
    "feature_imp14.shape"
   ]
  },
  {
   "cell_type": "markdown",
   "metadata": {},
   "source": [
    "### training on 109 features"
   ]
  },
  {
   "cell_type": "code",
   "execution_count": 93,
   "metadata": {
    "collapsed": false
   },
   "outputs": [
    {
     "data": {
      "text/plain": [
       "ExtraTreesRegressor(bootstrap=False, criterion='mse', max_depth=6,\n",
       "          max_features='sqrt', max_leaf_nodes=None,\n",
       "          min_impurity_split=1e-07, min_samples_leaf=1,\n",
       "          min_samples_split=2, min_weight_fraction_leaf=0.0,\n",
       "          n_estimators=100, n_jobs=-1, oob_score=False, random_state=17,\n",
       "          verbose=0, warm_start=False)"
      ]
     },
     "execution_count": 93,
     "metadata": {},
     "output_type": "execute_result"
    }
   ],
   "source": [
    "etr.fit(X_train[list(feature_imp14)], X_train.y)"
   ]
  },
  {
   "cell_type": "code",
   "execution_count": 95,
   "metadata": {
    "collapsed": false
   },
   "outputs": [
    {
     "data": {
      "text/plain": [
       "0.019484597524361814"
      ]
     },
     "execution_count": 95,
     "metadata": {},
     "output_type": "execute_result"
    }
   ],
   "source": [
    "imp = pd.DataFrame({'feature':feature_imp14, 'important':etr.feature_importances_}).sort_values('important', ascending=False)\n",
    "y_p = etr.predict(X_test[feature_imp14])\n",
    "R_score(y_p, X_test.y)"
   ]
  },
  {
   "cell_type": "code",
   "execution_count": 96,
   "metadata": {
    "collapsed": false
   },
   "outputs": [
    {
     "data": {
      "text/plain": [
       "(94,)"
      ]
     },
     "execution_count": 96,
     "metadata": {},
     "output_type": "execute_result"
    }
   ],
   "source": [
    "feature_imp15 = imp.loc[imp.important > imp.important.mean() / 2, 'feature']\n",
    "feature_imp15.shape"
   ]
  },
  {
   "cell_type": "markdown",
   "metadata": {},
   "source": [
    "### training on 93 features "
   ]
  },
  {
   "cell_type": "code",
   "execution_count": 97,
   "metadata": {
    "collapsed": false
   },
   "outputs": [
    {
     "data": {
      "text/plain": [
       "ExtraTreesRegressor(bootstrap=False, criterion='mse', max_depth=6,\n",
       "          max_features='sqrt', max_leaf_nodes=None,\n",
       "          min_impurity_split=1e-07, min_samples_leaf=1,\n",
       "          min_samples_split=2, min_weight_fraction_leaf=0.0,\n",
       "          n_estimators=100, n_jobs=-1, oob_score=False, random_state=17,\n",
       "          verbose=0, warm_start=False)"
      ]
     },
     "execution_count": 97,
     "metadata": {},
     "output_type": "execute_result"
    }
   ],
   "source": [
    "etr.fit(X_train[list(feature_imp15)], X_train.y)"
   ]
  },
  {
   "cell_type": "code",
   "execution_count": 98,
   "metadata": {
    "collapsed": false
   },
   "outputs": [
    {
     "data": {
      "text/plain": [
       "0.02009225543425288"
      ]
     },
     "execution_count": 98,
     "metadata": {},
     "output_type": "execute_result"
    }
   ],
   "source": [
    "imp = pd.DataFrame({'feature':feature_imp15, 'important':etr.feature_importances_}).sort_values('important', ascending=False)\n",
    "y_p = etr.predict(X_test[feature_imp15])\n",
    "R_score(y_p, X_test.y)"
   ]
  },
  {
   "cell_type": "code",
   "execution_count": 99,
   "metadata": {
    "collapsed": false
   },
   "outputs": [
    {
     "data": {
      "text/plain": [
       "(82,)"
      ]
     },
     "execution_count": 99,
     "metadata": {},
     "output_type": "execute_result"
    }
   ],
   "source": [
    "feature_imp16 = imp.loc[imp.important > imp.important.mean() / 2, 'feature']\n",
    "feature_imp16.shape"
   ]
  },
  {
   "cell_type": "markdown",
   "metadata": {},
   "source": [
    "### trainin on 82 features"
   ]
  },
  {
   "cell_type": "code",
   "execution_count": 100,
   "metadata": {
    "collapsed": false
   },
   "outputs": [
    {
     "data": {
      "text/plain": [
       "ExtraTreesRegressor(bootstrap=False, criterion='mse', max_depth=6,\n",
       "          max_features='sqrt', max_leaf_nodes=None,\n",
       "          min_impurity_split=1e-07, min_samples_leaf=1,\n",
       "          min_samples_split=2, min_weight_fraction_leaf=0.0,\n",
       "          n_estimators=100, n_jobs=-1, oob_score=False, random_state=17,\n",
       "          verbose=0, warm_start=False)"
      ]
     },
     "execution_count": 100,
     "metadata": {},
     "output_type": "execute_result"
    }
   ],
   "source": [
    "etr.fit(X_train[list(feature_imp16)], X_train.y)"
   ]
  },
  {
   "cell_type": "code",
   "execution_count": 101,
   "metadata": {
    "collapsed": false
   },
   "outputs": [
    {
     "data": {
      "text/plain": [
       "0.019395972706415677"
      ]
     },
     "execution_count": 101,
     "metadata": {},
     "output_type": "execute_result"
    }
   ],
   "source": [
    "imp = pd.DataFrame({'feature':feature_imp16, 'important':etr.feature_importances_}).sort_values('important', ascending=False)\n",
    "y_p = etr.predict(X_test[feature_imp16])\n",
    "R_score(y_p, X_test.y)"
   ]
  },
  {
   "cell_type": "markdown",
   "metadata": {},
   "source": [
    "end now, let's do it on 93 features"
   ]
  },
  {
   "cell_type": "code",
   "execution_count": 104,
   "metadata": {
    "collapsed": false
   },
   "outputs": [
    {
     "data": {
      "text/plain": [
       "85            technical_20\n",
       "93            technical_30\n",
       "202      technical_30_diff\n",
       "194      technical_20_diff\n",
       "225     fundamental_33_nan\n",
       "41          fundamental_37\n",
       "228     fundamental_18_nan\n",
       "92            technical_29\n",
       "166    fundamental_53_diff\n",
       "183       technical_7_diff\n",
       "106           technical_43\n",
       "80            technical_14\n",
       "18          fundamental_14\n",
       "229     fundamental_48_nan\n",
       "90            technical_27\n",
       "74             technical_7\n",
       "57          fundamental_53\n",
       "170    fundamental_57_diff\n",
       "131    fundamental_18_diff\n",
       "284     fundamental_47_nan\n",
       "116     fundamental_2_diff\n",
       "289      fundamental_9_nan\n",
       "212      technical_40_diff\n",
       "86            technical_21\n",
       "22          fundamental_18\n",
       "89            technical_25\n",
       "87            technical_22\n",
       "216      technical_44_diff\n",
       "79            technical_13\n",
       "73             technical_6\n",
       "              ...         \n",
       "244          derived_0_nan\n",
       "169    fundamental_56_diff\n",
       "158    fundamental_45_diff\n",
       "239       technical_41_nan\n",
       "186      technical_11_diff\n",
       "11           fundamental_7\n",
       "52          fundamental_48\n",
       "77            technical_11\n",
       "230     fundamental_59_nan\n",
       "270     fundamental_50_nan\n",
       "265     fundamental_43_nan\n",
       "251     fundamental_25_nan\n",
       "197      technical_24_diff\n",
       "49          fundamental_45\n",
       "271     fundamental_44_nan\n",
       "112         derived_3_diff\n",
       "246     fundamental_17_nan\n",
       "178       technical_1_diff\n",
       "98            technical_35\n",
       "281          derived_4_nan\n",
       "55          fundamental_51\n",
       "19          fundamental_15\n",
       "44          fundamental_40\n",
       "76            technical_10\n",
       "8            fundamental_3\n",
       "133    fundamental_20_diff\n",
       "199      technical_27_diff\n",
       "24          fundamental_20\n",
       "237      fundamental_7_nan\n",
       "107           technical_44\n",
       "Name: feature, dtype: object"
      ]
     },
     "execution_count": 104,
     "metadata": {},
     "output_type": "execute_result"
    }
   ],
   "source": [
    "feature_imp15"
   ]
  },
  {
   "cell_type": "code",
   "execution_count": 67,
   "metadata": {
    "collapsed": true
   },
   "outputs": [],
   "source": [
    "def feature_type(feature):\n",
    "    if feature.endswith('nan'):\n",
    "        return 0\n",
    "    elif feature.endswith('diff'):\n",
    "        return 1\n",
    "    else:\n",
    "        return 2"
   ]
  },
  {
   "cell_type": "code",
   "execution_count": 106,
   "metadata": {
    "collapsed": false
   },
   "outputs": [
    {
     "data": {
      "text/plain": [
       "pandas.core.series.Series"
      ]
     },
     "execution_count": 106,
     "metadata": {},
     "output_type": "execute_result"
    }
   ],
   "source": [
    "type(feature_imp15)"
   ]
  },
  {
   "cell_type": "code",
   "execution_count": 76,
   "metadata": {
    "collapsed": false
   },
   "outputs": [],
   "source": [
    "nan_features = [feature for feature in imp.feature if feature_type(feature)==0]"
   ]
  },
  {
   "cell_type": "code",
   "execution_count": 77,
   "metadata": {
    "collapsed": true
   },
   "outputs": [],
   "source": [
    "diff_features = [feature for feature in imp.feature if feature_type(feature)==1]"
   ]
  },
  {
   "cell_type": "code",
   "execution_count": 78,
   "metadata": {
    "collapsed": true
   },
   "outputs": [],
   "source": [
    "normal_features = [feature for feature in imp.feature if feature_type(feature)==2]"
   ]
  },
  {
   "cell_type": "code",
   "execution_count": 79,
   "metadata": {
    "collapsed": false
   },
   "outputs": [
    {
     "data": {
      "text/plain": [
       "['fundamental_18_nan',\n",
       " 'fundamental_44_nan',\n",
       " 'fundamental_14_nan',\n",
       " 'fundamental_31_nan',\n",
       " 'fundamental_8_nan',\n",
       " 'fundamental_41_nan',\n",
       " 'fundamental_0_nan',\n",
       " 'fundamental_7_nan',\n",
       " 'fundamental_33_nan',\n",
       " 'fundamental_62_nan',\n",
       " 'fundamental_34_nan',\n",
       " 'derived_0_nan',\n",
       " 'technical_5_nan',\n",
       " 'fundamental_24_nan',\n",
       " 'fundamental_35_nan',\n",
       " 'technical_3_nan',\n",
       " 'technical_24_nan',\n",
       " 'derived_1_nan',\n",
       " 'fundamental_25_nan',\n",
       " 'technical_31_nan',\n",
       " 'fundamental_39_nan',\n",
       " 'technical_18_nan',\n",
       " 'fundamental_21_nan',\n",
       " 'fundamental_9_nan',\n",
       " 'fundamental_47_nan',\n",
       " 'fundamental_50_nan',\n",
       " 'technical_9_nan',\n",
       " 'fundamental_52_nan',\n",
       " 'fundamental_16_nan',\n",
       " 'derived_3_nan',\n",
       " 'fundamental_23_nan',\n",
       " 'technical_16_nan',\n",
       " 'fundamental_48_nan',\n",
       " 'fundamental_28_nan',\n",
       " 'fundamental_17_nan',\n",
       " 'fundamental_40_nan',\n",
       " 'technical_1_nan',\n",
       " 'fundamental_54_nan',\n",
       " 'fundamental_32_nan',\n",
       " 'fundamental_57_nan',\n",
       " 'fundamental_49_nan',\n",
       " 'fundamental_5_nan',\n",
       " 'fundamental_55_nan',\n",
       " 'fundamental_37_nan',\n",
       " 'fundamental_60_nan',\n",
       " 'fundamental_30_nan',\n",
       " 'fundamental_15_nan',\n",
       " 'fundamental_43_nan',\n",
       " 'fundamental_29_nan',\n",
       " 'fundamental_27_nan',\n",
       " 'technical_28_nan',\n",
       " 'technical_44_nan',\n",
       " 'fundamental_63_nan',\n",
       " 'derived_2_nan',\n",
       " 'fundamental_38_nan',\n",
       " 'fundamental_6_nan',\n",
       " 'fundamental_1_nan',\n",
       " 'fundamental_61_nan',\n",
       " 'fundamental_22_nan',\n",
       " 'fundamental_51_nan',\n",
       " 'derived_4_nan',\n",
       " 'technical_25_nan',\n",
       " 'technical_10_nan',\n",
       " 'technical_21_nan',\n",
       " 'technical_42_nan',\n",
       " 'fundamental_59_nan',\n",
       " 'technical_33_nan',\n",
       " 'technical_14_nan',\n",
       " 'technical_13_nan',\n",
       " 'technical_43_nan',\n",
       " 'technical_17_nan',\n",
       " 'technical_35_nan',\n",
       " 'technical_36_nan',\n",
       " 'technical_27_nan',\n",
       " 'technical_19_nan',\n",
       " 'fundamental_42_nan',\n",
       " 'fundamental_58_nan',\n",
       " 'fundamental_20_nan',\n",
       " 'technical_29_nan',\n",
       " 'fundamental_19_nan',\n",
       " 'technical_41_nan']"
      ]
     },
     "execution_count": 79,
     "metadata": {},
     "output_type": "execute_result"
    }
   ],
   "source": [
    "nan_features"
   ]
  },
  {
   "cell_type": "code",
   "execution_count": 80,
   "metadata": {
    "collapsed": false
   },
   "outputs": [
    {
     "data": {
      "text/plain": [
       "['technical_20_diff',\n",
       " 'technical_30_diff',\n",
       " 'technical_2_diff',\n",
       " 'technical_14_diff',\n",
       " 'technical_11_diff',\n",
       " 'technical_17_diff',\n",
       " 'fundamental_57_diff',\n",
       " 'technical_6_diff',\n",
       " 'technical_1_diff',\n",
       " 'technical_44_diff',\n",
       " 'technical_40_diff',\n",
       " 'fundamental_53_diff',\n",
       " 'technical_41_diff',\n",
       " 'technical_43_diff',\n",
       " 'fundamental_49_diff',\n",
       " 'fundamental_41_diff',\n",
       " 'technical_27_diff',\n",
       " 'technical_21_diff',\n",
       " 'technical_7_diff',\n",
       " 'technical_36_diff',\n",
       " 'fundamental_18_diff',\n",
       " 'technical_28_diff',\n",
       " 'technical_10_diff',\n",
       " 'fundamental_36_diff',\n",
       " 'technical_31_diff',\n",
       " 'fundamental_45_diff',\n",
       " 'technical_24_diff',\n",
       " 'fundamental_7_diff',\n",
       " 'fundamental_52_diff',\n",
       " 'technical_35_diff',\n",
       " 'technical_19_diff',\n",
       " 'technical_33_diff',\n",
       " 'fundamental_42_diff',\n",
       " 'fundamental_20_diff',\n",
       " 'fundamental_30_diff',\n",
       " 'fundamental_26_diff',\n",
       " 'derived_2_diff',\n",
       " 'fundamental_15_diff',\n",
       " 'technical_13_diff',\n",
       " 'fundamental_8_diff',\n",
       " 'derived_4_diff',\n",
       " 'technical_42_diff',\n",
       " 'fundamental_13_diff',\n",
       " 'fundamental_48_diff',\n",
       " 'fundamental_54_diff',\n",
       " 'technical_38_diff',\n",
       " 'fundamental_22_diff',\n",
       " 'technical_5_diff',\n",
       " 'fundamental_10_diff',\n",
       " 'technical_34_diff',\n",
       " 'fundamental_6_diff',\n",
       " 'fundamental_9_diff',\n",
       " 'fundamental_39_diff',\n",
       " 'fundamental_51_diff',\n",
       " 'fundamental_55_diff',\n",
       " 'fundamental_61_diff',\n",
       " 'technical_29_diff',\n",
       " 'derived_1_diff',\n",
       " 'technical_3_diff',\n",
       " 'technical_37_diff',\n",
       " 'technical_18_diff',\n",
       " 'fundamental_12_diff',\n",
       " 'technical_0_diff',\n",
       " 'technical_25_diff',\n",
       " 'fundamental_50_diff',\n",
       " 'fundamental_59_diff',\n",
       " 'derived_3_diff',\n",
       " 'technical_12_diff',\n",
       " 'fundamental_0_diff',\n",
       " 'fundamental_19_diff',\n",
       " 'fundamental_23_diff',\n",
       " 'technical_39_diff',\n",
       " 'fundamental_14_diff',\n",
       " 'fundamental_16_diff',\n",
       " 'fundamental_17_diff',\n",
       " 'fundamental_21_diff',\n",
       " 'fundamental_24_diff',\n",
       " 'fundamental_25_diff',\n",
       " 'fundamental_27_diff',\n",
       " 'fundamental_28_diff',\n",
       " 'fundamental_11_diff',\n",
       " 'fundamental_29_diff',\n",
       " 'id_diff',\n",
       " 'derived_0_diff',\n",
       " 'fundamental_1_diff',\n",
       " 'fundamental_2_diff',\n",
       " 'fundamental_3_diff',\n",
       " 'fundamental_5_diff',\n",
       " 'fundamental_62_diff',\n",
       " 'fundamental_63_diff',\n",
       " 'technical_16_diff',\n",
       " 'technical_22_diff',\n",
       " 'technical_32_diff',\n",
       " 'fundamental_60_diff',\n",
       " 'fundamental_31_diff',\n",
       " 'fundamental_58_diff',\n",
       " 'fundamental_32_diff',\n",
       " 'fundamental_33_diff',\n",
       " 'fundamental_34_diff',\n",
       " 'fundamental_35_diff',\n",
       " 'fundamental_37_diff',\n",
       " 'fundamental_38_diff',\n",
       " 'fundamental_40_diff',\n",
       " 'fundamental_43_diff',\n",
       " 'fundamental_44_diff',\n",
       " 'fundamental_46_diff',\n",
       " 'fundamental_47_diff',\n",
       " 'fundamental_56_diff',\n",
       " 'technical_9_diff']"
      ]
     },
     "execution_count": 80,
     "metadata": {},
     "output_type": "execute_result"
    }
   ],
   "source": [
    "diff_features"
   ]
  },
  {
   "cell_type": "code",
   "execution_count": 81,
   "metadata": {
    "collapsed": false
   },
   "outputs": [
    {
     "data": {
      "text/plain": [
       "['technical_20',\n",
       " 'technical_30',\n",
       " 'technical_27',\n",
       " 'technical_12',\n",
       " 'technical_6',\n",
       " 'technical_7',\n",
       " 'technical_17',\n",
       " 'technical_11',\n",
       " 'technical_43',\n",
       " 'technical_36',\n",
       " 'technical_19',\n",
       " 'technical_35',\n",
       " 'fundamental_18',\n",
       " 'fundamental_56',\n",
       " 'fundamental_59',\n",
       " 'fundamental_0',\n",
       " 'technical_21',\n",
       " 'technical_33',\n",
       " 'technical_2',\n",
       " 'fundamental_45',\n",
       " 'technical_13',\n",
       " 'technical_14',\n",
       " 'technical_16',\n",
       " 'fundamental_8',\n",
       " 'technical_28',\n",
       " 'fundamental_7',\n",
       " 'technical_31',\n",
       " 'technical_3',\n",
       " 'technical_25',\n",
       " 'fundamental_60',\n",
       " 'fundamental_20',\n",
       " 'derived_0',\n",
       " 'fundamental_2',\n",
       " 'technical_34',\n",
       " 'fundamental_9',\n",
       " 'fundamental_53',\n",
       " 'nullcounts',\n",
       " 'technical_24',\n",
       " 'fundamental_58',\n",
       " 'technical_29',\n",
       " 'fundamental_52',\n",
       " 'technical_22',\n",
       " 'fundamental_61',\n",
       " 'derived_1',\n",
       " 'technical_5',\n",
       " 'fundamental_46',\n",
       " 'fundamental_14',\n",
       " 'fundamental_42',\n",
       " 'fundamental_62',\n",
       " 'fundamental_57',\n",
       " 'fundamental_40',\n",
       " 'technical_42',\n",
       " 'fundamental_50',\n",
       " 'technical_10',\n",
       " 'fundamental_16',\n",
       " 'fundamental_27',\n",
       " 'technical_40',\n",
       " 'derived_4',\n",
       " 'fundamental_25',\n",
       " 'fundamental_48',\n",
       " 'fundamental_10',\n",
       " 'fundamental_38',\n",
       " 'technical_44',\n",
       " 'fundamental_49',\n",
       " 'fundamental_54',\n",
       " 'fundamental_15',\n",
       " 'fundamental_63',\n",
       " 'technical_41',\n",
       " 'fundamental_51',\n",
       " 'fundamental_34',\n",
       " 'fundamental_21',\n",
       " 'fundamental_41',\n",
       " 'fundamental_1',\n",
       " 'fundamental_13',\n",
       " 'fundamental_39',\n",
       " 'technical_39',\n",
       " 'fundamental_28',\n",
       " 'fundamental_11',\n",
       " 'fundamental_12',\n",
       " 'derived_3',\n",
       " 'derived_2',\n",
       " 'technical_0',\n",
       " 'fundamental_36',\n",
       " 'fundamental_3',\n",
       " 'fundamental_43',\n",
       " 'fundamental_6',\n",
       " 'fundamental_22',\n",
       " 'fundamental_35',\n",
       " 'fundamental_5',\n",
       " 'fundamental_19',\n",
       " 'fundamental_37',\n",
       " 'fundamental_24',\n",
       " 'fundamental_23',\n",
       " 'technical_38',\n",
       " 'technical_37',\n",
       " 'fundamental_17',\n",
       " 'fundamental_30',\n",
       " 'fundamental_29',\n",
       " 'fundamental_44',\n",
       " 'fundamental_31',\n",
       " 'fundamental_32',\n",
       " 'technical_32',\n",
       " 'technical_1',\n",
       " 'technical_9',\n",
       " 'fundamental_55',\n",
       " 'technical_18',\n",
       " 'fundamental_47',\n",
       " 'fundamental_33',\n",
       " 'fundamental_26']"
      ]
     },
     "execution_count": 81,
     "metadata": {},
     "output_type": "execute_result"
    }
   ],
   "source": [
    "normal_features"
   ]
  },
  {
   "cell_type": "code",
   "execution_count": null,
   "metadata": {
    "collapsed": true
   },
   "outputs": [],
   "source": []
  }
 ],
 "metadata": {
  "kernelspec": {
   "display_name": "Python 3",
   "language": "python",
   "name": "python3"
  },
  "language_info": {
   "codemirror_mode": {
    "name": "ipython",
    "version": 3
   },
   "file_extension": ".py",
   "mimetype": "text/x-python",
   "name": "python",
   "nbconvert_exporter": "python",
   "pygments_lexer": "ipython3",
   "version": "3.4.3"
  }
 },
 "nbformat": 4,
 "nbformat_minor": 0
}
