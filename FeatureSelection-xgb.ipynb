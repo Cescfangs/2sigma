{
 "cells": [
  {
   "cell_type": "code",
   "execution_count": 1,
   "metadata": {
    "collapsed": false
   },
   "outputs": [],
   "source": [
    "import pandas as pd\n",
    "import numpy as np\n",
    "import twosigmafunc\n",
    "\n",
    "import matplotlib.pyplot as plt\n",
    "import seaborn\n",
    "plt.rcParams['figure.figsize'] = (14.0, 8.0) # set default size of plots\n",
    "plt.rcParams['image.interpolation'] = 'nearest'"
   ]
  },
  {
   "cell_type": "code",
   "execution_count": 2,
   "metadata": {
    "collapsed": true
   },
   "outputs": [],
   "source": [
    "%matplotlib inline\n",
    "%load_ext autoreload\n",
    "%autoreload 2"
   ]
  },
  {
   "cell_type": "code",
   "execution_count": 3,
   "metadata": {
    "collapsed": true
   },
   "outputs": [],
   "source": [
    "train = pd.read_hdf('train.h5')"
   ]
  },
  {
   "cell_type": "code",
   "execution_count": 4,
   "metadata": {
    "collapsed": true
   },
   "outputs": [],
   "source": [
    "null_labels = [\n",
    " 'technical_21',\n",
    " 'technical_19',\n",
    " 'technical_27',\n",
    " 'technical_36',\n",
    " 'technical_35',\n",
    " 'technical_17',\n",
    " 'technical_43',\n",
    " 'technical_13',\n",
    " 'fundamental_33',\n",
    " 'technical_14',\n",
    " 'technical_33',\n",
    " 'fundamental_18',\n",
    " 'fundamental_48',\n",
    " 'fundamental_59',\n",
    " 'technical_9',\n",
    " 'technical_16',\n",
    " 'technical_42',\n",
    " 'technical_18',\n",
    " 'fundamental_42',\n",
    " 'fundamental_0',\n",
    " 'fundamental_7',\n",
    " 'fundamental_41',\n",
    " 'technical_41',\n",
    " 'fundamental_21',\n",
    " 'fundamental_19',\n",
    " 'technical_29',\n",
    " 'technical_24',\n",
    " 'derived_0',\n",
    " 'derived_1',\n",
    " 'fundamental_17',\n",
    " 'technical_3',\n",
    " 'fundamental_20',\n",
    " 'fundamental_32',\n",
    " 'fundamental_62',\n",
    " 'fundamental_25',\n",
    " 'technical_1',\n",
    " 'fundamental_58',\n",
    " 'derived_3',\n",
    " 'technical_5',\n",
    " 'fundamental_52',\n",
    " 'technical_10',\n",
    " 'technical_31',\n",
    " 'technical_25',\n",
    " 'technical_44',\n",
    " 'technical_28',\n",
    " 'fundamental_40',\n",
    " 'fundamental_27',\n",
    " 'fundamental_29',\n",
    " 'fundamental_43',\n",
    " 'fundamental_15',\n",
    " 'fundamental_30',\n",
    " 'fundamental_60',\n",
    " 'fundamental_16',\n",
    " 'fundamental_50',\n",
    " 'fundamental_44',\n",
    " 'fundamental_37',\n",
    " 'fundamental_14',\n",
    " 'fundamental_23',\n",
    " 'fundamental_55',\n",
    " 'fundamental_8',\n",
    " 'fundamental_63',\n",
    " 'fundamental_39',\n",
    " 'fundamental_54',\n",
    " 'derived_2',\n",
    " 'derived_4',\n",
    " 'fundamental_35',\n",
    " 'fundamental_34',\n",
    " 'fundamental_47',\n",
    " 'fundamental_51',\n",
    " 'fundamental_31',\n",
    " 'fundamental_49',\n",
    " 'fundamental_22',\n",
    " 'fundamental_9',\n",
    " 'fundamental_24',\n",
    " 'fundamental_57',\n",
    " 'fundamental_28',\n",
    " 'fundamental_61',\n",
    " 'fundamental_1',\n",
    " 'fundamental_6',\n",
    " 'fundamental_38',\n",
    " 'fundamental_5']"
   ]
  },
  {
   "cell_type": "code",
   "execution_count": 5,
   "metadata": {
    "collapsed": true
   },
   "outputs": [],
   "source": [
    "excl = ['id', 'timestamp', 'y']\n",
    "cols_origin = [col for col in train.columns if col not in ['y']]\n",
    "feature_origin = [col for col in train.columns if col not in excl]\n",
    "feature_diff = [col + '_diff' for col in feature_origin]\n"
   ]
  },
  {
   "cell_type": "markdown",
   "metadata": {},
   "source": [
    "# Add differs "
   ]
  },
  {
   "cell_type": "code",
   "execution_count": 6,
   "metadata": {
    "collapsed": true
   },
   "outputs": [],
   "source": [
    "# add time series diff\n",
    "d_mean = train.median()\n",
    "train.sort_values(['id', 'timestamp'], inplace=True)\n",
    "train['id_diff'] = train.id.diff()\n",
    "d_mean['id_diff'] = 0.0\n",
    "for col in feature_origin:\n",
    "    train[col + '_diff'] = train[col].diff()\n",
    "    d_mean[col + '_diff'] = 0.0\n",
    "\n",
    "train.loc[train.id_diff!=0, feature_diff] = 0\n"
   ]
  },
  {
   "cell_type": "code",
   "execution_count": 6,
   "metadata": {
    "collapsed": false
   },
   "outputs": [
    {
     "data": {
      "text/html": [
       "<div>\n",
       "<table border=\"1\" class=\"dataframe\">\n",
       "  <thead>\n",
       "    <tr style=\"text-align: right;\">\n",
       "      <th></th>\n",
       "      <th>id</th>\n",
       "      <th>timestamp</th>\n",
       "      <th>derived_0</th>\n",
       "      <th>derived_1</th>\n",
       "      <th>derived_2</th>\n",
       "      <th>derived_3</th>\n",
       "      <th>derived_4</th>\n",
       "      <th>fundamental_0</th>\n",
       "      <th>fundamental_1</th>\n",
       "      <th>fundamental_2</th>\n",
       "      <th>...</th>\n",
       "      <th>technical_35_diff</th>\n",
       "      <th>technical_36_diff</th>\n",
       "      <th>technical_37_diff</th>\n",
       "      <th>technical_38_diff</th>\n",
       "      <th>technical_39_diff</th>\n",
       "      <th>technical_40_diff</th>\n",
       "      <th>technical_41_diff</th>\n",
       "      <th>technical_42_diff</th>\n",
       "      <th>technical_43_diff</th>\n",
       "      <th>technical_44_diff</th>\n",
       "    </tr>\n",
       "  </thead>\n",
       "  <tbody>\n",
       "    <tr>\n",
       "      <th>131062</th>\n",
       "      <td>0</td>\n",
       "      <td>167</td>\n",
       "      <td>NaN</td>\n",
       "      <td>NaN</td>\n",
       "      <td>NaN</td>\n",
       "      <td>NaN</td>\n",
       "      <td>NaN</td>\n",
       "      <td>NaN</td>\n",
       "      <td>NaN</td>\n",
       "      <td>NaN</td>\n",
       "      <td>...</td>\n",
       "      <td>0.0</td>\n",
       "      <td>0.0</td>\n",
       "      <td>0.0</td>\n",
       "      <td>0.0</td>\n",
       "      <td>0.0</td>\n",
       "      <td>0.0</td>\n",
       "      <td>0.0</td>\n",
       "      <td>0.0</td>\n",
       "      <td>0.0</td>\n",
       "      <td>0.0</td>\n",
       "    </tr>\n",
       "    <tr>\n",
       "      <th>131895</th>\n",
       "      <td>0</td>\n",
       "      <td>168</td>\n",
       "      <td>NaN</td>\n",
       "      <td>NaN</td>\n",
       "      <td>NaN</td>\n",
       "      <td>NaN</td>\n",
       "      <td>NaN</td>\n",
       "      <td>NaN</td>\n",
       "      <td>NaN</td>\n",
       "      <td>NaN</td>\n",
       "      <td>...</td>\n",
       "      <td>NaN</td>\n",
       "      <td>NaN</td>\n",
       "      <td>NaN</td>\n",
       "      <td>NaN</td>\n",
       "      <td>NaN</td>\n",
       "      <td>NaN</td>\n",
       "      <td>NaN</td>\n",
       "      <td>NaN</td>\n",
       "      <td>NaN</td>\n",
       "      <td>NaN</td>\n",
       "    </tr>\n",
       "    <tr>\n",
       "      <th>132728</th>\n",
       "      <td>0</td>\n",
       "      <td>169</td>\n",
       "      <td>NaN</td>\n",
       "      <td>NaN</td>\n",
       "      <td>NaN</td>\n",
       "      <td>NaN</td>\n",
       "      <td>NaN</td>\n",
       "      <td>NaN</td>\n",
       "      <td>NaN</td>\n",
       "      <td>NaN</td>\n",
       "      <td>...</td>\n",
       "      <td>NaN</td>\n",
       "      <td>NaN</td>\n",
       "      <td>NaN</td>\n",
       "      <td>NaN</td>\n",
       "      <td>NaN</td>\n",
       "      <td>NaN</td>\n",
       "      <td>NaN</td>\n",
       "      <td>NaN</td>\n",
       "      <td>NaN</td>\n",
       "      <td>NaN</td>\n",
       "    </tr>\n",
       "    <tr>\n",
       "      <th>133561</th>\n",
       "      <td>0</td>\n",
       "      <td>170</td>\n",
       "      <td>-0.230583</td>\n",
       "      <td>0.488096</td>\n",
       "      <td>0.93592</td>\n",
       "      <td>0.028222</td>\n",
       "      <td>-0.083071</td>\n",
       "      <td>-0.240929</td>\n",
       "      <td>NaN</td>\n",
       "      <td>0.212425</td>\n",
       "      <td>...</td>\n",
       "      <td>NaN</td>\n",
       "      <td>NaN</td>\n",
       "      <td>NaN</td>\n",
       "      <td>NaN</td>\n",
       "      <td>NaN</td>\n",
       "      <td>NaN</td>\n",
       "      <td>NaN</td>\n",
       "      <td>NaN</td>\n",
       "      <td>NaN</td>\n",
       "      <td>NaN</td>\n",
       "    </tr>\n",
       "    <tr>\n",
       "      <th>134393</th>\n",
       "      <td>0</td>\n",
       "      <td>171</td>\n",
       "      <td>-0.230583</td>\n",
       "      <td>0.488096</td>\n",
       "      <td>0.93592</td>\n",
       "      <td>0.028222</td>\n",
       "      <td>-0.083071</td>\n",
       "      <td>-0.240929</td>\n",
       "      <td>NaN</td>\n",
       "      <td>0.212425</td>\n",
       "      <td>...</td>\n",
       "      <td>0.0</td>\n",
       "      <td>0.0</td>\n",
       "      <td>0.0</td>\n",
       "      <td>0.0</td>\n",
       "      <td>0.0</td>\n",
       "      <td>0.0</td>\n",
       "      <td>NaN</td>\n",
       "      <td>0.0</td>\n",
       "      <td>0.0</td>\n",
       "      <td>NaN</td>\n",
       "    </tr>\n",
       "  </tbody>\n",
       "</table>\n",
       "<p>5 rows × 220 columns</p>\n",
       "</div>"
      ],
      "text/plain": [
       "        id  timestamp  derived_0  derived_1  derived_2  derived_3  derived_4  \\\n",
       "131062   0        167        NaN        NaN        NaN        NaN        NaN   \n",
       "131895   0        168        NaN        NaN        NaN        NaN        NaN   \n",
       "132728   0        169        NaN        NaN        NaN        NaN        NaN   \n",
       "133561   0        170  -0.230583   0.488096    0.93592   0.028222  -0.083071   \n",
       "134393   0        171  -0.230583   0.488096    0.93592   0.028222  -0.083071   \n",
       "\n",
       "        fundamental_0  fundamental_1  fundamental_2        ...          \\\n",
       "131062            NaN            NaN            NaN        ...           \n",
       "131895            NaN            NaN            NaN        ...           \n",
       "132728            NaN            NaN            NaN        ...           \n",
       "133561      -0.240929            NaN       0.212425        ...           \n",
       "134393      -0.240929            NaN       0.212425        ...           \n",
       "\n",
       "        technical_35_diff  technical_36_diff  technical_37_diff  \\\n",
       "131062                0.0                0.0                0.0   \n",
       "131895                NaN                NaN                NaN   \n",
       "132728                NaN                NaN                NaN   \n",
       "133561                NaN                NaN                NaN   \n",
       "134393                0.0                0.0                0.0   \n",
       "\n",
       "        technical_38_diff  technical_39_diff  technical_40_diff  \\\n",
       "131062                0.0                0.0                0.0   \n",
       "131895                NaN                NaN                NaN   \n",
       "132728                NaN                NaN                NaN   \n",
       "133561                NaN                NaN                NaN   \n",
       "134393                0.0                0.0                0.0   \n",
       "\n",
       "        technical_41_diff  technical_42_diff  technical_43_diff  \\\n",
       "131062                0.0                0.0                0.0   \n",
       "131895                NaN                NaN                NaN   \n",
       "132728                NaN                NaN                NaN   \n",
       "133561                NaN                NaN                NaN   \n",
       "134393                NaN                0.0                0.0   \n",
       "\n",
       "        technical_44_diff  \n",
       "131062                0.0  \n",
       "131895                NaN  \n",
       "132728                NaN  \n",
       "133561                NaN  \n",
       "134393                NaN  \n",
       "\n",
       "[5 rows x 220 columns]"
      ]
     },
     "execution_count": 6,
     "metadata": {},
     "output_type": "execute_result"
    }
   ],
   "source": [
    "train.head()"
   ]
  },
  {
   "cell_type": "markdown",
   "metadata": {},
   "source": [
    "# add `nan` tags "
   ]
  },
  {
   "cell_type": "code",
   "execution_count": 7,
   "metadata": {
    "collapsed": true
   },
   "outputs": [],
   "source": [
    "n = train.isnull().sum(axis=1)\n",
    "for c in null_labels:\n",
    "    train[c + '_nan'] = pd.isnull(train[c])\n",
    "    d_mean[c + '_nan'] = 0\n",
    "train = train.fillna(d_mean)\n",
    "train['nullcounts'] = n"
   ]
  },
  {
   "cell_type": "code",
   "execution_count": 8,
   "metadata": {
    "collapsed": false
   },
   "outputs": [
    {
     "data": {
      "text/html": [
       "<div>\n",
       "<table border=\"1\" class=\"dataframe\">\n",
       "  <thead>\n",
       "    <tr style=\"text-align: right;\">\n",
       "      <th></th>\n",
       "      <th>id</th>\n",
       "      <th>timestamp</th>\n",
       "      <th>derived_0</th>\n",
       "      <th>derived_1</th>\n",
       "      <th>derived_2</th>\n",
       "      <th>derived_3</th>\n",
       "      <th>derived_4</th>\n",
       "      <th>fundamental_0</th>\n",
       "      <th>fundamental_1</th>\n",
       "      <th>fundamental_2</th>\n",
       "      <th>...</th>\n",
       "      <th>fundamental_9_nan</th>\n",
       "      <th>fundamental_24_nan</th>\n",
       "      <th>fundamental_57_nan</th>\n",
       "      <th>fundamental_28_nan</th>\n",
       "      <th>fundamental_61_nan</th>\n",
       "      <th>fundamental_1_nan</th>\n",
       "      <th>fundamental_6_nan</th>\n",
       "      <th>fundamental_38_nan</th>\n",
       "      <th>fundamental_5_nan</th>\n",
       "      <th>nullcounts</th>\n",
       "    </tr>\n",
       "  </thead>\n",
       "  <tbody>\n",
       "    <tr>\n",
       "      <th>131062</th>\n",
       "      <td>0</td>\n",
       "      <td>167</td>\n",
       "      <td>-0.000837</td>\n",
       "      <td>0.005523</td>\n",
       "      <td>0.021095</td>\n",
       "      <td>0.002476</td>\n",
       "      <td>0.011752</td>\n",
       "      <td>-0.040645</td>\n",
       "      <td>-0.007395</td>\n",
       "      <td>-0.030291</td>\n",
       "      <td>...</td>\n",
       "      <td>True</td>\n",
       "      <td>True</td>\n",
       "      <td>True</td>\n",
       "      <td>True</td>\n",
       "      <td>True</td>\n",
       "      <td>True</td>\n",
       "      <td>True</td>\n",
       "      <td>True</td>\n",
       "      <td>True</td>\n",
       "      <td>107</td>\n",
       "    </tr>\n",
       "    <tr>\n",
       "      <th>131895</th>\n",
       "      <td>0</td>\n",
       "      <td>168</td>\n",
       "      <td>-0.000837</td>\n",
       "      <td>0.005523</td>\n",
       "      <td>0.021095</td>\n",
       "      <td>0.002476</td>\n",
       "      <td>0.011752</td>\n",
       "      <td>-0.040645</td>\n",
       "      <td>-0.007395</td>\n",
       "      <td>-0.030291</td>\n",
       "      <td>...</td>\n",
       "      <td>True</td>\n",
       "      <td>True</td>\n",
       "      <td>True</td>\n",
       "      <td>True</td>\n",
       "      <td>True</td>\n",
       "      <td>True</td>\n",
       "      <td>True</td>\n",
       "      <td>True</td>\n",
       "      <td>True</td>\n",
       "      <td>212</td>\n",
       "    </tr>\n",
       "    <tr>\n",
       "      <th>132728</th>\n",
       "      <td>0</td>\n",
       "      <td>169</td>\n",
       "      <td>-0.000837</td>\n",
       "      <td>0.005523</td>\n",
       "      <td>0.021095</td>\n",
       "      <td>0.002476</td>\n",
       "      <td>0.011752</td>\n",
       "      <td>-0.040645</td>\n",
       "      <td>-0.007395</td>\n",
       "      <td>-0.030291</td>\n",
       "      <td>...</td>\n",
       "      <td>True</td>\n",
       "      <td>True</td>\n",
       "      <td>True</td>\n",
       "      <td>True</td>\n",
       "      <td>True</td>\n",
       "      <td>True</td>\n",
       "      <td>True</td>\n",
       "      <td>True</td>\n",
       "      <td>True</td>\n",
       "      <td>212</td>\n",
       "    </tr>\n",
       "    <tr>\n",
       "      <th>133561</th>\n",
       "      <td>0</td>\n",
       "      <td>170</td>\n",
       "      <td>-0.230583</td>\n",
       "      <td>0.488096</td>\n",
       "      <td>0.935920</td>\n",
       "      <td>0.028222</td>\n",
       "      <td>-0.083071</td>\n",
       "      <td>-0.240929</td>\n",
       "      <td>-0.007395</td>\n",
       "      <td>0.212425</td>\n",
       "      <td>...</td>\n",
       "      <td>False</td>\n",
       "      <td>False</td>\n",
       "      <td>False</td>\n",
       "      <td>False</td>\n",
       "      <td>True</td>\n",
       "      <td>True</td>\n",
       "      <td>False</td>\n",
       "      <td>False</td>\n",
       "      <td>False</td>\n",
       "      <td>125</td>\n",
       "    </tr>\n",
       "    <tr>\n",
       "      <th>134393</th>\n",
       "      <td>0</td>\n",
       "      <td>171</td>\n",
       "      <td>-0.230583</td>\n",
       "      <td>0.488096</td>\n",
       "      <td>0.935920</td>\n",
       "      <td>0.028222</td>\n",
       "      <td>-0.083071</td>\n",
       "      <td>-0.240929</td>\n",
       "      <td>-0.007395</td>\n",
       "      <td>0.212425</td>\n",
       "      <td>...</td>\n",
       "      <td>False</td>\n",
       "      <td>False</td>\n",
       "      <td>False</td>\n",
       "      <td>False</td>\n",
       "      <td>True</td>\n",
       "      <td>True</td>\n",
       "      <td>False</td>\n",
       "      <td>False</td>\n",
       "      <td>False</td>\n",
       "      <td>38</td>\n",
       "    </tr>\n",
       "  </tbody>\n",
       "</table>\n",
       "<p>5 rows × 302 columns</p>\n",
       "</div>"
      ],
      "text/plain": [
       "        id  timestamp  derived_0  derived_1  derived_2  derived_3  derived_4  \\\n",
       "131062   0        167  -0.000837   0.005523   0.021095   0.002476   0.011752   \n",
       "131895   0        168  -0.000837   0.005523   0.021095   0.002476   0.011752   \n",
       "132728   0        169  -0.000837   0.005523   0.021095   0.002476   0.011752   \n",
       "133561   0        170  -0.230583   0.488096   0.935920   0.028222  -0.083071   \n",
       "134393   0        171  -0.230583   0.488096   0.935920   0.028222  -0.083071   \n",
       "\n",
       "        fundamental_0  fundamental_1  fundamental_2     ...      \\\n",
       "131062      -0.040645      -0.007395      -0.030291     ...       \n",
       "131895      -0.040645      -0.007395      -0.030291     ...       \n",
       "132728      -0.040645      -0.007395      -0.030291     ...       \n",
       "133561      -0.240929      -0.007395       0.212425     ...       \n",
       "134393      -0.240929      -0.007395       0.212425     ...       \n",
       "\n",
       "        fundamental_9_nan  fundamental_24_nan  fundamental_57_nan  \\\n",
       "131062               True                True                True   \n",
       "131895               True                True                True   \n",
       "132728               True                True                True   \n",
       "133561              False               False               False   \n",
       "134393              False               False               False   \n",
       "\n",
       "        fundamental_28_nan  fundamental_61_nan  fundamental_1_nan  \\\n",
       "131062                True                True               True   \n",
       "131895                True                True               True   \n",
       "132728                True                True               True   \n",
       "133561               False                True               True   \n",
       "134393               False                True               True   \n",
       "\n",
       "        fundamental_6_nan  fundamental_38_nan  fundamental_5_nan  nullcounts  \n",
       "131062               True                True               True         107  \n",
       "131895               True                True               True         212  \n",
       "132728               True                True               True         212  \n",
       "133561              False               False              False         125  \n",
       "134393              False               False              False          38  \n",
       "\n",
       "[5 rows x 302 columns]"
      ]
     },
     "execution_count": 8,
     "metadata": {},
     "output_type": "execute_result"
    }
   ],
   "source": [
    "train.head()"
   ]
  },
  {
   "cell_type": "markdown",
   "metadata": {},
   "source": [
    "# Add special features "
   ]
  },
  {
   "cell_type": "code",
   "execution_count": 8,
   "metadata": {
    "collapsed": true
   },
   "outputs": [],
   "source": [
    "train['tec20-30'] = train.technical_20 - train.technical_30\n",
    "train['tec123'] = train['tec20-30'] + train.technical_13\n",
    "train['y_past'] = train.y.shift()\n",
    "train['tec123_past'] = train.tec123.shift()\n",
    "train.loc[train.id_diff != 0, ['y_past', 'tec123_past']] = 0\n",
    "train.fillna(0, inplace=True)"
   ]
  },
  {
   "cell_type": "code",
   "execution_count": 9,
   "metadata": {
    "collapsed": false
   },
   "outputs": [],
   "source": [
    "train['y_past_p'] = twosigmafunc.predict_y_past(train[['tec123_past', 'tec123']])"
   ]
  },
  {
   "cell_type": "code",
   "execution_count": 12,
   "metadata": {
    "collapsed": false
   },
   "outputs": [
    {
     "data": {
      "text/html": [
       "<div>\n",
       "<table border=\"1\" class=\"dataframe\">\n",
       "  <thead>\n",
       "    <tr style=\"text-align: right;\">\n",
       "      <th></th>\n",
       "      <th>id</th>\n",
       "      <th>timestamp</th>\n",
       "      <th>derived_0</th>\n",
       "      <th>derived_1</th>\n",
       "      <th>derived_2</th>\n",
       "      <th>derived_3</th>\n",
       "      <th>derived_4</th>\n",
       "      <th>fundamental_0</th>\n",
       "      <th>fundamental_1</th>\n",
       "      <th>fundamental_2</th>\n",
       "      <th>...</th>\n",
       "      <th>fundamental_1_nan</th>\n",
       "      <th>fundamental_6_nan</th>\n",
       "      <th>fundamental_38_nan</th>\n",
       "      <th>fundamental_5_nan</th>\n",
       "      <th>nullcounts</th>\n",
       "      <th>tec20-30</th>\n",
       "      <th>tec123</th>\n",
       "      <th>y_past</th>\n",
       "      <th>tec123_past</th>\n",
       "      <th>y_past_p</th>\n",
       "    </tr>\n",
       "  </thead>\n",
       "  <tbody>\n",
       "    <tr>\n",
       "      <th>131062</th>\n",
       "      <td>0</td>\n",
       "      <td>167</td>\n",
       "      <td>-0.000837</td>\n",
       "      <td>0.005523</td>\n",
       "      <td>0.021095</td>\n",
       "      <td>0.002476</td>\n",
       "      <td>0.011752</td>\n",
       "      <td>-0.040645</td>\n",
       "      <td>-0.007395</td>\n",
       "      <td>-0.030291</td>\n",
       "      <td>...</td>\n",
       "      <td>True</td>\n",
       "      <td>True</td>\n",
       "      <td>True</td>\n",
       "      <td>True</td>\n",
       "      <td>107</td>\n",
       "      <td>0.0</td>\n",
       "      <td>0.0</td>\n",
       "      <td>0.000000</td>\n",
       "      <td>0.0</td>\n",
       "      <td>-0.0002</td>\n",
       "    </tr>\n",
       "    <tr>\n",
       "      <th>131895</th>\n",
       "      <td>0</td>\n",
       "      <td>168</td>\n",
       "      <td>-0.000837</td>\n",
       "      <td>0.005523</td>\n",
       "      <td>0.021095</td>\n",
       "      <td>0.002476</td>\n",
       "      <td>0.011752</td>\n",
       "      <td>-0.040645</td>\n",
       "      <td>-0.007395</td>\n",
       "      <td>-0.030291</td>\n",
       "      <td>...</td>\n",
       "      <td>True</td>\n",
       "      <td>True</td>\n",
       "      <td>True</td>\n",
       "      <td>True</td>\n",
       "      <td>212</td>\n",
       "      <td>0.0</td>\n",
       "      <td>0.0</td>\n",
       "      <td>-0.007108</td>\n",
       "      <td>0.0</td>\n",
       "      <td>-0.0002</td>\n",
       "    </tr>\n",
       "    <tr>\n",
       "      <th>132728</th>\n",
       "      <td>0</td>\n",
       "      <td>169</td>\n",
       "      <td>-0.000837</td>\n",
       "      <td>0.005523</td>\n",
       "      <td>0.021095</td>\n",
       "      <td>0.002476</td>\n",
       "      <td>0.011752</td>\n",
       "      <td>-0.040645</td>\n",
       "      <td>-0.007395</td>\n",
       "      <td>-0.030291</td>\n",
       "      <td>...</td>\n",
       "      <td>True</td>\n",
       "      <td>True</td>\n",
       "      <td>True</td>\n",
       "      <td>True</td>\n",
       "      <td>212</td>\n",
       "      <td>0.0</td>\n",
       "      <td>0.0</td>\n",
       "      <td>0.001950</td>\n",
       "      <td>0.0</td>\n",
       "      <td>-0.0002</td>\n",
       "    </tr>\n",
       "    <tr>\n",
       "      <th>133561</th>\n",
       "      <td>0</td>\n",
       "      <td>170</td>\n",
       "      <td>-0.230583</td>\n",
       "      <td>0.488096</td>\n",
       "      <td>0.935920</td>\n",
       "      <td>0.028222</td>\n",
       "      <td>-0.083071</td>\n",
       "      <td>-0.240929</td>\n",
       "      <td>-0.007395</td>\n",
       "      <td>0.212425</td>\n",
       "      <td>...</td>\n",
       "      <td>True</td>\n",
       "      <td>False</td>\n",
       "      <td>False</td>\n",
       "      <td>False</td>\n",
       "      <td>125</td>\n",
       "      <td>0.0</td>\n",
       "      <td>0.0</td>\n",
       "      <td>0.017724</td>\n",
       "      <td>0.0</td>\n",
       "      <td>-0.0002</td>\n",
       "    </tr>\n",
       "    <tr>\n",
       "      <th>134393</th>\n",
       "      <td>0</td>\n",
       "      <td>171</td>\n",
       "      <td>-0.230583</td>\n",
       "      <td>0.488096</td>\n",
       "      <td>0.935920</td>\n",
       "      <td>0.028222</td>\n",
       "      <td>-0.083071</td>\n",
       "      <td>-0.240929</td>\n",
       "      <td>-0.007395</td>\n",
       "      <td>0.212425</td>\n",
       "      <td>...</td>\n",
       "      <td>True</td>\n",
       "      <td>False</td>\n",
       "      <td>False</td>\n",
       "      <td>False</td>\n",
       "      <td>38</td>\n",
       "      <td>0.0</td>\n",
       "      <td>0.0</td>\n",
       "      <td>0.012934</td>\n",
       "      <td>0.0</td>\n",
       "      <td>-0.0002</td>\n",
       "    </tr>\n",
       "  </tbody>\n",
       "</table>\n",
       "<p>5 rows × 307 columns</p>\n",
       "</div>"
      ],
      "text/plain": [
       "        id  timestamp  derived_0  derived_1  derived_2  derived_3  derived_4  \\\n",
       "131062   0        167  -0.000837   0.005523   0.021095   0.002476   0.011752   \n",
       "131895   0        168  -0.000837   0.005523   0.021095   0.002476   0.011752   \n",
       "132728   0        169  -0.000837   0.005523   0.021095   0.002476   0.011752   \n",
       "133561   0        170  -0.230583   0.488096   0.935920   0.028222  -0.083071   \n",
       "134393   0        171  -0.230583   0.488096   0.935920   0.028222  -0.083071   \n",
       "\n",
       "        fundamental_0  fundamental_1  fundamental_2    ...     \\\n",
       "131062      -0.040645      -0.007395      -0.030291    ...      \n",
       "131895      -0.040645      -0.007395      -0.030291    ...      \n",
       "132728      -0.040645      -0.007395      -0.030291    ...      \n",
       "133561      -0.240929      -0.007395       0.212425    ...      \n",
       "134393      -0.240929      -0.007395       0.212425    ...      \n",
       "\n",
       "        fundamental_1_nan  fundamental_6_nan  fundamental_38_nan  \\\n",
       "131062               True               True                True   \n",
       "131895               True               True                True   \n",
       "132728               True               True                True   \n",
       "133561               True              False               False   \n",
       "134393               True              False               False   \n",
       "\n",
       "        fundamental_5_nan  nullcounts  tec20-30  tec123    y_past  \\\n",
       "131062               True         107       0.0     0.0  0.000000   \n",
       "131895               True         212       0.0     0.0 -0.007108   \n",
       "132728               True         212       0.0     0.0  0.001950   \n",
       "133561              False         125       0.0     0.0  0.017724   \n",
       "134393              False          38       0.0     0.0  0.012934   \n",
       "\n",
       "        tec123_past  y_past_p  \n",
       "131062          0.0   -0.0002  \n",
       "131895          0.0   -0.0002  \n",
       "132728          0.0   -0.0002  \n",
       "133561          0.0   -0.0002  \n",
       "134393          0.0   -0.0002  \n",
       "\n",
       "[5 rows x 307 columns]"
      ]
     },
     "execution_count": 12,
     "metadata": {},
     "output_type": "execute_result"
    }
   ],
   "source": [
    "train.head()"
   ]
  },
  {
   "cell_type": "code",
   "execution_count": 10,
   "metadata": {
    "collapsed": false
   },
   "outputs": [],
   "source": [
    "feature_cols = [col for col in train.columns if col not in excl + ['y_past_p']]\n",
    "X_train, y_train, X_test, y_test = twosigmafunc.split_data(train, feature_cols)"
   ]
  },
  {
   "cell_type": "code",
   "execution_count": 10,
   "metadata": {
    "collapsed": false
   },
   "outputs": [
    {
     "data": {
      "text/html": [
       "<div>\n",
       "<table border=\"1\" class=\"dataframe\">\n",
       "  <thead>\n",
       "    <tr style=\"text-align: right;\">\n",
       "      <th></th>\n",
       "      <th>derived_0</th>\n",
       "      <th>derived_1</th>\n",
       "      <th>derived_2</th>\n",
       "      <th>derived_3</th>\n",
       "      <th>derived_4</th>\n",
       "      <th>fundamental_0</th>\n",
       "      <th>fundamental_1</th>\n",
       "      <th>fundamental_2</th>\n",
       "      <th>fundamental_3</th>\n",
       "      <th>fundamental_5</th>\n",
       "      <th>...</th>\n",
       "      <th>fundamental_61_nan</th>\n",
       "      <th>fundamental_1_nan</th>\n",
       "      <th>fundamental_6_nan</th>\n",
       "      <th>fundamental_38_nan</th>\n",
       "      <th>fundamental_5_nan</th>\n",
       "      <th>nullcounts</th>\n",
       "      <th>tec20-30</th>\n",
       "      <th>tec123</th>\n",
       "      <th>y_past</th>\n",
       "      <th>tec123_past</th>\n",
       "    </tr>\n",
       "  </thead>\n",
       "  <tbody>\n",
       "    <tr>\n",
       "      <th>131062</th>\n",
       "      <td>-0.000837</td>\n",
       "      <td>0.005523</td>\n",
       "      <td>0.021095</td>\n",
       "      <td>0.002476</td>\n",
       "      <td>0.011752</td>\n",
       "      <td>-0.040645</td>\n",
       "      <td>-0.007395</td>\n",
       "      <td>-0.030291</td>\n",
       "      <td>-0.040183</td>\n",
       "      <td>0.033375</td>\n",
       "      <td>...</td>\n",
       "      <td>True</td>\n",
       "      <td>True</td>\n",
       "      <td>True</td>\n",
       "      <td>True</td>\n",
       "      <td>True</td>\n",
       "      <td>107</td>\n",
       "      <td>0.0</td>\n",
       "      <td>0.0</td>\n",
       "      <td>0.000000</td>\n",
       "      <td>0.0</td>\n",
       "    </tr>\n",
       "    <tr>\n",
       "      <th>131895</th>\n",
       "      <td>-0.000837</td>\n",
       "      <td>0.005523</td>\n",
       "      <td>0.021095</td>\n",
       "      <td>0.002476</td>\n",
       "      <td>0.011752</td>\n",
       "      <td>-0.040645</td>\n",
       "      <td>-0.007395</td>\n",
       "      <td>-0.030291</td>\n",
       "      <td>-0.040183</td>\n",
       "      <td>0.033375</td>\n",
       "      <td>...</td>\n",
       "      <td>True</td>\n",
       "      <td>True</td>\n",
       "      <td>True</td>\n",
       "      <td>True</td>\n",
       "      <td>True</td>\n",
       "      <td>212</td>\n",
       "      <td>0.0</td>\n",
       "      <td>0.0</td>\n",
       "      <td>-0.007108</td>\n",
       "      <td>0.0</td>\n",
       "    </tr>\n",
       "    <tr>\n",
       "      <th>132728</th>\n",
       "      <td>-0.000837</td>\n",
       "      <td>0.005523</td>\n",
       "      <td>0.021095</td>\n",
       "      <td>0.002476</td>\n",
       "      <td>0.011752</td>\n",
       "      <td>-0.040645</td>\n",
       "      <td>-0.007395</td>\n",
       "      <td>-0.030291</td>\n",
       "      <td>-0.040183</td>\n",
       "      <td>0.033375</td>\n",
       "      <td>...</td>\n",
       "      <td>True</td>\n",
       "      <td>True</td>\n",
       "      <td>True</td>\n",
       "      <td>True</td>\n",
       "      <td>True</td>\n",
       "      <td>212</td>\n",
       "      <td>0.0</td>\n",
       "      <td>0.0</td>\n",
       "      <td>0.001950</td>\n",
       "      <td>0.0</td>\n",
       "    </tr>\n",
       "    <tr>\n",
       "      <th>133561</th>\n",
       "      <td>-0.230583</td>\n",
       "      <td>0.488096</td>\n",
       "      <td>0.935920</td>\n",
       "      <td>0.028222</td>\n",
       "      <td>-0.083071</td>\n",
       "      <td>-0.240929</td>\n",
       "      <td>-0.007395</td>\n",
       "      <td>0.212425</td>\n",
       "      <td>-0.178111</td>\n",
       "      <td>-0.126889</td>\n",
       "      <td>...</td>\n",
       "      <td>True</td>\n",
       "      <td>True</td>\n",
       "      <td>False</td>\n",
       "      <td>False</td>\n",
       "      <td>False</td>\n",
       "      <td>125</td>\n",
       "      <td>0.0</td>\n",
       "      <td>0.0</td>\n",
       "      <td>0.017724</td>\n",
       "      <td>0.0</td>\n",
       "    </tr>\n",
       "    <tr>\n",
       "      <th>134393</th>\n",
       "      <td>-0.230583</td>\n",
       "      <td>0.488096</td>\n",
       "      <td>0.935920</td>\n",
       "      <td>0.028222</td>\n",
       "      <td>-0.083071</td>\n",
       "      <td>-0.240929</td>\n",
       "      <td>-0.007395</td>\n",
       "      <td>0.212425</td>\n",
       "      <td>-0.178111</td>\n",
       "      <td>-0.126889</td>\n",
       "      <td>...</td>\n",
       "      <td>True</td>\n",
       "      <td>True</td>\n",
       "      <td>False</td>\n",
       "      <td>False</td>\n",
       "      <td>False</td>\n",
       "      <td>38</td>\n",
       "      <td>0.0</td>\n",
       "      <td>0.0</td>\n",
       "      <td>0.012934</td>\n",
       "      <td>0.0</td>\n",
       "    </tr>\n",
       "  </tbody>\n",
       "</table>\n",
       "<p>5 rows × 303 columns</p>\n",
       "</div>"
      ],
      "text/plain": [
       "        derived_0  derived_1  derived_2  derived_3  derived_4  fundamental_0  \\\n",
       "131062  -0.000837   0.005523   0.021095   0.002476   0.011752      -0.040645   \n",
       "131895  -0.000837   0.005523   0.021095   0.002476   0.011752      -0.040645   \n",
       "132728  -0.000837   0.005523   0.021095   0.002476   0.011752      -0.040645   \n",
       "133561  -0.230583   0.488096   0.935920   0.028222  -0.083071      -0.240929   \n",
       "134393  -0.230583   0.488096   0.935920   0.028222  -0.083071      -0.240929   \n",
       "\n",
       "        fundamental_1  fundamental_2  fundamental_3  fundamental_5  \\\n",
       "131062      -0.007395      -0.030291      -0.040183       0.033375   \n",
       "131895      -0.007395      -0.030291      -0.040183       0.033375   \n",
       "132728      -0.007395      -0.030291      -0.040183       0.033375   \n",
       "133561      -0.007395       0.212425      -0.178111      -0.126889   \n",
       "134393      -0.007395       0.212425      -0.178111      -0.126889   \n",
       "\n",
       "           ...       fundamental_61_nan  fundamental_1_nan  fundamental_6_nan  \\\n",
       "131062     ...                     True               True               True   \n",
       "131895     ...                     True               True               True   \n",
       "132728     ...                     True               True               True   \n",
       "133561     ...                     True               True              False   \n",
       "134393     ...                     True               True              False   \n",
       "\n",
       "        fundamental_38_nan  fundamental_5_nan  nullcounts  tec20-30  tec123  \\\n",
       "131062                True               True         107       0.0     0.0   \n",
       "131895                True               True         212       0.0     0.0   \n",
       "132728                True               True         212       0.0     0.0   \n",
       "133561               False              False         125       0.0     0.0   \n",
       "134393               False              False          38       0.0     0.0   \n",
       "\n",
       "          y_past  tec123_past  \n",
       "131062  0.000000          0.0  \n",
       "131895 -0.007108          0.0  \n",
       "132728  0.001950          0.0  \n",
       "133561  0.017724          0.0  \n",
       "134393  0.012934          0.0  \n",
       "\n",
       "[5 rows x 303 columns]"
      ]
     },
     "execution_count": 10,
     "metadata": {},
     "output_type": "execute_result"
    }
   ],
   "source": [
    "X_train.head()"
   ]
  },
  {
   "cell_type": "markdown",
   "metadata": {},
   "source": [
    "# XGBoost"
   ]
  },
  {
   "cell_type": "code",
   "execution_count": 11,
   "metadata": {
    "collapsed": false
   },
   "outputs": [
    {
     "name": "stderr",
     "output_type": "stream",
     "text": [
      "/usr/local/lib/python3.4/site-packages/sklearn/cross_validation.py:44: DeprecationWarning: This module was deprecated in version 0.18 in favor of the model_selection module into which all the refactored classes and functions are moved. Also note that the interface of the new CV iterators are different from that of this module. This module will be removed in 0.20.\n",
      "  \"This module will be removed in 0.20.\", DeprecationWarning)\n"
     ]
    }
   ],
   "source": [
    "from xgboost import XGBRegressor"
   ]
  },
  {
   "cell_type": "code",
   "execution_count": 12,
   "metadata": {
    "collapsed": true
   },
   "outputs": [],
   "source": [
    "init_features = ['y_past',\n",
    " 'tec20-30',\n",
    " 'technical_30',\n",
    " 'tec123',\n",
    " 'technical_43',\n",
    " 'technical_43_diff',\n",
    " 'tec123_past',\n",
    " 'technical_11_diff',\n",
    " 'technical_2_diff',\n",
    " 'technical_11',\n",
    " 'technical_20',\n",
    " 'technical_2',\n",
    " 'fundamental_25_nan',\n",
    " 'technical_14_diff',\n",
    " 'technical_21_diff',\n",
    " 'technical_9_nan',\n",
    " 'technical_40',\n",
    " 'technical_30_diff',\n",
    " 'technical_6_diff',\n",
    " 'technical_6',\n",
    " 'technical_17_diff',\n",
    " 'technical_17',\n",
    " 'technical_14',\n",
    " 'technical_7',\n",
    " 'technical_19',\n",
    " 'technical_44_nan',\n",
    " 'fundamental_27_nan',\n",
    " 'technical_18_nan',\n",
    " 'technical_28_nan',\n",
    " 'technical_21',\n",
    " 'technical_42_nan',\n",
    " 'technical_29_diff',\n",
    " 'technical_20_diff',\n",
    " 'technical_31_nan',\n",
    " 'fundamental_53',\n",
    " 'technical_24_nan',\n",
    " 'technical_36',\n",
    " 'technical_19_diff',\n",
    " 'technical_27',\n",
    " 'technical_29',\n",
    " 'technical_35',\n",
    " 'technical_22',\n",
    " 'technical_41_nan',\n",
    " 'fundamental_8',\n",
    " 'fundamental_21',\n",
    " 'fundamental_17_nan',\n",
    " 'technical_34',\n",
    " 'technical_16_nan',\n",
    " 'technical_27_diff',\n",
    " 'fundamental_33_nan',\n",
    " 'fundamental_58',\n",
    " 'derived_1_nan',\n",
    " 'technical_10',\n",
    " 'technical_25_nan',\n",
    " 'fundamental_18',\n",
    " 'fundamental_59',\n",
    " 'technical_40_diff',\n",
    " 'nullcounts',\n",
    " 'fundamental_5_nan',\n",
    " 'fundamental_48',\n",
    " 'fundamental_47_nan',\n",
    " 'technical_36_diff',\n",
    " 'fundamental_41_nan',\n",
    " 'fundamental_42_nan',\n",
    " 'fundamental_0_nan',\n",
    " 'fundamental_50',\n",
    " 'fundamental_40',\n",
    " 'technical_3_nan',\n",
    " 'fundamental_23',\n",
    " 'fundamental_49_nan',\n",
    " 'fundamental_36',\n",
    " 'technical_44',\n",
    " 'fundamental_2',\n",
    " 'fundamental_0',\n",
    " 'technical_41',\n",
    " 'fundamental_62_diff',\n",
    " 'technical_38_diff',\n",
    " 'fundamental_22_nan',\n",
    " 'technical_12',\n",
    " 'fundamental_62',\n",
    " 'technical_37_diff',\n",
    " 'fundamental_44',\n",
    " 'technical_29_nan',\n",
    " 'fundamental_24_nan',\n",
    " 'technical_10_nan',\n",
    " 'fundamental_46',\n",
    " 'technical_1',\n",
    " 'fundamental_54_nan',\n",
    " 'fundamental_0_diff',\n",
    " 'technical_12_diff',\n",
    " 'technical_35_diff',\n",
    " 'derived_3_nan',\n",
    " 'fundamental_63_nan',\n",
    " 'fundamental_31_nan',\n",
    " 'fundamental_40_nan',\n",
    " 'fundamental_35_nan',\n",
    " 'technical_3',\n",
    " 'fundamental_13']"
   ]
  },
  {
   "cell_type": "code",
   "execution_count": 13,
   "metadata": {
    "collapsed": true
   },
   "outputs": [],
   "source": [
    "low_y_cut = -0.075\n",
    "high_y_cut = 0.075\n",
    "y_is_above_cut = (y_train > high_y_cut)\n",
    "y_is_below_cut = (y_train < low_y_cut)\n",
    "y_is_within_cut = (~y_is_above_cut & ~y_is_below_cut)"
   ]
  },
  {
   "cell_type": "code",
   "execution_count": 14,
   "metadata": {
    "collapsed": true
   },
   "outputs": [],
   "source": [
    "xgb = XGBRegressor(n_estimators=80, nthread=-1, max_depth=3, learning_rate=0.1, reg_lambda=1, subsample=1, colsample_bytree=1, seed=11)"
   ]
  },
  {
   "cell_type": "code",
   "execution_count": 15,
   "metadata": {
    "collapsed": false
   },
   "outputs": [
    {
     "data": {
      "text/plain": [
       "XGBRegressor(base_score=0.5, colsample_bylevel=1, colsample_bytree=1, gamma=0,\n",
       "       learning_rate=0.1, max_delta_step=0, max_depth=3,\n",
       "       min_child_weight=1, missing=None, n_estimators=80, nthread=-1,\n",
       "       objective='reg:linear', reg_alpha=0, reg_lambda=1,\n",
       "       scale_pos_weight=1, seed=11, silent=True, subsample=1)"
      ]
     },
     "execution_count": 15,
     "metadata": {},
     "output_type": "execute_result"
    }
   ],
   "source": [
    "xgb.fit(X_train.loc[y_is_within_cut, init_features], y_train.loc[y_is_within_cut])"
   ]
  },
  {
   "cell_type": "code",
   "execution_count": 16,
   "metadata": {
    "collapsed": false
   },
   "outputs": [],
   "source": [
    "y_xgb = xgb.predict(X_test[init_features])"
   ]
  },
  {
   "cell_type": "code",
   "execution_count": 17,
   "metadata": {
    "collapsed": false
   },
   "outputs": [
    {
     "data": {
      "text/plain": [
       "0.024356621880906697"
      ]
     },
     "execution_count": 17,
     "metadata": {},
     "output_type": "execute_result"
    }
   ],
   "source": [
    "from twosigmafunc import R_score\n",
    "R_score(y_xgb, y_test)"
   ]
  },
  {
   "cell_type": "code",
   "execution_count": 18,
   "metadata": {
    "collapsed": false
   },
   "outputs": [
    {
     "data": {
      "text/plain": [
       "0.070004956206204547"
      ]
     },
     "execution_count": 18,
     "metadata": {},
     "output_type": "execute_result"
    }
   ],
   "source": [
    "y_t = xgb.predict(X_train[init_features])\n",
    "R_score(y_t, y_train)"
   ]
  },
  {
   "cell_type": "markdown",
   "metadata": {},
   "source": [
    "while, stong overfit here...\n",
    "set `colsamples_bytree` = 0.6"
   ]
  },
  {
   "cell_type": "code",
   "execution_count": 19,
   "metadata": {
    "collapsed": false
   },
   "outputs": [
    {
     "data": {
      "text/plain": [
       "XGBRegressor(base_score=0.5, colsample_bylevel=1, colsample_bytree=0.6,\n",
       "       gamma=0, learning_rate=0.1, max_delta_step=0, max_depth=3,\n",
       "       min_child_weight=1, missing=None, n_estimators=80, nthread=-1,\n",
       "       objective='reg:linear', reg_alpha=0, reg_lambda=1,\n",
       "       scale_pos_weight=1, seed=11, silent=True, subsample=1)"
      ]
     },
     "execution_count": 19,
     "metadata": {},
     "output_type": "execute_result"
    }
   ],
   "source": [
    "xgb = XGBRegressor(n_estimators=80, nthread=-1, max_depth=3, learning_rate=0.1, reg_lambda=1, subsample=1,\n",
    "                   colsample_bytree=0.6, seed=11)\n",
    "xgb.fit(X_train.loc[y_is_within_cut, init_features], y_train.loc[y_is_within_cut])"
   ]
  },
  {
   "cell_type": "code",
   "execution_count": 20,
   "metadata": {
    "collapsed": false
   },
   "outputs": [
    {
     "data": {
      "text/plain": [
       "0.024503011790849502"
      ]
     },
     "execution_count": 20,
     "metadata": {},
     "output_type": "execute_result"
    }
   ],
   "source": [
    "y_xgb = xgb.predict(X_test[init_features])\n",
    "R_score(y_xgb, y_test)"
   ]
  },
  {
   "cell_type": "code",
   "execution_count": 21,
   "metadata": {
    "collapsed": false
   },
   "outputs": [
    {
     "data": {
      "text/plain": [
       "0.068416027027381712"
      ]
     },
     "execution_count": 21,
     "metadata": {},
     "output_type": "execute_result"
    }
   ],
   "source": [
    "y_t = xgb.predict(X_train[init_features])\n",
    "R_score(y_t, y_train)"
   ]
  },
  {
   "cell_type": "markdown",
   "metadata": {},
   "source": [
    "improve a little, try limit `subsample`"
   ]
  },
  {
   "cell_type": "code",
   "execution_count": 22,
   "metadata": {
    "collapsed": false
   },
   "outputs": [
    {
     "data": {
      "text/plain": [
       "XGBRegressor(base_score=0.5, colsample_bylevel=1, colsample_bytree=0.6,\n",
       "       gamma=0, learning_rate=0.1, max_delta_step=0, max_depth=3,\n",
       "       min_child_weight=1, missing=None, n_estimators=80, nthread=-1,\n",
       "       objective='reg:linear', reg_alpha=0, reg_lambda=1,\n",
       "       scale_pos_weight=1, seed=11, silent=True, subsample=0.8)"
      ]
     },
     "execution_count": 22,
     "metadata": {},
     "output_type": "execute_result"
    }
   ],
   "source": [
    "xgb = XGBRegressor(n_estimators=80, nthread=-1, max_depth=3, learning_rate=0.1, reg_lambda=1, subsample=0.8,\n",
    "                   colsample_bytree=0.6, seed=11)\n",
    "xgb.fit(X_train.loc[y_is_within_cut, init_features], y_train.loc[y_is_within_cut])"
   ]
  },
  {
   "cell_type": "code",
   "execution_count": 23,
   "metadata": {
    "collapsed": false
   },
   "outputs": [
    {
     "data": {
      "text/plain": [
       "0.026742036721520236"
      ]
     },
     "execution_count": 23,
     "metadata": {},
     "output_type": "execute_result"
    }
   ],
   "source": [
    "y_xgb = xgb.predict(X_test[init_features])\n",
    "R_score(y_xgb, y_test)"
   ]
  },
  {
   "cell_type": "code",
   "execution_count": 24,
   "metadata": {
    "collapsed": false
   },
   "outputs": [
    {
     "data": {
      "text/plain": [
       "0.067888655551662708"
      ]
     },
     "execution_count": 24,
     "metadata": {},
     "output_type": "execute_result"
    }
   ],
   "source": [
    "y_t = xgb.predict(X_train[init_features])\n",
    "R_score(y_t, y_train)"
   ]
  },
  {
   "cell_type": "markdown",
   "metadata": {},
   "source": [
    "reduce overfit !! now add `reg`"
   ]
  },
  {
   "cell_type": "code",
   "execution_count": 25,
   "metadata": {
    "collapsed": false
   },
   "outputs": [
    {
     "data": {
      "text/plain": [
       "XGBRegressor(base_score=0.5, colsample_bylevel=1, colsample_bytree=0.6,\n",
       "       gamma=0, learning_rate=0.1, max_delta_step=0, max_depth=3,\n",
       "       min_child_weight=1, missing=None, n_estimators=80, nthread=-1,\n",
       "       objective='reg:linear', reg_alpha=0, reg_lambda=1.5,\n",
       "       scale_pos_weight=1, seed=11, silent=True, subsample=0.8)"
      ]
     },
     "execution_count": 25,
     "metadata": {},
     "output_type": "execute_result"
    }
   ],
   "source": [
    "xgb = XGBRegressor(n_estimators=80, nthread=-1, max_depth=3, learning_rate=0.1, reg_lambda=1.5, subsample=0.8,\n",
    "                   colsample_bytree=0.6, seed=11)\n",
    "xgb.fit(X_train.loc[y_is_within_cut, init_features], y_train.loc[y_is_within_cut])"
   ]
  },
  {
   "cell_type": "code",
   "execution_count": 26,
   "metadata": {
    "collapsed": false
   },
   "outputs": [
    {
     "data": {
      "text/plain": [
       "0.026675086678933459"
      ]
     },
     "execution_count": 26,
     "metadata": {},
     "output_type": "execute_result"
    }
   ],
   "source": [
    "y_xgb = xgb.predict(X_test[init_features])\n",
    "R_score(y_xgb, y_test)"
   ]
  },
  {
   "cell_type": "code",
   "execution_count": 27,
   "metadata": {
    "collapsed": false
   },
   "outputs": [
    {
     "data": {
      "text/plain": [
       "0.06649101681373995"
      ]
     },
     "execution_count": 27,
     "metadata": {},
     "output_type": "execute_result"
    }
   ],
   "source": [
    "y_t = xgb.predict(X_train[init_features])\n",
    "R_score(y_t, y_train)"
   ]
  },
  {
   "cell_type": "markdown",
   "metadata": {},
   "source": [
    "not so good, try plot the accumulation R score"
   ]
  },
  {
   "cell_type": "code",
   "execution_count": 28,
   "metadata": {
    "collapsed": false
   },
   "outputs": [
    {
     "name": "stdout",
     "output_type": "stream",
     "text": [
      "without clip\n",
      "1000 -0.0317176164697\n",
      "1100 -0.0231972139067\n",
      "1200 -0.0143815199951\n",
      "1300 -0.0232126256328\n",
      "1400 -0.031192727058\n",
      "1500 -0.0228633491571\n",
      "1600 0.0305634420987\n",
      "1700 0.0326354929102\n",
      "1800 0.0277741482801\n"
     ]
    }
   ],
   "source": [
    "reward = []\n",
    "stamp = 906\n",
    "y_true_acc = []\n",
    "y_pred_acc = []\n",
    "print('without clip')\n",
    "while stamp <= train.timestamp.max():\n",
    "    x = train.loc[train.timestamp == stamp, init_features]\n",
    "    y_pred = xgb.predict(x)\n",
    "    y_true = train.loc[train.timestamp == stamp, 'y']\n",
    "    y_pred_acc.extend(list(y_pred))\n",
    "    y_true_acc.extend(list(y_true))\n",
    "    score = twosigmafunc.R_score(np.array(y_pred_acc), np.array(y_true_acc))\n",
    "    reward.append(score)\n",
    "    stamp += 1\n",
    "    if stamp % 100 == 0:\n",
    "        print(stamp, score)"
   ]
  },
  {
   "cell_type": "code",
   "execution_count": 29,
   "metadata": {
    "collapsed": false
   },
   "outputs": [
    {
     "data": {
      "text/plain": [
       "(-0.1, 0.034)"
      ]
     },
     "execution_count": 29,
     "metadata": {},
     "output_type": "execute_result"
    },
    {
     "data": {
      "image/png": "[encoded data removed]",
      "text/plain": [
       "<matplotlib.figure.Figure at 0x10401a320>"
      ]
     },
     "metadata": {},
     "output_type": "display_data"
    }
   ],
   "source": [
    "ridge_data = pd.read_csv('Linear_R_score.csv')\n",
    "plt.title('Best of Best')\n",
    "plt.xlabel('timestamp')\n",
    "plt.ylabel('R score')\n",
    "plt.plot([905, 1801], [0, 0], 'k--')\n",
    "plt.plot(ridge_data.timestamp, ridge_data.Ridge, lw=1.5, label='Ridge')\n",
    "plt.plot(ridge_data.timestamp, ridge_data.Bi_Ridge, lw=1.5, label='Bi-ridge')\n",
    "# plt.plot(ridge_data.timestamp, ridge_data.Mixed_model, lw=1.5, label='Mixed-Ridge')\n",
    "plt.plot(ridge_data.timestamp, reward,lw=1.5, label='xgb')\n",
    "plt.legend(loc='best')\n",
    "plt.ylim(-0.1, 0.034)"
   ]
  },
  {
   "cell_type": "code",
   "execution_count": 30,
   "metadata": {
    "collapsed": false
   },
   "outputs": [],
   "source": [
    "xgb_imp = xgb.booster().get_fscore()"
   ]
  },
  {
   "cell_type": "code",
   "execution_count": 31,
   "metadata": {
    "collapsed": false
   },
   "outputs": [],
   "source": [
    "xgb_features = [x[0] for x in xgb_imp.items() if x[1] > 1]"
   ]
  },
  {
   "cell_type": "code",
   "execution_count": 32,
   "metadata": {
    "collapsed": false
   },
   "outputs": [
    {
     "data": {
      "text/plain": [
       "58"
      ]
     },
     "execution_count": 32,
     "metadata": {},
     "output_type": "execute_result"
    }
   ],
   "source": [
    "len(xgb_features)"
   ]
  },
  {
   "cell_type": "code",
   "execution_count": 34,
   "metadata": {
    "collapsed": false
   },
   "outputs": [
    {
     "data": {
      "text/plain": [
       "XGBRegressor(base_score=0.5, colsample_bylevel=1, colsample_bytree=0.6,\n",
       "       gamma=0, learning_rate=0.1, max_delta_step=0, max_depth=3,\n",
       "       min_child_weight=1, missing=None, n_estimators=80, nthread=-1,\n",
       "       objective='reg:linear', reg_alpha=0, reg_lambda=1,\n",
       "       scale_pos_weight=1, seed=11, silent=True, subsample=0.8)"
      ]
     },
     "execution_count": 34,
     "metadata": {},
     "output_type": "execute_result"
    }
   ],
   "source": [
    "xgb = XGBRegressor(n_estimators=80, nthread=-1, max_depth=3, learning_rate=0.1, reg_lambda=1, subsample=0.8,\n",
    "                   colsample_bytree=0.6, seed=11)\n",
    "xgb.fit(X_train.loc[y_is_within_cut, xgb_features], y_train.loc[y_is_within_cut])"
   ]
  },
  {
   "cell_type": "code",
   "execution_count": 35,
   "metadata": {
    "collapsed": false
   },
   "outputs": [
    {
     "data": {
      "text/plain": [
       "0.024874802861798325"
      ]
     },
     "execution_count": 35,
     "metadata": {},
     "output_type": "execute_result"
    }
   ],
   "source": [
    "y_xgb = xgb.predict(X_test[xgb_features])\n",
    "R_score(y_xgb, y_test)"
   ]
  },
  {
   "cell_type": "code",
   "execution_count": 36,
   "metadata": {
    "collapsed": false
   },
   "outputs": [
    {
     "data": {
      "text/plain": [
       "0.067553318299647253"
      ]
     },
     "execution_count": 36,
     "metadata": {},
     "output_type": "execute_result"
    }
   ],
   "source": [
    "y_t = xgb.predict(X_train[xgb_features])\n",
    "R_score(y_t, y_train)"
   ]
  },
  {
   "cell_type": "code",
   "execution_count": 38,
   "metadata": {
    "collapsed": false
   },
   "outputs": [
    {
     "data": {
      "text/plain": [
       "51"
      ]
     },
     "execution_count": 38,
     "metadata": {},
     "output_type": "execute_result"
    }
   ],
   "source": [
    "xgb_imp = xgb.booster().get_fscore()\n",
    "xgb_features = [x[0] for x in xgb_imp.items() if x[1] > 2]\n",
    "len(xgb_features)"
   ]
  },
  {
   "cell_type": "code",
   "execution_count": 39,
   "metadata": {
    "collapsed": false
   },
   "outputs": [
    {
     "data": {
      "text/plain": [
       "XGBRegressor(base_score=0.5, colsample_bylevel=1, colsample_bytree=0.6,\n",
       "       gamma=0, learning_rate=0.1, max_delta_step=0, max_depth=3,\n",
       "       min_child_weight=1, missing=None, n_estimators=80, nthread=-1,\n",
       "       objective='reg:linear', reg_alpha=0, reg_lambda=1,\n",
       "       scale_pos_weight=1, seed=11, silent=True, subsample=0.8)"
      ]
     },
     "execution_count": 39,
     "metadata": {},
     "output_type": "execute_result"
    }
   ],
   "source": [
    "xgb = XGBRegressor(n_estimators=80, nthread=-1, max_depth=3, learning_rate=0.1, reg_lambda=1, subsample=0.8,\n",
    "                   colsample_bytree=0.6, seed=11)\n",
    "xgb.fit(X_train.loc[y_is_within_cut, xgb_features], y_train.loc[y_is_within_cut])"
   ]
  },
  {
   "cell_type": "code",
   "execution_count": 40,
   "metadata": {
    "collapsed": false
   },
   "outputs": [
    {
     "data": {
      "text/plain": [
       "0.024384748025749556"
      ]
     },
     "execution_count": 40,
     "metadata": {},
     "output_type": "execute_result"
    }
   ],
   "source": [
    "y_xgb = xgb.predict(X_test[xgb_features])\n",
    "R_score(y_xgb, y_test)"
   ]
  },
  {
   "cell_type": "code",
   "execution_count": 41,
   "metadata": {
    "collapsed": false
   },
   "outputs": [
    {
     "data": {
      "text/plain": [
       "0.066938177196165224"
      ]
     },
     "execution_count": 41,
     "metadata": {},
     "output_type": "execute_result"
    }
   ],
   "source": [
    "y_t = xgb.predict(X_train[xgb_features])\n",
    "R_score(y_t, y_train)"
   ]
  },
  {
   "cell_type": "code",
   "execution_count": 69,
   "metadata": {
    "collapsed": false
   },
   "outputs": [
    {
     "data": {
      "text/plain": [
       "XGBRegressor(base_score=0.5, colsample_bylevel=1, colsample_bytree=0.5,\n",
       "       gamma=0, learning_rate=0.1, max_delta_step=0, max_depth=3,\n",
       "       min_child_weight=1, missing=None, n_estimators=80, nthread=-1,\n",
       "       objective='reg:linear', reg_alpha=0, reg_lambda=1,\n",
       "       scale_pos_weight=1, seed=11, silent=True, subsample=1.0)"
      ]
     },
     "execution_count": 69,
     "metadata": {},
     "output_type": "execute_result"
    }
   ],
   "source": [
    "xgb = XGBRegressor(n_estimators=80, nthread=-1, max_depth=3, learning_rate=0.1, reg_lambda=1, subsample=1.0,\n",
    "                   colsample_bytree=0.5, seed=11)\n",
    "xgb.fit(X_train[xgb_features], y_train)"
   ]
  },
  {
   "cell_type": "code",
   "execution_count": 70,
   "metadata": {
    "collapsed": false
   },
   "outputs": [
    {
     "data": {
      "text/plain": [
       "0.023853426148582491"
      ]
     },
     "execution_count": 70,
     "metadata": {},
     "output_type": "execute_result"
    }
   ],
   "source": [
    "y_xgb = xgb.predict(X_test[xgb_features])\n",
    "R_score(y_xgb, y_test)"
   ]
  },
  {
   "cell_type": "code",
   "execution_count": 42,
   "metadata": {
    "collapsed": false
   },
   "outputs": [
    {
     "data": {
      "text/plain": [
       "0.066938177196165224"
      ]
     },
     "execution_count": 42,
     "metadata": {},
     "output_type": "execute_result"
    }
   ],
   "source": [
    "y_t = xgb.predict(X_train[xgb_features])\n",
    "R_score(y_t, y_train)"
   ]
  },
  {
   "cell_type": "code",
   "execution_count": 43,
   "metadata": {
    "collapsed": false
   },
   "outputs": [
    {
     "name": "stdout",
     "output_type": "stream",
     "text": [
      "without clip\n",
      "1000 -0.0378992444489\n",
      "1100 -0.0270919101535\n",
      "1200 -0.0180565059444\n",
      "1300 -0.0254258132069\n",
      "1400 -0.0345974056308\n",
      "1500 -0.0255987004487\n",
      "1600 0.029662834763\n",
      "1700 0.0304285811687\n",
      "1800 0.0258074078652\n"
     ]
    }
   ],
   "source": [
    "low_y_cut = -0.075\n",
    "high_y_cut = 0.075\n",
    "reward = []\n",
    "stamp = 906\n",
    "y_true_acc = []\n",
    "y_pred_acc = []\n",
    "print('without clip')\n",
    "while stamp <= train.timestamp.max():\n",
    "    x = train.loc[train.timestamp == stamp, xgb_features]\n",
    "    y_pred = xgb.predict(x)\n",
    "    y_true = train.loc[train.timestamp == stamp, 'y']\n",
    "    y_pred_acc.extend(list(y_pred))\n",
    "    y_true_acc.extend(list(y_true))\n",
    "    score = twosigmafunc.R_score(np.array(y_pred_acc), np.array(y_true_acc))\n",
    "    reward.append(score)\n",
    "    stamp += 1\n",
    "    if stamp % 100 == 0:\n",
    "        print(stamp, score)"
   ]
  },
  {
   "cell_type": "code",
   "execution_count": 65,
   "metadata": {
    "collapsed": false
   },
   "outputs": [
    {
     "data": {
      "text/plain": [
       "(-0.1, 0.034)"
      ]
     },
     "execution_count": 65,
     "metadata": {},
     "output_type": "execute_result"
    },
    {
     "data": {
      "image/png": "[encoded data removed]",
      "text/plain": [
       "<matplotlib.figure.Figure at 0x3c7193898>"
      ]
     },
     "metadata": {},
     "output_type": "display_data"
    }
   ],
   "source": [
    "plt.title('Best of Best')\n",
    "plt.xlabel('timestamp')\n",
    "plt.ylabel('R score')\n",
    "plt.plot([905, 1801], [0, 0], 'k--')\n",
    "plt.plot(ridge_data.timestamp, ridge_data.Ridge, lw=1.5, label='Ridge')\n",
    "plt.plot(ridge_data.timestamp, ridge_data.Bi_Ridge, lw=1.5, label='Bi-ridge')\n",
    "# plt.plot(ridge_data.timestamp, ridge_data.Mixed_model, lw=1.5, label='Mixed-Ridge')\n",
    "plt.plot(ridge_data.timestamp, reward,lw=1.5, label='xgb')\n",
    "plt.legend(loc='best')\n",
    "plt.ylim(-0.1, 0.034)"
   ]
  },
  {
   "cell_type": "markdown",
   "metadata": {},
   "source": [
    "## combine xgb and etr"
   ]
  },
  {
   "cell_type": "code",
   "execution_count": 71,
   "metadata": {
    "collapsed": false
   },
   "outputs": [
    {
     "data": {
      "text/plain": [
       "ExtraTreesRegressor(bootstrap=False, criterion='mse', max_depth=6,\n",
       "          max_features=0.6, max_leaf_nodes=None, min_impurity_split=1e-07,\n",
       "          min_samples_leaf=25, min_samples_split=2,\n",
       "          min_weight_fraction_leaf=0.0, n_estimators=256, n_jobs=-1,\n",
       "          oob_score=False, random_state=17, verbose=0, warm_start=False)"
      ]
     },
     "execution_count": 71,
     "metadata": {},
     "output_type": "execute_result"
    }
   ],
   "source": [
    "from sklearn.ensemble import ExtraTreesRegressor, RandomForestRegressor\n",
    "etr = ExtraTreesRegressor(n_jobs=-1,n_estimators=256, max_depth=6, max_features=0.6, min_samples_leaf=25,\n",
    "                          random_state=17, verbose=0)\n",
    "etr.fit(X_train[init_features], y_train)"
   ]
  },
  {
   "cell_type": "code",
   "execution_count": 72,
   "metadata": {
    "collapsed": true
   },
   "outputs": [],
   "source": [
    "y_etr = etr.predict(X_test[init_features])"
   ]
  },
  {
   "cell_type": "code",
   "execution_count": 73,
   "metadata": {
    "collapsed": false
   },
   "outputs": [
    {
     "name": "stdout",
     "output_type": "stream",
     "text": [
      "a=0.0000, score 0.0296921\n",
      "a=0.1250, score 0.0308124\n",
      "a=0.2500, score 0.0314108\n",
      "a=0.3750, score 0.0315173\n",
      "a=0.5000, score 0.0311367\n",
      "a=0.6250, score 0.0302507\n",
      "a=0.7500, score 0.0288127\n",
      "a=0.8750, score 0.0267339\n",
      "a=1.0000, score 0.0238472\n"
     ]
    }
   ],
   "source": [
    "for a in np.linspace(0, 1, 9):\n",
    "    y = y_xgb * a + y_etr * (1 - a)\n",
    "    print('a={a:.4f}, score {b:.7f}'.format(a=a, b=R_score(y, y_test)))"
   ]
  },
  {
   "cell_type": "code",
   "execution_count": 74,
   "metadata": {
    "collapsed": false
   },
   "outputs": [
    {
     "name": "stdout",
     "output_type": "stream",
     "text": [
      "a=0.2000, score 0.0312315\n",
      "a=0.2250, score 0.0313311\n",
      "a=0.2500, score 0.0314108\n",
      "a=0.2750, score 0.0314710\n",
      "a=0.3000, score 0.0315117\n",
      "a=0.3250, score 0.0315329\n",
      "a=0.3500, score 0.0315348\n",
      "a=0.3750, score 0.0315173\n",
      "a=0.4000, score 0.0314803\n"
     ]
    }
   ],
   "source": [
    "for a in np.linspace(0.2, 0.4, 9):\n",
    "    y = y_xgb * a + y_etr * (1 - a)\n",
    "    print('a={a:.4f}, score {b:.7f}'.format(a=a, b=R_score(y, y_test)))"
   ]
  },
  {
   "cell_type": "code",
   "execution_count": 75,
   "metadata": {
    "collapsed": false
   },
   "outputs": [
    {
     "data": {
      "text/plain": [
       "['technical_38_diff',\n",
       " 'technical_17_diff',\n",
       " 'technical_14_diff',\n",
       " 'technical_35_diff',\n",
       " 'technical_11_diff',\n",
       " 'fundamental_50',\n",
       " 'fundamental_35_nan',\n",
       " 'fundamental_48',\n",
       " 'technical_29_diff',\n",
       " 'tec123',\n",
       " 'technical_41',\n",
       " 'technical_19',\n",
       " 'technical_2',\n",
       " 'technical_11',\n",
       " 'technical_35',\n",
       " 'fundamental_2',\n",
       " 'fundamental_0_diff',\n",
       " 'fundamental_36',\n",
       " 'technical_37_diff',\n",
       " 'technical_30_diff',\n",
       " 'fundamental_44',\n",
       " 'technical_21',\n",
       " 'technical_36',\n",
       " 'technical_40',\n",
       " 'technical_1',\n",
       " 'fundamental_23',\n",
       " 'technical_27_diff',\n",
       " 'technical_7',\n",
       " 'technical_30',\n",
       " 'nullcounts',\n",
       " 'technical_9_nan',\n",
       " 'fundamental_18',\n",
       " 'technical_43_diff',\n",
       " 'tec123_past',\n",
       " 'technical_12_diff',\n",
       " 'fundamental_13',\n",
       " 'fundamental_58',\n",
       " 'technical_40_diff',\n",
       " 'fundamental_8',\n",
       " 'technical_41_nan',\n",
       " 'technical_17',\n",
       " 'technical_36_diff',\n",
       " 'technical_43',\n",
       " 'technical_31_nan',\n",
       " 'technical_21_diff',\n",
       " 'technical_20_diff',\n",
       " 'y_past',\n",
       " 'technical_27',\n",
       " 'fundamental_62_diff',\n",
       " 'fundamental_21',\n",
       " 'tec20-30',\n",
       " 'technical_3',\n",
       " 'technical_19_diff',\n",
       " 'fundamental_53',\n",
       " 'technical_2_diff']"
      ]
     },
     "execution_count": 75,
     "metadata": {},
     "output_type": "execute_result"
    }
   ],
   "source": [
    "xgb_features"
   ]
  },
  {
   "cell_type": "code",
   "execution_count": null,
   "metadata": {
    "collapsed": true
   },
   "outputs": [],
   "source": []
  }
 ],
 "metadata": {
  "kernelspec": {
   "display_name": "Python 3",
   "language": "python",
   "name": "python3"
  },
  "language_info": {
   "codemirror_mode": {
    "name": "ipython",
    "version": 3
   },
   "file_extension": ".py",
   "mimetype": "text/x-python",
   "name": "python",
   "nbconvert_exporter": "python",
   "pygments_lexer": "ipython3",
   "version": "3.4.3"
  }
 },
 "nbformat": 4,
 "nbformat_minor": 0
}
