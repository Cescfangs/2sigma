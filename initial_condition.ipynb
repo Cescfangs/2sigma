{
 "cells": [
  {
   "cell_type": "code",
   "execution_count": 1,
   "metadata": {
    "collapsed": true
   },
   "outputs": [],
   "source": [
    "import numpy as np\n",
    "import pandas as pd\n",
    "import twosigmafunc"
   ]
  },
  {
   "cell_type": "code",
   "execution_count": 2,
   "metadata": {
    "collapsed": true
   },
   "outputs": [],
   "source": [
    "train = pd.read_hdf('train.h5')"
   ]
  },
  {
   "cell_type": "code",
   "execution_count": 3,
   "metadata": {
    "collapsed": false
   },
   "outputs": [
    {
     "data": {
      "text/html": [
       "<div>\n",
       "<table border=\"1\" class=\"dataframe\">\n",
       "  <thead>\n",
       "    <tr style=\"text-align: right;\">\n",
       "      <th></th>\n",
       "      <th>id</th>\n",
       "      <th>timestamp</th>\n",
       "      <th>derived_0</th>\n",
       "      <th>derived_1</th>\n",
       "      <th>derived_2</th>\n",
       "      <th>derived_3</th>\n",
       "      <th>derived_4</th>\n",
       "      <th>fundamental_0</th>\n",
       "      <th>fundamental_1</th>\n",
       "      <th>fundamental_2</th>\n",
       "      <th>...</th>\n",
       "      <th>technical_36</th>\n",
       "      <th>technical_37</th>\n",
       "      <th>technical_38</th>\n",
       "      <th>technical_39</th>\n",
       "      <th>technical_40</th>\n",
       "      <th>technical_41</th>\n",
       "      <th>technical_42</th>\n",
       "      <th>technical_43</th>\n",
       "      <th>technical_44</th>\n",
       "      <th>y</th>\n",
       "    </tr>\n",
       "  </thead>\n",
       "  <tbody>\n",
       "    <tr>\n",
       "      <th>131062</th>\n",
       "      <td>0</td>\n",
       "      <td>167</td>\n",
       "      <td>NaN</td>\n",
       "      <td>NaN</td>\n",
       "      <td>NaN</td>\n",
       "      <td>NaN</td>\n",
       "      <td>NaN</td>\n",
       "      <td>NaN</td>\n",
       "      <td>NaN</td>\n",
       "      <td>NaN</td>\n",
       "      <td>...</td>\n",
       "      <td>NaN</td>\n",
       "      <td>NaN</td>\n",
       "      <td>NaN</td>\n",
       "      <td>NaN</td>\n",
       "      <td>NaN</td>\n",
       "      <td>NaN</td>\n",
       "      <td>NaN</td>\n",
       "      <td>NaN</td>\n",
       "      <td>NaN</td>\n",
       "      <td>-0.007108</td>\n",
       "    </tr>\n",
       "    <tr>\n",
       "      <th>131895</th>\n",
       "      <td>0</td>\n",
       "      <td>168</td>\n",
       "      <td>NaN</td>\n",
       "      <td>NaN</td>\n",
       "      <td>NaN</td>\n",
       "      <td>NaN</td>\n",
       "      <td>NaN</td>\n",
       "      <td>NaN</td>\n",
       "      <td>NaN</td>\n",
       "      <td>NaN</td>\n",
       "      <td>...</td>\n",
       "      <td>NaN</td>\n",
       "      <td>NaN</td>\n",
       "      <td>NaN</td>\n",
       "      <td>NaN</td>\n",
       "      <td>NaN</td>\n",
       "      <td>NaN</td>\n",
       "      <td>NaN</td>\n",
       "      <td>NaN</td>\n",
       "      <td>NaN</td>\n",
       "      <td>0.001950</td>\n",
       "    </tr>\n",
       "    <tr>\n",
       "      <th>132728</th>\n",
       "      <td>0</td>\n",
       "      <td>169</td>\n",
       "      <td>NaN</td>\n",
       "      <td>NaN</td>\n",
       "      <td>NaN</td>\n",
       "      <td>NaN</td>\n",
       "      <td>NaN</td>\n",
       "      <td>NaN</td>\n",
       "      <td>NaN</td>\n",
       "      <td>NaN</td>\n",
       "      <td>...</td>\n",
       "      <td>NaN</td>\n",
       "      <td>NaN</td>\n",
       "      <td>NaN</td>\n",
       "      <td>NaN</td>\n",
       "      <td>NaN</td>\n",
       "      <td>NaN</td>\n",
       "      <td>NaN</td>\n",
       "      <td>NaN</td>\n",
       "      <td>NaN</td>\n",
       "      <td>0.017724</td>\n",
       "    </tr>\n",
       "    <tr>\n",
       "      <th>133561</th>\n",
       "      <td>0</td>\n",
       "      <td>170</td>\n",
       "      <td>-0.230583</td>\n",
       "      <td>0.488096</td>\n",
       "      <td>0.93592</td>\n",
       "      <td>0.028222</td>\n",
       "      <td>-0.083071</td>\n",
       "      <td>-0.240929</td>\n",
       "      <td>NaN</td>\n",
       "      <td>0.212425</td>\n",
       "      <td>...</td>\n",
       "      <td>0.727659</td>\n",
       "      <td>0.0</td>\n",
       "      <td>0.0</td>\n",
       "      <td>0.0</td>\n",
       "      <td>-0.160478</td>\n",
       "      <td>NaN</td>\n",
       "      <td>0.0</td>\n",
       "      <td>0.0</td>\n",
       "      <td>NaN</td>\n",
       "      <td>0.012934</td>\n",
       "    </tr>\n",
       "    <tr>\n",
       "      <th>134393</th>\n",
       "      <td>0</td>\n",
       "      <td>171</td>\n",
       "      <td>-0.230583</td>\n",
       "      <td>0.488096</td>\n",
       "      <td>0.93592</td>\n",
       "      <td>0.028222</td>\n",
       "      <td>-0.083071</td>\n",
       "      <td>-0.240929</td>\n",
       "      <td>NaN</td>\n",
       "      <td>0.212425</td>\n",
       "      <td>...</td>\n",
       "      <td>0.727659</td>\n",
       "      <td>0.0</td>\n",
       "      <td>0.0</td>\n",
       "      <td>0.0</td>\n",
       "      <td>-0.160478</td>\n",
       "      <td>NaN</td>\n",
       "      <td>0.0</td>\n",
       "      <td>0.0</td>\n",
       "      <td>NaN</td>\n",
       "      <td>-0.025229</td>\n",
       "    </tr>\n",
       "  </tbody>\n",
       "</table>\n",
       "<p>5 rows × 111 columns</p>\n",
       "</div>"
      ],
      "text/plain": [
       "        id  timestamp  derived_0  derived_1  derived_2  derived_3  derived_4  \\\n",
       "131062   0        167        NaN        NaN        NaN        NaN        NaN   \n",
       "131895   0        168        NaN        NaN        NaN        NaN        NaN   \n",
       "132728   0        169        NaN        NaN        NaN        NaN        NaN   \n",
       "133561   0        170  -0.230583   0.488096    0.93592   0.028222  -0.083071   \n",
       "134393   0        171  -0.230583   0.488096    0.93592   0.028222  -0.083071   \n",
       "\n",
       "        fundamental_0  fundamental_1  fundamental_2    ...     technical_36  \\\n",
       "131062            NaN            NaN            NaN    ...              NaN   \n",
       "131895            NaN            NaN            NaN    ...              NaN   \n",
       "132728            NaN            NaN            NaN    ...              NaN   \n",
       "133561      -0.240929            NaN       0.212425    ...         0.727659   \n",
       "134393      -0.240929            NaN       0.212425    ...         0.727659   \n",
       "\n",
       "        technical_37  technical_38  technical_39  technical_40  technical_41  \\\n",
       "131062           NaN           NaN           NaN           NaN           NaN   \n",
       "131895           NaN           NaN           NaN           NaN           NaN   \n",
       "132728           NaN           NaN           NaN           NaN           NaN   \n",
       "133561           0.0           0.0           0.0     -0.160478           NaN   \n",
       "134393           0.0           0.0           0.0     -0.160478           NaN   \n",
       "\n",
       "        technical_42  technical_43  technical_44         y  \n",
       "131062           NaN           NaN           NaN -0.007108  \n",
       "131895           NaN           NaN           NaN  0.001950  \n",
       "132728           NaN           NaN           NaN  0.017724  \n",
       "133561           0.0           0.0           NaN  0.012934  \n",
       "134393           0.0           0.0           NaN -0.025229  \n",
       "\n",
       "[5 rows x 111 columns]"
      ]
     },
     "execution_count": 3,
     "metadata": {},
     "output_type": "execute_result"
    }
   ],
   "source": [
    "train.sort_values(['id', 'timestamp'], inplace=True)\n",
    "train.head()"
   ]
  },
  {
   "cell_type": "code",
   "execution_count": 4,
   "metadata": {
    "collapsed": false
   },
   "outputs": [],
   "source": [
    "origin_features = twosigmafunc.origin_features(train)\n",
    "nan_features = twosigmafunc.addtional_features(origin_features, '_nan')\n",
    "train['id_diff'] = train.id.diff()\n",
    "initial_stage = train.loc[train.id_diff!=0]"
   ]
  },
  {
   "cell_type": "code",
   "execution_count": 5,
   "metadata": {
    "collapsed": false
   },
   "outputs": [
    {
     "name": "stderr",
     "output_type": "stream",
     "text": [
      "/usr/local/lib/python3.4/site-packages/ipykernel/__main__.py:1: SettingWithCopyWarning: \n",
      "A value is trying to be set on a copy of a slice from a DataFrame.\n",
      "Try using .loc[row_indexer,col_indexer] = value instead\n",
      "\n",
      "See the caveats in the documentation: http://pandas.pydata.org/pandas-docs/stable/indexing.html#indexing-view-versus-copy\n",
      "  if __name__ == '__main__':\n"
     ]
    }
   ],
   "source": [
    "initial_stage['nan_sum'] = initial_stage.isnull().sum(axis=1)"
   ]
  },
  {
   "cell_type": "code",
   "execution_count": 6,
   "metadata": {
    "collapsed": false
   },
   "outputs": [
    {
     "data": {
      "text/plain": [
       "array([107, 106,  24,  22,  28,  38,  21,  30,  60,  27,  42,  51,  54,\n",
       "        33,  26,  36,  35,  29,  23,  25,  20,  37,  47,  61,  43,  50,\n",
       "        46,  34,  40,  31,  39,  32,  44,  63,  64,  82,  88,  56,  41,\n",
       "        81,  59,  55,  52,  57,  89,  48,  58,  68,  49,  62,  66,  45,\n",
       "        69,  65,  80])"
      ]
     },
     "execution_count": 6,
     "metadata": {},
     "output_type": "execute_result"
    }
   ],
   "source": [
    "initial_stage.nan_sum.unique()"
   ]
  },
  {
   "cell_type": "code",
   "execution_count": 7,
   "metadata": {
    "collapsed": false
   },
   "outputs": [
    {
     "name": "stderr",
     "output_type": "stream",
     "text": [
      "/usr/local/lib/python3.4/site-packages/ipykernel/__main__.py:2: SettingWithCopyWarning: \n",
      "A value is trying to be set on a copy of a slice from a DataFrame.\n",
      "Try using .loc[row_indexer,col_indexer] = value instead\n",
      "\n",
      "See the caveats in the documentation: http://pandas.pydata.org/pandas-docs/stable/indexing.html#indexing-view-versus-copy\n",
      "  from ipykernel import kernelapp as app\n"
     ]
    }
   ],
   "source": [
    "for col, nan in zip(origin_features, nan_features):\n",
    "    initial_stage[nan] = initial_stage[col].isnull()"
   ]
  },
  {
   "cell_type": "code",
   "execution_count": 8,
   "metadata": {
    "collapsed": false
   },
   "outputs": [],
   "source": [
    "from sklearn.cluster import KMeans\n",
    "from sklearn.metrics import silhouette_score"
   ]
  },
  {
   "cell_type": "code",
   "execution_count": 10,
   "metadata": {
    "collapsed": false
   },
   "outputs": [
    {
     "name": "stdout",
     "output_type": "stream",
     "text": [
      "2\n",
      "3\n",
      "4\n",
      "5\n",
      "6\n",
      "7\n",
      "8\n",
      "9\n"
     ]
    }
   ],
   "source": [
    "# del train\n",
    "inert = []\n",
    "for n in range(2,10):\n",
    "    km = KMeans(n_clusters=n, n_jobs=1, random_state=11, n_init=10)\n",
    "    km.fit(initial_stage[nan_features + ['nan_sum']])\n",
    "    score = silhouette_score(initial_stage[nan_features + ['nan_sum']], km.labels_)\n",
    "    inert.append((n,score))"
   ]
  },
  {
   "cell_type": "code",
   "execution_count": 11,
   "metadata": {
    "collapsed": false
   },
   "outputs": [
    {
     "data": {
      "text/plain": [
       "[(2, 0.86891646043095638),\n",
       " (3, 0.82780727961783229),\n",
       " (4, 0.78999489664043965),\n",
       " (5, 0.77572947077190957),\n",
       " (6, 0.78254519477431117),\n",
       " (7, 0.77240612987586688),\n",
       " (8, 0.76355227039873197),\n",
       " (9, 0.7658268251075232)]"
      ]
     },
     "execution_count": 11,
     "metadata": {},
     "output_type": "execute_result"
    }
   ],
   "source": [
    "inert"
   ]
  },
  {
   "cell_type": "code",
   "execution_count": 12,
   "metadata": {
    "collapsed": false
   },
   "outputs": [
    {
     "data": {
      "text/plain": [
       "KMeans(algorithm='auto', copy_x=True, init='k-means++', max_iter=300,\n",
       "    n_clusters=5, n_init=20, n_jobs=1, precompute_distances='auto',\n",
       "    random_state=11, tol=0.0001, verbose=0)"
      ]
     },
     "execution_count": 12,
     "metadata": {},
     "output_type": "execute_result"
    }
   ],
   "source": [
    "km = KMeans(n_clusters=5, n_jobs=1, random_state=11, n_init=20)\n",
    "km.fit(initial_stage[nan_features + ['nan_sum']])"
   ]
  },
  {
   "cell_type": "code",
   "execution_count": 13,
   "metadata": {
    "collapsed": true
   },
   "outputs": [],
   "source": [
    "from collections import defaultdict\n",
    "group_id = defaultdict(list)\n",
    "for id_, group in zip(initial_stage.id, km.labels_):\n",
    "    group_id[group].append(id_)"
   ]
  },
  {
   "cell_type": "code",
   "execution_count": 17,
   "metadata": {
    "collapsed": false
   },
   "outputs": [
    {
     "name": "stdout",
     "output_type": "stream",
     "text": [
      "188\n",
      "680\n",
      "166\n",
      "250\n",
      "140\n"
     ]
    }
   ],
   "source": [
    "for key, gp in group_id.items():\n",
    "    print(len(gp))"
   ]
  },
  {
   "cell_type": "code",
   "execution_count": 18,
   "metadata": {
    "collapsed": true
   },
   "outputs": [],
   "source": [
    "def label(id):\n",
    "    if id in group_id[0]:\n",
    "        return 'a'\n",
    "    elif id in group_id[1]:\n",
    "        return 'b'\n",
    "    elif id in group_id[2]:\n",
    "        return 'c'\n",
    "    elif id in group_id[3]:\n",
    "        return 'd'\n",
    "    elif id in group_id[4]:\n",
    "        return 'e'\n",
    "    elif id in group_id[5]:\n",
    "        return 'f'\n",
    "    elif id in group_id[6]:\n",
    "        return 'g'\n",
    "    elif id in group_id[7]:\n",
    "        return 'h'\n",
    "    elif id in group_id[8]:\n",
    "        return 'i'\n",
    "    else:\n",
    "        return 'n'"
   ]
  },
  {
   "cell_type": "code",
   "execution_count": 19,
   "metadata": {
    "collapsed": false
   },
   "outputs": [
    {
     "data": {
      "text/html": [
       "<div>\n",
       "<table border=\"1\" class=\"dataframe\">\n",
       "  <thead>\n",
       "    <tr style=\"text-align: right;\">\n",
       "      <th></th>\n",
       "      <th>id</th>\n",
       "      <th>timestamp</th>\n",
       "      <th>derived_0</th>\n",
       "      <th>derived_1</th>\n",
       "      <th>derived_2</th>\n",
       "      <th>derived_3</th>\n",
       "      <th>derived_4</th>\n",
       "      <th>fundamental_0</th>\n",
       "      <th>fundamental_1</th>\n",
       "      <th>fundamental_2</th>\n",
       "      <th>...</th>\n",
       "      <th>technical_37</th>\n",
       "      <th>technical_38</th>\n",
       "      <th>technical_39</th>\n",
       "      <th>technical_40</th>\n",
       "      <th>technical_41</th>\n",
       "      <th>technical_42</th>\n",
       "      <th>technical_43</th>\n",
       "      <th>technical_44</th>\n",
       "      <th>y</th>\n",
       "      <th>id_diff</th>\n",
       "    </tr>\n",
       "  </thead>\n",
       "  <tbody>\n",
       "    <tr>\n",
       "      <th>131062</th>\n",
       "      <td>0</td>\n",
       "      <td>167</td>\n",
       "      <td>NaN</td>\n",
       "      <td>NaN</td>\n",
       "      <td>NaN</td>\n",
       "      <td>NaN</td>\n",
       "      <td>NaN</td>\n",
       "      <td>NaN</td>\n",
       "      <td>NaN</td>\n",
       "      <td>NaN</td>\n",
       "      <td>...</td>\n",
       "      <td>NaN</td>\n",
       "      <td>NaN</td>\n",
       "      <td>NaN</td>\n",
       "      <td>NaN</td>\n",
       "      <td>NaN</td>\n",
       "      <td>NaN</td>\n",
       "      <td>NaN</td>\n",
       "      <td>NaN</td>\n",
       "      <td>-0.007108</td>\n",
       "      <td>NaN</td>\n",
       "    </tr>\n",
       "    <tr>\n",
       "      <th>131895</th>\n",
       "      <td>0</td>\n",
       "      <td>168</td>\n",
       "      <td>NaN</td>\n",
       "      <td>NaN</td>\n",
       "      <td>NaN</td>\n",
       "      <td>NaN</td>\n",
       "      <td>NaN</td>\n",
       "      <td>NaN</td>\n",
       "      <td>NaN</td>\n",
       "      <td>NaN</td>\n",
       "      <td>...</td>\n",
       "      <td>NaN</td>\n",
       "      <td>NaN</td>\n",
       "      <td>NaN</td>\n",
       "      <td>NaN</td>\n",
       "      <td>NaN</td>\n",
       "      <td>NaN</td>\n",
       "      <td>NaN</td>\n",
       "      <td>NaN</td>\n",
       "      <td>0.001950</td>\n",
       "      <td>0.0</td>\n",
       "    </tr>\n",
       "    <tr>\n",
       "      <th>132728</th>\n",
       "      <td>0</td>\n",
       "      <td>169</td>\n",
       "      <td>NaN</td>\n",
       "      <td>NaN</td>\n",
       "      <td>NaN</td>\n",
       "      <td>NaN</td>\n",
       "      <td>NaN</td>\n",
       "      <td>NaN</td>\n",
       "      <td>NaN</td>\n",
       "      <td>NaN</td>\n",
       "      <td>...</td>\n",
       "      <td>NaN</td>\n",
       "      <td>NaN</td>\n",
       "      <td>NaN</td>\n",
       "      <td>NaN</td>\n",
       "      <td>NaN</td>\n",
       "      <td>NaN</td>\n",
       "      <td>NaN</td>\n",
       "      <td>NaN</td>\n",
       "      <td>0.017724</td>\n",
       "      <td>0.0</td>\n",
       "    </tr>\n",
       "    <tr>\n",
       "      <th>133561</th>\n",
       "      <td>0</td>\n",
       "      <td>170</td>\n",
       "      <td>-0.230583</td>\n",
       "      <td>0.488096</td>\n",
       "      <td>0.93592</td>\n",
       "      <td>0.028222</td>\n",
       "      <td>-0.083071</td>\n",
       "      <td>-0.240929</td>\n",
       "      <td>NaN</td>\n",
       "      <td>0.212425</td>\n",
       "      <td>...</td>\n",
       "      <td>0.0</td>\n",
       "      <td>0.0</td>\n",
       "      <td>0.0</td>\n",
       "      <td>-0.160478</td>\n",
       "      <td>NaN</td>\n",
       "      <td>0.0</td>\n",
       "      <td>0.0</td>\n",
       "      <td>NaN</td>\n",
       "      <td>0.012934</td>\n",
       "      <td>0.0</td>\n",
       "    </tr>\n",
       "    <tr>\n",
       "      <th>134393</th>\n",
       "      <td>0</td>\n",
       "      <td>171</td>\n",
       "      <td>-0.230583</td>\n",
       "      <td>0.488096</td>\n",
       "      <td>0.93592</td>\n",
       "      <td>0.028222</td>\n",
       "      <td>-0.083071</td>\n",
       "      <td>-0.240929</td>\n",
       "      <td>NaN</td>\n",
       "      <td>0.212425</td>\n",
       "      <td>...</td>\n",
       "      <td>0.0</td>\n",
       "      <td>0.0</td>\n",
       "      <td>0.0</td>\n",
       "      <td>-0.160478</td>\n",
       "      <td>NaN</td>\n",
       "      <td>0.0</td>\n",
       "      <td>0.0</td>\n",
       "      <td>NaN</td>\n",
       "      <td>-0.025229</td>\n",
       "      <td>0.0</td>\n",
       "    </tr>\n",
       "  </tbody>\n",
       "</table>\n",
       "<p>5 rows × 112 columns</p>\n",
       "</div>"
      ],
      "text/plain": [
       "        id  timestamp  derived_0  derived_1  derived_2  derived_3  derived_4  \\\n",
       "131062   0        167        NaN        NaN        NaN        NaN        NaN   \n",
       "131895   0        168        NaN        NaN        NaN        NaN        NaN   \n",
       "132728   0        169        NaN        NaN        NaN        NaN        NaN   \n",
       "133561   0        170  -0.230583   0.488096    0.93592   0.028222  -0.083071   \n",
       "134393   0        171  -0.230583   0.488096    0.93592   0.028222  -0.083071   \n",
       "\n",
       "        fundamental_0  fundamental_1  fundamental_2   ...     technical_37  \\\n",
       "131062            NaN            NaN            NaN   ...              NaN   \n",
       "131895            NaN            NaN            NaN   ...              NaN   \n",
       "132728            NaN            NaN            NaN   ...              NaN   \n",
       "133561      -0.240929            NaN       0.212425   ...              0.0   \n",
       "134393      -0.240929            NaN       0.212425   ...              0.0   \n",
       "\n",
       "        technical_38  technical_39  technical_40  technical_41  technical_42  \\\n",
       "131062           NaN           NaN           NaN           NaN           NaN   \n",
       "131895           NaN           NaN           NaN           NaN           NaN   \n",
       "132728           NaN           NaN           NaN           NaN           NaN   \n",
       "133561           0.0           0.0     -0.160478           NaN           0.0   \n",
       "134393           0.0           0.0     -0.160478           NaN           0.0   \n",
       "\n",
       "        technical_43  technical_44         y  id_diff  \n",
       "131062           NaN           NaN -0.007108      NaN  \n",
       "131895           NaN           NaN  0.001950      0.0  \n",
       "132728           NaN           NaN  0.017724      0.0  \n",
       "133561           0.0           NaN  0.012934      0.0  \n",
       "134393           0.0           NaN -0.025229      0.0  \n",
       "\n",
       "[5 rows x 112 columns]"
      ]
     },
     "execution_count": 19,
     "metadata": {},
     "output_type": "execute_result"
    }
   ],
   "source": [
    "train.head()"
   ]
  },
  {
   "cell_type": "code",
   "execution_count": null,
   "metadata": {
    "collapsed": false
   },
   "outputs": [],
   "source": [
    "label = train.id.map(label)"
   ]
  },
  {
   "cell_type": "code",
   "execution_count": null,
   "metadata": {
    "collapsed": true
   },
   "outputs": [],
   "source": [
    "label_dummy = pd.get_dummies(label, prefix='Label')\n",
    "train.drop(['id', 'id_diff', 'timestamp'], axis=1, inplace=True)\n",
    "train = pd.concat([train, label_dummy], axis=1)\n",
    "train.fillna(train.median(), inplace=True)"
   ]
  },
  {
   "cell_type": "code",
   "execution_count": 20,
   "metadata": {
    "collapsed": false
   },
   "outputs": [],
   "source": [
    "for col, nan in zip(origin_features, nan_features):\n",
    "    train[nan] = train[col].isnull()"
   ]
  }
 ],
 "metadata": {
  "kernelspec": {
   "display_name": "Python 3",
   "language": "python",
   "name": "python3"
  },
  "language_info": {
   "codemirror_mode": {
    "name": "ipython",
    "version": 3
   },
   "file_extension": ".py",
   "mimetype": "text/x-python",
   "name": "python",
   "nbconvert_exporter": "python",
   "pygments_lexer": "ipython3",
   "version": "3.4.3"
  }
 },
 "nbformat": 4,
 "nbformat_minor": 0
}
