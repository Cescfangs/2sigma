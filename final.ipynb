{
 "cells": [
  {
   "cell_type": "code",
   "execution_count": 37,
   "metadata": {
    "collapsed": true
   },
   "outputs": [],
   "source": [
    "import twosigmafunc\n",
    "import pandas as pd\n",
    "import numpy as np\n",
    "\n",
    "import matplotlib.pyplot as plt\n",
    "import seaborn\n",
    "plt.rcParams['figure.figsize'] = (14.0, 8.0) # set default size of plots\n",
    "plt.rcParams['image.interpolation'] = 'nearest'\n",
    "%matplotlib inline"
   ]
  },
  {
   "cell_type": "code",
   "execution_count": 2,
   "metadata": {
    "collapsed": false
   },
   "outputs": [],
   "source": [
    "train, origin_features = twosigmafunc.preprocess()"
   ]
  },
  {
   "cell_type": "code",
   "execution_count": 23,
   "metadata": {
    "collapsed": true
   },
   "outputs": [],
   "source": [
    "etr_features = [\n",
    "    'tec20-30',\n",
    "    'technical_30',\n",
    "    'technical_43',\n",
    "    'technical_43_diff',\n",
    "    'technical_11_diff',\n",
    "    'technical_2_diff',\n",
    "    'technical_11',\n",
    "    'technical_20',\n",
    "    'technical_2',\n",
    "    'fundamental_25_nan',\n",
    "    'technical_14_diff',\n",
    "    'technical_21_diff',\n",
    "    'technical_9_nan',\n",
    "    'technical_40',\n",
    "    'technical_30_diff',\n",
    "    'technical_6_diff',\n",
    "    'technical_6',\n",
    "    'technical_17_diff',\n",
    "    'technical_17',\n",
    "    'technical_14',\n",
    "    'technical_7',\n",
    "    'technical_19',\n",
    "    'technical_44_nan',\n",
    "    'fundamental_27_nan',\n",
    "    'technical_18_nan',\n",
    "    'technical_28_nan',\n",
    "    'technical_21',\n",
    "    'technical_42_nan',\n",
    "    'technical_29_diff',\n",
    "    'technical_20_diff',\n",
    "    'technical_31_nan',\n",
    "    'fundamental_53',\n",
    "    'technical_24_nan',\n",
    "    'technical_36',\n",
    "    'technical_19_diff',\n",
    "    'technical_27',\n",
    "    'technical_29',\n",
    "    'technical_35',\n",
    "    # 'technical_22',\n",
    "    'technical_41_nan',\n",
    "    'fundamental_8',\n",
    "    'fundamental_21',\n",
    "    'fundamental_17_nan',\n",
    "    # 'technical_34',\n",
    "    'technical_16_nan',\n",
    "    'technical_27_diff',\n",
    "    'fundamental_33_nan',\n",
    "    'fundamental_58',\n",
    "    'derived_1_nan',\n",
    "    'technical_10',\n",
    "    'technical_25_nan',\n",
    "    'fundamental_18',\n",
    "    'fundamental_59',\n",
    "    'technical_40_diff',\n",
    "    'null_count',\n",
    "    'fundamental_5_nan',\n",
    "    'fundamental_48',\n",
    "    'fundamental_47_nan',\n",
    "    'technical_36_diff',\n",
    "    'fundamental_41_nan',\n",
    "    'fundamental_42_nan',\n",
    "    'fundamental_0_nan',\n",
    "    'fundamental_50',\n",
    "    'fundamental_40',\n",
    "    'technical_3_nan',\n",
    "    'fundamental_23',\n",
    "    'fundamental_49_nan',\n",
    "    'fundamental_36',\n",
    "    'technical_44',\n",
    "    'fundamental_2',\n",
    "    'fundamental_0',\n",
    "    'technical_41',\n",
    "    'fundamental_62_diff',\n",
    "    'technical_38_diff',\n",
    "    'fundamental_22_nan',\n",
    "    'technical_12',\n",
    "    'fundamental_62',\n",
    "    'technical_37_diff',\n",
    "    'fundamental_44',\n",
    "    'technical_29_nan',\n",
    "    'fundamental_24_nan',\n",
    "    'technical_10_nan',\n",
    "    'fundamental_46',\n",
    "    'technical_1',\n",
    "    'fundamental_54_nan',\n",
    "    'fundamental_0_diff',\n",
    "    'technical_12_diff',\n",
    "    'technical_35_diff',\n",
    "    'derived_3_nan',\n",
    "    # 'fundamental_63_nan',\n",
    "    # 'fundamental_31_nan',\n",
    "    # 'fundamental_40_nan',\n",
    "    # 'fundamental_35_nan',\n",
    "    # 'technical_3',\n",
    "    # 'fundamental_13'\n",
    "]"
   ]
  },
  {
   "cell_type": "code",
   "execution_count": 4,
   "metadata": {
    "collapsed": false
   },
   "outputs": [],
   "source": [
    "\n",
    "seed = 17\n",
    "excl = twosigmafunc.excl_features()\n",
    "origin_features = [c for c in train.columns if c not in excl]\n",
    "# origin_features_exclude_y = [c for c in observation.train.columns if c not in ['y']]\n",
    "to_add_diff = [feature[:-5] for feature in etr_features if feature.endswith('_diff')]\n",
    "to_add_nan = [feature[:-4] for feature in etr_features if feature.endswith('_nan')]\n",
    "diff_features = [feature + '_diff' for feature in to_add_diff]\n",
    "linear_features = ['technical_20_diff', 'tec20-30']"
   ]
  },
  {
   "cell_type": "code",
   "execution_count": 5,
   "metadata": {
    "collapsed": false
   },
   "outputs": [
    {
     "name": "stdout",
     "output_type": "stream",
     "text": [
      "sucessfully add 20 diff features\n"
     ]
    }
   ],
   "source": [
    "twosigmafunc.add_diffs(train, to_add_diff, 1)"
   ]
  },
  {
   "cell_type": "code",
   "execution_count": 6,
   "metadata": {
    "collapsed": false
   },
   "outputs": [
    {
     "name": "stdout",
     "output_type": "stream",
     "text": [
      "sucessfully add 28 nan features\n"
     ]
    }
   ],
   "source": [
    "twosigmafunc.add_nans(train, to_add_nan, 1)"
   ]
  },
  {
   "cell_type": "code",
   "execution_count": 7,
   "metadata": {
    "collapsed": true
   },
   "outputs": [],
   "source": [
    "train = train.fillna(train.median())"
   ]
  },
  {
   "cell_type": "code",
   "execution_count": 9,
   "metadata": {
    "collapsed": false
   },
   "outputs": [
    {
     "data": {
      "text/plain": [
       "id                   0\n",
       "technical_37         0\n",
       "technical_38         0\n",
       "technical_39         0\n",
       "technical_40         0\n",
       "technical_41         0\n",
       "technical_42         0\n",
       "technical_43         0\n",
       "technical_36         0\n",
       "technical_44         0\n",
       "id_diff              0\n",
       "technical_43_diff    0\n",
       "technical_11_diff    0\n",
       "technical_2_diff     0\n",
       "technical_14_diff    0\n",
       "technical_21_diff    0\n",
       "technical_30_diff    0\n",
       "y                    0\n",
       "technical_6_diff     0\n",
       "technical_35         0\n",
       "technical_33         0\n",
       "technical_14         0\n",
       "technical_16         0\n",
       "technical_17         0\n",
       "technical_18         0\n",
       "technical_19         0\n",
       "technical_20         0\n",
       "technical_21         0\n",
       "technical_34         0\n",
       "technical_22         0\n",
       "                    ..\n",
       "technical_1          0\n",
       "technical_2          0\n",
       "technical_3          0\n",
       "technical_5          0\n",
       "technical_6          0\n",
       "technical_7          0\n",
       "technical_9          0\n",
       "technical_0          0\n",
       "fundamental_54       0\n",
       "fundamental_53       0\n",
       "fundamental_52       0\n",
       "fundamental_35       0\n",
       "fundamental_36       0\n",
       "fundamental_37       0\n",
       "fundamental_38       0\n",
       "fundamental_39       0\n",
       "fundamental_40       0\n",
       "fundamental_41       0\n",
       "fundamental_42       0\n",
       "fundamental_43       0\n",
       "fundamental_44       0\n",
       "fundamental_45       0\n",
       "fundamental_46       0\n",
       "fundamental_47       0\n",
       "fundamental_48       0\n",
       "fundamental_49       0\n",
       "fundamental_50       0\n",
       "fundamental_51       0\n",
       "technical_11         0\n",
       "null_count           0\n",
       "dtype: int64"
      ]
     },
     "execution_count": 9,
     "metadata": {},
     "output_type": "execute_result"
    }
   ],
   "source": [
    "train.isnull().sum().sort_values()"
   ]
  },
  {
   "cell_type": "code",
   "execution_count": 10,
   "metadata": {
    "collapsed": true
   },
   "outputs": [],
   "source": [
    "train['tec20-30'] = train['technical_20'] - train['technical_30']"
   ]
  },
  {
   "cell_type": "code",
   "execution_count": 12,
   "metadata": {
    "collapsed": true
   },
   "outputs": [],
   "source": [
    "from sklearn.linear_model import Ridge"
   ]
  },
  {
   "cell_type": "code",
   "execution_count": 31,
   "metadata": {
    "collapsed": true
   },
   "outputs": [],
   "source": [
    "X_train, y_train, X_test, y_test = twosigmafunc.split_data(train, etr_features + ['timestamp'])"
   ]
  },
  {
   "cell_type": "code",
   "execution_count": 13,
   "metadata": {
    "collapsed": true
   },
   "outputs": [],
   "source": [
    "low_y_cut = -0.075\n",
    "high_y_cut = 0.075\n",
    "y_is_above_cut = (y_train > high_y_cut)\n",
    "y_is_below_cut = (y_train < low_y_cut)\n",
    "y_is_within_cut = (~y_is_above_cut & ~y_is_below_cut)"
   ]
  },
  {
   "cell_type": "code",
   "execution_count": 14,
   "metadata": {
    "collapsed": false
   },
   "outputs": [
    {
     "data": {
      "text/plain": [
       "Ridge(alpha=1.0, copy_X=True, fit_intercept=True, max_iter=None,\n",
       "   normalize=False, random_state=None, solver='auto', tol=0.001)"
      ]
     },
     "execution_count": 14,
     "metadata": {},
     "output_type": "execute_result"
    }
   ],
   "source": [
    "ridge = Ridge()\n",
    "ridge.fit(X_train.loc[y_is_within_cut, ['tec20-30', 'technical_20_diff']], y_train[y_is_within_cut])"
   ]
  },
  {
   "cell_type": "code",
   "execution_count": 15,
   "metadata": {
    "collapsed": true
   },
   "outputs": [],
   "source": [
    "pred = ridge.predict(X_test[['tec20-30', 'technical_20_diff']]).clip(low_y_cut, high_y_cut)"
   ]
  },
  {
   "cell_type": "code",
   "execution_count": 16,
   "metadata": {
    "collapsed": false
   },
   "outputs": [
    {
     "data": {
      "text/plain": [
       "0.02648156394967555"
      ]
     },
     "execution_count": 16,
     "metadata": {},
     "output_type": "execute_result"
    }
   ],
   "source": [
    "twosigmafunc.R_score(pred, y_test)"
   ]
  },
  {
   "cell_type": "code",
   "execution_count": 17,
   "metadata": {
    "collapsed": true
   },
   "outputs": [],
   "source": [
    "X_train['r'] = np.abs(ridge.predict(X_train[['tec20-30', 'technical_20_diff']]).clip(low_y_cut, high_y_cut) - y_train)"
   ]
  },
  {
   "cell_type": "code",
   "execution_count": 18,
   "metadata": {
    "collapsed": false
   },
   "outputs": [
    {
     "data": {
      "text/html": [
       "<div>\n",
       "<table border=\"1\" class=\"dataframe\">\n",
       "  <thead>\n",
       "    <tr style=\"text-align: right;\">\n",
       "      <th></th>\n",
       "      <th>t22_0.0</th>\n",
       "      <th>t22_0.5</th>\n",
       "      <th>t34_0.0</th>\n",
       "      <th>t34_0.5</th>\n",
       "      <th>y_lr1</th>\n",
       "      <th>y_lr2</th>\n",
       "      <th>y_past</th>\n",
       "      <th>tec20-30</th>\n",
       "      <th>technical_30</th>\n",
       "      <th>tec123</th>\n",
       "      <th>...</th>\n",
       "      <th>fundamental_24_nan</th>\n",
       "      <th>technical_10_nan</th>\n",
       "      <th>fundamental_46</th>\n",
       "      <th>technical_1</th>\n",
       "      <th>fundamental_54_nan</th>\n",
       "      <th>fundamental_0_diff</th>\n",
       "      <th>technical_12_diff</th>\n",
       "      <th>technical_35_diff</th>\n",
       "      <th>derived_3_nan</th>\n",
       "      <th>r</th>\n",
       "    </tr>\n",
       "  </thead>\n",
       "  <tbody>\n",
       "    <tr>\n",
       "      <th>131062</th>\n",
       "      <td>NaN</td>\n",
       "      <td>NaN</td>\n",
       "      <td>NaN</td>\n",
       "      <td>NaN</td>\n",
       "      <td>NaN</td>\n",
       "      <td>NaN</td>\n",
       "      <td>NaN</td>\n",
       "      <td>0.0</td>\n",
       "      <td>0.0</td>\n",
       "      <td>NaN</td>\n",
       "      <td>...</td>\n",
       "      <td>1</td>\n",
       "      <td>1</td>\n",
       "      <td>0.020412</td>\n",
       "      <td>-0.000483</td>\n",
       "      <td>1</td>\n",
       "      <td>0.0</td>\n",
       "      <td>0.000000e+00</td>\n",
       "      <td>0.0</td>\n",
       "      <td>1</td>\n",
       "      <td>0.007212</td>\n",
       "    </tr>\n",
       "    <tr>\n",
       "      <th>131895</th>\n",
       "      <td>NaN</td>\n",
       "      <td>NaN</td>\n",
       "      <td>NaN</td>\n",
       "      <td>NaN</td>\n",
       "      <td>NaN</td>\n",
       "      <td>NaN</td>\n",
       "      <td>NaN</td>\n",
       "      <td>0.0</td>\n",
       "      <td>0.0</td>\n",
       "      <td>NaN</td>\n",
       "      <td>...</td>\n",
       "      <td>1</td>\n",
       "      <td>1</td>\n",
       "      <td>0.020412</td>\n",
       "      <td>-0.000483</td>\n",
       "      <td>1</td>\n",
       "      <td>0.0</td>\n",
       "      <td>9.741791e-11</td>\n",
       "      <td>0.0</td>\n",
       "      <td>1</td>\n",
       "      <td>0.001846</td>\n",
       "    </tr>\n",
       "    <tr>\n",
       "      <th>132728</th>\n",
       "      <td>NaN</td>\n",
       "      <td>NaN</td>\n",
       "      <td>NaN</td>\n",
       "      <td>NaN</td>\n",
       "      <td>NaN</td>\n",
       "      <td>NaN</td>\n",
       "      <td>NaN</td>\n",
       "      <td>0.0</td>\n",
       "      <td>0.0</td>\n",
       "      <td>NaN</td>\n",
       "      <td>...</td>\n",
       "      <td>1</td>\n",
       "      <td>1</td>\n",
       "      <td>0.020412</td>\n",
       "      <td>-0.000483</td>\n",
       "      <td>1</td>\n",
       "      <td>0.0</td>\n",
       "      <td>9.741791e-11</td>\n",
       "      <td>0.0</td>\n",
       "      <td>1</td>\n",
       "      <td>0.017620</td>\n",
       "    </tr>\n",
       "    <tr>\n",
       "      <th>133561</th>\n",
       "      <td>NaN</td>\n",
       "      <td>NaN</td>\n",
       "      <td>NaN</td>\n",
       "      <td>NaN</td>\n",
       "      <td>NaN</td>\n",
       "      <td>NaN</td>\n",
       "      <td>NaN</td>\n",
       "      <td>0.0</td>\n",
       "      <td>0.0</td>\n",
       "      <td>NaN</td>\n",
       "      <td>...</td>\n",
       "      <td>0</td>\n",
       "      <td>0</td>\n",
       "      <td>-0.032304</td>\n",
       "      <td>-0.000483</td>\n",
       "      <td>0</td>\n",
       "      <td>0.0</td>\n",
       "      <td>9.741791e-11</td>\n",
       "      <td>0.0</td>\n",
       "      <td>0</td>\n",
       "      <td>0.012831</td>\n",
       "    </tr>\n",
       "    <tr>\n",
       "      <th>134393</th>\n",
       "      <td>NaN</td>\n",
       "      <td>NaN</td>\n",
       "      <td>NaN</td>\n",
       "      <td>NaN</td>\n",
       "      <td>NaN</td>\n",
       "      <td>NaN</td>\n",
       "      <td>NaN</td>\n",
       "      <td>0.0</td>\n",
       "      <td>0.0</td>\n",
       "      <td>NaN</td>\n",
       "      <td>...</td>\n",
       "      <td>0</td>\n",
       "      <td>0</td>\n",
       "      <td>-0.032304</td>\n",
       "      <td>-0.000483</td>\n",
       "      <td>0</td>\n",
       "      <td>0.0</td>\n",
       "      <td>0.000000e+00</td>\n",
       "      <td>0.0</td>\n",
       "      <td>0</td>\n",
       "      <td>0.025333</td>\n",
       "    </tr>\n",
       "  </tbody>\n",
       "</table>\n",
       "<p>5 rows × 97 columns</p>\n",
       "</div>"
      ],
      "text/plain": [
       "        t22_0.0  t22_0.5  t34_0.0  t34_0.5  y_lr1  y_lr2  y_past  tec20-30  \\\n",
       "131062      NaN      NaN      NaN      NaN    NaN    NaN     NaN       0.0   \n",
       "131895      NaN      NaN      NaN      NaN    NaN    NaN     NaN       0.0   \n",
       "132728      NaN      NaN      NaN      NaN    NaN    NaN     NaN       0.0   \n",
       "133561      NaN      NaN      NaN      NaN    NaN    NaN     NaN       0.0   \n",
       "134393      NaN      NaN      NaN      NaN    NaN    NaN     NaN       0.0   \n",
       "\n",
       "        technical_30  tec123    ...     fundamental_24_nan  technical_10_nan  \\\n",
       "131062           0.0     NaN    ...                      1                 1   \n",
       "131895           0.0     NaN    ...                      1                 1   \n",
       "132728           0.0     NaN    ...                      1                 1   \n",
       "133561           0.0     NaN    ...                      0                 0   \n",
       "134393           0.0     NaN    ...                      0                 0   \n",
       "\n",
       "        fundamental_46  technical_1  fundamental_54_nan  fundamental_0_diff  \\\n",
       "131062        0.020412    -0.000483                   1                 0.0   \n",
       "131895        0.020412    -0.000483                   1                 0.0   \n",
       "132728        0.020412    -0.000483                   1                 0.0   \n",
       "133561       -0.032304    -0.000483                   0                 0.0   \n",
       "134393       -0.032304    -0.000483                   0                 0.0   \n",
       "\n",
       "        technical_12_diff  technical_35_diff  derived_3_nan         r  \n",
       "131062       0.000000e+00                0.0              1  0.007212  \n",
       "131895       9.741791e-11                0.0              1  0.001846  \n",
       "132728       9.741791e-11                0.0              1  0.017620  \n",
       "133561       9.741791e-11                0.0              0  0.012831  \n",
       "134393       0.000000e+00                0.0              0  0.025333  \n",
       "\n",
       "[5 rows x 97 columns]"
      ]
     },
     "execution_count": 18,
     "metadata": {},
     "output_type": "execute_result"
    }
   ],
   "source": [
    "X_train.head()"
   ]
  },
  {
   "cell_type": "code",
   "execution_count": 19,
   "metadata": {
    "collapsed": true
   },
   "outputs": [],
   "source": [
    "high_r = X_train.r.quantile(0.5)"
   ]
  },
  {
   "cell_type": "code",
   "execution_count": 20,
   "metadata": {
    "collapsed": false
   },
   "outputs": [
    {
     "data": {
      "text/plain": [
       "0.009420854435285494"
      ]
     },
     "execution_count": 20,
     "metadata": {},
     "output_type": "execute_result"
    }
   ],
   "source": [
    "high_r"
   ]
  },
  {
   "cell_type": "code",
   "execution_count": 25,
   "metadata": {
    "collapsed": false
   },
   "outputs": [
    {
     "data": {
      "text/plain": [
       "ExtraTreesRegressor(bootstrap=False, criterion='mse', max_depth=5,\n",
       "          max_features=0.6, max_leaf_nodes=None, min_impurity_split=1e-07,\n",
       "          min_samples_leaf=1, min_samples_split=2,\n",
       "          min_weight_fraction_leaf=0.0, n_estimators=128, n_jobs=-1,\n",
       "          oob_score=False, random_state=17, verbose=0, warm_start=False)"
      ]
     },
     "execution_count": 25,
     "metadata": {},
     "output_type": "execute_result"
    }
   ],
   "source": [
    "from sklearn.ensemble import ExtraTreesRegressor\n",
    "etr = ExtraTreesRegressor(n_jobs=-1, n_estimators=128, random_state=seed, max_depth=5, max_features=0.6)\n",
    "etr.fit(X_train.loc[X_train.r > high_r, etr_features], y_train[X_train.r > high_r])"
   ]
  },
  {
   "cell_type": "code",
   "execution_count": 42,
   "metadata": {
    "collapsed": false
   },
   "outputs": [
    {
     "data": {
      "text/plain": [
       "Ridge(alpha=1.0, copy_X=True, fit_intercept=True, max_iter=None,\n",
       "   normalize=False, random_state=None, solver='auto', tol=0.001)"
      ]
     },
     "execution_count": 42,
     "metadata": {},
     "output_type": "execute_result"
    }
   ],
   "source": [
    "ridge_bad = Ridge()\n",
    "ridge_bad.fit(X_train.loc[X_train.r > high_r, ['tec20-30', 'technical_20_diff']], y_train[X_train.r > high_r])"
   ]
  },
  {
   "cell_type": "code",
   "execution_count": 27,
   "metadata": {
    "collapsed": false
   },
   "outputs": [],
   "source": [
    "pred = etr.predict(X_test[etr_features]).clip(low_y_cut, high_y_cut)"
   ]
  },
  {
   "cell_type": "code",
   "execution_count": 28,
   "metadata": {
    "collapsed": true
   },
   "outputs": [],
   "source": [
    "y_pred = ridge.predict(X_test[['tec20-30', 'technical_20_diff']]).clip(low_y_cut, high_y_cut)"
   ]
  },
  {
   "cell_type": "code",
   "execution_count": 29,
   "metadata": {
    "collapsed": false
   },
   "outputs": [
    {
     "data": {
      "text/plain": [
       "0.01265528041427667"
      ]
     },
     "execution_count": 29,
     "metadata": {},
     "output_type": "execute_result"
    }
   ],
   "source": [
    "twosigmafunc.R_score(pred, y_test)"
   ]
  },
  {
   "cell_type": "code",
   "execution_count": 32,
   "metadata": {
    "collapsed": false
   },
   "outputs": [],
   "source": [
    "min_stamp = X_test.timestamp.min()\n",
    "max_stamp = X_test.timestamp.max()"
   ]
  },
  {
   "cell_type": "code",
   "execution_count": 33,
   "metadata": {
    "collapsed": false
   },
   "outputs": [
    {
     "name": "stdout",
     "output_type": "stream",
     "text": [
      "1000 ridge: -0.00552716746113 bad: -0.0203759937889 combine: 0.0118511580754\n",
      "1100 ridge: 0.0117636443537 bad: -0.0350548933463 combine: -0.00229231794399\n",
      "1200 ridge: 0.0195745805043 bad: -0.0333909619403 combine: 0.0144482667558\n",
      "1300 ridge: 0.0155557697507 bad: -0.0325028548145 combine: 0.0120162202315\n",
      "1400 ridge: -0.0124457922406 bad: -0.0367569119258 combine: -0.016174904885\n",
      "1500 ridge: 0.00875705333811 bad: -0.0267987545045 combine: 0.00814992434783\n",
      "1600 ridge: 0.0286685088215 bad: 0.0106438169174 combine: 0.0279543850855\n",
      "1700 ridge: 0.0293695188969 bad: 0.0138399542834 combine: 0.0286995444938\n",
      "1800 ridge: 0.0270153585809 bad: 0.0116096589755 combine: 0.026754169743\n"
     ]
    }
   ],
   "source": [
    "X_test['y_pred'] = y_pred\n",
    "X_test['y_bad'] = pred\n",
    "stamp = min_stamp\n",
    "y_true_acc = []\n",
    "y_pred_acc = []\n",
    "reward_ri = []\n",
    "reward_bad = []\n",
    "reward_com = []\n",
    "while stamp <= max_stamp:        \n",
    "    y_true = y_test.loc[X_test.timestamp <= stamp]\n",
    "    y_ri = X_test.y_pred.loc[X_test.timestamp <= stamp]\n",
    "    y_bad = X_test.y_bad.loc[X_test.timestamp <= stamp]\n",
    "    y_com = 0.7 * y_ri + 0.3 * y_bad\n",
    "#         print(y_true.shape, y_pred.shape)\n",
    "    reward_ri.append(twosigmafunc.R_score(np.array(y_ri), np.array(y_true)))\n",
    "    reward_bad.append(twosigmafunc.R_score(np.array(y_bad), np.array(y_true)))\n",
    "    reward_com.append(twosigmafunc.R_score(np.array(y_com), np.array(y_true)))\n",
    "    stamp += 1\n",
    "    if stamp % 100 == 0:\n",
    "        print(stamp, 'ridge:', reward_ri[-1], 'bad:', reward_bad[-1], 'combine:', reward_com[-1])"
   ]
  },
  {
   "cell_type": "code",
   "execution_count": 41,
   "metadata": {
    "collapsed": false
   },
   "outputs": [
    {
     "data": {
      "text/plain": [
       "(-0.15, 0.07)"
      ]
     },
     "execution_count": 41,
     "metadata": {},
     "output_type": "execute_result"
    },
    {
     "data": {
      "image/png": "[encoded data removed]",
      "text/plain": [
       "<matplotlib.figure.Figure at 0x110216940>"
      ]
     },
     "metadata": {},
     "output_type": "display_data"
    }
   ],
   "source": [
    "plt.title('High Residual')\n",
    "plt.xlabel('timestamp')\n",
    "plt.ylabel('R score')\n",
    "plt.plot([min_stamp, max_stamp], [0, 0], 'k--')\n",
    "plt.plot(range(min_stamp, max_stamp + 1), np.array(reward_ri), label='ridge')\n",
    "plt.plot(range(min_stamp, max_stamp + 1), np.array(reward_bad), label='ETR on high residual data')\n",
    "# plt.plot(range(min_stamp, max_stamp + 1), np.array(reward_com), label='combined')\n",
    "plt.legend(loc='best')\n",
    "plt.ylim(-0.15, 0.07)"
   ]
  },
  {
   "cell_type": "code",
   "execution_count": 39,
   "metadata": {
    "collapsed": true
   },
   "outputs": [],
   "source": [
    "plt.rcParams['figure.figsize'] = (14.0, 8.0) # set default size of plots\n",
    "plt.rcParams['image.interpolation'] = 'nearest'"
   ]
  },
  {
   "cell_type": "code",
   "execution_count": null,
   "metadata": {
    "collapsed": true
   },
   "outputs": [],
   "source": []
  }
 ],
 "metadata": {
  "kernelspec": {
   "display_name": "Python 3",
   "language": "python",
   "name": "python3"
  },
  "language_info": {
   "codemirror_mode": {
    "name": "ipython",
    "version": 3
   },
   "file_extension": ".py",
   "mimetype": "text/x-python",
   "name": "python",
   "nbconvert_exporter": "python",
   "pygments_lexer": "ipython3",
   "version": "3.4.3"
  }
 },
 "nbformat": 4,
 "nbformat_minor": 0
}
