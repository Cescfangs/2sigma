{
 "cells": [
  {
   "cell_type": "code",
   "execution_count": 1,
   "metadata": {
    "collapsed": true
   },
   "outputs": [],
   "source": [
    "import numpy as np\n",
    "import pandas as pd\n",
    "import twosigmafunc\n",
    "import matplotlib.pyplot as plt"
   ]
  },
  {
   "cell_type": "code",
   "execution_count": 2,
   "metadata": {
    "collapsed": true
   },
   "outputs": [],
   "source": [
    "import seaborn\n",
    "plt.rcParams['figure.figsize'] = (14.0, 8.0) # set default size of plots\n",
    "plt.rcParams['image.interpolation'] = 'nearest'"
   ]
  },
  {
   "cell_type": "code",
   "execution_count": 3,
   "metadata": {
    "collapsed": true
   },
   "outputs": [],
   "source": [
    "%matplotlib inline\n",
    "%load_ext autoreload\n",
    "%autoreload 2"
   ]
  },
  {
   "cell_type": "code",
   "execution_count": 4,
   "metadata": {
    "collapsed": true
   },
   "outputs": [],
   "source": [
    "train, origin_features = twosigmafunc.preprocess()"
   ]
  },
  {
   "cell_type": "code",
   "execution_count": 5,
   "metadata": {
    "collapsed": true
   },
   "outputs": [],
   "source": [
    "train = train.fillna(train.median())"
   ]
  },
  {
   "cell_type": "code",
   "execution_count": 5,
   "metadata": {
    "collapsed": false
   },
   "outputs": [
    {
     "data": {
      "text/html": [
       "<div>\n",
       "<table border=\"1\" class=\"dataframe\">\n",
       "  <thead>\n",
       "    <tr style=\"text-align: right;\">\n",
       "      <th></th>\n",
       "      <th>id</th>\n",
       "      <th>timestamp</th>\n",
       "      <th>derived_0</th>\n",
       "      <th>derived_1</th>\n",
       "      <th>derived_2</th>\n",
       "      <th>derived_3</th>\n",
       "      <th>derived_4</th>\n",
       "      <th>fundamental_0</th>\n",
       "      <th>fundamental_1</th>\n",
       "      <th>fundamental_2</th>\n",
       "      <th>...</th>\n",
       "      <th>technical_36</th>\n",
       "      <th>technical_37</th>\n",
       "      <th>technical_38</th>\n",
       "      <th>technical_39</th>\n",
       "      <th>technical_40</th>\n",
       "      <th>technical_41</th>\n",
       "      <th>technical_42</th>\n",
       "      <th>technical_43</th>\n",
       "      <th>technical_44</th>\n",
       "      <th>y</th>\n",
       "    </tr>\n",
       "  </thead>\n",
       "  <tbody>\n",
       "    <tr>\n",
       "      <th>0</th>\n",
       "      <td>10</td>\n",
       "      <td>0</td>\n",
       "      <td>0.370326</td>\n",
       "      <td>-0.006316</td>\n",
       "      <td>0.222831</td>\n",
       "      <td>-0.213030</td>\n",
       "      <td>0.729277</td>\n",
       "      <td>-0.335633</td>\n",
       "      <td>0.113292</td>\n",
       "      <td>1.621238</td>\n",
       "      <td>...</td>\n",
       "      <td>0.775208</td>\n",
       "      <td>NaN</td>\n",
       "      <td>NaN</td>\n",
       "      <td>NaN</td>\n",
       "      <td>-0.414776</td>\n",
       "      <td>NaN</td>\n",
       "      <td>NaN</td>\n",
       "      <td>-2.0</td>\n",
       "      <td>NaN</td>\n",
       "      <td>-0.011753</td>\n",
       "    </tr>\n",
       "    <tr>\n",
       "      <th>1</th>\n",
       "      <td>11</td>\n",
       "      <td>0</td>\n",
       "      <td>0.014765</td>\n",
       "      <td>-0.038064</td>\n",
       "      <td>-0.017425</td>\n",
       "      <td>0.320652</td>\n",
       "      <td>-0.034134</td>\n",
       "      <td>0.004413</td>\n",
       "      <td>0.114285</td>\n",
       "      <td>-0.210185</td>\n",
       "      <td>...</td>\n",
       "      <td>0.025590</td>\n",
       "      <td>NaN</td>\n",
       "      <td>NaN</td>\n",
       "      <td>NaN</td>\n",
       "      <td>-0.273607</td>\n",
       "      <td>NaN</td>\n",
       "      <td>NaN</td>\n",
       "      <td>-2.0</td>\n",
       "      <td>NaN</td>\n",
       "      <td>-0.001240</td>\n",
       "    </tr>\n",
       "    <tr>\n",
       "      <th>2</th>\n",
       "      <td>12</td>\n",
       "      <td>0</td>\n",
       "      <td>-0.010622</td>\n",
       "      <td>-0.050577</td>\n",
       "      <td>3.379575</td>\n",
       "      <td>-0.157525</td>\n",
       "      <td>-0.068550</td>\n",
       "      <td>-0.155937</td>\n",
       "      <td>1.219439</td>\n",
       "      <td>-0.764516</td>\n",
       "      <td>...</td>\n",
       "      <td>0.151881</td>\n",
       "      <td>NaN</td>\n",
       "      <td>NaN</td>\n",
       "      <td>NaN</td>\n",
       "      <td>-0.175710</td>\n",
       "      <td>NaN</td>\n",
       "      <td>NaN</td>\n",
       "      <td>-2.0</td>\n",
       "      <td>NaN</td>\n",
       "      <td>-0.020940</td>\n",
       "    </tr>\n",
       "    <tr>\n",
       "      <th>3</th>\n",
       "      <td>25</td>\n",
       "      <td>0</td>\n",
       "      <td>NaN</td>\n",
       "      <td>NaN</td>\n",
       "      <td>NaN</td>\n",
       "      <td>NaN</td>\n",
       "      <td>NaN</td>\n",
       "      <td>0.178495</td>\n",
       "      <td>NaN</td>\n",
       "      <td>-0.007262</td>\n",
       "      <td>...</td>\n",
       "      <td>1.035936</td>\n",
       "      <td>NaN</td>\n",
       "      <td>NaN</td>\n",
       "      <td>NaN</td>\n",
       "      <td>-0.211506</td>\n",
       "      <td>NaN</td>\n",
       "      <td>NaN</td>\n",
       "      <td>-2.0</td>\n",
       "      <td>NaN</td>\n",
       "      <td>-0.015959</td>\n",
       "    </tr>\n",
       "    <tr>\n",
       "      <th>4</th>\n",
       "      <td>26</td>\n",
       "      <td>0</td>\n",
       "      <td>0.176693</td>\n",
       "      <td>-0.025284</td>\n",
       "      <td>-0.057680</td>\n",
       "      <td>0.015100</td>\n",
       "      <td>0.180894</td>\n",
       "      <td>0.139445</td>\n",
       "      <td>-0.125687</td>\n",
       "      <td>-0.018707</td>\n",
       "      <td>...</td>\n",
       "      <td>0.630232</td>\n",
       "      <td>NaN</td>\n",
       "      <td>NaN</td>\n",
       "      <td>NaN</td>\n",
       "      <td>-0.001957</td>\n",
       "      <td>NaN</td>\n",
       "      <td>NaN</td>\n",
       "      <td>0.0</td>\n",
       "      <td>NaN</td>\n",
       "      <td>-0.007338</td>\n",
       "    </tr>\n",
       "  </tbody>\n",
       "</table>\n",
       "<p>5 rows × 111 columns</p>\n",
       "</div>"
      ],
      "text/plain": [
       "   id  timestamp  derived_0  derived_1  derived_2  derived_3  derived_4  \\\n",
       "0  10          0   0.370326  -0.006316   0.222831  -0.213030   0.729277   \n",
       "1  11          0   0.014765  -0.038064  -0.017425   0.320652  -0.034134   \n",
       "2  12          0  -0.010622  -0.050577   3.379575  -0.157525  -0.068550   \n",
       "3  25          0        NaN        NaN        NaN        NaN        NaN   \n",
       "4  26          0   0.176693  -0.025284  -0.057680   0.015100   0.180894   \n",
       "\n",
       "   fundamental_0  fundamental_1  fundamental_2    ...     technical_36  \\\n",
       "0      -0.335633       0.113292       1.621238    ...         0.775208   \n",
       "1       0.004413       0.114285      -0.210185    ...         0.025590   \n",
       "2      -0.155937       1.219439      -0.764516    ...         0.151881   \n",
       "3       0.178495            NaN      -0.007262    ...         1.035936   \n",
       "4       0.139445      -0.125687      -0.018707    ...         0.630232   \n",
       "\n",
       "   technical_37  technical_38  technical_39  technical_40  technical_41  \\\n",
       "0           NaN           NaN           NaN     -0.414776           NaN   \n",
       "1           NaN           NaN           NaN     -0.273607           NaN   \n",
       "2           NaN           NaN           NaN     -0.175710           NaN   \n",
       "3           NaN           NaN           NaN     -0.211506           NaN   \n",
       "4           NaN           NaN           NaN     -0.001957           NaN   \n",
       "\n",
       "   technical_42  technical_43  technical_44         y  \n",
       "0           NaN          -2.0           NaN -0.011753  \n",
       "1           NaN          -2.0           NaN -0.001240  \n",
       "2           NaN          -2.0           NaN -0.020940  \n",
       "3           NaN          -2.0           NaN -0.015959  \n",
       "4           NaN           0.0           NaN -0.007338  \n",
       "\n",
       "[5 rows x 111 columns]"
      ]
     },
     "execution_count": 5,
     "metadata": {},
     "output_type": "execute_result"
    }
   ],
   "source": [
    "train.head()"
   ]
  },
  {
   "cell_type": "code",
   "execution_count": 5,
   "metadata": {
    "collapsed": true
   },
   "outputs": [],
   "source": [
    "gp_t22 = train.groupby('technical_22')"
   ]
  },
  {
   "cell_type": "code",
   "execution_count": 7,
   "metadata": {
    "collapsed": false
   },
   "outputs": [
    {
     "data": {
      "text/html": [
       "<div>\n",
       "<table border=\"1\" class=\"dataframe\">\n",
       "  <thead>\n",
       "    <tr style=\"text-align: right;\">\n",
       "      <th></th>\n",
       "      <th>id</th>\n",
       "      <th>timestamp</th>\n",
       "      <th>derived_0</th>\n",
       "      <th>derived_1</th>\n",
       "      <th>derived_2</th>\n",
       "      <th>derived_3</th>\n",
       "      <th>derived_4</th>\n",
       "      <th>fundamental_0</th>\n",
       "      <th>fundamental_1</th>\n",
       "      <th>fundamental_2</th>\n",
       "      <th>...</th>\n",
       "      <th>technical_36</th>\n",
       "      <th>technical_37</th>\n",
       "      <th>technical_38</th>\n",
       "      <th>technical_39</th>\n",
       "      <th>technical_40</th>\n",
       "      <th>technical_41</th>\n",
       "      <th>technical_42</th>\n",
       "      <th>technical_43</th>\n",
       "      <th>technical_44</th>\n",
       "      <th>y</th>\n",
       "    </tr>\n",
       "    <tr>\n",
       "      <th>technical_22</th>\n",
       "      <th></th>\n",
       "      <th></th>\n",
       "      <th></th>\n",
       "      <th></th>\n",
       "      <th></th>\n",
       "      <th></th>\n",
       "      <th></th>\n",
       "      <th></th>\n",
       "      <th></th>\n",
       "      <th></th>\n",
       "      <th></th>\n",
       "      <th></th>\n",
       "      <th></th>\n",
       "      <th></th>\n",
       "      <th></th>\n",
       "      <th></th>\n",
       "      <th></th>\n",
       "      <th></th>\n",
       "      <th></th>\n",
       "      <th></th>\n",
       "      <th></th>\n",
       "    </tr>\n",
       "  </thead>\n",
       "  <tbody>\n",
       "    <tr>\n",
       "      <th>-0.5</th>\n",
       "      <td>1084.283674</td>\n",
       "      <td>942.896091</td>\n",
       "      <td>0.212794</td>\n",
       "      <td>8.495288e+10</td>\n",
       "      <td>-0.230547</td>\n",
       "      <td>-0.018741</td>\n",
       "      <td>0.016451</td>\n",
       "      <td>-0.078311</td>\n",
       "      <td>-2.221473e+06</td>\n",
       "      <td>0.032147</td>\n",
       "      <td>...</td>\n",
       "      <td>-0.017801</td>\n",
       "      <td>-0.090672</td>\n",
       "      <td>-0.090554</td>\n",
       "      <td>-0.076976</td>\n",
       "      <td>-0.153452</td>\n",
       "      <td>0.004293</td>\n",
       "      <td>-0.026118</td>\n",
       "      <td>-0.825820</td>\n",
       "      <td>-0.000074</td>\n",
       "      <td>0.000252</td>\n",
       "    </tr>\n",
       "    <tr>\n",
       "      <th>0.0</th>\n",
       "      <td>1100.609701</td>\n",
       "      <td>947.949630</td>\n",
       "      <td>0.237597</td>\n",
       "      <td>1.282540e+12</td>\n",
       "      <td>0.088750</td>\n",
       "      <td>-0.286017</td>\n",
       "      <td>0.934772</td>\n",
       "      <td>-0.015374</td>\n",
       "      <td>-1.028749e+09</td>\n",
       "      <td>-0.032725</td>\n",
       "      <td>...</td>\n",
       "      <td>-0.036243</td>\n",
       "      <td>-0.094872</td>\n",
       "      <td>-0.081667</td>\n",
       "      <td>-0.074956</td>\n",
       "      <td>-0.002533</td>\n",
       "      <td>0.005093</td>\n",
       "      <td>-0.019153</td>\n",
       "      <td>-0.924458</td>\n",
       "      <td>0.000252</td>\n",
       "      <td>0.000220</td>\n",
       "    </tr>\n",
       "    <tr>\n",
       "      <th>0.5</th>\n",
       "      <td>1096.854701</td>\n",
       "      <td>946.074580</td>\n",
       "      <td>-13.691469</td>\n",
       "      <td>8.519691e+11</td>\n",
       "      <td>-0.613694</td>\n",
       "      <td>-1.092332</td>\n",
       "      <td>40.914593</td>\n",
       "      <td>0.033220</td>\n",
       "      <td>-1.005064e-02</td>\n",
       "      <td>-0.407628</td>\n",
       "      <td>...</td>\n",
       "      <td>-0.206295</td>\n",
       "      <td>-0.084554</td>\n",
       "      <td>-0.069560</td>\n",
       "      <td>-0.064019</td>\n",
       "      <td>0.309784</td>\n",
       "      <td>0.005949</td>\n",
       "      <td>-0.004824</td>\n",
       "      <td>-1.172962</td>\n",
       "      <td>0.000844</td>\n",
       "      <td>0.000193</td>\n",
       "    </tr>\n",
       "  </tbody>\n",
       "</table>\n",
       "<p>3 rows × 110 columns</p>\n",
       "</div>"
      ],
      "text/plain": [
       "                       id   timestamp  derived_0     derived_1  derived_2  \\\n",
       "technical_22                                                                \n",
       "-0.5          1084.283674  942.896091   0.212794  8.495288e+10  -0.230547   \n",
       " 0.0          1100.609701  947.949630   0.237597  1.282540e+12   0.088750   \n",
       " 0.5          1096.854701  946.074580 -13.691469  8.519691e+11  -0.613694   \n",
       "\n",
       "              derived_3  derived_4  fundamental_0  fundamental_1  \\\n",
       "technical_22                                                       \n",
       "-0.5          -0.018741   0.016451      -0.078311  -2.221473e+06   \n",
       " 0.0          -0.286017   0.934772      -0.015374  -1.028749e+09   \n",
       " 0.5          -1.092332  40.914593       0.033220  -1.005064e-02   \n",
       "\n",
       "              fundamental_2    ...     technical_36  technical_37  \\\n",
       "technical_22                   ...                                  \n",
       "-0.5               0.032147    ...        -0.017801     -0.090672   \n",
       " 0.0              -0.032725    ...        -0.036243     -0.094872   \n",
       " 0.5              -0.407628    ...        -0.206295     -0.084554   \n",
       "\n",
       "              technical_38  technical_39  technical_40  technical_41  \\\n",
       "technical_22                                                           \n",
       "-0.5             -0.090554     -0.076976     -0.153452      0.004293   \n",
       " 0.0             -0.081667     -0.074956     -0.002533      0.005093   \n",
       " 0.5             -0.069560     -0.064019      0.309784      0.005949   \n",
       "\n",
       "              technical_42  technical_43  technical_44         y  \n",
       "technical_22                                                      \n",
       "-0.5             -0.026118     -0.825820     -0.000074  0.000252  \n",
       " 0.0             -0.019153     -0.924458      0.000252  0.000220  \n",
       " 0.5             -0.004824     -1.172962      0.000844  0.000193  \n",
       "\n",
       "[3 rows x 110 columns]"
      ]
     },
     "execution_count": 7,
     "metadata": {},
     "output_type": "execute_result"
    }
   ],
   "source": [
    "gp_t22.mean()"
   ]
  },
  {
   "cell_type": "code",
   "execution_count": 10,
   "metadata": {
    "collapsed": false
   },
   "outputs": [
    {
     "data": {
      "text/html": [
       "<div>\n",
       "<table border=\"1\" class=\"dataframe\">\n",
       "  <thead>\n",
       "    <tr style=\"text-align: right;\">\n",
       "      <th></th>\n",
       "      <th>id</th>\n",
       "      <th>timestamp</th>\n",
       "      <th>derived_0</th>\n",
       "      <th>derived_1</th>\n",
       "      <th>derived_2</th>\n",
       "      <th>derived_3</th>\n",
       "      <th>derived_4</th>\n",
       "      <th>fundamental_0</th>\n",
       "      <th>fundamental_1</th>\n",
       "      <th>fundamental_2</th>\n",
       "      <th>...</th>\n",
       "      <th>technical_36</th>\n",
       "      <th>technical_37</th>\n",
       "      <th>technical_38</th>\n",
       "      <th>technical_39</th>\n",
       "      <th>technical_40</th>\n",
       "      <th>technical_41</th>\n",
       "      <th>technical_42</th>\n",
       "      <th>technical_43</th>\n",
       "      <th>technical_44</th>\n",
       "      <th>y</th>\n",
       "    </tr>\n",
       "    <tr>\n",
       "      <th>technical_22</th>\n",
       "      <th></th>\n",
       "      <th></th>\n",
       "      <th></th>\n",
       "      <th></th>\n",
       "      <th></th>\n",
       "      <th></th>\n",
       "      <th></th>\n",
       "      <th></th>\n",
       "      <th></th>\n",
       "      <th></th>\n",
       "      <th></th>\n",
       "      <th></th>\n",
       "      <th></th>\n",
       "      <th></th>\n",
       "      <th></th>\n",
       "      <th></th>\n",
       "      <th></th>\n",
       "      <th></th>\n",
       "      <th></th>\n",
       "      <th></th>\n",
       "      <th></th>\n",
       "    </tr>\n",
       "  </thead>\n",
       "  <tbody>\n",
       "    <tr>\n",
       "      <th>-0.5</th>\n",
       "      <td>645.628554</td>\n",
       "      <td>519.521150</td>\n",
       "      <td>10.890799</td>\n",
       "      <td>1.838422e+13</td>\n",
       "      <td>28.879731</td>\n",
       "      <td>18.431871</td>\n",
       "      <td>0.634549</td>\n",
       "      <td>0.219565</td>\n",
       "      <td>4.342770e+08</td>\n",
       "      <td>0.952671</td>\n",
       "      <td>...</td>\n",
       "      <td>0.312316</td>\n",
       "      <td>0.239298</td>\n",
       "      <td>0.240534</td>\n",
       "      <td>0.223088</td>\n",
       "      <td>0.139860</td>\n",
       "      <td>0.111728</td>\n",
       "      <td>0.223019</td>\n",
       "      <td>0.942196</td>\n",
       "      <td>0.028609</td>\n",
       "      <td>0.013988</td>\n",
       "    </tr>\n",
       "    <tr>\n",
       "      <th>0.0</th>\n",
       "      <td>624.809010</td>\n",
       "      <td>519.917191</td>\n",
       "      <td>38.554620</td>\n",
       "      <td>1.051663e+14</td>\n",
       "      <td>15.410796</td>\n",
       "      <td>26.497681</td>\n",
       "      <td>76.719482</td>\n",
       "      <td>0.242425</td>\n",
       "      <td>1.008650e+11</td>\n",
       "      <td>2.247143</td>\n",
       "      <td>...</td>\n",
       "      <td>0.486310</td>\n",
       "      <td>0.252411</td>\n",
       "      <td>0.232611</td>\n",
       "      <td>0.225773</td>\n",
       "      <td>0.188392</td>\n",
       "      <td>0.112151</td>\n",
       "      <td>0.204420</td>\n",
       "      <td>0.956095</td>\n",
       "      <td>0.027877</td>\n",
       "      <td>0.019465</td>\n",
       "    </tr>\n",
       "    <tr>\n",
       "      <th>0.5</th>\n",
       "      <td>621.395693</td>\n",
       "      <td>519.250842</td>\n",
       "      <td>424.450509</td>\n",
       "      <td>7.255277e+13</td>\n",
       "      <td>93.986218</td>\n",
       "      <td>167.042952</td>\n",
       "      <td>1408.642121</td>\n",
       "      <td>0.267388</td>\n",
       "      <td>5.419305e+00</td>\n",
       "      <td>5.110052</td>\n",
       "      <td>...</td>\n",
       "      <td>0.883191</td>\n",
       "      <td>0.247589</td>\n",
       "      <td>0.222450</td>\n",
       "      <td>0.216348</td>\n",
       "      <td>0.352445</td>\n",
       "      <td>0.112023</td>\n",
       "      <td>0.203857</td>\n",
       "      <td>0.952916</td>\n",
       "      <td>0.027391</td>\n",
       "      <td>0.030737</td>\n",
       "    </tr>\n",
       "  </tbody>\n",
       "</table>\n",
       "<p>3 rows × 110 columns</p>\n",
       "</div>"
      ],
      "text/plain": [
       "                      id   timestamp   derived_0     derived_1  derived_2  \\\n",
       "technical_22                                                                \n",
       "-0.5          645.628554  519.521150   10.890799  1.838422e+13  28.879731   \n",
       " 0.0          624.809010  519.917191   38.554620  1.051663e+14  15.410796   \n",
       " 0.5          621.395693  519.250842  424.450509  7.255277e+13  93.986218   \n",
       "\n",
       "               derived_3    derived_4  fundamental_0  fundamental_1  \\\n",
       "technical_22                                                          \n",
       "-0.5           18.431871     0.634549       0.219565   4.342770e+08   \n",
       " 0.0           26.497681    76.719482       0.242425   1.008650e+11   \n",
       " 0.5          167.042952  1408.642121       0.267388   5.419305e+00   \n",
       "\n",
       "              fundamental_2    ...     technical_36  technical_37  \\\n",
       "technical_22                   ...                                  \n",
       "-0.5               0.952671    ...         0.312316      0.239298   \n",
       " 0.0               2.247143    ...         0.486310      0.252411   \n",
       " 0.5               5.110052    ...         0.883191      0.247589   \n",
       "\n",
       "              technical_38  technical_39  technical_40  technical_41  \\\n",
       "technical_22                                                           \n",
       "-0.5              0.240534      0.223088      0.139860      0.111728   \n",
       " 0.0              0.232611      0.225773      0.188392      0.112151   \n",
       " 0.5              0.222450      0.216348      0.352445      0.112023   \n",
       "\n",
       "              technical_42  technical_43  technical_44         y  \n",
       "technical_22                                                      \n",
       "-0.5              0.223019      0.942196      0.028609  0.013988  \n",
       " 0.0              0.204420      0.956095      0.027877  0.019465  \n",
       " 0.5              0.203857      0.952916      0.027391  0.030737  \n",
       "\n",
       "[3 rows x 110 columns]"
      ]
     },
     "execution_count": 10,
     "metadata": {},
     "output_type": "execute_result"
    }
   ],
   "source": [
    "gp_t22.std()"
   ]
  },
  {
   "cell_type": "markdown",
   "metadata": {},
   "source": [
    "# Let's see how many category features "
   ]
  },
  {
   "cell_type": "code",
   "execution_count": 15,
   "metadata": {
    "collapsed": false
   },
   "outputs": [
    {
     "name": "stdout",
     "output_type": "stream",
     "text": [
      "derived_0\n",
      "derived_1\n",
      "derived_2\n",
      "derived_3\n",
      "derived_4\n",
      "fundamental_0\n",
      "fundamental_1\n",
      "fundamental_2\n",
      "fundamental_3\n",
      "fundamental_5\n",
      "fundamental_6\n",
      "fundamental_7\n",
      "fundamental_8\n",
      "fundamental_9\n",
      "fundamental_10\n",
      "fundamental_11\n",
      "fundamental_12\n",
      "fundamental_13\n",
      "fundamental_14\n",
      "fundamental_15\n",
      "fundamental_16\n",
      "fundamental_17\n",
      "fundamental_18\n",
      "fundamental_19\n",
      "fundamental_20\n",
      "fundamental_21\n",
      "fundamental_22\n",
      "fundamental_23\n",
      "fundamental_24\n",
      "fundamental_25\n",
      "fundamental_26\n",
      "fundamental_27\n",
      "fundamental_28\n",
      "fundamental_29\n",
      "fundamental_30\n",
      "fundamental_31\n",
      "fundamental_32\n",
      "fundamental_33\n",
      "fundamental_34\n",
      "fundamental_35\n",
      "fundamental_36\n",
      "fundamental_37\n",
      "fundamental_38\n",
      "fundamental_39\n",
      "fundamental_40\n",
      "fundamental_41\n",
      "fundamental_42\n",
      "fundamental_43\n",
      "fundamental_44\n",
      "fundamental_45\n",
      "fundamental_46\n",
      "fundamental_47\n",
      "fundamental_48\n",
      "fundamental_49\n",
      "fundamental_50\n",
      "fundamental_51\n",
      "fundamental_52\n",
      "fundamental_53\n",
      "fundamental_54\n",
      "fundamental_55\n",
      "fundamental_56\n",
      "fundamental_57\n",
      "fundamental_58\n",
      "fundamental_59\n",
      "fundamental_60\n",
      "fundamental_61\n",
      "fundamental_62\n",
      "fundamental_63\n",
      "technical_0\n",
      "technical_1\n",
      "technical_2\n",
      "technical_3\n",
      "technical_5\n",
      "technical_6\n",
      "technical_7\n",
      "technical_9\n",
      "technical_10\n",
      "technical_11\n",
      "technical_12\n",
      "technical_13\n",
      "technical_14\n",
      "technical_16\n",
      "technical_17\n",
      "technical_18\n",
      "technical_19\n",
      "technical_20\n",
      "technical_21\n",
      "technical_22\n",
      "technical_24\n",
      "technical_25\n",
      "technical_27\n",
      "technical_28\n",
      "technical_29\n",
      "technical_30\n",
      "technical_31\n",
      "technical_32\n",
      "technical_33\n",
      "technical_34\n",
      "technical_35\n",
      "technical_36\n",
      "technical_37\n",
      "technical_38\n",
      "technical_39\n",
      "technical_40\n",
      "technical_41\n",
      "technical_42\n",
      "technical_43\n",
      "technical_44\n"
     ]
    }
   ],
   "source": [
    "counts = {}\n",
    "for col in origin_features:\n",
    "    counts[col] = len(train[col].unique())"
   ]
  },
  {
   "cell_type": "code",
   "execution_count": 31,
   "metadata": {
    "collapsed": false
   },
   "outputs": [],
   "source": [
    "sorted_counts = twosigmafunc.sort_dict(counts, key=lambda x : x[1], reverse=False)"
   ]
  },
  {
   "cell_type": "code",
   "execution_count": 34,
   "metadata": {
    "collapsed": false
   },
   "outputs": [
    {
     "data": {
      "text/plain": [
       "[('technical_34', 3),\n",
       " ('technical_22', 3),\n",
       " ('technical_10', 3323),\n",
       " ('technical_29', 5641),\n",
       " ('technical_14', 10260),\n",
       " ('technical_43', 26461),\n",
       " ('technical_16', 44113),\n",
       " ('technical_9', 44642),\n",
       " ('technical_18', 71103),\n",
       " ('technical_6', 75358)]"
      ]
     },
     "execution_count": 34,
     "metadata": {},
     "output_type": "execute_result"
    }
   ],
   "source": [
    "sorted_counts[:10]"
   ]
  },
  {
   "cell_type": "markdown",
   "metadata": {},
   "source": [
    "seems only `technical_34` and `technical_22` are category features"
   ]
  },
  {
   "cell_type": "code",
   "execution_count": 4,
   "metadata": {
    "collapsed": true
   },
   "outputs": [],
   "source": [
    "gp_cates = train.groupby(['technical_22', 'technical_34'])"
   ]
  },
  {
   "cell_type": "code",
   "execution_count": 5,
   "metadata": {
    "collapsed": false
   },
   "outputs": [
    {
     "data": {
      "text/html": [
       "<div>\n",
       "<table border=\"1\" class=\"dataframe\">\n",
       "  <thead>\n",
       "    <tr style=\"text-align: right;\">\n",
       "      <th></th>\n",
       "      <th></th>\n",
       "      <th>id</th>\n",
       "      <th>timestamp</th>\n",
       "      <th>derived_0</th>\n",
       "      <th>derived_1</th>\n",
       "      <th>derived_2</th>\n",
       "      <th>derived_3</th>\n",
       "      <th>derived_4</th>\n",
       "      <th>fundamental_0</th>\n",
       "      <th>fundamental_1</th>\n",
       "      <th>fundamental_2</th>\n",
       "      <th>...</th>\n",
       "      <th>technical_36</th>\n",
       "      <th>technical_37</th>\n",
       "      <th>technical_38</th>\n",
       "      <th>technical_39</th>\n",
       "      <th>technical_40</th>\n",
       "      <th>technical_41</th>\n",
       "      <th>technical_42</th>\n",
       "      <th>technical_43</th>\n",
       "      <th>technical_44</th>\n",
       "      <th>y</th>\n",
       "    </tr>\n",
       "    <tr>\n",
       "      <th>technical_22</th>\n",
       "      <th>technical_34</th>\n",
       "      <th></th>\n",
       "      <th></th>\n",
       "      <th></th>\n",
       "      <th></th>\n",
       "      <th></th>\n",
       "      <th></th>\n",
       "      <th></th>\n",
       "      <th></th>\n",
       "      <th></th>\n",
       "      <th></th>\n",
       "      <th></th>\n",
       "      <th></th>\n",
       "      <th></th>\n",
       "      <th></th>\n",
       "      <th></th>\n",
       "      <th></th>\n",
       "      <th></th>\n",
       "      <th></th>\n",
       "      <th></th>\n",
       "      <th></th>\n",
       "      <th></th>\n",
       "    </tr>\n",
       "  </thead>\n",
       "  <tbody>\n",
       "    <tr>\n",
       "      <th rowspan=\"3\" valign=\"top\">-0.5</th>\n",
       "      <th>-0.5</th>\n",
       "      <td>1127.355425</td>\n",
       "      <td>860.573179</td>\n",
       "      <td>0.545727</td>\n",
       "      <td>2.290590e+11</td>\n",
       "      <td>-0.009731</td>\n",
       "      <td>0.045468</td>\n",
       "      <td>-0.020500</td>\n",
       "      <td>-0.211127</td>\n",
       "      <td>-6.703287e+06</td>\n",
       "      <td>0.078036</td>\n",
       "      <td>...</td>\n",
       "      <td>-0.016320</td>\n",
       "      <td>-0.101642</td>\n",
       "      <td>-0.101068</td>\n",
       "      <td>-0.086080</td>\n",
       "      <td>-0.189163</td>\n",
       "      <td>0.004297</td>\n",
       "      <td>-0.044077</td>\n",
       "      <td>-0.839089</td>\n",
       "      <td>-0.000811</td>\n",
       "      <td>0.000259</td>\n",
       "    </tr>\n",
       "    <tr>\n",
       "      <th>0.0</th>\n",
       "      <td>1083.027118</td>\n",
       "      <td>968.653750</td>\n",
       "      <td>0.014406</td>\n",
       "      <td>2.746714e-01</td>\n",
       "      <td>-1.252684</td>\n",
       "      <td>0.049385</td>\n",
       "      <td>0.023585</td>\n",
       "      <td>-0.076532</td>\n",
       "      <td>-2.533412e+05</td>\n",
       "      <td>0.085722</td>\n",
       "      <td>...</td>\n",
       "      <td>-0.006407</td>\n",
       "      <td>-0.098429</td>\n",
       "      <td>-0.091693</td>\n",
       "      <td>-0.082463</td>\n",
       "      <td>-0.145234</td>\n",
       "      <td>0.005470</td>\n",
       "      <td>-0.022914</td>\n",
       "      <td>-0.818600</td>\n",
       "      <td>0.000760</td>\n",
       "      <td>0.000255</td>\n",
       "    </tr>\n",
       "    <tr>\n",
       "      <th>0.5</th>\n",
       "      <td>1033.128649</td>\n",
       "      <td>1018.287231</td>\n",
       "      <td>0.015719</td>\n",
       "      <td>6.109132e-02</td>\n",
       "      <td>0.135808</td>\n",
       "      <td>-0.161633</td>\n",
       "      <td>0.047893</td>\n",
       "      <td>0.074045</td>\n",
       "      <td>1.956524e-01</td>\n",
       "      <td>0.029041</td>\n",
       "      <td>...</td>\n",
       "      <td>-0.030254</td>\n",
       "      <td>-0.072998</td>\n",
       "      <td>-0.079753</td>\n",
       "      <td>-0.063284</td>\n",
       "      <td>-0.118341</td>\n",
       "      <td>0.003448</td>\n",
       "      <td>-0.008374</td>\n",
       "      <td>-0.817128</td>\n",
       "      <td>-0.000097</td>\n",
       "      <td>0.000241</td>\n",
       "    </tr>\n",
       "    <tr>\n",
       "      <th rowspan=\"2\" valign=\"top\">0.0</th>\n",
       "      <th>-0.5</th>\n",
       "      <td>1063.278103</td>\n",
       "      <td>968.133330</td>\n",
       "      <td>0.202264</td>\n",
       "      <td>4.448216e+12</td>\n",
       "      <td>0.044041</td>\n",
       "      <td>-0.416674</td>\n",
       "      <td>1.942694</td>\n",
       "      <td>-0.139056</td>\n",
       "      <td>-5.746534e+09</td>\n",
       "      <td>-0.088694</td>\n",
       "      <td>...</td>\n",
       "      <td>-0.106677</td>\n",
       "      <td>-0.116783</td>\n",
       "      <td>-0.086224</td>\n",
       "      <td>-0.090996</td>\n",
       "      <td>-0.025983</td>\n",
       "      <td>0.006536</td>\n",
       "      <td>-0.039513</td>\n",
       "      <td>-1.046430</td>\n",
       "      <td>-0.000383</td>\n",
       "      <td>0.000221</td>\n",
       "    </tr>\n",
       "    <tr>\n",
       "      <th>0.0</th>\n",
       "      <td>1151.045387</td>\n",
       "      <td>941.829200</td>\n",
       "      <td>0.547492</td>\n",
       "      <td>1.090023e+00</td>\n",
       "      <td>0.152190</td>\n",
       "      <td>-0.261556</td>\n",
       "      <td>1.565129</td>\n",
       "      <td>-0.035375</td>\n",
       "      <td>4.187698e-02</td>\n",
       "      <td>-0.018904</td>\n",
       "      <td>...</td>\n",
       "      <td>0.008197</td>\n",
       "      <td>-0.091531</td>\n",
       "      <td>-0.087089</td>\n",
       "      <td>-0.076603</td>\n",
       "      <td>-0.013048</td>\n",
       "      <td>0.005087</td>\n",
       "      <td>-0.014491</td>\n",
       "      <td>-0.864735</td>\n",
       "      <td>0.000343</td>\n",
       "      <td>0.000226</td>\n",
       "    </tr>\n",
       "  </tbody>\n",
       "</table>\n",
       "<p>5 rows × 109 columns</p>\n",
       "</div>"
      ],
      "text/plain": [
       "                                    id    timestamp  derived_0     derived_1  \\\n",
       "technical_22 technical_34                                                      \n",
       "-0.5         -0.5          1127.355425   860.573179   0.545727  2.290590e+11   \n",
       "              0.0          1083.027118   968.653750   0.014406  2.746714e-01   \n",
       "              0.5          1033.128649  1018.287231   0.015719  6.109132e-02   \n",
       " 0.0         -0.5          1063.278103   968.133330   0.202264  4.448216e+12   \n",
       "              0.0          1151.045387   941.829200   0.547492  1.090023e+00   \n",
       "\n",
       "                           derived_2  derived_3  derived_4  fundamental_0  \\\n",
       "technical_22 technical_34                                                   \n",
       "-0.5         -0.5          -0.009731   0.045468  -0.020500      -0.211127   \n",
       "              0.0          -1.252684   0.049385   0.023585      -0.076532   \n",
       "              0.5           0.135808  -0.161633   0.047893       0.074045   \n",
       " 0.0         -0.5           0.044041  -0.416674   1.942694      -0.139056   \n",
       "              0.0           0.152190  -0.261556   1.565129      -0.035375   \n",
       "\n",
       "                           fundamental_1  fundamental_2    ...     \\\n",
       "technical_22 technical_34                                  ...      \n",
       "-0.5         -0.5          -6.703287e+06       0.078036    ...      \n",
       "              0.0          -2.533412e+05       0.085722    ...      \n",
       "              0.5           1.956524e-01       0.029041    ...      \n",
       " 0.0         -0.5          -5.746534e+09      -0.088694    ...      \n",
       "              0.0           4.187698e-02      -0.018904    ...      \n",
       "\n",
       "                           technical_36  technical_37  technical_38  \\\n",
       "technical_22 technical_34                                             \n",
       "-0.5         -0.5             -0.016320     -0.101642     -0.101068   \n",
       "              0.0             -0.006407     -0.098429     -0.091693   \n",
       "              0.5             -0.030254     -0.072998     -0.079753   \n",
       " 0.0         -0.5             -0.106677     -0.116783     -0.086224   \n",
       "              0.0              0.008197     -0.091531     -0.087089   \n",
       "\n",
       "                           technical_39  technical_40  technical_41  \\\n",
       "technical_22 technical_34                                             \n",
       "-0.5         -0.5             -0.086080     -0.189163      0.004297   \n",
       "              0.0             -0.082463     -0.145234      0.005470   \n",
       "              0.5             -0.063284     -0.118341      0.003448   \n",
       " 0.0         -0.5             -0.090996     -0.025983      0.006536   \n",
       "              0.0             -0.076603     -0.013048      0.005087   \n",
       "\n",
       "                           technical_42  technical_43  technical_44         y  \n",
       "technical_22 technical_34                                                      \n",
       "-0.5         -0.5             -0.044077     -0.839089     -0.000811  0.000259  \n",
       "              0.0             -0.022914     -0.818600      0.000760  0.000255  \n",
       "              0.5             -0.008374     -0.817128     -0.000097  0.000241  \n",
       " 0.0         -0.5             -0.039513     -1.046430     -0.000383  0.000221  \n",
       "              0.0             -0.014491     -0.864735      0.000343  0.000226  \n",
       "\n",
       "[5 rows x 109 columns]"
      ]
     },
     "execution_count": 5,
     "metadata": {},
     "output_type": "execute_result"
    }
   ],
   "source": [
    "gp_cates.mean()"
   ]
  },
  {
   "cell_type": "markdown",
   "metadata": {},
   "source": [
    "# Linear Corref in different groups "
   ]
  },
  {
   "cell_type": "code",
   "execution_count": 6,
   "metadata": {
    "collapsed": false
   },
   "outputs": [
    {
     "name": "stderr",
     "output_type": "stream",
     "text": [
      "/usr/local/lib/python3.4/site-packages/numpy/lib/function_base.py:3003: RuntimeWarning: invalid value encountered in true_divide\n",
      "  c /= stddev[:, None]\n",
      "/usr/local/lib/python3.4/site-packages/numpy/lib/function_base.py:3004: RuntimeWarning: invalid value encountered in true_divide\n",
      "  c /= stddev[None, :]\n"
     ]
    },
    {
     "name": "stdout",
     "output_type": "stream",
     "text": [
      "processing -0.5 -0.5\n",
      "processing -0.5 0\n",
      "processing -0.5 0.5\n",
      "processing 0 -0.5\n",
      "processing 0 0\n",
      "processing 0 0.5\n",
      "processing 0.5 -0.5\n",
      "processing 0.5 0\n",
      "processing 0.5 0.5\n"
     ]
    }
   ],
   "source": [
    "values = [-0.5, 0, 0.5]\n",
    "corref = {}\n",
    "for t22_value in values:\n",
    "    for t34_value in values:\n",
    "        x = train.loc[(train.technical_22 == t22_value) & (train.technical_34 == t34_value)]\n",
    "        corref[(t22_value, t34_value)] = twosigmafunc.feature_corref(x, 'y', origin_features)\n",
    "        print('processing', t22_value, t34_value)"
   ]
  },
  {
   "cell_type": "code",
   "execution_count": 7,
   "metadata": {
    "collapsed": false
   },
   "outputs": [
    {
     "name": "stdout",
     "output_type": "stream",
     "text": [
      "(0.5, -0.5)\n",
      "[('fundamental_14', -0.0088358897004402158), ('fundamental_23', -0.0087673106250023194)]\n",
      "(0.5, 0)\n",
      "[('fundamental_51', 0.011901245177861104), ('derived_4', 0.0074380590633454239)]\n",
      "(0, -0.5)\n",
      "[('technical_20', -0.020661451132074474), ('technical_14', -0.0069656369913574587)]\n",
      "(0, 0.5)\n",
      "[('fundamental_2', 0.0076004432572126272), ('technical_30', 0.031828576173331465)]\n",
      "(0, 0)\n",
      "[('technical_20', -0.018375491495355476), ('technical_30', 0.012091473483376011)]\n",
      "(-0.5, 0)\n",
      "[('technical_20', -0.023838571297583232), ('technical_14', -0.0069090630788274012)]\n",
      "(-0.5, -0.5)\n",
      "[('technical_20', -0.026938698396285009), ('technical_30', 0.016293959725609947)]\n",
      "(0.5, 0.5)\n",
      "[('technical_30', 0.024695513679455283), ('technical_20', -0.022300057631401301)]\n",
      "(-0.5, 0.5)\n",
      "[('fundamental_2', 0.0097173480804507543), ('technical_30', 0.031298077922583517)]\n"
     ]
    }
   ],
   "source": [
    "features_groups = {}\n",
    "for key in corref.keys():\n",
    "    print(key)\n",
    "    best_features = [col for col in corref[key][:5] if col[0] not in ['technical_22', 'technical_34']][:2]\n",
    "    features_groups[key] = [best_features[0][0], best_features[1][0]]\n",
    "    print(best_features)"
   ]
  },
  {
   "cell_type": "code",
   "execution_count": 8,
   "metadata": {
    "collapsed": false
   },
   "outputs": [
    {
     "data": {
      "text/plain": [
       "{(-0.5, -0.5): ['technical_20', 'technical_30'],\n",
       " (-0.5, 0): ['technical_20', 'technical_14'],\n",
       " (-0.5, 0.5): ['fundamental_2', 'technical_30'],\n",
       " (0, -0.5): ['technical_20', 'technical_14'],\n",
       " (0, 0): ['technical_20', 'technical_30'],\n",
       " (0, 0.5): ['fundamental_2', 'technical_30'],\n",
       " (0.5, -0.5): ['fundamental_14', 'fundamental_23'],\n",
       " (0.5, 0): ['fundamental_51', 'derived_4'],\n",
       " (0.5, 0.5): ['technical_30', 'technical_20']}"
      ]
     },
     "execution_count": 8,
     "metadata": {},
     "output_type": "execute_result"
    }
   ],
   "source": [
    "features_groups"
   ]
  },
  {
   "cell_type": "code",
   "execution_count": 20,
   "metadata": {
    "collapsed": false
   },
   "outputs": [],
   "source": [
    "lr_features = []\n",
    "for col in features_groups.values():\n",
    "    lr_features.extend(col)"
   ]
  },
  {
   "cell_type": "code",
   "execution_count": 22,
   "metadata": {
    "collapsed": false
   },
   "outputs": [],
   "source": [
    "lr_features = list(set(lr_features))"
   ]
  },
  {
   "cell_type": "code",
   "execution_count": 23,
   "metadata": {
    "collapsed": false
   },
   "outputs": [
    {
     "data": {
      "text/plain": [
       "['derived_4',\n",
       " 'technical_14',\n",
       " 'fundamental_2',\n",
       " 'technical_30',\n",
       " 'fundamental_14',\n",
       " 'fundamental_23',\n",
       " 'fundamental_51',\n",
       " 'technical_20']"
      ]
     },
     "execution_count": 23,
     "metadata": {},
     "output_type": "execute_result"
    }
   ],
   "source": [
    "lr_features"
   ]
  },
  {
   "cell_type": "markdown",
   "metadata": {},
   "source": [
    "# Train those linear_models "
   ]
  },
  {
   "cell_type": "code",
   "execution_count": 9,
   "metadata": {
    "collapsed": true
   },
   "outputs": [],
   "source": [
    "t22_dummy = pd.get_dummies(train.technical_22, prefix='t22')\n",
    "train = pd.concat([train, t22_dummy], axis=1)\n",
    "t34_dummy = pd.get_dummies(train.technical_34, prefix='t34')\n",
    "train = pd.concat([train, t34_dummy], axis=1)\n",
    "train.drop(['t22_0.5', 't34_0.5'], axis=1, inplace=True)"
   ]
  },
  {
   "cell_type": "code",
   "execution_count": 24,
   "metadata": {
    "collapsed": true
   },
   "outputs": [],
   "source": [
    "X_train, y_train, X_test, y_test = twosigmafunc.split_data(train,  ['t22_0.0', 't34_0.0', 't22_-0.5', 't34_-0.5', \n",
    "                                                                    'timestamp', 'technical_22', 'technical_34'] + lr_features)"
   ]
  },
  {
   "cell_type": "code",
   "execution_count": 11,
   "metadata": {
    "collapsed": true
   },
   "outputs": [],
   "source": [
    "low_y_cut = -0.075\n",
    "high_y_cut = 0.075\n",
    "y_is_above_cut = (y_train > high_y_cut)\n",
    "y_is_below_cut = (y_train < low_y_cut)\n",
    "y_is_within_cut = (~y_is_above_cut & ~y_is_below_cut)"
   ]
  },
  {
   "cell_type": "code",
   "execution_count": 18,
   "metadata": {
    "collapsed": false
   },
   "outputs": [
    {
     "data": {
      "text/html": [
       "<div>\n",
       "<table border=\"1\" class=\"dataframe\">\n",
       "  <thead>\n",
       "    <tr style=\"text-align: right;\">\n",
       "      <th></th>\n",
       "      <th>technical_20</th>\n",
       "      <th>technical_12</th>\n",
       "      <th>technical_30</th>\n",
       "      <th>technical_27</th>\n",
       "      <th>technical_35</th>\n",
       "      <th>fundamental_53</th>\n",
       "      <th>fundamental_14</th>\n",
       "      <th>fundamental_11</th>\n",
       "      <th>t22_0.0</th>\n",
       "      <th>t34_0.0</th>\n",
       "      <th>t22_-0.5</th>\n",
       "      <th>t34_-0.5</th>\n",
       "      <th>fundamental_18</th>\n",
       "      <th>timestamp</th>\n",
       "      <th>technical_22</th>\n",
       "      <th>technical_34</th>\n",
       "      <th>(-0.5, -0.5)</th>\n",
       "      <th>(0.5, 0.5)</th>\n",
       "    </tr>\n",
       "  </thead>\n",
       "  <tbody>\n",
       "    <tr>\n",
       "      <th>0</th>\n",
       "      <td>0.000000</td>\n",
       "      <td>-0.000058</td>\n",
       "      <td>0.0</td>\n",
       "      <td>1.427469</td>\n",
       "      <td>0.937880</td>\n",
       "      <td>0.208402</td>\n",
       "      <td>-0.055747</td>\n",
       "      <td>1.412742</td>\n",
       "      <td>1</td>\n",
       "      <td>1</td>\n",
       "      <td>0</td>\n",
       "      <td>0</td>\n",
       "      <td>0.404180</td>\n",
       "      <td>0</td>\n",
       "      <td>0.0</td>\n",
       "      <td>0.0</td>\n",
       "      <td>0.000373</td>\n",
       "      <td>0.000078</td>\n",
       "    </tr>\n",
       "    <tr>\n",
       "      <th>1</th>\n",
       "      <td>0.000000</td>\n",
       "      <td>-0.000058</td>\n",
       "      <td>0.0</td>\n",
       "      <td>0.154613</td>\n",
       "      <td>0.232154</td>\n",
       "      <td>-0.281368</td>\n",
       "      <td>-0.034664</td>\n",
       "      <td>-0.202247</td>\n",
       "      <td>0</td>\n",
       "      <td>0</td>\n",
       "      <td>1</td>\n",
       "      <td>0</td>\n",
       "      <td>-0.208746</td>\n",
       "      <td>0</td>\n",
       "      <td>-0.5</td>\n",
       "      <td>0.5</td>\n",
       "      <td>0.000373</td>\n",
       "      <td>0.000078</td>\n",
       "    </tr>\n",
       "    <tr>\n",
       "      <th>2</th>\n",
       "      <td>0.006942</td>\n",
       "      <td>-0.000058</td>\n",
       "      <td>0.0</td>\n",
       "      <td>0.378332</td>\n",
       "      <td>0.372688</td>\n",
       "      <td>-0.026392</td>\n",
       "      <td>-0.031116</td>\n",
       "      <td>-0.899515</td>\n",
       "      <td>0</td>\n",
       "      <td>0</td>\n",
       "      <td>1</td>\n",
       "      <td>1</td>\n",
       "      <td>0.077977</td>\n",
       "      <td>0</td>\n",
       "      <td>-0.5</td>\n",
       "      <td>-0.5</td>\n",
       "      <td>-0.000835</td>\n",
       "      <td>-0.000537</td>\n",
       "    </tr>\n",
       "    <tr>\n",
       "      <th>3</th>\n",
       "      <td>0.006766</td>\n",
       "      <td>-0.000058</td>\n",
       "      <td>0.0</td>\n",
       "      <td>1.023713</td>\n",
       "      <td>0.751021</td>\n",
       "      <td>0.085835</td>\n",
       "      <td>0.018161</td>\n",
       "      <td>0.019866</td>\n",
       "      <td>1</td>\n",
       "      <td>0</td>\n",
       "      <td>0</td>\n",
       "      <td>1</td>\n",
       "      <td>-0.310245</td>\n",
       "      <td>0</td>\n",
       "      <td>0.0</td>\n",
       "      <td>-0.5</td>\n",
       "      <td>-0.000805</td>\n",
       "      <td>-0.000521</td>\n",
       "    </tr>\n",
       "    <tr>\n",
       "      <th>4</th>\n",
       "      <td>0.006236</td>\n",
       "      <td>-0.000058</td>\n",
       "      <td>0.0</td>\n",
       "      <td>0.741545</td>\n",
       "      <td>0.595206</td>\n",
       "      <td>0.082511</td>\n",
       "      <td>0.139590</td>\n",
       "      <td>-0.167811</td>\n",
       "      <td>0</td>\n",
       "      <td>0</td>\n",
       "      <td>1</td>\n",
       "      <td>0</td>\n",
       "      <td>0.021833</td>\n",
       "      <td>0</td>\n",
       "      <td>-0.5</td>\n",
       "      <td>0.5</td>\n",
       "      <td>-0.000712</td>\n",
       "      <td>-0.000474</td>\n",
       "    </tr>\n",
       "  </tbody>\n",
       "</table>\n",
       "</div>"
      ],
      "text/plain": [
       "   technical_20  technical_12  technical_30  technical_27  technical_35  \\\n",
       "0      0.000000     -0.000058           0.0      1.427469      0.937880   \n",
       "1      0.000000     -0.000058           0.0      0.154613      0.232154   \n",
       "2      0.006942     -0.000058           0.0      0.378332      0.372688   \n",
       "3      0.006766     -0.000058           0.0      1.023713      0.751021   \n",
       "4      0.006236     -0.000058           0.0      0.741545      0.595206   \n",
       "\n",
       "   fundamental_53  fundamental_14  fundamental_11  t22_0.0  t34_0.0  t22_-0.5  \\\n",
       "0        0.208402       -0.055747        1.412742        1        1         0   \n",
       "1       -0.281368       -0.034664       -0.202247        0        0         1   \n",
       "2       -0.026392       -0.031116       -0.899515        0        0         1   \n",
       "3        0.085835        0.018161        0.019866        1        0         0   \n",
       "4        0.082511        0.139590       -0.167811        0        0         1   \n",
       "\n",
       "   t34_-0.5  fundamental_18  timestamp  technical_22  technical_34  \\\n",
       "0         0        0.404180          0           0.0           0.0   \n",
       "1         0       -0.208746          0          -0.5           0.5   \n",
       "2         1        0.077977          0          -0.5          -0.5   \n",
       "3         1       -0.310245          0           0.0          -0.5   \n",
       "4         0        0.021833          0          -0.5           0.5   \n",
       "\n",
       "   (-0.5, -0.5)  (0.5, 0.5)  \n",
       "0      0.000373    0.000078  \n",
       "1      0.000373    0.000078  \n",
       "2     -0.000835   -0.000537  \n",
       "3     -0.000805   -0.000521  \n",
       "4     -0.000712   -0.000474  "
      ]
     },
     "execution_count": 18,
     "metadata": {},
     "output_type": "execute_result"
    }
   ],
   "source": [
    "X_train.head()"
   ]
  },
  {
   "cell_type": "code",
   "execution_count": 30,
   "metadata": {
    "collapsed": true
   },
   "outputs": [],
   "source": [
    "features = twosigmafunc.origin_features(X_train)"
   ]
  },
  {
   "cell_type": "code",
   "execution_count": 26,
   "metadata": {
    "collapsed": false
   },
   "outputs": [
    {
     "name": "stdout",
     "output_type": "stream",
     "text": [
      "(-0.5, -0.5) ['technical_20', 'technical_30']\n",
      "size: 118789\n",
      "(0.5, 0.5) ['technical_30', 'technical_20']\n",
      "size: 98880\n",
      "(0, 0.5) ['fundamental_2', 'technical_30']\n",
      "size: 93331\n",
      "(-0.5, 0) ['technical_20', 'technical_14']\n",
      "size: 79246\n",
      "(0, 0) ['technical_20', 'technical_30']\n",
      "size: 96501\n",
      "(0.5, 0) ['fundamental_51', 'derived_4']\n",
      "size: 89986\n",
      "(0.5, -0.5) ['fundamental_14', 'fundamental_23']\n",
      "size: 75987\n",
      "(-0.5, 0.5) ['fundamental_2', 'technical_30']\n",
      "size: 75284\n",
      "(0, -0.5) ['technical_20', 'technical_14']\n",
      "size: 78294\n"
     ]
    }
   ],
   "source": [
    "from sklearn.linear_model import LinearRegression, Ridge\n",
    "linear_models = []\n",
    "meta_features = []\n",
    "for key, value in features_groups.items():\n",
    "    print(key, value)\n",
    "    t22, t34 = key\n",
    "    ind = X_train.loc[(X_train.technical_22 == t22) & (X_train.technical_34 == t34)].index\n",
    "    \n",
    "    print('size:', len(ind))\n",
    "    meta_name = str(key)\n",
    "    clf = LinearRegression(n_jobs=-1, normalize=True)\n",
    "    clf.fit(X_train.loc[ind, value], y_train.loc[ind])\n",
    "    linear_models.append(clf)\n",
    "    X_train[meta_name] = clf.predict(X_train[value]).clip(low_y_cut, high_y_cut)\n",
    "    X_test[meta_name] = clf.predict(X_test[value]).clip(low_y_cut, high_y_cut)"
   ]
  },
  {
   "cell_type": "markdown",
   "metadata": {},
   "source": [
    "# Let's train stacking model  on linear space"
   ]
  },
  {
   "cell_type": "code",
   "execution_count": 27,
   "metadata": {
    "collapsed": true
   },
   "outputs": [],
   "source": [
    "from sklearn.ensemble import ExtraTreesRegressor"
   ]
  },
  {
   "cell_type": "code",
   "execution_count": 32,
   "metadata": {
    "collapsed": false
   },
   "outputs": [],
   "source": [
    "features = [col for col in features if col not in ['technical_22', 'technical_34']]"
   ]
  },
  {
   "cell_type": "code",
   "execution_count": 33,
   "metadata": {
    "collapsed": false
   },
   "outputs": [
    {
     "data": {
      "text/plain": [
       "['t22_0.0',\n",
       " 't34_0.0',\n",
       " 't22_-0.5',\n",
       " 't34_-0.5',\n",
       " 'derived_4',\n",
       " 'technical_14',\n",
       " 'fundamental_2',\n",
       " 'technical_30',\n",
       " 'fundamental_14',\n",
       " 'fundamental_23',\n",
       " 'fundamental_51',\n",
       " 'technical_20',\n",
       " '(-0.5, -0.5)',\n",
       " '(0.5, 0.5)',\n",
       " '(0, 0.5)',\n",
       " '(-0.5, 0)',\n",
       " '(0, 0)',\n",
       " '(0.5, 0)',\n",
       " '(0.5, -0.5)',\n",
       " '(-0.5, 0.5)',\n",
       " '(0, -0.5)']"
      ]
     },
     "execution_count": 33,
     "metadata": {},
     "output_type": "execute_result"
    }
   ],
   "source": [
    "features"
   ]
  },
  {
   "cell_type": "code",
   "execution_count": 28,
   "metadata": {
    "collapsed": false
   },
   "outputs": [],
   "source": [
    "etr = ExtraTreesRegressor(n_estimators=100, n_jobs=-1, max_depth=6, max_features=0.9, min_samples_leaf=10, random_state=11)"
   ]
  },
  {
   "cell_type": "code",
   "execution_count": 34,
   "metadata": {
    "collapsed": false
   },
   "outputs": [
    {
     "data": {
      "text/plain": [
       "ExtraTreesRegressor(bootstrap=False, criterion='mse', max_depth=6,\n",
       "          max_features=0.9, max_leaf_nodes=None, min_impurity_split=1e-07,\n",
       "          min_samples_leaf=10, min_samples_split=2,\n",
       "          min_weight_fraction_leaf=0.0, n_estimators=100, n_jobs=-1,\n",
       "          oob_score=False, random_state=11, verbose=0, warm_start=False)"
      ]
     },
     "execution_count": 34,
     "metadata": {},
     "output_type": "execute_result"
    }
   ],
   "source": [
    "etr.fit(X_train[features], y_train)"
   ]
  },
  {
   "cell_type": "code",
   "execution_count": 35,
   "metadata": {
    "collapsed": true
   },
   "outputs": [],
   "source": [
    "pred = etr.predict(X_test[features])"
   ]
  },
  {
   "cell_type": "code",
   "execution_count": 36,
   "metadata": {
    "collapsed": false
   },
   "outputs": [
    {
     "data": {
      "text/plain": [
       "0.023790084927076998"
      ]
     },
     "execution_count": 36,
     "metadata": {},
     "output_type": "execute_result"
    }
   ],
   "source": [
    "twosigmafunc.R_score(pred, y_test)"
   ]
  },
  {
   "cell_type": "code",
   "execution_count": 38,
   "metadata": {
    "collapsed": false
   },
   "outputs": [],
   "source": [
    "imp = pd.DataFrame({'feature': features, 'weight':etr.feature_importances_}).sort_values(\n",
    "    'weight', ascending=False) "
   ]
  },
  {
   "cell_type": "code",
   "execution_count": 40,
   "metadata": {
    "collapsed": false
   },
   "outputs": [
    {
     "data": {
      "text/html": [
       "<div>\n",
       "<table border=\"1\" class=\"dataframe\">\n",
       "  <thead>\n",
       "    <tr style=\"text-align: right;\">\n",
       "      <th></th>\n",
       "      <th>feature</th>\n",
       "      <th>weight</th>\n",
       "    </tr>\n",
       "  </thead>\n",
       "  <tbody>\n",
       "    <tr>\n",
       "      <th>12</th>\n",
       "      <td>(-0.5, -0.5)</td>\n",
       "      <td>0.099785</td>\n",
       "    </tr>\n",
       "    <tr>\n",
       "      <th>13</th>\n",
       "      <td>(0.5, 0.5)</td>\n",
       "      <td>0.092121</td>\n",
       "    </tr>\n",
       "    <tr>\n",
       "      <th>16</th>\n",
       "      <td>(0, 0)</td>\n",
       "      <td>0.079746</td>\n",
       "    </tr>\n",
       "    <tr>\n",
       "      <th>15</th>\n",
       "      <td>(-0.5, 0)</td>\n",
       "      <td>0.078091</td>\n",
       "    </tr>\n",
       "    <tr>\n",
       "      <th>20</th>\n",
       "      <td>(0, -0.5)</td>\n",
       "      <td>0.077169</td>\n",
       "    </tr>\n",
       "    <tr>\n",
       "      <th>9</th>\n",
       "      <td>fundamental_23</td>\n",
       "      <td>0.058972</td>\n",
       "    </tr>\n",
       "    <tr>\n",
       "      <th>14</th>\n",
       "      <td>(0, 0.5)</td>\n",
       "      <td>0.056580</td>\n",
       "    </tr>\n",
       "    <tr>\n",
       "      <th>0</th>\n",
       "      <td>t22_0.0</td>\n",
       "      <td>0.056188</td>\n",
       "    </tr>\n",
       "    <tr>\n",
       "      <th>7</th>\n",
       "      <td>technical_30</td>\n",
       "      <td>0.052951</td>\n",
       "    </tr>\n",
       "    <tr>\n",
       "      <th>11</th>\n",
       "      <td>technical_20</td>\n",
       "      <td>0.045098</td>\n",
       "    </tr>\n",
       "  </tbody>\n",
       "</table>\n",
       "</div>"
      ],
      "text/plain": [
       "           feature    weight\n",
       "12    (-0.5, -0.5)  0.099785\n",
       "13      (0.5, 0.5)  0.092121\n",
       "16          (0, 0)  0.079746\n",
       "15       (-0.5, 0)  0.078091\n",
       "20       (0, -0.5)  0.077169\n",
       "9   fundamental_23  0.058972\n",
       "14        (0, 0.5)  0.056580\n",
       "0          t22_0.0  0.056188\n",
       "7     technical_30  0.052951\n",
       "11    technical_20  0.045098"
      ]
     },
     "execution_count": 40,
     "metadata": {},
     "output_type": "execute_result"
    }
   ],
   "source": [
    "imp[:10]"
   ]
  },
  {
   "cell_type": "markdown",
   "metadata": {},
   "source": [
    "### See patterns "
   ]
  },
  {
   "cell_type": "code",
   "execution_count": 41,
   "metadata": {
    "collapsed": false
   },
   "outputs": [],
   "source": [
    "min_stamp = X_test.timestamp.min()\n",
    "max_stamp = X_test.timestamp.max()"
   ]
  },
  {
   "cell_type": "code",
   "execution_count": 42,
   "metadata": {
    "collapsed": false
   },
   "outputs": [
    {
     "name": "stdout",
     "output_type": "stream",
     "text": [
      "1000 -0.016091030544\n",
      "1100 -0.0168880682811\n",
      "1200 -0.00390829702023\n",
      "1300 -0.00601284643834\n",
      "1400 -0.0211615228029\n",
      "1500 -0.0121171179547\n",
      "1600 0.0292158650679\n",
      "1700 0.02615909934\n",
      "1800 0.0239310928201\n"
     ]
    }
   ],
   "source": [
    "reward = []\n",
    "y_true_acc = []\n",
    "y_pred_acc = []\n",
    "stamp = min_stamp\n",
    "while stamp <= max_stamp:\n",
    "    test = X_test.loc[X_test.timestamp == stamp, features]\n",
    "    y_true = y_test.loc[X_test.timestamp == stamp]\n",
    "    y_pred = etr.predict(test)\n",
    "    y_true_acc.extend(list(y_true))\n",
    "    y_pred_acc.extend(list(y_pred))\n",
    "    reward.append(twosigmafunc.R_score(np.array(y_pred_acc), np.array(y_true_acc)))\n",
    "    stamp += 1\n",
    "    if stamp % 100 == 0:\n",
    "        print(stamp, reward[-1])"
   ]
  },
  {
   "cell_type": "code",
   "execution_count": 54,
   "metadata": {
    "collapsed": true
   },
   "outputs": [],
   "source": [
    "score = pd.read_csv('Linear_R_score.csv')"
   ]
  },
  {
   "cell_type": "code",
   "execution_count": 66,
   "metadata": {
    "collapsed": false
   },
   "outputs": [
    {
     "data": {
      "text/plain": [
       "(-0.15, 0.07)"
      ]
     },
     "execution_count": 66,
     "metadata": {},
     "output_type": "execute_result"
    },
    {
     "data": {
      "image/png": "[encoded data removed]",
      "text/plain": [
       "<matplotlib.figure.Figure at 0x12015c0b8>"
      ]
     },
     "metadata": {},
     "output_type": "display_data"
    }
   ],
   "source": [
    "plt.title('Linear vs Stacking')\n",
    "plt.xlabel('timestamp')\n",
    "plt.ylabel('R score')\n",
    "plt.plot([min_stamp, max_stamp], [0, 0], 'k--')\n",
    "for col in score.columns[1:2]:\n",
    "    plt.plot(range(min_stamp, max_stamp + 1), np.array(score[col]), label=col)\n",
    "plt.plot(range(min_stamp, max_stamp + 1), reward, marker='s', markevery=60, label='Stacking')\n",
    "plt.legend(loc='best')\n",
    "plt.ylim(-0.15, 0.07)"
   ]
  },
  {
   "cell_type": "markdown",
   "metadata": {},
   "source": [
    "# Using Ridge "
   ]
  },
  {
   "cell_type": "code",
   "execution_count": 67,
   "metadata": {
    "collapsed": false
   },
   "outputs": [
    {
     "name": "stdout",
     "output_type": "stream",
     "text": [
      "(0, 0) ['technical_20', 'technical_35']\n",
      "(0.5, 0) ['fundamental_11', 'technical_20']\n",
      "(0.5, -0.5) ['fundamental_53', 'fundamental_14']\n",
      "(-0.5, 0) ['technical_20', 'technical_30']\n",
      "(-0.5, -0.5) ['technical_20', 'technical_12']\n",
      "(0, -0.5) ['technical_20', 'technical_27']\n"
     ]
    }
   ],
   "source": [
    "linear_models = []\n",
    "meta_features = []\n",
    "for key, value in combinations.items():\n",
    "    print(key, value)\n",
    "    meta_name = str(key)\n",
    "    clf = Ridge(normalize=True)\n",
    "    clf.fit(X_train[value], y_train)\n",
    "    linear_models.append(clf)\n",
    "    X_train[meta_name] = clf.predict(X_train[value]).clip(low_y_cut, high_y_cut)\n",
    "    X_test[meta_name] = clf.predict(X_test[value]).clip(low_y_cut, high_y_cut)"
   ]
  },
  {
   "cell_type": "code",
   "execution_count": 69,
   "metadata": {
    "collapsed": false
   },
   "outputs": [
    {
     "data": {
      "text/plain": [
       "ExtraTreesRegressor(bootstrap=False, criterion='mse', max_depth=6,\n",
       "          max_features=0.9, max_leaf_nodes=None, min_impurity_split=1e-07,\n",
       "          min_samples_leaf=10, min_samples_split=2,\n",
       "          min_weight_fraction_leaf=0.0, n_estimators=100, n_jobs=-1,\n",
       "          oob_score=False, random_state=None, verbose=0, warm_start=False)"
      ]
     },
     "execution_count": 69,
     "metadata": {},
     "output_type": "execute_result"
    }
   ],
   "source": [
    "etr.fit(X_train[features], y_train)"
   ]
  },
  {
   "cell_type": "code",
   "execution_count": 70,
   "metadata": {
    "collapsed": false
   },
   "outputs": [
    {
     "data": {
      "text/plain": [
       "0.02859741993145842"
      ]
     },
     "execution_count": 70,
     "metadata": {},
     "output_type": "execute_result"
    }
   ],
   "source": [
    "pred = etr.predict(X_test[features])\n",
    "twosigmafunc.R_score(pred, y_test)"
   ]
  },
  {
   "cell_type": "code",
   "execution_count": 71,
   "metadata": {
    "collapsed": false
   },
   "outputs": [
    {
     "name": "stdout",
     "output_type": "stream",
     "text": [
      "1000 0.017029952302\n",
      "1100 -0.0131836983879\n",
      "1200 0.00886016414197\n",
      "1300 0.00430314264604\n",
      "1400 -0.0209400293417\n",
      "1500 -0.011698833925\n",
      "1600 0.0311070464829\n",
      "1700 0.030636020112\n",
      "1800 0.0287583661856\n"
     ]
    }
   ],
   "source": [
    "reward_ri = []\n",
    "y_true_acc = []\n",
    "y_pred_acc = []\n",
    "stamp = min_stamp\n",
    "while stamp <= max_stamp:\n",
    "    test = X_test.loc[X_test.timestamp == stamp, features]\n",
    "    y_true = y_test.loc[X_test.timestamp == stamp]\n",
    "    y_pred = etr.predict(test)\n",
    "    y_true_acc.extend(list(y_true))\n",
    "    y_pred_acc.extend(list(y_pred))\n",
    "    reward_ri.append(twosigmafunc.R_score(np.array(y_pred_acc), np.array(y_true_acc)))\n",
    "    stamp += 1\n",
    "    if stamp % 100 == 0:\n",
    "        print(stamp, reward_ri[-1])"
   ]
  },
  {
   "cell_type": "code",
   "execution_count": 72,
   "metadata": {
    "collapsed": false
   },
   "outputs": [
    {
     "data": {
      "text/plain": [
       "(-0.15, 0.07)"
      ]
     },
     "execution_count": 72,
     "metadata": {},
     "output_type": "execute_result"
    },
    {
     "data": {
      "image/png": "[encoded data removed]",
      "text/plain": [
       "<matplotlib.figure.Figure at 0x12015cb70>"
      ]
     },
     "metadata": {},
     "output_type": "display_data"
    }
   ],
   "source": [
    "plt.title('Linear vs Stacking')\n",
    "plt.xlabel('timestamp')\n",
    "plt.ylabel('R score')\n",
    "plt.plot([min_stamp, max_stamp], [0, 0], 'k--')\n",
    "for col in score.columns[1:2]:\n",
    "    plt.plot(range(min_stamp, max_stamp + 1), np.array(score[col]), label=col)\n",
    "plt.plot(range(min_stamp, max_stamp + 1), reward, label='Stacking')\n",
    "plt.plot(range(min_stamp, max_stamp + 1), reward_ri, label='Stacking_ridge')\n",
    "plt.legend(loc='best')\n",
    "plt.ylim(-0.15, 0.07)"
   ]
  },
  {
   "cell_type": "markdown",
   "metadata": {},
   "source": [
    "no much difference between `linear` and `ridge`"
   ]
  },
  {
   "cell_type": "markdown",
   "metadata": {},
   "source": [
    "# Use 1 feature for linear models "
   ]
  },
  {
   "cell_type": "code",
   "execution_count": 76,
   "metadata": {
    "collapsed": true
   },
   "outputs": [],
   "source": [
    "combinations = {\n",
    " (-0.5, -0.5): ['technical_20'],\n",
    " (0.5, -0.5): ['fundamental_53'],\n",
    " (0.5, 0): ['fundamental_11'],\n",
    "(-0.5, 0.5): ['technical_30']}"
   ]
  },
  {
   "cell_type": "code",
   "execution_count": 77,
   "metadata": {
    "collapsed": false
   },
   "outputs": [
    {
     "name": "stdout",
     "output_type": "stream",
     "text": [
      "(-0.5, 0.5) ['technical_30']\n",
      "(0.5, 0) ['fundamental_11']\n",
      "(-0.5, -0.5) ['technical_20']\n",
      "(0.5, -0.5) ['fundamental_53']\n"
     ]
    }
   ],
   "source": [
    "linear_models = []\n",
    "meta_features = []\n",
    "for key, value in combinations.items():\n",
    "    print(key, value)\n",
    "    meta_name = str(key)\n",
    "    clf = LinearRegression(n_jobs=-1, normalize=True)\n",
    "    clf.fit(X_train[value].values.reshape(-1, 1), y_train)\n",
    "    linear_models.append(clf)\n",
    "    X_train[meta_name] = clf.predict(X_train[value].values.reshape(-1, 1)).clip(low_y_cut, high_y_cut)\n",
    "    X_test[meta_name] = clf.predict(X_test[value].values.reshape(-1, 1)).clip(low_y_cut, high_y_cut)"
   ]
  },
  {
   "cell_type": "code",
   "execution_count": 75,
   "metadata": {
    "collapsed": false
   },
   "outputs": [
    {
     "data": {
      "text/plain": [
       "['technical_20',\n",
       " 'technical_12',\n",
       " 'technical_30',\n",
       " 'technical_27',\n",
       " 'technical_35',\n",
       " 'fundamental_53',\n",
       " 'fundamental_14',\n",
       " 'fundamental_11',\n",
       " 't22_0.0',\n",
       " 't34_0.0',\n",
       " 't22_-0.5',\n",
       " 't34_-0.5',\n",
       " '(0, 0)',\n",
       " '(0.5, 0)',\n",
       " '(0.5, -0.5)',\n",
       " '(-0.5, 0)',\n",
       " '(-0.5, -0.5)',\n",
       " '(0, -0.5)']"
      ]
     },
     "execution_count": 75,
     "metadata": {},
     "output_type": "execute_result"
    }
   ],
   "source": [
    "features"
   ]
  },
  {
   "cell_type": "code",
   "execution_count": 78,
   "metadata": {
    "collapsed": true
   },
   "outputs": [],
   "source": [
    "features_uni = [\n",
    " 'technical_20',\n",
    " 'technical_30',\n",
    " 'fundamental_53',\n",
    " 'fundamental_11',\n",
    " 't22_0.0',\n",
    " 't34_0.0',\n",
    " 't22_-0.5',\n",
    " 't34_-0.5',\n",
    " '(-0.5, 0.5)',\n",
    " '(0.5, 0)',\n",
    " '(-0.5, -0.5)',\n",
    " '(0.5, -0.5)']"
   ]
  },
  {
   "cell_type": "code",
   "execution_count": 80,
   "metadata": {
    "collapsed": false
   },
   "outputs": [
    {
     "data": {
      "text/plain": [
       "ExtraTreesRegressor(bootstrap=False, criterion='mse', max_depth=6,\n",
       "          max_features=0.9, max_leaf_nodes=None, min_impurity_split=1e-07,\n",
       "          min_samples_leaf=10, min_samples_split=2,\n",
       "          min_weight_fraction_leaf=0.0, n_estimators=100, n_jobs=-1,\n",
       "          oob_score=False, random_state=11, verbose=0, warm_start=False)"
      ]
     },
     "execution_count": 80,
     "metadata": {},
     "output_type": "execute_result"
    }
   ],
   "source": [
    "etr.fit(X_train[features_uni], y_train)"
   ]
  },
  {
   "cell_type": "code",
   "execution_count": 81,
   "metadata": {
    "collapsed": false
   },
   "outputs": [
    {
     "data": {
      "text/plain": [
       "0.023212708494453158"
      ]
     },
     "execution_count": 81,
     "metadata": {},
     "output_type": "execute_result"
    }
   ],
   "source": [
    "pred = etr.predict(X_test[features_uni])\n",
    "twosigmafunc.R_score(pred, y_test)"
   ]
  },
  {
   "cell_type": "code",
   "execution_count": 82,
   "metadata": {
    "collapsed": false
   },
   "outputs": [
    {
     "name": "stdout",
     "output_type": "stream",
     "text": [
      "1000 -0.0131016592031\n",
      "1100 -0.0230794409052\n",
      "1200 -0.0138337371508\n",
      "1300 -0.0141877452261\n",
      "1400 -0.0246030464797\n",
      "1500 -0.0174104294227\n",
      "1600 0.0260206034135\n",
      "1700 0.0251770280351\n",
      "1800 0.0232876497062\n"
     ]
    }
   ],
   "source": [
    "reward_uni = []\n",
    "y_true_acc = []\n",
    "y_pred_acc = []\n",
    "stamp = min_stamp\n",
    "while stamp <= max_stamp:\n",
    "    test = X_test.loc[X_test.timestamp == stamp, features_uni]\n",
    "    y_true = y_test.loc[X_test.timestamp == stamp]\n",
    "    y_pred = etr.predict(test)\n",
    "    y_true_acc.extend(list(y_true))\n",
    "    y_pred_acc.extend(list(y_pred))\n",
    "    reward_uni.append(twosigmafunc.R_score(np.array(y_pred_acc), np.array(y_true_acc)))\n",
    "    stamp += 1\n",
    "    if stamp % 100 == 0:\n",
    "        print(stamp, reward_uni[-1])"
   ]
  },
  {
   "cell_type": "code",
   "execution_count": 83,
   "metadata": {
    "collapsed": false
   },
   "outputs": [
    {
     "data": {
      "text/plain": [
       "(-0.15, 0.07)"
      ]
     },
     "execution_count": 83,
     "metadata": {},
     "output_type": "execute_result"
    },
    {
     "data": {
      "image/png": "[encoded data removed]",
      "text/plain": [
       "<matplotlib.figure.Figure at 0x11c2d7b70>"
      ]
     },
     "metadata": {},
     "output_type": "display_data"
    }
   ],
   "source": [
    "plt.title('Linear vs Stacking')\n",
    "plt.xlabel('timestamp')\n",
    "plt.ylabel('R score')\n",
    "plt.plot([min_stamp, max_stamp], [0, 0], 'k--')\n",
    "for col in score.columns[1:2]:\n",
    "    plt.plot(range(min_stamp, max_stamp + 1), np.array(score[col]), label=col)\n",
    "plt.plot(range(min_stamp, max_stamp + 1), reward, label='Stacking')\n",
    "plt.plot(range(min_stamp, max_stamp + 1), reward_ri, label='Stacking_ridge')\n",
    "plt.plot(range(min_stamp, max_stamp + 1), reward_uni, label='Stacking_uni')\n",
    "plt.legend(loc='best')\n",
    "plt.ylim(-0.15, 0.07)"
   ]
  },
  {
   "cell_type": "markdown",
   "metadata": {},
   "source": [
    "binary is better!"
   ]
  },
  {
   "cell_type": "markdown",
   "metadata": {},
   "source": [
    "# Add `y_lr_1` and `y_lr_2 `"
   ]
  },
  {
   "cell_type": "code",
   "execution_count": 84,
   "metadata": {
    "collapsed": true
   },
   "outputs": [],
   "source": [
    "del train"
   ]
  },
  {
   "cell_type": "code",
   "execution_count": null,
   "metadata": {
    "collapsed": true
   },
   "outputs": [],
   "source": [
    "X_train['tec20-30'] = X_train.technical_20 - X_train.technical_30\n",
    "X_test['tec20-30'] = X_train.technical_20 - X_train.technical_30"
   ]
  },
  {
   "cell_type": "markdown",
   "metadata": {},
   "source": [
    "# See how to fillna with groups "
   ]
  },
  {
   "cell_type": "code",
   "execution_count": 15,
   "metadata": {
    "collapsed": false
   },
   "outputs": [
    {
     "data": {
      "text/plain": [
       "0"
      ]
     },
     "execution_count": 15,
     "metadata": {},
     "output_type": "execute_result"
    }
   ],
   "source": [
    "train.technical_22.isnull().sum()"
   ]
  },
  {
   "cell_type": "code",
   "execution_count": 16,
   "metadata": {
    "collapsed": false
   },
   "outputs": [
    {
     "data": {
      "text/plain": [
       "0"
      ]
     },
     "execution_count": 16,
     "metadata": {},
     "output_type": "execute_result"
    }
   ],
   "source": [
    "train.technical_34.isnull().sum()"
   ]
  },
  {
   "cell_type": "code",
   "execution_count": 10,
   "metadata": {
    "collapsed": true
   },
   "outputs": [],
   "source": [
    "sub_train = train[:10]"
   ]
  },
  {
   "cell_type": "code",
   "execution_count": 11,
   "metadata": {
    "collapsed": false
   },
   "outputs": [
    {
     "data": {
      "text/html": [
       "<div>\n",
       "<table border=\"1\" class=\"dataframe\">\n",
       "  <thead>\n",
       "    <tr style=\"text-align: right;\">\n",
       "      <th></th>\n",
       "      <th>id</th>\n",
       "      <th>timestamp</th>\n",
       "      <th>derived_0</th>\n",
       "      <th>derived_1</th>\n",
       "      <th>derived_2</th>\n",
       "      <th>derived_3</th>\n",
       "      <th>derived_4</th>\n",
       "      <th>fundamental_0</th>\n",
       "      <th>fundamental_1</th>\n",
       "      <th>fundamental_2</th>\n",
       "      <th>...</th>\n",
       "      <th>technical_36</th>\n",
       "      <th>technical_37</th>\n",
       "      <th>technical_38</th>\n",
       "      <th>technical_39</th>\n",
       "      <th>technical_40</th>\n",
       "      <th>technical_41</th>\n",
       "      <th>technical_42</th>\n",
       "      <th>technical_43</th>\n",
       "      <th>technical_44</th>\n",
       "      <th>y</th>\n",
       "    </tr>\n",
       "  </thead>\n",
       "  <tbody>\n",
       "    <tr>\n",
       "      <th>0</th>\n",
       "      <td>10</td>\n",
       "      <td>0</td>\n",
       "      <td>0.370326</td>\n",
       "      <td>-0.006316</td>\n",
       "      <td>0.222831</td>\n",
       "      <td>-0.213030</td>\n",
       "      <td>0.729277</td>\n",
       "      <td>-0.335633</td>\n",
       "      <td>0.113292</td>\n",
       "      <td>1.621238</td>\n",
       "      <td>...</td>\n",
       "      <td>0.775208</td>\n",
       "      <td>NaN</td>\n",
       "      <td>NaN</td>\n",
       "      <td>NaN</td>\n",
       "      <td>-0.414776</td>\n",
       "      <td>NaN</td>\n",
       "      <td>NaN</td>\n",
       "      <td>-2.0</td>\n",
       "      <td>NaN</td>\n",
       "      <td>-0.011753</td>\n",
       "    </tr>\n",
       "    <tr>\n",
       "      <th>1</th>\n",
       "      <td>11</td>\n",
       "      <td>0</td>\n",
       "      <td>0.014765</td>\n",
       "      <td>-0.038064</td>\n",
       "      <td>-0.017425</td>\n",
       "      <td>0.320652</td>\n",
       "      <td>-0.034134</td>\n",
       "      <td>0.004413</td>\n",
       "      <td>0.114285</td>\n",
       "      <td>-0.210185</td>\n",
       "      <td>...</td>\n",
       "      <td>0.025590</td>\n",
       "      <td>NaN</td>\n",
       "      <td>NaN</td>\n",
       "      <td>NaN</td>\n",
       "      <td>-0.273607</td>\n",
       "      <td>NaN</td>\n",
       "      <td>NaN</td>\n",
       "      <td>-2.0</td>\n",
       "      <td>NaN</td>\n",
       "      <td>-0.001240</td>\n",
       "    </tr>\n",
       "    <tr>\n",
       "      <th>2</th>\n",
       "      <td>12</td>\n",
       "      <td>0</td>\n",
       "      <td>-0.010622</td>\n",
       "      <td>-0.050577</td>\n",
       "      <td>3.379575</td>\n",
       "      <td>-0.157525</td>\n",
       "      <td>-0.068550</td>\n",
       "      <td>-0.155937</td>\n",
       "      <td>1.219439</td>\n",
       "      <td>-0.764516</td>\n",
       "      <td>...</td>\n",
       "      <td>0.151881</td>\n",
       "      <td>NaN</td>\n",
       "      <td>NaN</td>\n",
       "      <td>NaN</td>\n",
       "      <td>-0.175710</td>\n",
       "      <td>NaN</td>\n",
       "      <td>NaN</td>\n",
       "      <td>-2.0</td>\n",
       "      <td>NaN</td>\n",
       "      <td>-0.020940</td>\n",
       "    </tr>\n",
       "    <tr>\n",
       "      <th>3</th>\n",
       "      <td>25</td>\n",
       "      <td>0</td>\n",
       "      <td>NaN</td>\n",
       "      <td>NaN</td>\n",
       "      <td>NaN</td>\n",
       "      <td>NaN</td>\n",
       "      <td>NaN</td>\n",
       "      <td>0.178495</td>\n",
       "      <td>NaN</td>\n",
       "      <td>-0.007262</td>\n",
       "      <td>...</td>\n",
       "      <td>1.035936</td>\n",
       "      <td>NaN</td>\n",
       "      <td>NaN</td>\n",
       "      <td>NaN</td>\n",
       "      <td>-0.211506</td>\n",
       "      <td>NaN</td>\n",
       "      <td>NaN</td>\n",
       "      <td>-2.0</td>\n",
       "      <td>NaN</td>\n",
       "      <td>-0.015959</td>\n",
       "    </tr>\n",
       "    <tr>\n",
       "      <th>4</th>\n",
       "      <td>26</td>\n",
       "      <td>0</td>\n",
       "      <td>0.176693</td>\n",
       "      <td>-0.025284</td>\n",
       "      <td>-0.057680</td>\n",
       "      <td>0.015100</td>\n",
       "      <td>0.180894</td>\n",
       "      <td>0.139445</td>\n",
       "      <td>-0.125687</td>\n",
       "      <td>-0.018707</td>\n",
       "      <td>...</td>\n",
       "      <td>0.630232</td>\n",
       "      <td>NaN</td>\n",
       "      <td>NaN</td>\n",
       "      <td>NaN</td>\n",
       "      <td>-0.001957</td>\n",
       "      <td>NaN</td>\n",
       "      <td>NaN</td>\n",
       "      <td>0.0</td>\n",
       "      <td>NaN</td>\n",
       "      <td>-0.007338</td>\n",
       "    </tr>\n",
       "  </tbody>\n",
       "</table>\n",
       "<p>5 rows × 111 columns</p>\n",
       "</div>"
      ],
      "text/plain": [
       "   id  timestamp  derived_0  derived_1  derived_2  derived_3  derived_4  \\\n",
       "0  10          0   0.370326  -0.006316   0.222831  -0.213030   0.729277   \n",
       "1  11          0   0.014765  -0.038064  -0.017425   0.320652  -0.034134   \n",
       "2  12          0  -0.010622  -0.050577   3.379575  -0.157525  -0.068550   \n",
       "3  25          0        NaN        NaN        NaN        NaN        NaN   \n",
       "4  26          0   0.176693  -0.025284  -0.057680   0.015100   0.180894   \n",
       "\n",
       "   fundamental_0  fundamental_1  fundamental_2    ...     technical_36  \\\n",
       "0      -0.335633       0.113292       1.621238    ...         0.775208   \n",
       "1       0.004413       0.114285      -0.210185    ...         0.025590   \n",
       "2      -0.155937       1.219439      -0.764516    ...         0.151881   \n",
       "3       0.178495            NaN      -0.007262    ...         1.035936   \n",
       "4       0.139445      -0.125687      -0.018707    ...         0.630232   \n",
       "\n",
       "   technical_37  technical_38  technical_39  technical_40  technical_41  \\\n",
       "0           NaN           NaN           NaN     -0.414776           NaN   \n",
       "1           NaN           NaN           NaN     -0.273607           NaN   \n",
       "2           NaN           NaN           NaN     -0.175710           NaN   \n",
       "3           NaN           NaN           NaN     -0.211506           NaN   \n",
       "4           NaN           NaN           NaN     -0.001957           NaN   \n",
       "\n",
       "   technical_42  technical_43  technical_44         y  \n",
       "0           NaN          -2.0           NaN -0.011753  \n",
       "1           NaN          -2.0           NaN -0.001240  \n",
       "2           NaN          -2.0           NaN -0.020940  \n",
       "3           NaN          -2.0           NaN -0.015959  \n",
       "4           NaN           0.0           NaN -0.007338  \n",
       "\n",
       "[5 rows x 111 columns]"
      ]
     },
     "execution_count": 11,
     "metadata": {},
     "output_type": "execute_result"
    }
   ],
   "source": [
    "sub_train.head()"
   ]
  },
  {
   "cell_type": "code",
   "execution_count": 12,
   "metadata": {
    "collapsed": false
   },
   "outputs": [
    {
     "data": {
      "text/plain": [
       "array([[  1.00000000e+01,   0.00000000e+00,   3.70326221e-01, ...,\n",
       "         -2.00000000e+00,              nan,  -1.17534492e-02],\n",
       "       [  1.10000000e+01,   0.00000000e+00,   1.47646843e-02, ...,\n",
       "         -2.00000000e+00,              nan,  -1.24013668e-03],\n",
       "       [  1.20000000e+01,   0.00000000e+00,  -1.06217954e-02, ...,\n",
       "         -2.00000000e+00,              nan,  -2.09395438e-02],\n",
       "       ..., \n",
       "       [  3.80000000e+01,   0.00000000e+00,   3.00062418e-01, ...,\n",
       "         -2.00000000e+00,              nan,   1.58029143e-02],\n",
       "       [  3.90000000e+01,   0.00000000e+00,  -3.51085421e-03, ...,\n",
       "         -2.00000000e+00,              nan,  -2.75933668e-02],\n",
       "       [  4.00000000e+01,   0.00000000e+00,  -8.33296925e-02, ...,\n",
       "         -2.00000000e+00,              nan,   6.66242279e-03]], dtype=float32)"
      ]
     },
     "execution_count": 12,
     "metadata": {},
     "output_type": "execute_result"
    }
   ],
   "source": [
    "sub_train.values"
   ]
  },
  {
   "cell_type": "code",
   "execution_count": 26,
   "metadata": {
    "collapsed": false
   },
   "outputs": [
    {
     "name": "stdout",
     "output_type": "stream",
     "text": [
      "derived_0\n",
      "derived_1\n",
      "derived_2\n",
      "derived_3\n",
      "derived_4\n",
      "fundamental_0\n"
     ]
    },
    {
     "name": "stderr",
     "output_type": "stream",
     "text": [
      "/usr/local/lib/python3.4/site-packages/pandas/core/generic.py:3295: SettingWithCopyWarning: \n",
      "A value is trying to be set on a copy of a slice from a DataFrame\n",
      "\n",
      "See the caveats in the documentation: http://pandas.pydata.org/pandas-docs/stable/indexing.html#indexing-view-versus-copy\n",
      "  self._update_inplace(new_data)\n"
     ]
    },
    {
     "name": "stdout",
     "output_type": "stream",
     "text": [
      "fundamental_1\n",
      "fundamental_2\n",
      "fundamental_3\n",
      "fundamental_5\n",
      "fundamental_6\n",
      "fundamental_7\n",
      "fundamental_8\n",
      "fundamental_9\n",
      "fundamental_10\n",
      "fundamental_11\n",
      "fundamental_12\n",
      "fundamental_13\n",
      "fundamental_14\n",
      "fundamental_15\n",
      "fundamental_16\n",
      "fundamental_17\n",
      "fundamental_18\n",
      "fundamental_19\n",
      "fundamental_20\n",
      "fundamental_21\n",
      "fundamental_22\n",
      "fundamental_23\n",
      "fundamental_24\n",
      "fundamental_25\n",
      "fundamental_26\n",
      "fundamental_27\n",
      "fundamental_28\n",
      "fundamental_29\n",
      "fundamental_30\n",
      "fundamental_31\n",
      "fundamental_32\n",
      "fundamental_33\n",
      "fundamental_34\n",
      "fundamental_35\n",
      "fundamental_36\n",
      "fundamental_37\n",
      "fundamental_38\n",
      "fundamental_39\n",
      "fundamental_40\n",
      "fundamental_41\n",
      "fundamental_42\n",
      "fundamental_43\n",
      "fundamental_44\n",
      "fundamental_45\n",
      "fundamental_46\n",
      "fundamental_47\n",
      "fundamental_48\n",
      "fundamental_49\n",
      "fundamental_50\n",
      "fundamental_51\n",
      "fundamental_52\n",
      "fundamental_53\n",
      "fundamental_54\n",
      "fundamental_55\n",
      "fundamental_56\n",
      "fundamental_57\n",
      "fundamental_58\n",
      "fundamental_59\n",
      "fundamental_60\n",
      "fundamental_61\n",
      "fundamental_62\n",
      "fundamental_63\n",
      "technical_0\n",
      "technical_1\n",
      "technical_2\n",
      "technical_3\n",
      "technical_5\n",
      "technical_6\n",
      "technical_7\n",
      "technical_9\n",
      "technical_10\n",
      "technical_11\n",
      "technical_12\n",
      "technical_13\n",
      "technical_14\n",
      "technical_16\n",
      "technical_17\n",
      "technical_18\n",
      "technical_19\n",
      "technical_20\n",
      "technical_21\n",
      "technical_22\n",
      "technical_24\n",
      "technical_25\n",
      "technical_27\n",
      "technical_28\n",
      "technical_29\n",
      "technical_30\n",
      "technical_31\n",
      "technical_32\n",
      "technical_33\n",
      "technical_34\n",
      "technical_35\n",
      "technical_36\n",
      "technical_37\n",
      "technical_38\n",
      "technical_39\n",
      "technical_40\n",
      "technical_41\n",
      "technical_42\n",
      "technical_43\n",
      "technical_44\n"
     ]
    }
   ],
   "source": [
    "for col in origin_features:\n",
    "    sub_train[col].fillna(sub_train.groupby(['technical_34'])[col].transform(\"mean\"), inplace=True)"
   ]
  },
  {
   "cell_type": "code",
   "execution_count": 27,
   "metadata": {
    "collapsed": false
   },
   "outputs": [
    {
     "data": {
      "text/html": [
       "<div>\n",
       "<table border=\"1\" class=\"dataframe\">\n",
       "  <thead>\n",
       "    <tr style=\"text-align: right;\">\n",
       "      <th></th>\n",
       "      <th>id</th>\n",
       "      <th>timestamp</th>\n",
       "      <th>derived_0</th>\n",
       "      <th>derived_1</th>\n",
       "      <th>derived_2</th>\n",
       "      <th>derived_3</th>\n",
       "      <th>derived_4</th>\n",
       "      <th>fundamental_0</th>\n",
       "      <th>fundamental_1</th>\n",
       "      <th>fundamental_2</th>\n",
       "      <th>...</th>\n",
       "      <th>technical_36</th>\n",
       "      <th>technical_37</th>\n",
       "      <th>technical_38</th>\n",
       "      <th>technical_39</th>\n",
       "      <th>technical_40</th>\n",
       "      <th>technical_41</th>\n",
       "      <th>technical_42</th>\n",
       "      <th>technical_43</th>\n",
       "      <th>technical_44</th>\n",
       "      <th>y</th>\n",
       "    </tr>\n",
       "  </thead>\n",
       "  <tbody>\n",
       "    <tr>\n",
       "      <th>0</th>\n",
       "      <td>10</td>\n",
       "      <td>0</td>\n",
       "      <td>0.370326</td>\n",
       "      <td>-0.006316</td>\n",
       "      <td>0.222831</td>\n",
       "      <td>-0.213030</td>\n",
       "      <td>0.729277</td>\n",
       "      <td>-0.335633</td>\n",
       "      <td>0.113292</td>\n",
       "      <td>1.621238</td>\n",
       "      <td>...</td>\n",
       "      <td>0.775208</td>\n",
       "      <td>NaN</td>\n",
       "      <td>NaN</td>\n",
       "      <td>NaN</td>\n",
       "      <td>-0.414776</td>\n",
       "      <td>NaN</td>\n",
       "      <td>NaN</td>\n",
       "      <td>-2.0</td>\n",
       "      <td>NaN</td>\n",
       "      <td>-0.011753</td>\n",
       "    </tr>\n",
       "    <tr>\n",
       "      <th>1</th>\n",
       "      <td>11</td>\n",
       "      <td>0</td>\n",
       "      <td>0.014765</td>\n",
       "      <td>-0.038064</td>\n",
       "      <td>-0.017425</td>\n",
       "      <td>0.320652</td>\n",
       "      <td>-0.034134</td>\n",
       "      <td>0.004413</td>\n",
       "      <td>0.114285</td>\n",
       "      <td>-0.210185</td>\n",
       "      <td>...</td>\n",
       "      <td>0.025590</td>\n",
       "      <td>NaN</td>\n",
       "      <td>NaN</td>\n",
       "      <td>NaN</td>\n",
       "      <td>-0.273607</td>\n",
       "      <td>NaN</td>\n",
       "      <td>NaN</td>\n",
       "      <td>-2.0</td>\n",
       "      <td>NaN</td>\n",
       "      <td>-0.001240</td>\n",
       "    </tr>\n",
       "    <tr>\n",
       "      <th>2</th>\n",
       "      <td>12</td>\n",
       "      <td>0</td>\n",
       "      <td>-0.010622</td>\n",
       "      <td>-0.050577</td>\n",
       "      <td>3.379575</td>\n",
       "      <td>-0.157525</td>\n",
       "      <td>-0.068550</td>\n",
       "      <td>-0.155937</td>\n",
       "      <td>1.219439</td>\n",
       "      <td>-0.764516</td>\n",
       "      <td>...</td>\n",
       "      <td>0.151881</td>\n",
       "      <td>NaN</td>\n",
       "      <td>NaN</td>\n",
       "      <td>NaN</td>\n",
       "      <td>-0.175710</td>\n",
       "      <td>NaN</td>\n",
       "      <td>NaN</td>\n",
       "      <td>-2.0</td>\n",
       "      <td>NaN</td>\n",
       "      <td>-0.020940</td>\n",
       "    </tr>\n",
       "    <tr>\n",
       "      <th>3</th>\n",
       "      <td>25</td>\n",
       "      <td>0</td>\n",
       "      <td>0.138242</td>\n",
       "      <td>0.067212</td>\n",
       "      <td>-1.206004</td>\n",
       "      <td>-0.355480</td>\n",
       "      <td>-0.261329</td>\n",
       "      <td>0.178495</td>\n",
       "      <td>0.379278</td>\n",
       "      <td>-0.007262</td>\n",
       "      <td>...</td>\n",
       "      <td>1.035936</td>\n",
       "      <td>NaN</td>\n",
       "      <td>NaN</td>\n",
       "      <td>NaN</td>\n",
       "      <td>-0.211506</td>\n",
       "      <td>NaN</td>\n",
       "      <td>NaN</td>\n",
       "      <td>-2.0</td>\n",
       "      <td>NaN</td>\n",
       "      <td>-0.015959</td>\n",
       "    </tr>\n",
       "    <tr>\n",
       "      <th>4</th>\n",
       "      <td>26</td>\n",
       "      <td>0</td>\n",
       "      <td>0.176693</td>\n",
       "      <td>-0.025284</td>\n",
       "      <td>-0.057680</td>\n",
       "      <td>0.015100</td>\n",
       "      <td>0.180894</td>\n",
       "      <td>0.139445</td>\n",
       "      <td>-0.125687</td>\n",
       "      <td>-0.018707</td>\n",
       "      <td>...</td>\n",
       "      <td>0.630232</td>\n",
       "      <td>NaN</td>\n",
       "      <td>NaN</td>\n",
       "      <td>NaN</td>\n",
       "      <td>-0.001957</td>\n",
       "      <td>NaN</td>\n",
       "      <td>NaN</td>\n",
       "      <td>0.0</td>\n",
       "      <td>NaN</td>\n",
       "      <td>-0.007338</td>\n",
       "    </tr>\n",
       "    <tr>\n",
       "      <th>5</th>\n",
       "      <td>27</td>\n",
       "      <td>0</td>\n",
       "      <td>0.346856</td>\n",
       "      <td>0.166239</td>\n",
       "      <td>-6.080701</td>\n",
       "      <td>-0.992249</td>\n",
       "      <td>-0.125916</td>\n",
       "      <td>0.345812</td>\n",
       "      <td>0.379278</td>\n",
       "      <td>-0.584239</td>\n",
       "      <td>...</td>\n",
       "      <td>-0.379366</td>\n",
       "      <td>NaN</td>\n",
       "      <td>NaN</td>\n",
       "      <td>NaN</td>\n",
       "      <td>-0.001957</td>\n",
       "      <td>NaN</td>\n",
       "      <td>NaN</td>\n",
       "      <td>-2.0</td>\n",
       "      <td>NaN</td>\n",
       "      <td>0.031425</td>\n",
       "    </tr>\n",
       "    <tr>\n",
       "      <th>6</th>\n",
       "      <td>31</td>\n",
       "      <td>0</td>\n",
       "      <td>0.072036</td>\n",
       "      <td>0.014931</td>\n",
       "      <td>0.152601</td>\n",
       "      <td>0.014063</td>\n",
       "      <td>0.351763</td>\n",
       "      <td>-0.193205</td>\n",
       "      <td>0.188372</td>\n",
       "      <td>0.690013</td>\n",
       "      <td>...</td>\n",
       "      <td>1.232558</td>\n",
       "      <td>NaN</td>\n",
       "      <td>NaN</td>\n",
       "      <td>NaN</td>\n",
       "      <td>0.350685</td>\n",
       "      <td>NaN</td>\n",
       "      <td>NaN</td>\n",
       "      <td>-2.0</td>\n",
       "      <td>NaN</td>\n",
       "      <td>-0.032895</td>\n",
       "    </tr>\n",
       "    <tr>\n",
       "      <th>7</th>\n",
       "      <td>38</td>\n",
       "      <td>0</td>\n",
       "      <td>0.300062</td>\n",
       "      <td>0.071251</td>\n",
       "      <td>-0.074451</td>\n",
       "      <td>-0.065292</td>\n",
       "      <td>-0.011286</td>\n",
       "      <td>0.026365</td>\n",
       "      <td>0.210249</td>\n",
       "      <td>0.167494</td>\n",
       "      <td>...</td>\n",
       "      <td>0.242646</td>\n",
       "      <td>NaN</td>\n",
       "      <td>NaN</td>\n",
       "      <td>NaN</td>\n",
       "      <td>-0.168077</td>\n",
       "      <td>NaN</td>\n",
       "      <td>NaN</td>\n",
       "      <td>-2.0</td>\n",
       "      <td>NaN</td>\n",
       "      <td>0.015803</td>\n",
       "    </tr>\n",
       "    <tr>\n",
       "      <th>8</th>\n",
       "      <td>39</td>\n",
       "      <td>0</td>\n",
       "      <td>-0.003511</td>\n",
       "      <td>-0.034270</td>\n",
       "      <td>0.082372</td>\n",
       "      <td>-0.023937</td>\n",
       "      <td>-0.025750</td>\n",
       "      <td>0.007815</td>\n",
       "      <td>0.263451</td>\n",
       "      <td>-0.241212</td>\n",
       "      <td>...</td>\n",
       "      <td>0.186175</td>\n",
       "      <td>NaN</td>\n",
       "      <td>NaN</td>\n",
       "      <td>NaN</td>\n",
       "      <td>-0.300842</td>\n",
       "      <td>NaN</td>\n",
       "      <td>NaN</td>\n",
       "      <td>-2.0</td>\n",
       "      <td>NaN</td>\n",
       "      <td>-0.027593</td>\n",
       "    </tr>\n",
       "    <tr>\n",
       "      <th>9</th>\n",
       "      <td>40</td>\n",
       "      <td>0</td>\n",
       "      <td>-0.083330</td>\n",
       "      <td>0.081935</td>\n",
       "      <td>-2.048438</td>\n",
       "      <td>-0.206856</td>\n",
       "      <td>-0.839563</td>\n",
       "      <td>-0.234100</td>\n",
       "      <td>-0.291853</td>\n",
       "      <td>-5.722336</td>\n",
       "      <td>...</td>\n",
       "      <td>-0.021965</td>\n",
       "      <td>NaN</td>\n",
       "      <td>NaN</td>\n",
       "      <td>NaN</td>\n",
       "      <td>-0.386579</td>\n",
       "      <td>NaN</td>\n",
       "      <td>NaN</td>\n",
       "      <td>-2.0</td>\n",
       "      <td>NaN</td>\n",
       "      <td>0.006662</td>\n",
       "    </tr>\n",
       "  </tbody>\n",
       "</table>\n",
       "<p>10 rows × 111 columns</p>\n",
       "</div>"
      ],
      "text/plain": [
       "   id  timestamp  derived_0  derived_1  derived_2  derived_3  derived_4  \\\n",
       "0  10          0   0.370326  -0.006316   0.222831  -0.213030   0.729277   \n",
       "1  11          0   0.014765  -0.038064  -0.017425   0.320652  -0.034134   \n",
       "2  12          0  -0.010622  -0.050577   3.379575  -0.157525  -0.068550   \n",
       "3  25          0   0.138242   0.067212  -1.206004  -0.355480  -0.261329   \n",
       "4  26          0   0.176693  -0.025284  -0.057680   0.015100   0.180894   \n",
       "5  27          0   0.346856   0.166239  -6.080701  -0.992249  -0.125916   \n",
       "6  31          0   0.072036   0.014931   0.152601   0.014063   0.351763   \n",
       "7  38          0   0.300062   0.071251  -0.074451  -0.065292  -0.011286   \n",
       "8  39          0  -0.003511  -0.034270   0.082372  -0.023937  -0.025750   \n",
       "9  40          0  -0.083330   0.081935  -2.048438  -0.206856  -0.839563   \n",
       "\n",
       "   fundamental_0  fundamental_1  fundamental_2    ...     technical_36  \\\n",
       "0      -0.335633       0.113292       1.621238    ...         0.775208   \n",
       "1       0.004413       0.114285      -0.210185    ...         0.025590   \n",
       "2      -0.155937       1.219439      -0.764516    ...         0.151881   \n",
       "3       0.178495       0.379278      -0.007262    ...         1.035936   \n",
       "4       0.139445      -0.125687      -0.018707    ...         0.630232   \n",
       "5       0.345812       0.379278      -0.584239    ...        -0.379366   \n",
       "6      -0.193205       0.188372       0.690013    ...         1.232558   \n",
       "7       0.026365       0.210249       0.167494    ...         0.242646   \n",
       "8       0.007815       0.263451      -0.241212    ...         0.186175   \n",
       "9      -0.234100      -0.291853      -5.722336    ...        -0.021965   \n",
       "\n",
       "   technical_37  technical_38  technical_39  technical_40  technical_41  \\\n",
       "0           NaN           NaN           NaN     -0.414776           NaN   \n",
       "1           NaN           NaN           NaN     -0.273607           NaN   \n",
       "2           NaN           NaN           NaN     -0.175710           NaN   \n",
       "3           NaN           NaN           NaN     -0.211506           NaN   \n",
       "4           NaN           NaN           NaN     -0.001957           NaN   \n",
       "5           NaN           NaN           NaN     -0.001957           NaN   \n",
       "6           NaN           NaN           NaN      0.350685           NaN   \n",
       "7           NaN           NaN           NaN     -0.168077           NaN   \n",
       "8           NaN           NaN           NaN     -0.300842           NaN   \n",
       "9           NaN           NaN           NaN     -0.386579           NaN   \n",
       "\n",
       "   technical_42  technical_43  technical_44         y  \n",
       "0           NaN          -2.0           NaN -0.011753  \n",
       "1           NaN          -2.0           NaN -0.001240  \n",
       "2           NaN          -2.0           NaN -0.020940  \n",
       "3           NaN          -2.0           NaN -0.015959  \n",
       "4           NaN           0.0           NaN -0.007338  \n",
       "5           NaN          -2.0           NaN  0.031425  \n",
       "6           NaN          -2.0           NaN -0.032895  \n",
       "7           NaN          -2.0           NaN  0.015803  \n",
       "8           NaN          -2.0           NaN -0.027593  \n",
       "9           NaN          -2.0           NaN  0.006662  \n",
       "\n",
       "[10 rows x 111 columns]"
      ]
     },
     "execution_count": 27,
     "metadata": {},
     "output_type": "execute_result"
    }
   ],
   "source": [
    "sub_train"
   ]
  },
  {
   "cell_type": "code",
   "execution_count": 25,
   "metadata": {
    "collapsed": false
   },
   "outputs": [
    {
     "data": {
      "text/html": [
       "<div>\n",
       "<table border=\"1\" class=\"dataframe\">\n",
       "  <thead>\n",
       "    <tr style=\"text-align: right;\">\n",
       "      <th></th>\n",
       "      <th>id</th>\n",
       "      <th>timestamp</th>\n",
       "      <th>derived_0</th>\n",
       "      <th>derived_1</th>\n",
       "      <th>derived_2</th>\n",
       "      <th>derived_3</th>\n",
       "      <th>derived_4</th>\n",
       "      <th>fundamental_0</th>\n",
       "      <th>fundamental_1</th>\n",
       "      <th>fundamental_2</th>\n",
       "      <th>...</th>\n",
       "      <th>technical_36</th>\n",
       "      <th>technical_37</th>\n",
       "      <th>technical_38</th>\n",
       "      <th>technical_39</th>\n",
       "      <th>technical_40</th>\n",
       "      <th>technical_41</th>\n",
       "      <th>technical_42</th>\n",
       "      <th>technical_43</th>\n",
       "      <th>technical_44</th>\n",
       "      <th>y</th>\n",
       "    </tr>\n",
       "  </thead>\n",
       "  <tbody>\n",
       "    <tr>\n",
       "      <th>0</th>\n",
       "      <td>10</td>\n",
       "      <td>0</td>\n",
       "      <td>0.370326</td>\n",
       "      <td>-0.006316</td>\n",
       "      <td>0.222831</td>\n",
       "      <td>-0.213030</td>\n",
       "      <td>0.729277</td>\n",
       "      <td>-0.335633</td>\n",
       "      <td>0.113292</td>\n",
       "      <td>1.621238</td>\n",
       "      <td>...</td>\n",
       "      <td>0.775208</td>\n",
       "      <td>NaN</td>\n",
       "      <td>NaN</td>\n",
       "      <td>NaN</td>\n",
       "      <td>-0.414776</td>\n",
       "      <td>NaN</td>\n",
       "      <td>NaN</td>\n",
       "      <td>-2.0</td>\n",
       "      <td>NaN</td>\n",
       "      <td>-0.011753</td>\n",
       "    </tr>\n",
       "    <tr>\n",
       "      <th>1</th>\n",
       "      <td>11</td>\n",
       "      <td>0</td>\n",
       "      <td>0.014765</td>\n",
       "      <td>-0.038064</td>\n",
       "      <td>-0.017425</td>\n",
       "      <td>0.320652</td>\n",
       "      <td>-0.034134</td>\n",
       "      <td>0.004413</td>\n",
       "      <td>0.114285</td>\n",
       "      <td>-0.210185</td>\n",
       "      <td>...</td>\n",
       "      <td>0.025590</td>\n",
       "      <td>NaN</td>\n",
       "      <td>NaN</td>\n",
       "      <td>NaN</td>\n",
       "      <td>-0.273607</td>\n",
       "      <td>NaN</td>\n",
       "      <td>NaN</td>\n",
       "      <td>-2.0</td>\n",
       "      <td>NaN</td>\n",
       "      <td>-0.001240</td>\n",
       "    </tr>\n",
       "    <tr>\n",
       "      <th>2</th>\n",
       "      <td>12</td>\n",
       "      <td>0</td>\n",
       "      <td>-0.010622</td>\n",
       "      <td>-0.050577</td>\n",
       "      <td>3.379575</td>\n",
       "      <td>-0.157525</td>\n",
       "      <td>-0.068550</td>\n",
       "      <td>-0.155937</td>\n",
       "      <td>1.219439</td>\n",
       "      <td>-0.764516</td>\n",
       "      <td>...</td>\n",
       "      <td>0.151881</td>\n",
       "      <td>NaN</td>\n",
       "      <td>NaN</td>\n",
       "      <td>NaN</td>\n",
       "      <td>-0.175710</td>\n",
       "      <td>NaN</td>\n",
       "      <td>NaN</td>\n",
       "      <td>-2.0</td>\n",
       "      <td>NaN</td>\n",
       "      <td>-0.020940</td>\n",
       "    </tr>\n",
       "    <tr>\n",
       "      <th>3</th>\n",
       "      <td>25</td>\n",
       "      <td>0</td>\n",
       "      <td>NaN</td>\n",
       "      <td>NaN</td>\n",
       "      <td>NaN</td>\n",
       "      <td>NaN</td>\n",
       "      <td>NaN</td>\n",
       "      <td>0.178495</td>\n",
       "      <td>NaN</td>\n",
       "      <td>-0.007262</td>\n",
       "      <td>...</td>\n",
       "      <td>1.035936</td>\n",
       "      <td>NaN</td>\n",
       "      <td>NaN</td>\n",
       "      <td>NaN</td>\n",
       "      <td>-0.211506</td>\n",
       "      <td>NaN</td>\n",
       "      <td>NaN</td>\n",
       "      <td>-2.0</td>\n",
       "      <td>NaN</td>\n",
       "      <td>-0.015959</td>\n",
       "    </tr>\n",
       "    <tr>\n",
       "      <th>4</th>\n",
       "      <td>26</td>\n",
       "      <td>0</td>\n",
       "      <td>0.176693</td>\n",
       "      <td>-0.025284</td>\n",
       "      <td>-0.057680</td>\n",
       "      <td>0.015100</td>\n",
       "      <td>0.180894</td>\n",
       "      <td>0.139445</td>\n",
       "      <td>-0.125687</td>\n",
       "      <td>-0.018707</td>\n",
       "      <td>...</td>\n",
       "      <td>0.630232</td>\n",
       "      <td>NaN</td>\n",
       "      <td>NaN</td>\n",
       "      <td>NaN</td>\n",
       "      <td>-0.001957</td>\n",
       "      <td>NaN</td>\n",
       "      <td>NaN</td>\n",
       "      <td>0.0</td>\n",
       "      <td>NaN</td>\n",
       "      <td>-0.007338</td>\n",
       "    </tr>\n",
       "    <tr>\n",
       "      <th>5</th>\n",
       "      <td>27</td>\n",
       "      <td>0</td>\n",
       "      <td>0.346856</td>\n",
       "      <td>0.166239</td>\n",
       "      <td>-6.080701</td>\n",
       "      <td>-0.992249</td>\n",
       "      <td>-0.125916</td>\n",
       "      <td>0.345812</td>\n",
       "      <td>NaN</td>\n",
       "      <td>-0.584239</td>\n",
       "      <td>...</td>\n",
       "      <td>-0.379366</td>\n",
       "      <td>NaN</td>\n",
       "      <td>NaN</td>\n",
       "      <td>NaN</td>\n",
       "      <td>-0.001957</td>\n",
       "      <td>NaN</td>\n",
       "      <td>NaN</td>\n",
       "      <td>-2.0</td>\n",
       "      <td>NaN</td>\n",
       "      <td>0.031425</td>\n",
       "    </tr>\n",
       "    <tr>\n",
       "      <th>6</th>\n",
       "      <td>31</td>\n",
       "      <td>0</td>\n",
       "      <td>0.072036</td>\n",
       "      <td>0.014931</td>\n",
       "      <td>NaN</td>\n",
       "      <td>0.014063</td>\n",
       "      <td>NaN</td>\n",
       "      <td>-0.193205</td>\n",
       "      <td>NaN</td>\n",
       "      <td>NaN</td>\n",
       "      <td>...</td>\n",
       "      <td>1.232558</td>\n",
       "      <td>NaN</td>\n",
       "      <td>NaN</td>\n",
       "      <td>NaN</td>\n",
       "      <td>0.350685</td>\n",
       "      <td>NaN</td>\n",
       "      <td>NaN</td>\n",
       "      <td>-2.0</td>\n",
       "      <td>NaN</td>\n",
       "      <td>-0.032895</td>\n",
       "    </tr>\n",
       "    <tr>\n",
       "      <th>7</th>\n",
       "      <td>38</td>\n",
       "      <td>0</td>\n",
       "      <td>0.300062</td>\n",
       "      <td>0.071251</td>\n",
       "      <td>-0.074451</td>\n",
       "      <td>-0.065292</td>\n",
       "      <td>-0.011286</td>\n",
       "      <td>0.026365</td>\n",
       "      <td>0.210249</td>\n",
       "      <td>0.167494</td>\n",
       "      <td>...</td>\n",
       "      <td>0.242646</td>\n",
       "      <td>NaN</td>\n",
       "      <td>NaN</td>\n",
       "      <td>NaN</td>\n",
       "      <td>-0.168077</td>\n",
       "      <td>NaN</td>\n",
       "      <td>NaN</td>\n",
       "      <td>-2.0</td>\n",
       "      <td>NaN</td>\n",
       "      <td>0.015803</td>\n",
       "    </tr>\n",
       "    <tr>\n",
       "      <th>8</th>\n",
       "      <td>39</td>\n",
       "      <td>0</td>\n",
       "      <td>-0.003511</td>\n",
       "      <td>-0.034270</td>\n",
       "      <td>0.082372</td>\n",
       "      <td>-0.023937</td>\n",
       "      <td>-0.025750</td>\n",
       "      <td>0.007815</td>\n",
       "      <td>0.263451</td>\n",
       "      <td>-0.241212</td>\n",
       "      <td>...</td>\n",
       "      <td>0.186175</td>\n",
       "      <td>NaN</td>\n",
       "      <td>NaN</td>\n",
       "      <td>NaN</td>\n",
       "      <td>-0.300842</td>\n",
       "      <td>NaN</td>\n",
       "      <td>NaN</td>\n",
       "      <td>-2.0</td>\n",
       "      <td>NaN</td>\n",
       "      <td>-0.027593</td>\n",
       "    </tr>\n",
       "    <tr>\n",
       "      <th>9</th>\n",
       "      <td>40</td>\n",
       "      <td>0</td>\n",
       "      <td>-0.083330</td>\n",
       "      <td>0.081935</td>\n",
       "      <td>-2.048438</td>\n",
       "      <td>-0.206856</td>\n",
       "      <td>-0.839563</td>\n",
       "      <td>-0.234100</td>\n",
       "      <td>-0.291853</td>\n",
       "      <td>-5.722336</td>\n",
       "      <td>...</td>\n",
       "      <td>-0.021965</td>\n",
       "      <td>NaN</td>\n",
       "      <td>NaN</td>\n",
       "      <td>NaN</td>\n",
       "      <td>-0.386579</td>\n",
       "      <td>NaN</td>\n",
       "      <td>NaN</td>\n",
       "      <td>-2.0</td>\n",
       "      <td>NaN</td>\n",
       "      <td>0.006662</td>\n",
       "    </tr>\n",
       "  </tbody>\n",
       "</table>\n",
       "<p>10 rows × 111 columns</p>\n",
       "</div>"
      ],
      "text/plain": [
       "   id  timestamp  derived_0  derived_1  derived_2  derived_3  derived_4  \\\n",
       "0  10          0   0.370326  -0.006316   0.222831  -0.213030   0.729277   \n",
       "1  11          0   0.014765  -0.038064  -0.017425   0.320652  -0.034134   \n",
       "2  12          0  -0.010622  -0.050577   3.379575  -0.157525  -0.068550   \n",
       "3  25          0        NaN        NaN        NaN        NaN        NaN   \n",
       "4  26          0   0.176693  -0.025284  -0.057680   0.015100   0.180894   \n",
       "5  27          0   0.346856   0.166239  -6.080701  -0.992249  -0.125916   \n",
       "6  31          0   0.072036   0.014931        NaN   0.014063        NaN   \n",
       "7  38          0   0.300062   0.071251  -0.074451  -0.065292  -0.011286   \n",
       "8  39          0  -0.003511  -0.034270   0.082372  -0.023937  -0.025750   \n",
       "9  40          0  -0.083330   0.081935  -2.048438  -0.206856  -0.839563   \n",
       "\n",
       "   fundamental_0  fundamental_1  fundamental_2    ...     technical_36  \\\n",
       "0      -0.335633       0.113292       1.621238    ...         0.775208   \n",
       "1       0.004413       0.114285      -0.210185    ...         0.025590   \n",
       "2      -0.155937       1.219439      -0.764516    ...         0.151881   \n",
       "3       0.178495            NaN      -0.007262    ...         1.035936   \n",
       "4       0.139445      -0.125687      -0.018707    ...         0.630232   \n",
       "5       0.345812            NaN      -0.584239    ...        -0.379366   \n",
       "6      -0.193205            NaN            NaN    ...         1.232558   \n",
       "7       0.026365       0.210249       0.167494    ...         0.242646   \n",
       "8       0.007815       0.263451      -0.241212    ...         0.186175   \n",
       "9      -0.234100      -0.291853      -5.722336    ...        -0.021965   \n",
       "\n",
       "   technical_37  technical_38  technical_39  technical_40  technical_41  \\\n",
       "0           NaN           NaN           NaN     -0.414776           NaN   \n",
       "1           NaN           NaN           NaN     -0.273607           NaN   \n",
       "2           NaN           NaN           NaN     -0.175710           NaN   \n",
       "3           NaN           NaN           NaN     -0.211506           NaN   \n",
       "4           NaN           NaN           NaN     -0.001957           NaN   \n",
       "5           NaN           NaN           NaN     -0.001957           NaN   \n",
       "6           NaN           NaN           NaN      0.350685           NaN   \n",
       "7           NaN           NaN           NaN     -0.168077           NaN   \n",
       "8           NaN           NaN           NaN     -0.300842           NaN   \n",
       "9           NaN           NaN           NaN     -0.386579           NaN   \n",
       "\n",
       "   technical_42  technical_43  technical_44         y  \n",
       "0           NaN          -2.0           NaN -0.011753  \n",
       "1           NaN          -2.0           NaN -0.001240  \n",
       "2           NaN          -2.0           NaN -0.020940  \n",
       "3           NaN          -2.0           NaN -0.015959  \n",
       "4           NaN           0.0           NaN -0.007338  \n",
       "5           NaN          -2.0           NaN  0.031425  \n",
       "6           NaN          -2.0           NaN -0.032895  \n",
       "7           NaN          -2.0           NaN  0.015803  \n",
       "8           NaN          -2.0           NaN -0.027593  \n",
       "9           NaN          -2.0           NaN  0.006662  \n",
       "\n",
       "[10 rows x 111 columns]"
      ]
     },
     "execution_count": 25,
     "metadata": {},
     "output_type": "execute_result"
    }
   ],
   "source": [
    "train[:10]"
   ]
  },
  {
   "cell_type": "markdown",
   "metadata": {},
   "source": [
    "seems only work with one groupby col"
   ]
  },
  {
   "cell_type": "markdown",
   "metadata": {},
   "source": [
    "# How long does it take on whole data? "
   ]
  },
  {
   "cell_type": "code",
   "execution_count": 28,
   "metadata": {
    "collapsed": true
   },
   "outputs": [],
   "source": [
    "import timeit"
   ]
  },
  {
   "cell_type": "code",
   "execution_count": 32,
   "metadata": {
    "collapsed": false
   },
   "outputs": [],
   "source": [
    "t0 = timeit.timeit\n",
    "for col in origin_features:\n",
    "    train[col] = train[col].fillna(gp_t34[col].transform(\"mean\"))\n",
    "t1 = timeit.timeit"
   ]
  },
  {
   "cell_type": "markdown",
   "metadata": {},
   "source": [
    "in a minite"
   ]
  },
  {
   "cell_type": "code",
   "execution_count": 34,
   "metadata": {
    "collapsed": true
   },
   "outputs": [],
   "source": [
    "gp_t22 = train.groupby('technical_22')"
   ]
  },
  {
   "cell_type": "code",
   "execution_count": 29,
   "metadata": {
    "collapsed": true
   },
   "outputs": [],
   "source": [
    "gp_t34 = train.groupby('technical_34')"
   ]
  },
  {
   "cell_type": "code",
   "execution_count": 59,
   "metadata": {
    "collapsed": false
   },
   "outputs": [],
   "source": [
    "t22_larger = gp_t22.std().mean() - gp_t34.std().mean()"
   ]
  },
  {
   "cell_type": "code",
   "execution_count": 60,
   "metadata": {
    "collapsed": true
   },
   "outputs": [],
   "source": [
    "t22_feature = t22_larger[t22_larger < 0].index"
   ]
  },
  {
   "cell_type": "code",
   "execution_count": 61,
   "metadata": {
    "collapsed": true
   },
   "outputs": [],
   "source": [
    "t34_feature = t22_larger.drop(t22_feature).index"
   ]
  },
  {
   "cell_type": "code",
   "execution_count": 62,
   "metadata": {
    "collapsed": true
   },
   "outputs": [],
   "source": [
    "t22_feature = [col for col in t22_feature if col not in ['technical_22', 'technical_34', 'id', 'timestamp', 'y']]"
   ]
  },
  {
   "cell_type": "code",
   "execution_count": 63,
   "metadata": {
    "collapsed": false
   },
   "outputs": [],
   "source": [
    "t34_feature = [col for col in t34_feature if col not in ['technical_22', 'technical_34', 'id', 'timestamp', 'y']]"
   ]
  },
  {
   "cell_type": "code",
   "execution_count": 64,
   "metadata": {
    "collapsed": false
   },
   "outputs": [
    {
     "data": {
      "text/plain": [
       "['derived_2',\n",
       " 'derived_3',\n",
       " 'fundamental_0',\n",
       " 'fundamental_1',\n",
       " 'fundamental_12',\n",
       " 'fundamental_24',\n",
       " 'fundamental_25',\n",
       " 'fundamental_28',\n",
       " 'fundamental_3',\n",
       " 'fundamental_32',\n",
       " 'fundamental_33',\n",
       " 'fundamental_36',\n",
       " 'fundamental_38',\n",
       " 'fundamental_39',\n",
       " 'fundamental_41',\n",
       " 'fundamental_44',\n",
       " 'fundamental_46',\n",
       " 'fundamental_49',\n",
       " 'fundamental_56',\n",
       " 'fundamental_58',\n",
       " 'fundamental_61',\n",
       " 'fundamental_7',\n",
       " 'fundamental_8',\n",
       " 'technical_0',\n",
       " 'technical_12',\n",
       " 'technical_18',\n",
       " 'technical_25',\n",
       " 'technical_28',\n",
       " 'technical_3',\n",
       " 'technical_31',\n",
       " 'technical_32',\n",
       " 'technical_33',\n",
       " 'technical_37',\n",
       " 'technical_39',\n",
       " 'technical_42',\n",
       " 'technical_5']"
      ]
     },
     "execution_count": 64,
     "metadata": {},
     "output_type": "execute_result"
    }
   ],
   "source": [
    "t34_feature"
   ]
  },
  {
   "cell_type": "code",
   "execution_count": 65,
   "metadata": {
    "collapsed": false
   },
   "outputs": [
    {
     "data": {
      "text/plain": [
       "['derived_0',\n",
       " 'derived_1',\n",
       " 'derived_4',\n",
       " 'fundamental_10',\n",
       " 'fundamental_11',\n",
       " 'fundamental_13',\n",
       " 'fundamental_14',\n",
       " 'fundamental_15',\n",
       " 'fundamental_16',\n",
       " 'fundamental_17',\n",
       " 'fundamental_18',\n",
       " 'fundamental_19',\n",
       " 'fundamental_2',\n",
       " 'fundamental_20',\n",
       " 'fundamental_21',\n",
       " 'fundamental_22',\n",
       " 'fundamental_23',\n",
       " 'fundamental_26',\n",
       " 'fundamental_27',\n",
       " 'fundamental_29',\n",
       " 'fundamental_30',\n",
       " 'fundamental_31',\n",
       " 'fundamental_34',\n",
       " 'fundamental_35',\n",
       " 'fundamental_37',\n",
       " 'fundamental_40',\n",
       " 'fundamental_42',\n",
       " 'fundamental_43',\n",
       " 'fundamental_45',\n",
       " 'fundamental_47',\n",
       " 'fundamental_48',\n",
       " 'fundamental_5',\n",
       " 'fundamental_50',\n",
       " 'fundamental_51',\n",
       " 'fundamental_52',\n",
       " 'fundamental_53',\n",
       " 'fundamental_54',\n",
       " 'fundamental_55',\n",
       " 'fundamental_57',\n",
       " 'fundamental_59',\n",
       " 'fundamental_6',\n",
       " 'fundamental_60',\n",
       " 'fundamental_62',\n",
       " 'fundamental_63',\n",
       " 'fundamental_9',\n",
       " 'technical_1',\n",
       " 'technical_10',\n",
       " 'technical_11',\n",
       " 'technical_13',\n",
       " 'technical_14',\n",
       " 'technical_16',\n",
       " 'technical_17',\n",
       " 'technical_19',\n",
       " 'technical_2',\n",
       " 'technical_20',\n",
       " 'technical_21',\n",
       " 'technical_24',\n",
       " 'technical_27',\n",
       " 'technical_29',\n",
       " 'technical_30',\n",
       " 'technical_35',\n",
       " 'technical_36',\n",
       " 'technical_38',\n",
       " 'technical_40',\n",
       " 'technical_41',\n",
       " 'technical_43',\n",
       " 'technical_44',\n",
       " 'technical_6',\n",
       " 'technical_7',\n",
       " 'technical_9']"
      ]
     },
     "execution_count": 65,
     "metadata": {},
     "output_type": "execute_result"
    }
   ],
   "source": [
    "t22_feature"
   ]
  },
  {
   "cell_type": "code",
   "execution_count": 57,
   "metadata": {
    "collapsed": false
   },
   "outputs": [
    {
     "data": {
      "text/html": [
       "<div>\n",
       "<table border=\"1\" class=\"dataframe\">\n",
       "  <thead>\n",
       "    <tr style=\"text-align: right;\">\n",
       "      <th></th>\n",
       "      <th>id</th>\n",
       "      <th>timestamp</th>\n",
       "      <th>derived_0</th>\n",
       "      <th>derived_1</th>\n",
       "      <th>derived_2</th>\n",
       "      <th>derived_3</th>\n",
       "      <th>derived_4</th>\n",
       "      <th>fundamental_0</th>\n",
       "      <th>fundamental_1</th>\n",
       "      <th>fundamental_2</th>\n",
       "      <th>...</th>\n",
       "      <th>technical_36</th>\n",
       "      <th>technical_37</th>\n",
       "      <th>technical_38</th>\n",
       "      <th>technical_39</th>\n",
       "      <th>technical_40</th>\n",
       "      <th>technical_41</th>\n",
       "      <th>technical_42</th>\n",
       "      <th>technical_43</th>\n",
       "      <th>technical_44</th>\n",
       "      <th>y</th>\n",
       "    </tr>\n",
       "    <tr>\n",
       "      <th>technical_22</th>\n",
       "      <th></th>\n",
       "      <th></th>\n",
       "      <th></th>\n",
       "      <th></th>\n",
       "      <th></th>\n",
       "      <th></th>\n",
       "      <th></th>\n",
       "      <th></th>\n",
       "      <th></th>\n",
       "      <th></th>\n",
       "      <th></th>\n",
       "      <th></th>\n",
       "      <th></th>\n",
       "      <th></th>\n",
       "      <th></th>\n",
       "      <th></th>\n",
       "      <th></th>\n",
       "      <th></th>\n",
       "      <th></th>\n",
       "      <th></th>\n",
       "      <th></th>\n",
       "    </tr>\n",
       "  </thead>\n",
       "  <tbody>\n",
       "    <tr>\n",
       "      <th>-0.5</th>\n",
       "      <td>645.628554</td>\n",
       "      <td>519.521150</td>\n",
       "      <td>10.938387</td>\n",
       "      <td>1.838488e+13</td>\n",
       "      <td>28.881748</td>\n",
       "      <td>18.432194</td>\n",
       "      <td>17.259764</td>\n",
       "      <td>0.219686</td>\n",
       "      <td>6.027424e+08</td>\n",
       "      <td>0.959341</td>\n",
       "      <td>...</td>\n",
       "      <td>0.312348</td>\n",
       "      <td>0.239122</td>\n",
       "      <td>0.240359</td>\n",
       "      <td>0.222952</td>\n",
       "      <td>0.139891</td>\n",
       "      <td>0.111726</td>\n",
       "      <td>0.223008</td>\n",
       "      <td>0.942206</td>\n",
       "      <td>0.028609</td>\n",
       "      <td>0.013988</td>\n",
       "    </tr>\n",
       "    <tr>\n",
       "      <th>0.0</th>\n",
       "      <td>624.809010</td>\n",
       "      <td>519.917191</td>\n",
       "      <td>38.580242</td>\n",
       "      <td>1.051660e+14</td>\n",
       "      <td>15.414596</td>\n",
       "      <td>26.497837</td>\n",
       "      <td>77.635847</td>\n",
       "      <td>0.242579</td>\n",
       "      <td>1.008643e+11</td>\n",
       "      <td>2.247872</td>\n",
       "      <td>...</td>\n",
       "      <td>0.486326</td>\n",
       "      <td>0.252223</td>\n",
       "      <td>0.232458</td>\n",
       "      <td>0.225627</td>\n",
       "      <td>0.188395</td>\n",
       "      <td>0.112148</td>\n",
       "      <td>0.204414</td>\n",
       "      <td>0.956006</td>\n",
       "      <td>0.027877</td>\n",
       "      <td>0.019465</td>\n",
       "    </tr>\n",
       "    <tr>\n",
       "      <th>0.5</th>\n",
       "      <td>621.395693</td>\n",
       "      <td>519.250842</td>\n",
       "      <td>424.438876</td>\n",
       "      <td>7.255248e+13</td>\n",
       "      <td>93.986369</td>\n",
       "      <td>167.042788</td>\n",
       "      <td>1408.575655</td>\n",
       "      <td>0.267845</td>\n",
       "      <td>7.306966e+08</td>\n",
       "      <td>5.109035</td>\n",
       "      <td>...</td>\n",
       "      <td>0.883195</td>\n",
       "      <td>0.247405</td>\n",
       "      <td>0.222312</td>\n",
       "      <td>0.216225</td>\n",
       "      <td>0.352361</td>\n",
       "      <td>0.112018</td>\n",
       "      <td>0.203865</td>\n",
       "      <td>0.952392</td>\n",
       "      <td>0.027390</td>\n",
       "      <td>0.030737</td>\n",
       "    </tr>\n",
       "  </tbody>\n",
       "</table>\n",
       "<p>3 rows × 110 columns</p>\n",
       "</div>"
      ],
      "text/plain": [
       "                      id   timestamp   derived_0     derived_1  derived_2  \\\n",
       "technical_22                                                                \n",
       "-0.5          645.628554  519.521150   10.938387  1.838488e+13  28.881748   \n",
       " 0.0          624.809010  519.917191   38.580242  1.051660e+14  15.414596   \n",
       " 0.5          621.395693  519.250842  424.438876  7.255248e+13  93.986369   \n",
       "\n",
       "               derived_3    derived_4  fundamental_0  fundamental_1  \\\n",
       "technical_22                                                          \n",
       "-0.5           18.432194    17.259764       0.219686   6.027424e+08   \n",
       " 0.0           26.497837    77.635847       0.242579   1.008643e+11   \n",
       " 0.5          167.042788  1408.575655       0.267845   7.306966e+08   \n",
       "\n",
       "              fundamental_2    ...     technical_36  technical_37  \\\n",
       "technical_22                   ...                                  \n",
       "-0.5               0.959341    ...         0.312348      0.239122   \n",
       " 0.0               2.247872    ...         0.486326      0.252223   \n",
       " 0.5               5.109035    ...         0.883195      0.247405   \n",
       "\n",
       "              technical_38  technical_39  technical_40  technical_41  \\\n",
       "technical_22                                                           \n",
       "-0.5              0.240359      0.222952      0.139891      0.111726   \n",
       " 0.0              0.232458      0.225627      0.188395      0.112148   \n",
       " 0.5              0.222312      0.216225      0.352361      0.112018   \n",
       "\n",
       "              technical_42  technical_43  technical_44         y  \n",
       "technical_22                                                      \n",
       "-0.5              0.223008      0.942206      0.028609  0.013988  \n",
       " 0.0              0.204414      0.956006      0.027877  0.019465  \n",
       " 0.5              0.203865      0.952392      0.027390  0.030737  \n",
       "\n",
       "[3 rows x 110 columns]"
      ]
     },
     "execution_count": 57,
     "metadata": {},
     "output_type": "execute_result"
    }
   ],
   "source": [
    "gp_t22.std()"
   ]
  },
  {
   "cell_type": "code",
   "execution_count": 58,
   "metadata": {
    "collapsed": false
   },
   "outputs": [
    {
     "data": {
      "text/html": [
       "<div>\n",
       "<table border=\"1\" class=\"dataframe\">\n",
       "  <thead>\n",
       "    <tr style=\"text-align: right;\">\n",
       "      <th></th>\n",
       "      <th>id</th>\n",
       "      <th>timestamp</th>\n",
       "      <th>derived_0</th>\n",
       "      <th>derived_1</th>\n",
       "      <th>derived_2</th>\n",
       "      <th>derived_3</th>\n",
       "      <th>derived_4</th>\n",
       "      <th>fundamental_0</th>\n",
       "      <th>fundamental_1</th>\n",
       "      <th>fundamental_2</th>\n",
       "      <th>...</th>\n",
       "      <th>technical_36</th>\n",
       "      <th>technical_37</th>\n",
       "      <th>technical_38</th>\n",
       "      <th>technical_39</th>\n",
       "      <th>technical_40</th>\n",
       "      <th>technical_41</th>\n",
       "      <th>technical_42</th>\n",
       "      <th>technical_43</th>\n",
       "      <th>technical_44</th>\n",
       "      <th>y</th>\n",
       "    </tr>\n",
       "    <tr>\n",
       "      <th>technical_34</th>\n",
       "      <th></th>\n",
       "      <th></th>\n",
       "      <th></th>\n",
       "      <th></th>\n",
       "      <th></th>\n",
       "      <th></th>\n",
       "      <th></th>\n",
       "      <th></th>\n",
       "      <th></th>\n",
       "      <th></th>\n",
       "      <th></th>\n",
       "      <th></th>\n",
       "      <th></th>\n",
       "      <th></th>\n",
       "      <th></th>\n",
       "      <th></th>\n",
       "      <th></th>\n",
       "      <th></th>\n",
       "      <th></th>\n",
       "      <th></th>\n",
       "      <th></th>\n",
       "    </tr>\n",
       "  </thead>\n",
       "  <tbody>\n",
       "    <tr>\n",
       "      <th>-0.5</th>\n",
       "      <td>628.173075</td>\n",
       "      <td>519.543698</td>\n",
       "      <td>387.554613</td>\n",
       "      <td>1.066250e+14</td>\n",
       "      <td>16.185400</td>\n",
       "      <td>21.135446</td>\n",
       "      <td>1298.226001</td>\n",
       "      <td>0.220321</td>\n",
       "      <td>1.007155e+11</td>\n",
       "      <td>4.057551</td>\n",
       "      <td>...</td>\n",
       "      <td>0.528906</td>\n",
       "      <td>0.273009</td>\n",
       "      <td>0.246940</td>\n",
       "      <td>0.246292</td>\n",
       "      <td>0.343941</td>\n",
       "      <td>0.111510</td>\n",
       "      <td>0.242800</td>\n",
       "      <td>0.966754</td>\n",
       "      <td>0.027496</td>\n",
       "      <td>0.022865</td>\n",
       "    </tr>\n",
       "    <tr>\n",
       "      <th>0.0</th>\n",
       "      <td>634.327724</td>\n",
       "      <td>519.240119</td>\n",
       "      <td>159.631020</td>\n",
       "      <td>5.894007e+13</td>\n",
       "      <td>95.622799</td>\n",
       "      <td>13.489698</td>\n",
       "      <td>488.841168</td>\n",
       "      <td>0.219669</td>\n",
       "      <td>1.390344e+07</td>\n",
       "      <td>3.831787</td>\n",
       "      <td>...</td>\n",
       "      <td>0.620577</td>\n",
       "      <td>0.241999</td>\n",
       "      <td>0.229720</td>\n",
       "      <td>0.219095</td>\n",
       "      <td>0.279228</td>\n",
       "      <td>0.112010</td>\n",
       "      <td>0.204950</td>\n",
       "      <td>0.956615</td>\n",
       "      <td>0.027873</td>\n",
       "      <td>0.022183</td>\n",
       "    </tr>\n",
       "    <tr>\n",
       "      <th>0.5</th>\n",
       "      <td>628.943363</td>\n",
       "      <td>519.856271</td>\n",
       "      <td>54.748925</td>\n",
       "      <td>4.153342e+13</td>\n",
       "      <td>20.348933</td>\n",
       "      <td>167.011531</td>\n",
       "      <td>175.239050</td>\n",
       "      <td>0.237089</td>\n",
       "      <td>4.047384e+00</td>\n",
       "      <td>0.801616</td>\n",
       "      <td>...</td>\n",
       "      <td>0.669042</td>\n",
       "      <td>0.220151</td>\n",
       "      <td>0.218515</td>\n",
       "      <td>0.196411</td>\n",
       "      <td>0.296914</td>\n",
       "      <td>0.112373</td>\n",
       "      <td>0.178496</td>\n",
       "      <td>0.952512</td>\n",
       "      <td>0.028529</td>\n",
       "      <td>0.022208</td>\n",
       "    </tr>\n",
       "  </tbody>\n",
       "</table>\n",
       "<p>3 rows × 110 columns</p>\n",
       "</div>"
      ],
      "text/plain": [
       "                      id   timestamp   derived_0     derived_1  derived_2  \\\n",
       "technical_34                                                                \n",
       "-0.5          628.173075  519.543698  387.554613  1.066250e+14  16.185400   \n",
       " 0.0          634.327724  519.240119  159.631020  5.894007e+13  95.622799   \n",
       " 0.5          628.943363  519.856271   54.748925  4.153342e+13  20.348933   \n",
       "\n",
       "               derived_3    derived_4  fundamental_0  fundamental_1  \\\n",
       "technical_34                                                          \n",
       "-0.5           21.135446  1298.226001       0.220321   1.007155e+11   \n",
       " 0.0           13.489698   488.841168       0.219669   1.390344e+07   \n",
       " 0.5          167.011531   175.239050       0.237089   4.047384e+00   \n",
       "\n",
       "              fundamental_2    ...     technical_36  technical_37  \\\n",
       "technical_34                   ...                                  \n",
       "-0.5               4.057551    ...         0.528906      0.273009   \n",
       " 0.0               3.831787    ...         0.620577      0.241999   \n",
       " 0.5               0.801616    ...         0.669042      0.220151   \n",
       "\n",
       "              technical_38  technical_39  technical_40  technical_41  \\\n",
       "technical_34                                                           \n",
       "-0.5              0.246940      0.246292      0.343941      0.111510   \n",
       " 0.0              0.229720      0.219095      0.279228      0.112010   \n",
       " 0.5              0.218515      0.196411      0.296914      0.112373   \n",
       "\n",
       "              technical_42  technical_43  technical_44         y  \n",
       "technical_34                                                      \n",
       "-0.5              0.242800      0.966754      0.027496  0.022865  \n",
       " 0.0              0.204950      0.956615      0.027873  0.022183  \n",
       " 0.5              0.178496      0.952512      0.028529  0.022208  \n",
       "\n",
       "[3 rows x 110 columns]"
      ]
     },
     "execution_count": 58,
     "metadata": {},
     "output_type": "execute_result"
    }
   ],
   "source": [
    "gp_t34.std()"
   ]
  },
  {
   "cell_type": "markdown",
   "metadata": {},
   "source": [
    "# Let's fill it "
   ]
  },
  {
   "cell_type": "code",
   "execution_count": 66,
   "metadata": {
    "collapsed": false
   },
   "outputs": [
    {
     "data": {
      "text/html": [
       "<div>\n",
       "<table border=\"1\" class=\"dataframe\">\n",
       "  <thead>\n",
       "    <tr style=\"text-align: right;\">\n",
       "      <th></th>\n",
       "      <th>id</th>\n",
       "      <th>timestamp</th>\n",
       "      <th>derived_0</th>\n",
       "      <th>derived_1</th>\n",
       "      <th>derived_2</th>\n",
       "      <th>derived_3</th>\n",
       "      <th>derived_4</th>\n",
       "      <th>fundamental_0</th>\n",
       "      <th>fundamental_1</th>\n",
       "      <th>fundamental_2</th>\n",
       "      <th>...</th>\n",
       "      <th>technical_36</th>\n",
       "      <th>technical_37</th>\n",
       "      <th>technical_38</th>\n",
       "      <th>technical_39</th>\n",
       "      <th>technical_40</th>\n",
       "      <th>technical_41</th>\n",
       "      <th>technical_42</th>\n",
       "      <th>technical_43</th>\n",
       "      <th>technical_44</th>\n",
       "      <th>y</th>\n",
       "    </tr>\n",
       "  </thead>\n",
       "  <tbody>\n",
       "    <tr>\n",
       "      <th>0</th>\n",
       "      <td>10</td>\n",
       "      <td>0</td>\n",
       "      <td>0.370326</td>\n",
       "      <td>-0.006316</td>\n",
       "      <td>0.222831</td>\n",
       "      <td>-0.213030</td>\n",
       "      <td>0.729277</td>\n",
       "      <td>-0.335633</td>\n",
       "      <td>0.113292</td>\n",
       "      <td>1.621238</td>\n",
       "      <td>...</td>\n",
       "      <td>0.775208</td>\n",
       "      <td>-0.092491</td>\n",
       "      <td>-0.083389</td>\n",
       "      <td>-0.074990</td>\n",
       "      <td>-0.414776</td>\n",
       "      <td>0.005634</td>\n",
       "      <td>-0.012823</td>\n",
       "      <td>-2.0</td>\n",
       "      <td>0.000456</td>\n",
       "      <td>-0.011753</td>\n",
       "    </tr>\n",
       "    <tr>\n",
       "      <th>1</th>\n",
       "      <td>11</td>\n",
       "      <td>0</td>\n",
       "      <td>0.014765</td>\n",
       "      <td>-0.038064</td>\n",
       "      <td>-0.017425</td>\n",
       "      <td>0.320652</td>\n",
       "      <td>-0.034134</td>\n",
       "      <td>0.004413</td>\n",
       "      <td>0.114285</td>\n",
       "      <td>-0.210185</td>\n",
       "      <td>...</td>\n",
       "      <td>0.025590</td>\n",
       "      <td>-0.076664</td>\n",
       "      <td>-0.076388</td>\n",
       "      <td>-0.061450</td>\n",
       "      <td>-0.273607</td>\n",
       "      <td>0.004962</td>\n",
       "      <td>-0.002897</td>\n",
       "      <td>-2.0</td>\n",
       "      <td>0.000848</td>\n",
       "      <td>-0.001240</td>\n",
       "    </tr>\n",
       "    <tr>\n",
       "      <th>2</th>\n",
       "      <td>12</td>\n",
       "      <td>0</td>\n",
       "      <td>-0.010622</td>\n",
       "      <td>-0.050577</td>\n",
       "      <td>3.379575</td>\n",
       "      <td>-0.157525</td>\n",
       "      <td>-0.068550</td>\n",
       "      <td>-0.155937</td>\n",
       "      <td>1.219439</td>\n",
       "      <td>-0.764516</td>\n",
       "      <td>...</td>\n",
       "      <td>0.151881</td>\n",
       "      <td>-0.104106</td>\n",
       "      <td>-0.085064</td>\n",
       "      <td>-0.082283</td>\n",
       "      <td>-0.175710</td>\n",
       "      <td>0.005118</td>\n",
       "      <td>-0.035272</td>\n",
       "      <td>-2.0</td>\n",
       "      <td>-0.000178</td>\n",
       "      <td>-0.020940</td>\n",
       "    </tr>\n",
       "    <tr>\n",
       "      <th>3</th>\n",
       "      <td>25</td>\n",
       "      <td>0</td>\n",
       "      <td>0.138242</td>\n",
       "      <td>0.067212</td>\n",
       "      <td>-1.206004</td>\n",
       "      <td>-0.355480</td>\n",
       "      <td>-0.261329</td>\n",
       "      <td>0.178495</td>\n",
       "      <td>0.379278</td>\n",
       "      <td>-0.007262</td>\n",
       "      <td>...</td>\n",
       "      <td>1.035936</td>\n",
       "      <td>-0.104106</td>\n",
       "      <td>-0.085064</td>\n",
       "      <td>-0.082283</td>\n",
       "      <td>-0.211506</td>\n",
       "      <td>0.005118</td>\n",
       "      <td>-0.035272</td>\n",
       "      <td>-2.0</td>\n",
       "      <td>-0.000178</td>\n",
       "      <td>-0.015959</td>\n",
       "    </tr>\n",
       "    <tr>\n",
       "      <th>4</th>\n",
       "      <td>26</td>\n",
       "      <td>0</td>\n",
       "      <td>0.176693</td>\n",
       "      <td>-0.025284</td>\n",
       "      <td>-0.057680</td>\n",
       "      <td>0.015100</td>\n",
       "      <td>0.180894</td>\n",
       "      <td>0.139445</td>\n",
       "      <td>-0.125687</td>\n",
       "      <td>-0.018707</td>\n",
       "      <td>...</td>\n",
       "      <td>0.630232</td>\n",
       "      <td>-0.076664</td>\n",
       "      <td>-0.076388</td>\n",
       "      <td>-0.061450</td>\n",
       "      <td>-0.001957</td>\n",
       "      <td>0.004962</td>\n",
       "      <td>-0.002897</td>\n",
       "      <td>0.0</td>\n",
       "      <td>0.000848</td>\n",
       "      <td>-0.007338</td>\n",
       "    </tr>\n",
       "  </tbody>\n",
       "</table>\n",
       "<p>5 rows × 111 columns</p>\n",
       "</div>"
      ],
      "text/plain": [
       "   id  timestamp  derived_0  derived_1  derived_2  derived_3  derived_4  \\\n",
       "0  10          0   0.370326  -0.006316   0.222831  -0.213030   0.729277   \n",
       "1  11          0   0.014765  -0.038064  -0.017425   0.320652  -0.034134   \n",
       "2  12          0  -0.010622  -0.050577   3.379575  -0.157525  -0.068550   \n",
       "3  25          0   0.138242   0.067212  -1.206004  -0.355480  -0.261329   \n",
       "4  26          0   0.176693  -0.025284  -0.057680   0.015100   0.180894   \n",
       "\n",
       "   fundamental_0  fundamental_1  fundamental_2    ...     technical_36  \\\n",
       "0      -0.335633       0.113292       1.621238    ...         0.775208   \n",
       "1       0.004413       0.114285      -0.210185    ...         0.025590   \n",
       "2      -0.155937       1.219439      -0.764516    ...         0.151881   \n",
       "3       0.178495       0.379278      -0.007262    ...         1.035936   \n",
       "4       0.139445      -0.125687      -0.018707    ...         0.630232   \n",
       "\n",
       "   technical_37  technical_38  technical_39  technical_40  technical_41  \\\n",
       "0     -0.092491     -0.083389     -0.074990     -0.414776      0.005634   \n",
       "1     -0.076664     -0.076388     -0.061450     -0.273607      0.004962   \n",
       "2     -0.104106     -0.085064     -0.082283     -0.175710      0.005118   \n",
       "3     -0.104106     -0.085064     -0.082283     -0.211506      0.005118   \n",
       "4     -0.076664     -0.076388     -0.061450     -0.001957      0.004962   \n",
       "\n",
       "   technical_42  technical_43  technical_44         y  \n",
       "0     -0.012823          -2.0      0.000456 -0.011753  \n",
       "1     -0.002897          -2.0      0.000848 -0.001240  \n",
       "2     -0.035272          -2.0     -0.000178 -0.020940  \n",
       "3     -0.035272          -2.0     -0.000178 -0.015959  \n",
       "4     -0.002897           0.0      0.000848 -0.007338  \n",
       "\n",
       "[5 rows x 111 columns]"
      ]
     },
     "execution_count": 66,
     "metadata": {},
     "output_type": "execute_result"
    }
   ],
   "source": [
    "train.head()"
   ]
  },
  {
   "cell_type": "markdown",
   "metadata": {},
   "source": [
    "# Creat dummy features "
   ]
  },
  {
   "cell_type": "code",
   "execution_count": 41,
   "metadata": {
    "collapsed": true
   },
   "outputs": [],
   "source": [
    "t22_dummy = pd.get_dummies(train.technical_22, prefix='t22')\n",
    "train = pd.concat([train, t22_dummy], axis=1)"
   ]
  },
  {
   "cell_type": "code",
   "execution_count": 43,
   "metadata": {
    "collapsed": false
   },
   "outputs": [],
   "source": [
    "t34_dummy = pd.get_dummies(train.technical_34, prefix='t34')\n",
    "train = pd.concat([train, t34_dummy], axis=1)"
   ]
  },
  {
   "cell_type": "code",
   "execution_count": 45,
   "metadata": {
    "collapsed": false
   },
   "outputs": [],
   "source": [
    "train.drop(['technical_22', 'technical_34'], axis=1, inplace=True)"
   ]
  },
  {
   "cell_type": "code",
   "execution_count": 46,
   "metadata": {
    "collapsed": false
   },
   "outputs": [
    {
     "name": "stdout",
     "output_type": "stream",
     "text": [
      "<class 'pandas.core.frame.DataFrame'>\n",
      "Int64Index: 1710756 entries, 0 to 1710755\n",
      "Columns: 115 entries, id to t34_0.5\n",
      "dtypes: float32(107), int16(2), uint8(6)\n",
      "memory usage: 727.7 MB\n"
     ]
    }
   ],
   "source": [
    "train.info()"
   ]
  },
  {
   "cell_type": "code",
   "execution_count": 48,
   "metadata": {
    "collapsed": false
   },
   "outputs": [],
   "source": [
    "origin_features = twosigmafunc.origin_features(train)"
   ]
  },
  {
   "cell_type": "code",
   "execution_count": 50,
   "metadata": {
    "collapsed": false
   },
   "outputs": [],
   "source": [
    "from sklearn.ensemble import ExtraTreesRegressor"
   ]
  },
  {
   "cell_type": "code",
   "execution_count": 51,
   "metadata": {
    "collapsed": true
   },
   "outputs": [],
   "source": [
    "etr = ExtraTreesRegressor(n_estimators=40, max_depth=4, max_features='sqrt', min_samples_leaf=10, random_state=11, n_jobs=-1)"
   ]
  },
  {
   "cell_type": "code",
   "execution_count": 52,
   "metadata": {
    "collapsed": true
   },
   "outputs": [],
   "source": [
    "X_train, y_train, X_test, y_test = twosigmafunc.split_data(train, origin_features)"
   ]
  },
  {
   "cell_type": "code",
   "execution_count": 54,
   "metadata": {
    "collapsed": false
   },
   "outputs": [
    {
     "data": {
      "text/plain": [
       "ExtraTreesRegressor(bootstrap=False, criterion='mse', max_depth=4,\n",
       "          max_features='sqrt', max_leaf_nodes=None,\n",
       "          min_impurity_split=1e-07, min_samples_leaf=10,\n",
       "          min_samples_split=2, min_weight_fraction_leaf=0.0,\n",
       "          n_estimators=40, n_jobs=-1, oob_score=False, random_state=11,\n",
       "          verbose=0, warm_start=False)"
      ]
     },
     "execution_count": 54,
     "metadata": {},
     "output_type": "execute_result"
    }
   ],
   "source": [
    "etr.fit(X_train, y_train)"
   ]
  },
  {
   "cell_type": "code",
   "execution_count": 55,
   "metadata": {
    "collapsed": true
   },
   "outputs": [],
   "source": [
    "pred = etr.predict(X_test)"
   ]
  },
  {
   "cell_type": "code",
   "execution_count": 56,
   "metadata": {
    "collapsed": false
   },
   "outputs": [
    {
     "data": {
      "text/plain": [
       "0.010193361807766315"
      ]
     },
     "execution_count": 56,
     "metadata": {},
     "output_type": "execute_result"
    }
   ],
   "source": [
    "twosigmafunc.R_score(pred, y_test)"
   ]
  },
  {
   "cell_type": "code",
   "execution_count": 57,
   "metadata": {
    "collapsed": false
   },
   "outputs": [
    {
     "data": {
      "text/plain": [
       "0.021163241202072258"
      ]
     },
     "execution_count": 57,
     "metadata": {},
     "output_type": "execute_result"
    }
   ],
   "source": [
    "pred = etr.predict(X_train)\n",
    "twosigmafunc.R_score(pred, y_train)"
   ]
  },
  {
   "cell_type": "code",
   "execution_count": 60,
   "metadata": {
    "collapsed": false
   },
   "outputs": [
    {
     "data": {
      "text/html": [
       "<div>\n",
       "<table border=\"1\" class=\"dataframe\">\n",
       "  <thead>\n",
       "    <tr style=\"text-align: right;\">\n",
       "      <th></th>\n",
       "      <th>feature</th>\n",
       "      <th>important</th>\n",
       "    </tr>\n",
       "  </thead>\n",
       "  <tbody>\n",
       "    <tr>\n",
       "      <th>55</th>\n",
       "      <td>fundamental_51</td>\n",
       "      <td>0.083280</td>\n",
       "    </tr>\n",
       "    <tr>\n",
       "      <th>15</th>\n",
       "      <td>fundamental_11</td>\n",
       "      <td>0.078693</td>\n",
       "    </tr>\n",
       "    <tr>\n",
       "      <th>92</th>\n",
       "      <td>technical_30</td>\n",
       "      <td>0.069579</td>\n",
       "    </tr>\n",
       "    <tr>\n",
       "      <th>85</th>\n",
       "      <td>technical_20</td>\n",
       "      <td>0.043647</td>\n",
       "    </tr>\n",
       "    <tr>\n",
       "      <th>82</th>\n",
       "      <td>technical_17</td>\n",
       "      <td>0.037244</td>\n",
       "    </tr>\n",
       "    <tr>\n",
       "      <th>101</th>\n",
       "      <td>technical_40</td>\n",
       "      <td>0.030443</td>\n",
       "    </tr>\n",
       "    <tr>\n",
       "      <th>73</th>\n",
       "      <td>technical_6</td>\n",
       "      <td>0.029407</td>\n",
       "    </tr>\n",
       "    <tr>\n",
       "      <th>70</th>\n",
       "      <td>technical_2</td>\n",
       "      <td>0.028661</td>\n",
       "    </tr>\n",
       "    <tr>\n",
       "      <th>84</th>\n",
       "      <td>technical_19</td>\n",
       "      <td>0.028472</td>\n",
       "    </tr>\n",
       "    <tr>\n",
       "      <th>74</th>\n",
       "      <td>technical_7</td>\n",
       "      <td>0.027783</td>\n",
       "    </tr>\n",
       "    <tr>\n",
       "      <th>54</th>\n",
       "      <td>fundamental_50</td>\n",
       "      <td>0.023865</td>\n",
       "    </tr>\n",
       "    <tr>\n",
       "      <th>27</th>\n",
       "      <td>fundamental_23</td>\n",
       "      <td>0.022882</td>\n",
       "    </tr>\n",
       "    <tr>\n",
       "      <th>57</th>\n",
       "      <td>fundamental_53</td>\n",
       "      <td>0.022882</td>\n",
       "    </tr>\n",
       "    <tr>\n",
       "      <th>104</th>\n",
       "      <td>technical_43</td>\n",
       "      <td>0.021803</td>\n",
       "    </tr>\n",
       "    <tr>\n",
       "      <th>77</th>\n",
       "      <td>technical_11</td>\n",
       "      <td>0.017721</td>\n",
       "    </tr>\n",
       "    <tr>\n",
       "      <th>7</th>\n",
       "      <td>fundamental_2</td>\n",
       "      <td>0.017230</td>\n",
       "    </tr>\n",
       "    <tr>\n",
       "      <th>59</th>\n",
       "      <td>fundamental_55</td>\n",
       "      <td>0.015757</td>\n",
       "    </tr>\n",
       "    <tr>\n",
       "      <th>16</th>\n",
       "      <td>fundamental_12</td>\n",
       "      <td>0.015524</td>\n",
       "    </tr>\n",
       "    <tr>\n",
       "      <th>5</th>\n",
       "      <td>fundamental_0</td>\n",
       "      <td>0.014284</td>\n",
       "    </tr>\n",
       "    <tr>\n",
       "      <th>61</th>\n",
       "      <td>fundamental_57</td>\n",
       "      <td>0.014252</td>\n",
       "    </tr>\n",
       "    <tr>\n",
       "      <th>25</th>\n",
       "      <td>fundamental_21</td>\n",
       "      <td>0.013055</td>\n",
       "    </tr>\n",
       "    <tr>\n",
       "      <th>46</th>\n",
       "      <td>fundamental_42</td>\n",
       "      <td>0.013041</td>\n",
       "    </tr>\n",
       "    <tr>\n",
       "      <th>36</th>\n",
       "      <td>fundamental_32</td>\n",
       "      <td>0.012768</td>\n",
       "    </tr>\n",
       "    <tr>\n",
       "      <th>86</th>\n",
       "      <td>technical_21</td>\n",
       "      <td>0.012081</td>\n",
       "    </tr>\n",
       "    <tr>\n",
       "      <th>12</th>\n",
       "      <td>fundamental_8</td>\n",
       "      <td>0.011765</td>\n",
       "    </tr>\n",
       "    <tr>\n",
       "      <th>96</th>\n",
       "      <td>technical_35</td>\n",
       "      <td>0.011715</td>\n",
       "    </tr>\n",
       "    <tr>\n",
       "      <th>109</th>\n",
       "      <td>t34_-0.5</td>\n",
       "      <td>0.011455</td>\n",
       "    </tr>\n",
       "    <tr>\n",
       "      <th>50</th>\n",
       "      <td>fundamental_46</td>\n",
       "      <td>0.010934</td>\n",
       "    </tr>\n",
       "    <tr>\n",
       "      <th>2</th>\n",
       "      <td>derived_2</td>\n",
       "      <td>0.010605</td>\n",
       "    </tr>\n",
       "    <tr>\n",
       "      <th>44</th>\n",
       "      <td>fundamental_40</td>\n",
       "      <td>0.010330</td>\n",
       "    </tr>\n",
       "  </tbody>\n",
       "</table>\n",
       "</div>"
      ],
      "text/plain": [
       "            feature  important\n",
       "55   fundamental_51   0.083280\n",
       "15   fundamental_11   0.078693\n",
       "92     technical_30   0.069579\n",
       "85     technical_20   0.043647\n",
       "82     technical_17   0.037244\n",
       "101    technical_40   0.030443\n",
       "73      technical_6   0.029407\n",
       "70      technical_2   0.028661\n",
       "84     technical_19   0.028472\n",
       "74      technical_7   0.027783\n",
       "54   fundamental_50   0.023865\n",
       "27   fundamental_23   0.022882\n",
       "57   fundamental_53   0.022882\n",
       "104    technical_43   0.021803\n",
       "77     technical_11   0.017721\n",
       "7     fundamental_2   0.017230\n",
       "59   fundamental_55   0.015757\n",
       "16   fundamental_12   0.015524\n",
       "5     fundamental_0   0.014284\n",
       "61   fundamental_57   0.014252\n",
       "25   fundamental_21   0.013055\n",
       "46   fundamental_42   0.013041\n",
       "36   fundamental_32   0.012768\n",
       "86     technical_21   0.012081\n",
       "12    fundamental_8   0.011765\n",
       "96     technical_35   0.011715\n",
       "109        t34_-0.5   0.011455\n",
       "50   fundamental_46   0.010934\n",
       "2         derived_2   0.010605\n",
       "44   fundamental_40   0.010330"
      ]
     },
     "execution_count": 60,
     "metadata": {},
     "output_type": "execute_result"
    }
   ],
   "source": [
    "imp = pd.DataFrame({'feature':origin_features, 'important':etr.feature_importances_}).sort_values('important', ascending=False)"
   ]
  },
  {
   "cell_type": "code",
   "execution_count": 64,
   "metadata": {
    "collapsed": false
   },
   "outputs": [
    {
     "data": {
      "text/html": [
       "<div>\n",
       "<table border=\"1\" class=\"dataframe\">\n",
       "  <thead>\n",
       "    <tr style=\"text-align: right;\">\n",
       "      <th></th>\n",
       "      <th>feature</th>\n",
       "      <th>important</th>\n",
       "    </tr>\n",
       "  </thead>\n",
       "  <tbody>\n",
       "    <tr>\n",
       "      <th>81</th>\n",
       "      <td>technical_16</td>\n",
       "      <td>0.000688</td>\n",
       "    </tr>\n",
       "    <tr>\n",
       "      <th>105</th>\n",
       "      <td>technical_44</td>\n",
       "      <td>0.000672</td>\n",
       "    </tr>\n",
       "    <tr>\n",
       "      <th>40</th>\n",
       "      <td>fundamental_36</td>\n",
       "      <td>0.000557</td>\n",
       "    </tr>\n",
       "    <tr>\n",
       "      <th>39</th>\n",
       "      <td>fundamental_35</td>\n",
       "      <td>0.000440</td>\n",
       "    </tr>\n",
       "    <tr>\n",
       "      <th>69</th>\n",
       "      <td>technical_1</td>\n",
       "      <td>0.000065</td>\n",
       "    </tr>\n",
       "    <tr>\n",
       "      <th>42</th>\n",
       "      <td>fundamental_38</td>\n",
       "      <td>0.000000</td>\n",
       "    </tr>\n",
       "    <tr>\n",
       "      <th>49</th>\n",
       "      <td>fundamental_45</td>\n",
       "      <td>0.000000</td>\n",
       "    </tr>\n",
       "    <tr>\n",
       "      <th>38</th>\n",
       "      <td>fundamental_34</td>\n",
       "      <td>0.000000</td>\n",
       "    </tr>\n",
       "    <tr>\n",
       "      <th>51</th>\n",
       "      <td>fundamental_47</td>\n",
       "      <td>0.000000</td>\n",
       "    </tr>\n",
       "    <tr>\n",
       "      <th>31</th>\n",
       "      <td>fundamental_27</td>\n",
       "      <td>0.000000</td>\n",
       "    </tr>\n",
       "    <tr>\n",
       "      <th>102</th>\n",
       "      <td>technical_41</td>\n",
       "      <td>0.000000</td>\n",
       "    </tr>\n",
       "    <tr>\n",
       "      <th>29</th>\n",
       "      <td>fundamental_25</td>\n",
       "      <td>0.000000</td>\n",
       "    </tr>\n",
       "    <tr>\n",
       "      <th>24</th>\n",
       "      <td>fundamental_20</td>\n",
       "      <td>0.000000</td>\n",
       "    </tr>\n",
       "    <tr>\n",
       "      <th>62</th>\n",
       "      <td>fundamental_58</td>\n",
       "      <td>0.000000</td>\n",
       "    </tr>\n",
       "    <tr>\n",
       "      <th>63</th>\n",
       "      <td>fundamental_59</td>\n",
       "      <td>0.000000</td>\n",
       "    </tr>\n",
       "    <tr>\n",
       "      <th>13</th>\n",
       "      <td>fundamental_9</td>\n",
       "      <td>0.000000</td>\n",
       "    </tr>\n",
       "    <tr>\n",
       "      <th>67</th>\n",
       "      <td>fundamental_63</td>\n",
       "      <td>0.000000</td>\n",
       "    </tr>\n",
       "    <tr>\n",
       "      <th>10</th>\n",
       "      <td>fundamental_6</td>\n",
       "      <td>0.000000</td>\n",
       "    </tr>\n",
       "    <tr>\n",
       "      <th>6</th>\n",
       "      <td>fundamental_1</td>\n",
       "      <td>0.000000</td>\n",
       "    </tr>\n",
       "    <tr>\n",
       "      <th>56</th>\n",
       "      <td>fundamental_52</td>\n",
       "      <td>0.000000</td>\n",
       "    </tr>\n",
       "  </tbody>\n",
       "</table>\n",
       "</div>"
      ],
      "text/plain": [
       "            feature  important\n",
       "81     technical_16   0.000688\n",
       "105    technical_44   0.000672\n",
       "40   fundamental_36   0.000557\n",
       "39   fundamental_35   0.000440\n",
       "69      technical_1   0.000065\n",
       "42   fundamental_38   0.000000\n",
       "49   fundamental_45   0.000000\n",
       "38   fundamental_34   0.000000\n",
       "51   fundamental_47   0.000000\n",
       "31   fundamental_27   0.000000\n",
       "102    technical_41   0.000000\n",
       "29   fundamental_25   0.000000\n",
       "24   fundamental_20   0.000000\n",
       "62   fundamental_58   0.000000\n",
       "63   fundamental_59   0.000000\n",
       "13    fundamental_9   0.000000\n",
       "67   fundamental_63   0.000000\n",
       "10    fundamental_6   0.000000\n",
       "6     fundamental_1   0.000000\n",
       "56   fundamental_52   0.000000"
      ]
     },
     "execution_count": 64,
     "metadata": {},
     "output_type": "execute_result"
    }
   ],
   "source": [
    "imp[-20:]"
   ]
  },
  {
   "cell_type": "code",
   "execution_count": 62,
   "metadata": {
    "collapsed": false
   },
   "outputs": [
    {
     "name": "stdout",
     "output_type": "stream",
     "text": [
      "      feature  important\n",
      "106  t22_-0.5   0.001463\n",
      "     feature  important\n",
      "107  t22_0.0   0.004299\n",
      "     feature  important\n",
      "108  t22_0.5   0.001567\n",
      "      feature  important\n",
      "109  t34_-0.5   0.011455\n",
      "     feature  important\n",
      "110  t34_0.0   0.001859\n",
      "     feature  important\n",
      "111  t34_0.5   0.003361\n"
     ]
    }
   ],
   "source": [
    "for col in list(t22_dummy.columns) + list(t34_dummy.columns):\n",
    "    print(imp.loc[imp.feature == col])"
   ]
  },
  {
   "cell_type": "code",
   "execution_count": null,
   "metadata": {
    "collapsed": true
   },
   "outputs": [],
   "source": []
  }
 ],
 "metadata": {
  "kernelspec": {
   "display_name": "Python 3",
   "language": "python",
   "name": "python3"
  },
  "language_info": {
   "codemirror_mode": {
    "name": "ipython",
    "version": 3
   },
   "file_extension": ".py",
   "mimetype": "text/x-python",
   "name": "python",
   "nbconvert_exporter": "python",
   "pygments_lexer": "ipython3",
   "version": "3.4.3"
  }
 },
 "nbformat": 4,
 "nbformat_minor": 0
}
